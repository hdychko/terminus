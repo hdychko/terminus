{
 "cells": [
  {
   "cell_type": "code",
   "execution_count": 2,
   "id": "75acff47-a002-48ab-ba01-53e6bc36ce82",
   "metadata": {},
   "outputs": [],
   "source": [
    "%load_ext autoreload\n",
    "%autoreload 2"
   ]
  },
  {
   "cell_type": "code",
   "execution_count": 3,
   "id": "19c6e94d-d0a4-4c2f-ab56-120d072b4f75",
   "metadata": {},
   "outputs": [],
   "source": [
    "import os\n",
    "import sys\n",
    "import copy\n",
    "from typing import (\n",
    "    Dict, \n",
    "    List,\n",
    "    Any\n",
    ")\n",
    "\n",
    "from datetime import datetime\n",
    "\n",
    "\n",
    "import numpy as np\n",
    "import pandas as pd\n",
    "\n",
    "from scipy.stats import uniform\n",
    "from sklearn.linear_model import LogisticRegression\n",
    "from sklearn.model_selection import StratifiedShuffleSplit\n",
    "\n",
    "from joblib import load, dump\n",
    "\n",
    "import seaborn as sns\n",
    "import matplotlib.pyplot as plt"
   ]
  },
  {
   "cell_type": "code",
   "execution_count": 4,
   "id": "971621b1-2dc3-444f-9a05-b41739fb1556",
   "metadata": {},
   "outputs": [
    {
     "name": "stderr",
     "output_type": "stream",
     "text": [
      "Using `tqdm.autonotebook.tqdm` in notebook mode. Use `tqdm.tqdm` instead to force console mode (e.g. in jupyter console)\n"
     ]
    }
   ],
   "source": [
    "sys.path.append(os.path.join(os.getcwd(), '..'))\n",
    "from utils.metrics import Metrics\n",
    "from utils.modelling_tools import (\n",
    "    search_hyper_params_and_log, \n",
    "    update_solver_by_penalty, \n",
    "    evaluate_model\n",
    ")\n",
    "from utils.metrics_by_quantile import MetricsByQuantile"
   ]
  },
  {
   "cell_type": "code",
   "execution_count": 5,
   "id": "f0ef3ed0-6b41-4fc7-aca6-9eb365eb55dc",
   "metadata": {},
   "outputs": [],
   "source": [
    "PROJECT_PATH: str = os.path.join(os.getcwd(), '..')\n",
    "DATA_PATH: str = os.path.join(PROJECT_PATH, 'data')\n",
    "OPT_BIN_PATH: str = os.path.join(os.path.join(PROJECT_PATH, 'objects'), 'optbinners')\n",
    "MODELS_PATH: str = os.path.join(os.path.join(PROJECT_PATH, 'objects'), 'models')"
   ]
  },
  {
   "cell_type": "code",
   "execution_count": 6,
   "id": "42c18988-c302-46ee-b6e7-50f0ce56bda1",
   "metadata": {},
   "outputs": [],
   "source": [
    "TRAIN_FROM: datetime.date = pd.to_datetime('2021-12-01').date()\n",
    "TRAIN_TO: datetime.date = pd.to_datetime('2022-01-01').date()\n",
    "\n",
    "VAL_FROM: datetime.date = pd.to_datetime('2023-01-01').date()\n",
    "VAL_TO: datetime.date = pd.to_datetime('2023-05-01').date()\n",
    "\n",
    "TEST_FROM: datetime.date = pd.to_datetime('2023-05-01').date()\n",
    "TEST_TO: datetime.date = pd.to_datetime('2023-08-01').date()"
   ]
  },
  {
   "cell_type": "code",
   "execution_count": 7,
   "id": "2d0ea872-4276-4286-b13f-729afa2a4844",
   "metadata": {},
   "outputs": [],
   "source": [
    "# set constants\n",
    "COLS_TO_USE: List[str] = [\n",
    "\"OPTIN_11SCN_MLOptBin\",\n",
    "\"AFF_B_09_01OptBin\",\n",
    "\"TRD_A_20OptBin\",\n",
    "\"VM01_SP_VM2_15OptBin\",\n",
    "\"SP_G_37OptBin\",\n",
    "\"E4_Q_17OptBin\",\n",
    "\"TRD_C_07OptBin\",\n",
    "\"TRD_B_20OptBin\",\n",
    "\"SP_B2_18OptBin\",\n",
    "\"SPA_F2_33OptBin\",\n",
    "\"VM01_SP_VM2_14OptBin\",\n",
    "\"VM01_SP_VM2_24OptBin\",\n",
    "\"SP_G_38OptBin\",\n",
    "\"SP_B1_14OptBin\",\n",
    "\"GEN11_SP_N_91OptBin\",\n",
    "\"GEN11_SP_EDI_07OptBin\",\n",
    "\"ND_ECC_06OptBin\",\n",
    "\"TRD_B_18OptBin\",\n",
    "\"TRD_B_08OptBin\",\n",
    "\"EA5_S_01OptBin\",\n",
    "\"CLU_CLI_L6M_NPR_L6MOptBin\",\n",
    "\"SP_I_63_01OptBin\",\n",
    "# \"VM08_SP_VM2_20OptBin\",\n",
    "# \"EA1_D_02OptBin\",\n",
    "\"TRD_O_06OptBin\",\n",
    "# \"AFF_T_07_01OptBin\",\n",
    "# \"VM02_SP_VM1_18OptBin\",\n",
    "# \"GEN11_SP_K_80_TOOptBin\",\n",
    "\"GEN11_SP_N_92_ABOtherOptBin\",\n",
    "]"
   ]
  },
  {
   "cell_type": "code",
   "execution_count": 19,
   "id": "5bf660b4-8a90-4651-8cd5-517c7873ac05",
   "metadata": {},
   "outputs": [],
   "source": [
    "TARGET_NAME: str = 'GB6_Flag_2Limit'\n",
    "TARGET_VALS: List[int] = [0, 1]\n",
    "TARGET_BIN: str = f'_{TARGET_NAME}_bin'\n",
    "TARGET_BIN_0isB: str = f'_{TARGET_NAME}_bin_0isB'\n",
    "\n",
    "PALETTE: Dict[str, str] = {\n",
    "    TARGET_NAME: {\n",
    "        'G': 'green',\n",
    "        'B': 'red',\n",
    "        'I': 'black'\n",
    "    },\n",
    "    TARGET_BIN: {0: 'green', 1: 'red'},\n",
    "    'DataPart': {'Train+Val': 'black', 'Val': 'blue', 'Test': 'red', 'Train': 'orange'}\n",
    "}\n",
    "RANDOM_SEED: int = 42"
   ]
  },
  {
   "cell_type": "code",
   "execution_count": 51,
   "id": "0a8f1402-719e-4231-b0f7-aad22276355e",
   "metadata": {},
   "outputs": [],
   "source": [
    "TRAIN_BIN_FROM: datetime.date = pd.to_datetime('2021-07-01').date()\n",
    "TRAIN_BIN_TO: datetime.date = pd.to_datetime('2021-12-01').date()"
   ]
  },
  {
   "cell_type": "code",
   "execution_count": 9,
   "id": "08ac644b-bf8f-494f-a991-a9f42af0473c",
   "metadata": {},
   "outputs": [],
   "source": [
    "# read data\n",
    "df: pd.DataFrame = pd.read_csv(os.path.join(DATA_PATH, 'final_aiq2_s_neg_sep_I_excl.csv'), low_memory=False)"
   ]
  },
  {
   "cell_type": "code",
   "execution_count": 10,
   "id": "6c84d06e-dea3-4f4f-9472-b1c59d5efdb1",
   "metadata": {},
   "outputs": [
    {
     "name": "stdout",
     "output_type": "stream",
     "text": [
      "Number of rows: 110462; columns: 1866\n"
     ]
    }
   ],
   "source": [
    "print('Number of rows: %.0f; columns: %.0f' % df.shape)"
   ]
  },
  {
   "cell_type": "markdown",
   "id": "94319c6e-b4c5-47f8-819e-a963876cfdba",
   "metadata": {},
   "source": [
    "# Preprocessing"
   ]
  },
  {
   "cell_type": "markdown",
   "id": "2f7f4d18-0ba2-42a6-8af0-1bdf430a7e42",
   "metadata": {},
   "source": [
    "Convert dates to the corresponding types"
   ]
  },
  {
   "cell_type": "code",
   "execution_count": 11,
   "id": "7d905a47-aaf2-4bae-ac9c-c8c3f2b949c4",
   "metadata": {},
   "outputs": [],
   "source": [
    "for col in ['_RDATE_EOM', '_RDATE']:\n",
    "    df[col] = pd.to_datetime(df[col]).dt.date"
   ]
  },
  {
   "cell_type": "code",
   "execution_count": 12,
   "id": "4ae62ad0-c222-485b-b704-1e2fbd2ecb78",
   "metadata": {},
   "outputs": [
    {
     "name": "stdout",
     "output_type": "stream",
     "text": [
      "Available date range:\n"
     ]
    },
    {
     "data": {
      "text/plain": [
       "min    2021-06-30\n",
       "max    2023-11-30\n",
       "Name: _RDATE, dtype: object"
      ]
     },
     "execution_count": 12,
     "metadata": {},
     "output_type": "execute_result"
    }
   ],
   "source": [
    "print('Available date range:')\n",
    "df['_RDATE'].agg(['min', 'max'])"
   ]
  },
  {
   "cell_type": "markdown",
   "id": "4e194c62-5774-4d39-979b-ca38937a3ad8",
   "metadata": {},
   "source": [
    "Generate Target, where `GB6_Flag_2Limit` in ('I','B') is '1' and GB6_Flag_2Limit in ('G') is '0'"
   ]
  },
  {
   "cell_type": "code",
   "execution_count": 13,
   "id": "82bb4e6f-c9fe-4687-b1e0-666d6600a2de",
   "metadata": {},
   "outputs": [
    {
     "name": "stderr",
     "output_type": "stream",
     "text": [
      "Downcasting behavior in `replace` is deprecated and will be removed in a future version. To retain the old behavior, explicitly call `result.infer_objects(copy=False)`. To opt-in to the future behavior, set `pd.set_option('future.no_silent_downcasting', True)`\n"
     ]
    }
   ],
   "source": [
    "df[f'_{TARGET_NAME}_bin_0isB'] = df[TARGET_NAME].replace(\n",
    "    {\n",
    "        'G': 0,\n",
    "        'I': 1,\n",
    "        'B': 1\n",
    "    }\n",
    ")"
   ]
  },
  {
   "cell_type": "code",
   "execution_count": 14,
   "id": "48d64784-47f0-4d77-b9ce-b11afc36635f",
   "metadata": {},
   "outputs": [
    {
     "data": {
      "text/html": [
       "<div>\n",
       "<style scoped>\n",
       "    .dataframe tbody tr th:only-of-type {\n",
       "        vertical-align: middle;\n",
       "    }\n",
       "\n",
       "    .dataframe tbody tr th {\n",
       "        vertical-align: top;\n",
       "    }\n",
       "\n",
       "    .dataframe thead th {\n",
       "        text-align: right;\n",
       "    }\n",
       "</style>\n",
       "<table border=\"1\" class=\"dataframe\">\n",
       "  <thead>\n",
       "    <tr style=\"text-align: right;\">\n",
       "      <th></th>\n",
       "      <th>_GB6_Flag_2Limit_bin_0isB</th>\n",
       "      <th>n</th>\n",
       "      <th>%</th>\n",
       "    </tr>\n",
       "  </thead>\n",
       "  <tbody>\n",
       "    <tr>\n",
       "      <th>0</th>\n",
       "      <td>0</td>\n",
       "      <td>99444</td>\n",
       "      <td>90.025529</td>\n",
       "    </tr>\n",
       "    <tr>\n",
       "      <th>1</th>\n",
       "      <td>1</td>\n",
       "      <td>11018</td>\n",
       "      <td>9.974471</td>\n",
       "    </tr>\n",
       "  </tbody>\n",
       "</table>\n",
       "</div>"
      ],
      "text/plain": [
       "   _GB6_Flag_2Limit_bin_0isB      n          %\n",
       "0                          0  99444  90.025529\n",
       "1                          1  11018   9.974471"
      ]
     },
     "execution_count": 14,
     "metadata": {},
     "output_type": "execute_result"
    }
   ],
   "source": [
    "pd.merge(\n",
    "    df[f'_{TARGET_NAME}_bin_0isB'].value_counts().reset_index(name='n'),\n",
    "    (df[f'_{TARGET_NAME}_bin_0isB'].value_counts(normalize=True) * 100).reset_index(name='%'),\n",
    "    on=f'_{TARGET_NAME}_bin_0isB', how='outer'\n",
    ")"
   ]
  },
  {
   "cell_type": "markdown",
   "id": "ee33a5eb-a8b2-4abc-b683-1f51388dc522",
   "metadata": {},
   "source": [
    "# Split data"
   ]
  },
  {
   "cell_type": "code",
   "execution_count": 15,
   "id": "d4c23765-e2a6-423a-b13d-752055372cf2",
   "metadata": {},
   "outputs": [],
   "source": [
    "df_train = df.loc[\n",
    "    (df._RDATE >= TRAIN_FROM) &\n",
    "    (df._RDATE < TRAIN_TO) & \n",
    "    (df[TARGET_NAME] != 'I'),\n",
    "   :\n",
    "].reset_index(drop=True)\n",
    "\n",
    "df_train_val = df.loc[\n",
    "    (df._RDATE >= TRAIN_FROM) &\n",
    "    (df._RDATE < VAL_TO) &\n",
    "    (df[TARGET_NAME] != 'I'),\n",
    "    :\n",
    "].reset_index(drop=True)\n",
    "\n",
    "df_val = df.loc[\n",
    "    (df._RDATE >= VAL_FROM) &\n",
    "    (df._RDATE < VAL_TO) &\n",
    "    (df[TARGET_NAME] != 'I'),\n",
    "    :\n",
    "].reset_index(drop=True)\n",
    "\n",
    "df_test_same = df.loc[\n",
    "    (df._RDATE >= TEST_FROM) &\n",
    "    (df._RDATE < TEST_TO) &\n",
    "    (df[TARGET_NAME] != 'I'),\n",
    "    :\n",
    "].reset_index(drop=True)\n",
    "\n",
    "df_test = df.loc[\n",
    "    (df._RDATE >= TEST_FROM) &\n",
    "    (df._RDATE < TEST_TO),\n",
    "    :\n",
    "].reset_index(drop=True)"
   ]
  },
  {
   "cell_type": "code",
   "execution_count": 16,
   "id": "b83e3d72-a9e7-4b59-8c5c-8e49f1905ccc",
   "metadata": {},
   "outputs": [
    {
     "name": "stdout",
     "output_type": "stream",
     "text": [
      "Distribution of _GB6_Flag_2Limit_bin_0isB on test\n"
     ]
    },
    {
     "data": {
      "text/html": [
       "<div>\n",
       "<style scoped>\n",
       "    .dataframe tbody tr th:only-of-type {\n",
       "        vertical-align: middle;\n",
       "    }\n",
       "\n",
       "    .dataframe tbody tr th {\n",
       "        vertical-align: top;\n",
       "    }\n",
       "\n",
       "    .dataframe thead th {\n",
       "        text-align: right;\n",
       "    }\n",
       "</style>\n",
       "<table border=\"1\" class=\"dataframe\">\n",
       "  <thead>\n",
       "    <tr style=\"text-align: right;\">\n",
       "      <th></th>\n",
       "      <th>_GB6_Flag_2Limit_bin_0isB</th>\n",
       "      <th>n</th>\n",
       "      <th>%</th>\n",
       "    </tr>\n",
       "  </thead>\n",
       "  <tbody>\n",
       "    <tr>\n",
       "      <th>0</th>\n",
       "      <td>0</td>\n",
       "      <td>13663</td>\n",
       "      <td>84.126593</td>\n",
       "    </tr>\n",
       "    <tr>\n",
       "      <th>1</th>\n",
       "      <td>1</td>\n",
       "      <td>2578</td>\n",
       "      <td>15.873407</td>\n",
       "    </tr>\n",
       "  </tbody>\n",
       "</table>\n",
       "</div>"
      ],
      "text/plain": [
       "   _GB6_Flag_2Limit_bin_0isB      n          %\n",
       "0                          0  13663  84.126593\n",
       "1                          1   2578  15.873407"
      ]
     },
     "execution_count": 16,
     "metadata": {},
     "output_type": "execute_result"
    }
   ],
   "source": [
    "print(f'Distribution of _{TARGET_NAME}_bin_0isB on test')\n",
    "pd.merge(\n",
    "    df_test[f'_{TARGET_NAME}_bin_0isB'].value_counts().reset_index(name='n'),\n",
    "    (df_test[f'_{TARGET_NAME}_bin_0isB'].value_counts(normalize=True) * 100).reset_index(name='%'),\n",
    "    on=f'_{TARGET_NAME}_bin_0isB', how='outer'\n",
    ")"
   ]
  },
  {
   "cell_type": "code",
   "execution_count": 17,
   "id": "c90ddd72-6c09-4c83-9fb9-02ab573e8f97",
   "metadata": {},
   "outputs": [],
   "source": [
    "data_dict = {\n",
    "    \"df_train\": df_train,\n",
    "    \"df_val\": df_val,\n",
    "    \"df_train_val\": df_train_val, \n",
    "    \"df_test_same\": df_test_same,\n",
    "    \"df_test\": df_test\n",
    "}"
   ]
  },
  {
   "cell_type": "code",
   "execution_count": 20,
   "id": "1d1934b6-93e2-458e-8238-44afa9766bde",
   "metadata": {},
   "outputs": [],
   "source": [
    "# randomly select N observations from test data\n",
    "N = 10000\n",
    "sss = StratifiedShuffleSplit(n_splits=1, train_size=N, random_state=RANDOM_SEED)\n",
    "indx = sss.split(data_dict['df_test_same'].reset_index(drop=True), data_dict['df_test_same'][TARGET_BIN])\n",
    "random_indx = list(indx)[0][0]\n",
    "\n",
    "assert len(random_indx) == N, \"Incorrect number of elements in the subsample\"\n",
    "test_sample = data_dict['df_test_same'].reset_index(drop=True).iloc[random_indx, :].reset_index(drop=True)"
   ]
  },
  {
   "cell_type": "code",
   "execution_count": 21,
   "id": "cde908a4-1b58-449f-b71d-3b4682fb11ae",
   "metadata": {},
   "outputs": [],
   "source": [
    "data_dict['df_test_same_sample'] = test_sample"
   ]
  },
  {
   "cell_type": "markdown",
   "id": "8d56a335-9d09-4f9e-b3c4-7723f692aae6",
   "metadata": {},
   "source": [
    "# Run the experiment"
   ]
  },
  {
   "cell_type": "code",
   "execution_count": 24,
   "id": "bcb6016d-c4bf-4ec6-98ed-d854cbed0808",
   "metadata": {},
   "outputs": [],
   "source": [
    "with open(os.path.join(MODELS_PATH, '[Model][Modelling] [Final_AIQ2-50] [I excluded] LogRegression - woe-2 - feature selection - 3 (final).jblb'), 'rb') as f:\n",
    "    model_obj = load(f)"
   ]
  },
  {
   "cell_type": "code",
   "execution_count": 25,
   "id": "66632681-5f86-4b1c-9347-ebb9c7862f65",
   "metadata": {},
   "outputs": [],
   "source": [
    "with open(os.path.join(MODELS_PATH, '[StdScaler][Modelling] [Final_AIQ2-50] [I excluded] LogRegression - woe-2 - feature selection - 3 (final).jblb'), 'rb') as f:\n",
    "    std_scaler=load(f)"
   ]
  },
  {
   "cell_type": "code",
   "execution_count": 31,
   "id": "88cfe384-6698-42a6-b23f-c98f9fcab34d",
   "metadata": {},
   "outputs": [
    {
     "data": {
      "text/plain": [
       "array([-1.24901939, -0.05524496, -0.0623808 , -0.05720196, -0.09008615,\n",
       "        0.072927  , -0.14624046, -0.05058227, -0.0895822 , -0.20493718,\n",
       "        0.16808272,  0.05093944, -0.06106494, -0.04644882, -0.08179527,\n",
       "        0.10447431,  0.17728551,  0.06473774,  0.06599281, -0.13022312,\n",
       "       -0.10635291, -0.17348975,  0.10107063, -0.08318623, -0.88757256])"
      ]
     },
     "execution_count": 31,
     "metadata": {},
     "output_type": "execute_result"
    }
   ],
   "source": [
    "np.concatenate((model_obj.coef_[0], model_obj.intercept_))"
   ]
  },
  {
   "cell_type": "code",
   "execution_count": 35,
   "id": "474394ce-24c4-4c50-8e48-151d573ff899",
   "metadata": {},
   "outputs": [],
   "source": [
    "df_coeff = pd.DataFrame(\n",
    "    {\n",
    "        'Feature': COLS_TO_USE + ['Intercept'],\n",
    "        'Coeff': np.concatenate((model_obj.coef_[0], model_obj.intercept_))\n",
    "    }\n",
    ")"
   ]
  },
  {
   "cell_type": "code",
   "execution_count": 36,
   "id": "1a673c1e-84d5-43b3-abac-5b6377b9a41a",
   "metadata": {},
   "outputs": [
    {
     "data": {
      "text/html": [
       "<div>\n",
       "<style scoped>\n",
       "    .dataframe tbody tr th:only-of-type {\n",
       "        vertical-align: middle;\n",
       "    }\n",
       "\n",
       "    .dataframe tbody tr th {\n",
       "        vertical-align: top;\n",
       "    }\n",
       "\n",
       "    .dataframe thead th {\n",
       "        text-align: right;\n",
       "    }\n",
       "</style>\n",
       "<table border=\"1\" class=\"dataframe\">\n",
       "  <thead>\n",
       "    <tr style=\"text-align: right;\">\n",
       "      <th></th>\n",
       "      <th>Feature</th>\n",
       "      <th>Coeff</th>\n",
       "    </tr>\n",
       "  </thead>\n",
       "  <tbody>\n",
       "    <tr>\n",
       "      <th>0</th>\n",
       "      <td>OPTIN_11SCN_MLOptBin</td>\n",
       "      <td>-1.249019</td>\n",
       "    </tr>\n",
       "    <tr>\n",
       "      <th>1</th>\n",
       "      <td>AFF_B_09_01OptBin</td>\n",
       "      <td>-0.055245</td>\n",
       "    </tr>\n",
       "    <tr>\n",
       "      <th>2</th>\n",
       "      <td>TRD_A_20OptBin</td>\n",
       "      <td>-0.062381</td>\n",
       "    </tr>\n",
       "    <tr>\n",
       "      <th>3</th>\n",
       "      <td>VM01_SP_VM2_15OptBin</td>\n",
       "      <td>-0.057202</td>\n",
       "    </tr>\n",
       "    <tr>\n",
       "      <th>4</th>\n",
       "      <td>SP_G_37OptBin</td>\n",
       "      <td>-0.090086</td>\n",
       "    </tr>\n",
       "    <tr>\n",
       "      <th>5</th>\n",
       "      <td>E4_Q_17OptBin</td>\n",
       "      <td>0.072927</td>\n",
       "    </tr>\n",
       "    <tr>\n",
       "      <th>6</th>\n",
       "      <td>TRD_C_07OptBin</td>\n",
       "      <td>-0.146240</td>\n",
       "    </tr>\n",
       "    <tr>\n",
       "      <th>7</th>\n",
       "      <td>TRD_B_20OptBin</td>\n",
       "      <td>-0.050582</td>\n",
       "    </tr>\n",
       "    <tr>\n",
       "      <th>8</th>\n",
       "      <td>SP_B2_18OptBin</td>\n",
       "      <td>-0.089582</td>\n",
       "    </tr>\n",
       "    <tr>\n",
       "      <th>9</th>\n",
       "      <td>SPA_F2_33OptBin</td>\n",
       "      <td>-0.204937</td>\n",
       "    </tr>\n",
       "    <tr>\n",
       "      <th>10</th>\n",
       "      <td>VM01_SP_VM2_14OptBin</td>\n",
       "      <td>0.168083</td>\n",
       "    </tr>\n",
       "    <tr>\n",
       "      <th>11</th>\n",
       "      <td>VM01_SP_VM2_24OptBin</td>\n",
       "      <td>0.050939</td>\n",
       "    </tr>\n",
       "    <tr>\n",
       "      <th>12</th>\n",
       "      <td>SP_G_38OptBin</td>\n",
       "      <td>-0.061065</td>\n",
       "    </tr>\n",
       "    <tr>\n",
       "      <th>13</th>\n",
       "      <td>SP_B1_14OptBin</td>\n",
       "      <td>-0.046449</td>\n",
       "    </tr>\n",
       "    <tr>\n",
       "      <th>14</th>\n",
       "      <td>GEN11_SP_N_91OptBin</td>\n",
       "      <td>-0.081795</td>\n",
       "    </tr>\n",
       "    <tr>\n",
       "      <th>15</th>\n",
       "      <td>GEN11_SP_EDI_07OptBin</td>\n",
       "      <td>0.104474</td>\n",
       "    </tr>\n",
       "    <tr>\n",
       "      <th>16</th>\n",
       "      <td>ND_ECC_06OptBin</td>\n",
       "      <td>0.177286</td>\n",
       "    </tr>\n",
       "    <tr>\n",
       "      <th>17</th>\n",
       "      <td>TRD_B_18OptBin</td>\n",
       "      <td>0.064738</td>\n",
       "    </tr>\n",
       "    <tr>\n",
       "      <th>18</th>\n",
       "      <td>TRD_B_08OptBin</td>\n",
       "      <td>0.065993</td>\n",
       "    </tr>\n",
       "    <tr>\n",
       "      <th>19</th>\n",
       "      <td>EA5_S_01OptBin</td>\n",
       "      <td>-0.130223</td>\n",
       "    </tr>\n",
       "    <tr>\n",
       "      <th>20</th>\n",
       "      <td>CLU_CLI_L6M_NPR_L6MOptBin</td>\n",
       "      <td>-0.106353</td>\n",
       "    </tr>\n",
       "    <tr>\n",
       "      <th>21</th>\n",
       "      <td>SP_I_63_01OptBin</td>\n",
       "      <td>-0.173490</td>\n",
       "    </tr>\n",
       "    <tr>\n",
       "      <th>22</th>\n",
       "      <td>TRD_O_06OptBin</td>\n",
       "      <td>0.101071</td>\n",
       "    </tr>\n",
       "    <tr>\n",
       "      <th>23</th>\n",
       "      <td>GEN11_SP_N_92_ABOtherOptBin</td>\n",
       "      <td>-0.083186</td>\n",
       "    </tr>\n",
       "    <tr>\n",
       "      <th>24</th>\n",
       "      <td>Intercept</td>\n",
       "      <td>-0.887573</td>\n",
       "    </tr>\n",
       "  </tbody>\n",
       "</table>\n",
       "</div>"
      ],
      "text/plain": [
       "                        Feature     Coeff\n",
       "0          OPTIN_11SCN_MLOptBin -1.249019\n",
       "1             AFF_B_09_01OptBin -0.055245\n",
       "2                TRD_A_20OptBin -0.062381\n",
       "3          VM01_SP_VM2_15OptBin -0.057202\n",
       "4                 SP_G_37OptBin -0.090086\n",
       "5                 E4_Q_17OptBin  0.072927\n",
       "6                TRD_C_07OptBin -0.146240\n",
       "7                TRD_B_20OptBin -0.050582\n",
       "8                SP_B2_18OptBin -0.089582\n",
       "9               SPA_F2_33OptBin -0.204937\n",
       "10         VM01_SP_VM2_14OptBin  0.168083\n",
       "11         VM01_SP_VM2_24OptBin  0.050939\n",
       "12                SP_G_38OptBin -0.061065\n",
       "13               SP_B1_14OptBin -0.046449\n",
       "14          GEN11_SP_N_91OptBin -0.081795\n",
       "15        GEN11_SP_EDI_07OptBin  0.104474\n",
       "16              ND_ECC_06OptBin  0.177286\n",
       "17               TRD_B_18OptBin  0.064738\n",
       "18               TRD_B_08OptBin  0.065993\n",
       "19               EA5_S_01OptBin -0.130223\n",
       "20    CLU_CLI_L6M_NPR_L6MOptBin -0.106353\n",
       "21             SP_I_63_01OptBin -0.173490\n",
       "22               TRD_O_06OptBin  0.101071\n",
       "23  GEN11_SP_N_92_ABOtherOptBin -0.083186\n",
       "24                    Intercept -0.887573"
      ]
     },
     "execution_count": 36,
     "metadata": {},
     "output_type": "execute_result"
    }
   ],
   "source": [
    "df_coeff"
   ]
  },
  {
   "cell_type": "code",
   "execution_count": 37,
   "id": "e7213277-c9b1-4d1c-9b67-6ca1c89a69c9",
   "metadata": {},
   "outputs": [
    {
     "data": {
      "text/html": [
       "<div>\n",
       "<style scoped>\n",
       "    .dataframe tbody tr th:only-of-type {\n",
       "        vertical-align: middle;\n",
       "    }\n",
       "\n",
       "    .dataframe tbody tr th {\n",
       "        vertical-align: top;\n",
       "    }\n",
       "\n",
       "    .dataframe thead th {\n",
       "        text-align: right;\n",
       "    }\n",
       "</style>\n",
       "<table border=\"1\" class=\"dataframe\">\n",
       "  <thead>\n",
       "    <tr style=\"text-align: right;\">\n",
       "      <th></th>\n",
       "      <th>Feature</th>\n",
       "      <th>mean</th>\n",
       "      <th>std</th>\n",
       "    </tr>\n",
       "  </thead>\n",
       "  <tbody>\n",
       "    <tr>\n",
       "      <th>0</th>\n",
       "      <td>OPTIN_11SCN_MLOptBin</td>\n",
       "      <td>0.948430</td>\n",
       "      <td>1.539048</td>\n",
       "    </tr>\n",
       "    <tr>\n",
       "      <th>1</th>\n",
       "      <td>AFF_B_09_01OptBin</td>\n",
       "      <td>0.450239</td>\n",
       "      <td>1.162333</td>\n",
       "    </tr>\n",
       "    <tr>\n",
       "      <th>2</th>\n",
       "      <td>TRD_A_20OptBin</td>\n",
       "      <td>0.295816</td>\n",
       "      <td>0.949009</td>\n",
       "    </tr>\n",
       "    <tr>\n",
       "      <th>3</th>\n",
       "      <td>VM01_SP_VM2_15OptBin</td>\n",
       "      <td>0.529894</td>\n",
       "      <td>1.207681</td>\n",
       "    </tr>\n",
       "    <tr>\n",
       "      <th>4</th>\n",
       "      <td>SP_G_37OptBin</td>\n",
       "      <td>0.330991</td>\n",
       "      <td>0.907506</td>\n",
       "    </tr>\n",
       "    <tr>\n",
       "      <th>5</th>\n",
       "      <td>E4_Q_17OptBin</td>\n",
       "      <td>0.346699</td>\n",
       "      <td>0.764723</td>\n",
       "    </tr>\n",
       "    <tr>\n",
       "      <th>6</th>\n",
       "      <td>TRD_C_07OptBin</td>\n",
       "      <td>0.230825</td>\n",
       "      <td>0.810790</td>\n",
       "    </tr>\n",
       "    <tr>\n",
       "      <th>7</th>\n",
       "      <td>TRD_B_20OptBin</td>\n",
       "      <td>0.322100</td>\n",
       "      <td>0.779660</td>\n",
       "    </tr>\n",
       "    <tr>\n",
       "      <th>8</th>\n",
       "      <td>SP_B2_18OptBin</td>\n",
       "      <td>0.243233</td>\n",
       "      <td>0.726863</td>\n",
       "    </tr>\n",
       "    <tr>\n",
       "      <th>9</th>\n",
       "      <td>SPA_F2_33OptBin</td>\n",
       "      <td>0.231387</td>\n",
       "      <td>0.857163</td>\n",
       "    </tr>\n",
       "    <tr>\n",
       "      <th>10</th>\n",
       "      <td>VM01_SP_VM2_14OptBin</td>\n",
       "      <td>0.249582</td>\n",
       "      <td>0.788672</td>\n",
       "    </tr>\n",
       "    <tr>\n",
       "      <th>11</th>\n",
       "      <td>VM01_SP_VM2_24OptBin</td>\n",
       "      <td>0.174519</td>\n",
       "      <td>0.687000</td>\n",
       "    </tr>\n",
       "    <tr>\n",
       "      <th>12</th>\n",
       "      <td>SP_G_38OptBin</td>\n",
       "      <td>0.249204</td>\n",
       "      <td>0.828718</td>\n",
       "    </tr>\n",
       "    <tr>\n",
       "      <th>13</th>\n",
       "      <td>SP_B1_14OptBin</td>\n",
       "      <td>0.171615</td>\n",
       "      <td>0.523519</td>\n",
       "    </tr>\n",
       "    <tr>\n",
       "      <th>14</th>\n",
       "      <td>GEN11_SP_N_91OptBin</td>\n",
       "      <td>0.233509</td>\n",
       "      <td>0.706092</td>\n",
       "    </tr>\n",
       "    <tr>\n",
       "      <th>15</th>\n",
       "      <td>GEN11_SP_EDI_07OptBin</td>\n",
       "      <td>0.167617</td>\n",
       "      <td>0.598359</td>\n",
       "    </tr>\n",
       "    <tr>\n",
       "      <th>16</th>\n",
       "      <td>ND_ECC_06OptBin</td>\n",
       "      <td>0.258247</td>\n",
       "      <td>0.709211</td>\n",
       "    </tr>\n",
       "    <tr>\n",
       "      <th>17</th>\n",
       "      <td>TRD_B_18OptBin</td>\n",
       "      <td>0.179002</td>\n",
       "      <td>0.632762</td>\n",
       "    </tr>\n",
       "    <tr>\n",
       "      <th>18</th>\n",
       "      <td>TRD_B_08OptBin</td>\n",
       "      <td>0.116389</td>\n",
       "      <td>0.479178</td>\n",
       "    </tr>\n",
       "    <tr>\n",
       "      <th>19</th>\n",
       "      <td>EA5_S_01OptBin</td>\n",
       "      <td>0.128700</td>\n",
       "      <td>0.556417</td>\n",
       "    </tr>\n",
       "    <tr>\n",
       "      <th>20</th>\n",
       "      <td>CLU_CLI_L6M_NPR_L6MOptBin</td>\n",
       "      <td>0.206091</td>\n",
       "      <td>0.700671</td>\n",
       "    </tr>\n",
       "    <tr>\n",
       "      <th>21</th>\n",
       "      <td>SP_I_63_01OptBin</td>\n",
       "      <td>0.100491</td>\n",
       "      <td>0.434998</td>\n",
       "    </tr>\n",
       "    <tr>\n",
       "      <th>22</th>\n",
       "      <td>TRD_O_06OptBin</td>\n",
       "      <td>0.104664</td>\n",
       "      <td>0.533983</td>\n",
       "    </tr>\n",
       "    <tr>\n",
       "      <th>23</th>\n",
       "      <td>GEN11_SP_N_92_ABOtherOptBin</td>\n",
       "      <td>0.257896</td>\n",
       "      <td>0.763902</td>\n",
       "    </tr>\n",
       "  </tbody>\n",
       "</table>\n",
       "</div>"
      ],
      "text/plain": [
       "                        Feature      mean       std\n",
       "0          OPTIN_11SCN_MLOptBin  0.948430  1.539048\n",
       "1             AFF_B_09_01OptBin  0.450239  1.162333\n",
       "2                TRD_A_20OptBin  0.295816  0.949009\n",
       "3          VM01_SP_VM2_15OptBin  0.529894  1.207681\n",
       "4                 SP_G_37OptBin  0.330991  0.907506\n",
       "5                 E4_Q_17OptBin  0.346699  0.764723\n",
       "6                TRD_C_07OptBin  0.230825  0.810790\n",
       "7                TRD_B_20OptBin  0.322100  0.779660\n",
       "8                SP_B2_18OptBin  0.243233  0.726863\n",
       "9               SPA_F2_33OptBin  0.231387  0.857163\n",
       "10         VM01_SP_VM2_14OptBin  0.249582  0.788672\n",
       "11         VM01_SP_VM2_24OptBin  0.174519  0.687000\n",
       "12                SP_G_38OptBin  0.249204  0.828718\n",
       "13               SP_B1_14OptBin  0.171615  0.523519\n",
       "14          GEN11_SP_N_91OptBin  0.233509  0.706092\n",
       "15        GEN11_SP_EDI_07OptBin  0.167617  0.598359\n",
       "16              ND_ECC_06OptBin  0.258247  0.709211\n",
       "17               TRD_B_18OptBin  0.179002  0.632762\n",
       "18               TRD_B_08OptBin  0.116389  0.479178\n",
       "19               EA5_S_01OptBin  0.128700  0.556417\n",
       "20    CLU_CLI_L6M_NPR_L6MOptBin  0.206091  0.700671\n",
       "21             SP_I_63_01OptBin  0.100491  0.434998\n",
       "22               TRD_O_06OptBin  0.104664  0.533983\n",
       "23  GEN11_SP_N_92_ABOtherOptBin  0.257896  0.763902"
      ]
     },
     "execution_count": 37,
     "metadata": {},
     "output_type": "execute_result"
    }
   ],
   "source": [
    "pd.DataFrame(\n",
    "    {\n",
    "        'Feature': std_scaler.feature_names_in_,\n",
    "        'mean': std_scaler.mean_,\n",
    "        'std': std_scaler.scale_\n",
    "    }\n",
    "    \n",
    ")"
   ]
  },
  {
   "cell_type": "code",
   "execution_count": 38,
   "id": "1e936ce7-c7c9-4cc5-8710-c50cf7675e08",
   "metadata": {},
   "outputs": [
    {
     "data": {
      "text/html": [
       "<div>\n",
       "<style scoped>\n",
       "    .dataframe tbody tr th:only-of-type {\n",
       "        vertical-align: middle;\n",
       "    }\n",
       "\n",
       "    .dataframe tbody tr th {\n",
       "        vertical-align: top;\n",
       "    }\n",
       "\n",
       "    .dataframe thead th {\n",
       "        text-align: right;\n",
       "    }\n",
       "</style>\n",
       "<table border=\"1\" class=\"dataframe\">\n",
       "  <thead>\n",
       "    <tr style=\"text-align: right;\">\n",
       "      <th></th>\n",
       "      <th>TRD_A_20</th>\n",
       "      <th>TRD_A_20OptBin</th>\n",
       "      <th>BinTRD_A_20</th>\n",
       "      <th>TRD_A_20OptBinStd</th>\n",
       "    </tr>\n",
       "  </thead>\n",
       "  <tbody>\n",
       "    <tr>\n",
       "      <th>0</th>\n",
       "      <td>21</td>\n",
       "      <td>0.000000</td>\n",
       "      <td>[1, inf)</td>\n",
       "      <td>-0.311710</td>\n",
       "    </tr>\n",
       "    <tr>\n",
       "      <th>1</th>\n",
       "      <td>-2</td>\n",
       "      <td>-0.515010</td>\n",
       "      <td>-2</td>\n",
       "      <td>-0.854392</td>\n",
       "    </tr>\n",
       "    <tr>\n",
       "      <th>2</th>\n",
       "      <td>-2</td>\n",
       "      <td>-0.515010</td>\n",
       "      <td>-2</td>\n",
       "      <td>-0.854392</td>\n",
       "    </tr>\n",
       "    <tr>\n",
       "      <th>3</th>\n",
       "      <td>-3</td>\n",
       "      <td>1.436451</td>\n",
       "      <td>{-3, 0}</td>\n",
       "      <td>1.201922</td>\n",
       "    </tr>\n",
       "    <tr>\n",
       "      <th>4</th>\n",
       "      <td>-2</td>\n",
       "      <td>-0.515010</td>\n",
       "      <td>-2</td>\n",
       "      <td>-0.854392</td>\n",
       "    </tr>\n",
       "    <tr>\n",
       "      <th>...</th>\n",
       "      <td>...</td>\n",
       "      <td>...</td>\n",
       "      <td>...</td>\n",
       "      <td>...</td>\n",
       "    </tr>\n",
       "    <tr>\n",
       "      <th>110457</th>\n",
       "      <td>-2</td>\n",
       "      <td>-0.515010</td>\n",
       "      <td>-2</td>\n",
       "      <td>-0.854392</td>\n",
       "    </tr>\n",
       "    <tr>\n",
       "      <th>110458</th>\n",
       "      <td>-2</td>\n",
       "      <td>-0.515010</td>\n",
       "      <td>-2</td>\n",
       "      <td>-0.854392</td>\n",
       "    </tr>\n",
       "    <tr>\n",
       "      <th>110459</th>\n",
       "      <td>-2</td>\n",
       "      <td>-0.515010</td>\n",
       "      <td>-2</td>\n",
       "      <td>-0.854392</td>\n",
       "    </tr>\n",
       "    <tr>\n",
       "      <th>110460</th>\n",
       "      <td>-3</td>\n",
       "      <td>1.436451</td>\n",
       "      <td>{-3, 0}</td>\n",
       "      <td>1.201922</td>\n",
       "    </tr>\n",
       "    <tr>\n",
       "      <th>110461</th>\n",
       "      <td>-3</td>\n",
       "      <td>1.436451</td>\n",
       "      <td>{-3, 0}</td>\n",
       "      <td>1.201922</td>\n",
       "    </tr>\n",
       "  </tbody>\n",
       "</table>\n",
       "<p>110462 rows × 4 columns</p>\n",
       "</div>"
      ],
      "text/plain": [
       "        TRD_A_20  TRD_A_20OptBin BinTRD_A_20  TRD_A_20OptBinStd\n",
       "0             21        0.000000    [1, inf)          -0.311710\n",
       "1             -2       -0.515010          -2          -0.854392\n",
       "2             -2       -0.515010          -2          -0.854392\n",
       "3             -3        1.436451     {-3, 0}           1.201922\n",
       "4             -2       -0.515010          -2          -0.854392\n",
       "...          ...             ...         ...                ...\n",
       "110457        -2       -0.515010          -2          -0.854392\n",
       "110458        -2       -0.515010          -2          -0.854392\n",
       "110459        -2       -0.515010          -2          -0.854392\n",
       "110460        -3        1.436451     {-3, 0}           1.201922\n",
       "110461        -3        1.436451     {-3, 0}           1.201922\n",
       "\n",
       "[110462 rows x 4 columns]"
      ]
     },
     "execution_count": 38,
     "metadata": {},
     "output_type": "execute_result"
    }
   ],
   "source": [
    "pd.concat(\n",
    "    (\n",
    "        df[['TRD_A_20', 'TRD_A_20OptBin', 'BinTRD_A_20']].reset_index(drop=True), \n",
    "        pd.DataFrame(std_scaler.transform(df[COLS_TO_USE]), columns=[col+'Std' for col in COLS_TO_USE]).reset_index(drop=True)[['TRD_A_20OptBinStd']]\n",
    "    ), axis=1\n",
    ")"
   ]
  },
  {
   "cell_type": "code",
   "execution_count": 39,
   "id": "011290e5-4037-44f4-8cc9-7a84be7bcb09",
   "metadata": {},
   "outputs": [
    {
     "data": {
      "text/html": [
       "<div>\n",
       "<style scoped>\n",
       "    .dataframe tbody tr th:only-of-type {\n",
       "        vertical-align: middle;\n",
       "    }\n",
       "\n",
       "    .dataframe tbody tr th {\n",
       "        vertical-align: top;\n",
       "    }\n",
       "\n",
       "    .dataframe thead th {\n",
       "        text-align: right;\n",
       "    }\n",
       "</style>\n",
       "<table border=\"1\" class=\"dataframe\">\n",
       "  <thead>\n",
       "    <tr style=\"text-align: right;\">\n",
       "      <th></th>\n",
       "      <th>Unnamed: 0.1</th>\n",
       "      <th>Unnamed: 0</th>\n",
       "      <th>UNIQUE_ID</th>\n",
       "      <th>E1_A_01</th>\n",
       "      <th>E1_A_02</th>\n",
       "      <th>E1_A_03</th>\n",
       "      <th>E1_A_04</th>\n",
       "      <th>E1_A_05</th>\n",
       "      <th>E1_A_06</th>\n",
       "      <th>E1_A_07</th>\n",
       "      <th>...</th>\n",
       "      <th>BinE4_Q_17</th>\n",
       "      <th>GEN11_SP_N_92_ABOther</th>\n",
       "      <th>GEN11_SP_N_92_ABOtherOptBin</th>\n",
       "      <th>BinGEN11_SP_N_92_ABOther</th>\n",
       "      <th>GEN11_SP_K_80_JSOther</th>\n",
       "      <th>GEN11_SP_K_80_TO</th>\n",
       "      <th>GEN11_SP_K_80_TOOptBin</th>\n",
       "      <th>BinGEN11_SP_K_80_TO</th>\n",
       "      <th>GEN11_SP_K_80_PR</th>\n",
       "      <th>_GB6_Flag_2Limit_bin_0isB</th>\n",
       "    </tr>\n",
       "  </thead>\n",
       "  <tbody>\n",
       "    <tr>\n",
       "      <th>0</th>\n",
       "      <td>0</td>\n",
       "      <td>0</td>\n",
       "      <td>44</td>\n",
       "      <td>0</td>\n",
       "      <td>0</td>\n",
       "      <td>0</td>\n",
       "      <td>0</td>\n",
       "      <td>0</td>\n",
       "      <td>0</td>\n",
       "      <td>3</td>\n",
       "      <td>...</td>\n",
       "      <td>2</td>\n",
       "      <td>B</td>\n",
       "      <td>0.883575</td>\n",
       "      <td>{'B'}</td>\n",
       "      <td>Sole</td>\n",
       "      <td>G</td>\n",
       "      <td>-0.213474</td>\n",
       "      <td>[J, I, S, U, G, F]</td>\n",
       "      <td>G</td>\n",
       "      <td>0</td>\n",
       "    </tr>\n",
       "    <tr>\n",
       "      <th>1</th>\n",
       "      <td>1</td>\n",
       "      <td>1</td>\n",
       "      <td>297</td>\n",
       "      <td>0</td>\n",
       "      <td>0</td>\n",
       "      <td>0</td>\n",
       "      <td>0</td>\n",
       "      <td>0</td>\n",
       "      <td>0</td>\n",
       "      <td>9</td>\n",
       "      <td>...</td>\n",
       "      <td>2</td>\n",
       "      <td>B</td>\n",
       "      <td>0.883575</td>\n",
       "      <td>{'B'}</td>\n",
       "      <td>(Joint)OR(Sole&amp;Joint)</td>\n",
       "      <td>1234</td>\n",
       "      <td>0.788473</td>\n",
       "      <td>{1, 2, 3, 4}</td>\n",
       "      <td>135</td>\n",
       "      <td>0</td>\n",
       "    </tr>\n",
       "    <tr>\n",
       "      <th>2</th>\n",
       "      <td>2</td>\n",
       "      <td>2</td>\n",
       "      <td>759</td>\n",
       "      <td>0</td>\n",
       "      <td>0</td>\n",
       "      <td>0</td>\n",
       "      <td>0</td>\n",
       "      <td>0</td>\n",
       "      <td>0</td>\n",
       "      <td>5</td>\n",
       "      <td>...</td>\n",
       "      <td>{6}</td>\n",
       "      <td>Other</td>\n",
       "      <td>-0.592210</td>\n",
       "      <td>{'Other'}</td>\n",
       "      <td>Sole</td>\n",
       "      <td>F</td>\n",
       "      <td>-0.213474</td>\n",
       "      <td>[J, I, S, U, G, F]</td>\n",
       "      <td>F</td>\n",
       "      <td>0</td>\n",
       "    </tr>\n",
       "    <tr>\n",
       "      <th>3</th>\n",
       "      <td>3</td>\n",
       "      <td>3</td>\n",
       "      <td>760</td>\n",
       "      <td>0</td>\n",
       "      <td>0</td>\n",
       "      <td>0</td>\n",
       "      <td>3</td>\n",
       "      <td>19</td>\n",
       "      <td>20</td>\n",
       "      <td>6</td>\n",
       "      <td>...</td>\n",
       "      <td>{3, 4, 7, 8}</td>\n",
       "      <td>B</td>\n",
       "      <td>0.883575</td>\n",
       "      <td>{'B'}</td>\n",
       "      <td>Sole</td>\n",
       "      <td>G</td>\n",
       "      <td>-0.213474</td>\n",
       "      <td>[J, I, S, U, G, F]</td>\n",
       "      <td>G</td>\n",
       "      <td>0</td>\n",
       "    </tr>\n",
       "    <tr>\n",
       "      <th>4</th>\n",
       "      <td>4</td>\n",
       "      <td>4</td>\n",
       "      <td>816</td>\n",
       "      <td>3</td>\n",
       "      <td>29</td>\n",
       "      <td>21</td>\n",
       "      <td>8</td>\n",
       "      <td>22</td>\n",
       "      <td>65</td>\n",
       "      <td>6</td>\n",
       "      <td>...</td>\n",
       "      <td>{3, 4, 7, 8}</td>\n",
       "      <td>A</td>\n",
       "      <td>-0.956089</td>\n",
       "      <td>{'A'}</td>\n",
       "      <td>(Joint)OR(Sole&amp;Joint)</td>\n",
       "      <td>1234</td>\n",
       "      <td>0.788473</td>\n",
       "      <td>{1, 2, 3, 4}</td>\n",
       "      <td>246</td>\n",
       "      <td>0</td>\n",
       "    </tr>\n",
       "  </tbody>\n",
       "</table>\n",
       "<p>5 rows × 1867 columns</p>\n",
       "</div>"
      ],
      "text/plain": [
       "   Unnamed: 0.1  Unnamed: 0  UNIQUE_ID  E1_A_01  E1_A_02  E1_A_03  E1_A_04  \\\n",
       "0             0           0         44        0        0        0        0   \n",
       "1             1           1        297        0        0        0        0   \n",
       "2             2           2        759        0        0        0        0   \n",
       "3             3           3        760        0        0        0        3   \n",
       "4             4           4        816        3       29       21        8   \n",
       "\n",
       "   E1_A_05  E1_A_06  E1_A_07  ...    BinE4_Q_17  GEN11_SP_N_92_ABOther  \\\n",
       "0        0        0        3  ...             2                      B   \n",
       "1        0        0        9  ...             2                      B   \n",
       "2        0        0        5  ...           {6}                  Other   \n",
       "3       19       20        6  ...  {3, 4, 7, 8}                      B   \n",
       "4       22       65        6  ...  {3, 4, 7, 8}                      A   \n",
       "\n",
       "   GEN11_SP_N_92_ABOtherOptBin  BinGEN11_SP_N_92_ABOther  \\\n",
       "0                     0.883575                     {'B'}   \n",
       "1                     0.883575                     {'B'}   \n",
       "2                    -0.592210                 {'Other'}   \n",
       "3                     0.883575                     {'B'}   \n",
       "4                    -0.956089                     {'A'}   \n",
       "\n",
       "   GEN11_SP_K_80_JSOther  GEN11_SP_K_80_TO GEN11_SP_K_80_TOOptBin  \\\n",
       "0                   Sole                 G              -0.213474   \n",
       "1  (Joint)OR(Sole&Joint)              1234               0.788473   \n",
       "2                   Sole                 F              -0.213474   \n",
       "3                   Sole                 G              -0.213474   \n",
       "4  (Joint)OR(Sole&Joint)              1234               0.788473   \n",
       "\n",
       "   BinGEN11_SP_K_80_TO GEN11_SP_K_80_PR  _GB6_Flag_2Limit_bin_0isB  \n",
       "0   [J, I, S, U, G, F]                G                          0  \n",
       "1         {1, 2, 3, 4}              135                          0  \n",
       "2   [J, I, S, U, G, F]                F                          0  \n",
       "3   [J, I, S, U, G, F]                G                          0  \n",
       "4         {1, 2, 3, 4}              246                          0  \n",
       "\n",
       "[5 rows x 1867 columns]"
      ]
     },
     "execution_count": 39,
     "metadata": {},
     "output_type": "execute_result"
    }
   ],
   "source": [
    "df.head()"
   ]
  },
  {
   "cell_type": "code",
   "execution_count": 40,
   "id": "56518613-2d3f-483c-b30f-1cab1f4b90c5",
   "metadata": {},
   "outputs": [
    {
     "data": {
      "text/html": [
       "<div>\n",
       "<style scoped>\n",
       "    .dataframe tbody tr th:only-of-type {\n",
       "        vertical-align: middle;\n",
       "    }\n",
       "\n",
       "    .dataframe tbody tr th {\n",
       "        vertical-align: top;\n",
       "    }\n",
       "\n",
       "    .dataframe thead th {\n",
       "        text-align: right;\n",
       "    }\n",
       "</style>\n",
       "<table border=\"1\" class=\"dataframe\">\n",
       "  <thead>\n",
       "    <tr style=\"text-align: right;\">\n",
       "      <th></th>\n",
       "      <th>TRD_A_20</th>\n",
       "      <th>TRD_A_20OptBin</th>\n",
       "      <th>BinTRD_A_20</th>\n",
       "      <th>TRD_A_20OptBinStd</th>\n",
       "    </tr>\n",
       "  </thead>\n",
       "  <tbody>\n",
       "    <tr>\n",
       "      <th>0</th>\n",
       "      <td>21</td>\n",
       "      <td>0.0</td>\n",
       "      <td>[1, inf)</td>\n",
       "      <td>-0.31171</td>\n",
       "    </tr>\n",
       "  </tbody>\n",
       "</table>\n",
       "</div>"
      ],
      "text/plain": [
       "   TRD_A_20  TRD_A_20OptBin BinTRD_A_20  TRD_A_20OptBinStd\n",
       "0        21             0.0    [1, inf)           -0.31171"
      ]
     },
     "execution_count": 40,
     "metadata": {},
     "output_type": "execute_result"
    }
   ],
   "source": [
    "pd.concat(\n",
    "    (\n",
    "        df[['TRD_A_20', 'TRD_A_20OptBin', 'BinTRD_A_20']].reset_index(drop=True), \n",
    "        pd.DataFrame(std_scaler.transform(df[COLS_TO_USE]), columns=[col+'Std' for col in COLS_TO_USE]).reset_index(drop=True)[['TRD_A_20OptBinStd']]\n",
    "    ), axis=1\n",
    ").head(1)"
   ]
  },
  {
   "cell_type": "code",
   "execution_count": 41,
   "id": "9470c6d5-d211-4ec7-b048-8e14e902495b",
   "metadata": {},
   "outputs": [
    {
     "data": {
      "text/plain": [
       "array([0.25381008])"
      ]
     },
     "execution_count": 41,
     "metadata": {},
     "output_type": "execute_result"
    }
   ],
   "source": [
    "model_obj.predict_proba(std_scaler.transform(df[df.UNIQUE_ID == 44][COLS_TO_USE]))[:, 1] "
   ]
  },
  {
   "cell_type": "code",
   "execution_count": 42,
   "id": "735f9250-6413-4bc9-ba2e-b54f4e69602f",
   "metadata": {},
   "outputs": [
    {
     "data": {
      "text/plain": [
       "array([0.3401414])"
      ]
     },
     "execution_count": 42,
     "metadata": {},
     "output_type": "execute_result"
    }
   ],
   "source": [
    "model_obj.predict_proba(std_scaler.transform(df[df.UNIQUE_ID == 44][COLS_TO_USE]))[:, 1] / model_obj.predict_proba(std_scaler.transform(df[df.UNIQUE_ID == 44][COLS_TO_USE]))[:, 0]"
   ]
  },
  {
   "cell_type": "code",
   "execution_count": 43,
   "id": "318864c9-d462-4fdc-89d4-4fde6be8542a",
   "metadata": {},
   "outputs": [],
   "source": [
    "df_coeff = df_coeff.set_index('Feature')"
   ]
  },
  {
   "cell_type": "code",
   "execution_count": 44,
   "id": "e43fa77a-58b8-4a84-8e79-0e7297a41d24",
   "metadata": {},
   "outputs": [
    {
     "data": {
      "text/plain": [
       "2"
      ]
     },
     "execution_count": 44,
     "metadata": {},
     "output_type": "execute_result"
    }
   ],
   "source": [
    "COLS_TO_USE.index('TRD_A_20OptBin')"
   ]
  },
  {
   "cell_type": "code",
   "execution_count": 45,
   "id": "b4192687-03d7-4dee-a477-11b999c3de8f",
   "metadata": {},
   "outputs": [
    {
     "data": {
      "text/plain": [
       "array([[ 0.30929647,  1.66774105, -0.31171036,  1.38723178,  0.06095715,\n",
       "         0.72484521, -0.279504  ,  0.82179964, -0.57931539, -0.65032814,\n",
       "         0.68335245, -0.22064468, -0.70136616, -0.3051029 ,  0.47633919,\n",
       "         0.13872463,  0.1450299 , -1.21795392, -0.22807867, -0.57370458,\n",
       "        -0.44442953,  0.37655354,  0.5858444 ,  0.81905616]])"
      ]
     },
     "execution_count": 45,
     "metadata": {},
     "output_type": "execute_result"
    }
   ],
   "source": [
    "std_scaler.transform(df[df.UNIQUE_ID == 44][COLS_TO_USE])"
   ]
  },
  {
   "cell_type": "code",
   "execution_count": 46,
   "id": "7d676afa-983e-4718-9072-15710523047b",
   "metadata": {},
   "outputs": [
    {
     "data": {
      "text/plain": [
       "array([-1.24901939, -0.05524496, -0.0623808 , -0.05720196, -0.09008615,\n",
       "        0.072927  , -0.14624046, -0.05058227, -0.0895822 , -0.20493718,\n",
       "        0.16808272,  0.05093944, -0.06106494, -0.04644882, -0.08179527,\n",
       "        0.10447431,  0.17728551,  0.06473774,  0.06599281, -0.13022312,\n",
       "       -0.10635291, -0.17348975,  0.10107063, -0.08318623])"
      ]
     },
     "execution_count": 46,
     "metadata": {},
     "output_type": "execute_result"
    }
   ],
   "source": [
    "df_coeff.loc[COLS_TO_USE, 'Coeff'].values"
   ]
  },
  {
   "cell_type": "code",
   "execution_count": 47,
   "id": "99d63709-c980-46b4-8804-08a74c42ba01",
   "metadata": {},
   "outputs": [
    {
     "data": {
      "text/plain": [
       "array([[-0.38631729, -0.09213429,  0.01944474, -0.07935238, -0.00549139,\n",
       "         0.05286079,  0.04087479, -0.04156849,  0.05189635,  0.13327641,\n",
       "         0.11485974, -0.01123952,  0.04282888,  0.01417167, -0.03896229,\n",
       "         0.01449316,  0.0257117 , -0.07884759, -0.01505155,  0.0747096 ,\n",
       "         0.04726637, -0.06532818,  0.05921167, -0.0681342 ]])"
      ]
     },
     "execution_count": 47,
     "metadata": {},
     "output_type": "execute_result"
    }
   ],
   "source": [
    "df_coeff.loc[COLS_TO_USE, 'Coeff'].values * std_scaler.transform(df[df.UNIQUE_ID == 44][COLS_TO_USE])"
   ]
  },
  {
   "cell_type": "code",
   "execution_count": 48,
   "id": "e0d42a87-1184-47d7-8370-39b9419ff76f",
   "metadata": {},
   "outputs": [
    {
     "data": {
      "text/plain": [
       "array([[0.67955488, 0.91198267, 1.01963502, 0.92371437, 0.99452366,\n",
       "        1.05428287, 1.04172167, 0.95928363, 1.05326656, 1.14256577,\n",
       "        1.12171609, 0.98882341, 1.04375928, 1.01427256, 0.96178697,\n",
       "        1.01459869, 1.0260451 , 0.92418077, 0.98506116, 1.07757118,\n",
       "        1.04840124, 0.93675999, 1.06099979, 0.93413511]])"
      ]
     },
     "execution_count": 48,
     "metadata": {},
     "output_type": "execute_result"
    }
   ],
   "source": [
    "np.exp(df_coeff.loc[COLS_TO_USE, 'Coeff'].values * std_scaler.transform(df[df.UNIQUE_ID == 44][COLS_TO_USE]))"
   ]
  },
  {
   "cell_type": "code",
   "execution_count": 49,
   "id": "ae449b56-ad98-4bd4-9ae3-f0a53a6ac1dc",
   "metadata": {},
   "outputs": [
    {
     "data": {
      "text/plain": [
       "0.4116538067866693"
      ]
     },
     "execution_count": 49,
     "metadata": {},
     "output_type": "execute_result"
    }
   ],
   "source": [
    "np.exp(model_obj.intercept_[0])"
   ]
  },
  {
   "cell_type": "code",
   "execution_count": 50,
   "id": "7979ffce-2610-4ca5-aee7-741c01c3ce3d",
   "metadata": {},
   "outputs": [
    {
     "data": {
      "text/plain": [
       "0.3401414023159516"
      ]
     },
     "execution_count": 50,
     "metadata": {},
     "output_type": "execute_result"
    }
   ],
   "source": [
    "np.exp(np.sum(df_coeff.loc[COLS_TO_USE, 'Coeff'].values * std_scaler.transform(df[df.UNIQUE_ID == 44][COLS_TO_USE]))) * np.exp(model_obj.intercept_[0])"
   ]
  },
  {
   "cell_type": "code",
   "execution_count": 55,
   "id": "74e5cfea-f0d7-4725-b717-37443fb179e7",
   "metadata": {},
   "outputs": [],
   "source": [
    "df_train_bin = df[\n",
    "    (df._RDATE >= TRAIN_BIN_FROM) &\n",
    "    (df._RDATE < TRAIN_BIN_TO) & \n",
    "    (df[TARGET_NAME] != 'I')\n",
    "].reset_index(drop=True)"
   ]
  },
  {
   "cell_type": "code",
   "execution_count": 56,
   "id": "556b0b4c-9ef1-4d23-8c69-ed978b3d56d9",
   "metadata": {},
   "outputs": [],
   "source": [
    "df_train_val = df[\n",
    "    (df._RDATE >= TRAIN_FROM) &\n",
    "    (df._RDATE < VAL_TO) & \n",
    "    (df[TARGET_NAME] != 'I')\n",
    "].reset_index(drop=True)"
   ]
  },
  {
   "cell_type": "code",
   "execution_count": 57,
   "id": "c0f2626b-58f1-40b1-9de2-fe13d27dc95f",
   "metadata": {},
   "outputs": [],
   "source": [
    "df_test = df[\n",
    "    (df._RDATE >= TEST_FROM) &\n",
    "    (df._RDATE < TEST_TO) & \n",
    "    (df[TARGET_NAME] != 'I')\n",
    "].reset_index(drop=True)"
   ]
  },
  {
   "cell_type": "markdown",
   "id": "12f2a24f-f933-4aa5-b108-87b4d0d40745",
   "metadata": {},
   "source": [
    "## Sample for bins"
   ]
  },
  {
   "cell_type": "code",
   "execution_count": 93,
   "id": "1df766f4-ce43-4e6e-878c-8637c689e7b5",
   "metadata": {},
   "outputs": [],
   "source": [
    "def count_obs_per_bin(data: pd.DataFrame, columns: List[str]) -> pd.DataFrame:\n",
    "    df_bin_sts = pd.DataFrame()\n",
    "    for col_name in [f'Bin{col[:-len('OptBin')]}' for col in columns]:\n",
    "        temp = data[col_name].value_counts().reset_index(name='n')\n",
    "        temp = temp.rename(columns={col_name: 'Bin'})\n",
    "        temp['Feature'] = col_name[len('Bin'):]\n",
    "        df_bin_sts = pd.concat((df_bin_sts, temp))\n",
    "    return df_bin_sts"
   ]
  },
  {
   "cell_type": "code",
   "execution_count": 94,
   "id": "0478b883-5a92-44da-a3f5-a16500fa488b",
   "metadata": {},
   "outputs": [],
   "source": [
    "df_train_bin_sts = count_obs_per_bin(data=df_train_bin, columns=COLS_TO_USE)"
   ]
  },
  {
   "cell_type": "code",
   "execution_count": 95,
   "id": "81408232-6f92-4a8f-bac4-42d7c41a48e5",
   "metadata": {},
   "outputs": [
    {
     "data": {
      "text/html": [
       "<div>\n",
       "<style scoped>\n",
       "    .dataframe tbody tr th:only-of-type {\n",
       "        vertical-align: middle;\n",
       "    }\n",
       "\n",
       "    .dataframe tbody tr th {\n",
       "        vertical-align: top;\n",
       "    }\n",
       "\n",
       "    .dataframe thead th {\n",
       "        text-align: right;\n",
       "    }\n",
       "</style>\n",
       "<table border=\"1\" class=\"dataframe\">\n",
       "  <thead>\n",
       "    <tr style=\"text-align: right;\">\n",
       "      <th></th>\n",
       "      <th>Bin</th>\n",
       "      <th>n</th>\n",
       "      <th>Feature</th>\n",
       "    </tr>\n",
       "  </thead>\n",
       "  <tbody>\n",
       "    <tr>\n",
       "      <th>0</th>\n",
       "      <td>-2</td>\n",
       "      <td>7457</td>\n",
       "      <td>TRD_A_20</td>\n",
       "    </tr>\n",
       "    <tr>\n",
       "      <th>1</th>\n",
       "      <td>{-3, 0}</td>\n",
       "      <td>5977</td>\n",
       "      <td>TRD_A_20</td>\n",
       "    </tr>\n",
       "    <tr>\n",
       "      <th>2</th>\n",
       "      <td>[1, inf)</td>\n",
       "      <td>465</td>\n",
       "      <td>TRD_A_20</td>\n",
       "    </tr>\n",
       "    <tr>\n",
       "      <th>3</th>\n",
       "      <td>-1</td>\n",
       "      <td>41</td>\n",
       "      <td>TRD_A_20</td>\n",
       "    </tr>\n",
       "  </tbody>\n",
       "</table>\n",
       "</div>"
      ],
      "text/plain": [
       "        Bin     n   Feature\n",
       "0        -2  7457  TRD_A_20\n",
       "1   {-3, 0}  5977  TRD_A_20\n",
       "2  [1, inf)   465  TRD_A_20\n",
       "3        -1    41  TRD_A_20"
      ]
     },
     "execution_count": 95,
     "metadata": {},
     "output_type": "execute_result"
    }
   ],
   "source": [
    "df_train_bin_sts[df_train_bin_sts['Feature'] == 'TRD_A_20']"
   ]
  },
  {
   "cell_type": "code",
   "execution_count": 96,
   "id": "b9746387-eeae-45d8-b12d-847ed813d0d6",
   "metadata": {},
   "outputs": [],
   "source": [
    "def count_target_per_bin(data: pd.DataFrame, target_name: str, columns: List[str]) -> pd.DataFrame:\n",
    "    df_bin_sts = pd.DataFrame()\n",
    "    for col_name in [f'Bin{col[:-len('OptBin')]}' for col in columns]:\n",
    "        temp = data.groupby(target_name)[col_name].value_counts().reset_index(name='n').pivot(index=col_name, columns=target_name, values='n')\n",
    "        temp = temp.reset_index()\n",
    "        temp = temp.rename(columns={col_name: 'Bin'})\n",
    "        temp['Feature'] = col_name[len('Bin'):]\n",
    "        df_bin_sts = pd.concat((df_bin_sts, temp))\n",
    "    df_bin_sts = df_bin_sts.fillna(0)\n",
    "    return df_bin_sts"
   ]
  },
  {
   "cell_type": "code",
   "execution_count": 97,
   "id": "76ad0b2e-7f10-4999-8572-bdac3c2a2e9a",
   "metadata": {},
   "outputs": [],
   "source": [
    "df_train_bin_sts_t = count_target_per_bin(data=df_train_bin, target_name=TARGET_NAME, columns=COLS_TO_USE)\n",
    "df_train_bin_sts = pd.merge(df_train_bin_sts_t, df_train_bin_sts, on=['Feature', 'Bin'])"
   ]
  },
  {
   "cell_type": "code",
   "execution_count": 99,
   "id": "7e3a135d-da39-4e14-9ac3-3118bea1d046",
   "metadata": {},
   "outputs": [
    {
     "data": {
      "text/html": [
       "<div>\n",
       "<style scoped>\n",
       "    .dataframe tbody tr th:only-of-type {\n",
       "        vertical-align: middle;\n",
       "    }\n",
       "\n",
       "    .dataframe tbody tr th {\n",
       "        vertical-align: top;\n",
       "    }\n",
       "\n",
       "    .dataframe thead th {\n",
       "        text-align: right;\n",
       "    }\n",
       "</style>\n",
       "<table border=\"1\" class=\"dataframe\">\n",
       "  <thead>\n",
       "    <tr style=\"text-align: right;\">\n",
       "      <th></th>\n",
       "      <th>Bin</th>\n",
       "      <th>B</th>\n",
       "      <th>G</th>\n",
       "      <th>Feature</th>\n",
       "      <th>n</th>\n",
       "    </tr>\n",
       "  </thead>\n",
       "  <tbody>\n",
       "    <tr>\n",
       "      <th>0</th>\n",
       "      <td>(-inf, 684.50)</td>\n",
       "      <td>182.0</td>\n",
       "      <td>1145.0</td>\n",
       "      <td>OPTIN_11SCN_ML</td>\n",
       "      <td>1327</td>\n",
       "    </tr>\n",
       "    <tr>\n",
       "      <th>1</th>\n",
       "      <td>-998.0</td>\n",
       "      <td>0.0</td>\n",
       "      <td>48.0</td>\n",
       "      <td>OPTIN_11SCN_ML</td>\n",
       "      <td>48</td>\n",
       "    </tr>\n",
       "    <tr>\n",
       "      <th>2</th>\n",
       "      <td>[1025.50, 1103.50)</td>\n",
       "      <td>16.0</td>\n",
       "      <td>2084.0</td>\n",
       "      <td>OPTIN_11SCN_ML</td>\n",
       "      <td>2100</td>\n",
       "    </tr>\n",
       "    <tr>\n",
       "      <th>3</th>\n",
       "      <td>[1103.50, 1132.50)</td>\n",
       "      <td>2.0</td>\n",
       "      <td>822.0</td>\n",
       "      <td>OPTIN_11SCN_ML</td>\n",
       "      <td>824</td>\n",
       "    </tr>\n",
       "    <tr>\n",
       "      <th>4</th>\n",
       "      <td>[1132.50, inf)</td>\n",
       "      <td>6.0</td>\n",
       "      <td>3861.0</td>\n",
       "      <td>OPTIN_11SCN_ML</td>\n",
       "      <td>3867</td>\n",
       "    </tr>\n",
       "    <tr>\n",
       "      <th>...</th>\n",
       "      <td>...</td>\n",
       "      <td>...</td>\n",
       "      <td>...</td>\n",
       "      <td>...</td>\n",
       "      <td>...</td>\n",
       "    </tr>\n",
       "    <tr>\n",
       "      <th>172</th>\n",
       "      <td>[10.00, inf)</td>\n",
       "      <td>28.0</td>\n",
       "      <td>2294.0</td>\n",
       "      <td>TRD_O_06</td>\n",
       "      <td>2322</td>\n",
       "    </tr>\n",
       "    <tr>\n",
       "      <th>173</th>\n",
       "      <td>{'A'}</td>\n",
       "      <td>83.0</td>\n",
       "      <td>1000.0</td>\n",
       "      <td>GEN11_SP_N_92_ABOther</td>\n",
       "      <td>1083</td>\n",
       "    </tr>\n",
       "    <tr>\n",
       "      <th>174</th>\n",
       "      <td>{'B'}</td>\n",
       "      <td>110.0</td>\n",
       "      <td>8342.0</td>\n",
       "      <td>GEN11_SP_N_92_ABOther</td>\n",
       "      <td>8452</td>\n",
       "    </tr>\n",
       "    <tr>\n",
       "      <th>175</th>\n",
       "      <td>{'Other'}</td>\n",
       "      <td>238.0</td>\n",
       "      <td>4126.0</td>\n",
       "      <td>GEN11_SP_N_92_ABOther</td>\n",
       "      <td>4364</td>\n",
       "    </tr>\n",
       "    <tr>\n",
       "      <th>176</th>\n",
       "      <td>{'T'}</td>\n",
       "      <td>0.0</td>\n",
       "      <td>41.0</td>\n",
       "      <td>GEN11_SP_N_92_ABOther</td>\n",
       "      <td>41</td>\n",
       "    </tr>\n",
       "  </tbody>\n",
       "</table>\n",
       "<p>177 rows × 5 columns</p>\n",
       "</div>"
      ],
      "text/plain": [
       "                    Bin      B       G                Feature     n\n",
       "0        (-inf, 684.50)  182.0  1145.0         OPTIN_11SCN_ML  1327\n",
       "1                -998.0    0.0    48.0         OPTIN_11SCN_ML    48\n",
       "2    [1025.50, 1103.50)   16.0  2084.0         OPTIN_11SCN_ML  2100\n",
       "3    [1103.50, 1132.50)    2.0   822.0         OPTIN_11SCN_ML   824\n",
       "4        [1132.50, inf)    6.0  3861.0         OPTIN_11SCN_ML  3867\n",
       "..                  ...    ...     ...                    ...   ...\n",
       "172        [10.00, inf)   28.0  2294.0               TRD_O_06  2322\n",
       "173               {'A'}   83.0  1000.0  GEN11_SP_N_92_ABOther  1083\n",
       "174               {'B'}  110.0  8342.0  GEN11_SP_N_92_ABOther  8452\n",
       "175           {'Other'}  238.0  4126.0  GEN11_SP_N_92_ABOther  4364\n",
       "176               {'T'}    0.0    41.0  GEN11_SP_N_92_ABOther    41\n",
       "\n",
       "[177 rows x 5 columns]"
      ]
     },
     "execution_count": 99,
     "metadata": {},
     "output_type": "execute_result"
    }
   ],
   "source": [
    "df_train_bin_sts"
   ]
  },
  {
   "cell_type": "code",
   "execution_count": 103,
   "id": "2d01f90e-95e2-4d18-90d7-5df1aaa23320",
   "metadata": {},
   "outputs": [],
   "source": [
    "assert not df_train_bin_sts[['Bin', 'Feature', 'n']].duplicated().any()\n",
    "assert not df_train_bin_sts[['Bin', 'Feature', 'B', 'G']].duplicated().any()\n",
    "del df_train_bin_sts_t"
   ]
  },
  {
   "cell_type": "code",
   "execution_count": 105,
   "id": "dfb47cdb-ea8f-42fc-9ff4-c11e220eb577",
   "metadata": {},
   "outputs": [],
   "source": [
    "df_train_bin_sts['Event rate'] = df_train_bin_sts['B'] / df_train_bin_sts['n']"
   ]
  },
  {
   "cell_type": "code",
   "execution_count": 106,
   "id": "db705dab-f596-4790-8321-bd72954f3e4c",
   "metadata": {},
   "outputs": [
    {
     "data": {
      "text/html": [
       "<div>\n",
       "<style scoped>\n",
       "    .dataframe tbody tr th:only-of-type {\n",
       "        vertical-align: middle;\n",
       "    }\n",
       "\n",
       "    .dataframe tbody tr th {\n",
       "        vertical-align: top;\n",
       "    }\n",
       "\n",
       "    .dataframe thead th {\n",
       "        text-align: right;\n",
       "    }\n",
       "</style>\n",
       "<table border=\"1\" class=\"dataframe\">\n",
       "  <thead>\n",
       "    <tr style=\"text-align: right;\">\n",
       "      <th></th>\n",
       "      <th>Bin</th>\n",
       "      <th>B</th>\n",
       "      <th>G</th>\n",
       "      <th>Feature</th>\n",
       "      <th>n</th>\n",
       "      <th>Event rate</th>\n",
       "    </tr>\n",
       "  </thead>\n",
       "  <tbody>\n",
       "    <tr>\n",
       "      <th>20</th>\n",
       "      <td>-1</td>\n",
       "      <td>0.0</td>\n",
       "      <td>41.0</td>\n",
       "      <td>TRD_A_20</td>\n",
       "      <td>41</td>\n",
       "      <td>0.000000</td>\n",
       "    </tr>\n",
       "    <tr>\n",
       "      <th>21</th>\n",
       "      <td>-2</td>\n",
       "      <td>378.0</td>\n",
       "      <td>7079.0</td>\n",
       "      <td>TRD_A_20</td>\n",
       "      <td>7457</td>\n",
       "      <td>0.050691</td>\n",
       "    </tr>\n",
       "    <tr>\n",
       "      <th>22</th>\n",
       "      <td>[1, inf)</td>\n",
       "      <td>8.0</td>\n",
       "      <td>457.0</td>\n",
       "      <td>TRD_A_20</td>\n",
       "      <td>465</td>\n",
       "      <td>0.017204</td>\n",
       "    </tr>\n",
       "    <tr>\n",
       "      <th>23</th>\n",
       "      <td>{-3, 0}</td>\n",
       "      <td>45.0</td>\n",
       "      <td>5932.0</td>\n",
       "      <td>TRD_A_20</td>\n",
       "      <td>5977</td>\n",
       "      <td>0.007529</td>\n",
       "    </tr>\n",
       "  </tbody>\n",
       "</table>\n",
       "</div>"
      ],
      "text/plain": [
       "         Bin      B       G   Feature     n  Event rate\n",
       "20        -1    0.0    41.0  TRD_A_20    41    0.000000\n",
       "21        -2  378.0  7079.0  TRD_A_20  7457    0.050691\n",
       "22  [1, inf)    8.0   457.0  TRD_A_20   465    0.017204\n",
       "23   {-3, 0}   45.0  5932.0  TRD_A_20  5977    0.007529"
      ]
     },
     "execution_count": 106,
     "metadata": {},
     "output_type": "execute_result"
    }
   ],
   "source": [
    "df_train_bin_sts[df_train_bin_sts.Feature == 'TRD_A_20']"
   ]
  },
  {
   "cell_type": "code",
   "execution_count": 122,
   "id": "7ab912ba-09cd-4d48-bc1d-aa9c33f45646",
   "metadata": {},
   "outputs": [],
   "source": [
    "df_train_bin_sts.to_csv(os.path.join(DATA_PATH, 'woe_sample_for_bins.csv'), index=False)"
   ]
  },
  {
   "cell_type": "code",
   "execution_count": 124,
   "id": "948e8244-0827-4224-8e29-64ac5740f61d",
   "metadata": {},
   "outputs": [
    {
     "data": {
      "text/plain": [
       "431"
      ]
     },
     "execution_count": 124,
     "metadata": {},
     "output_type": "execute_result"
    }
   ],
   "source": [
    "(df_train_bin[TARGET_NAME] == 'B').sum()"
   ]
  },
  {
   "cell_type": "code",
   "execution_count": 125,
   "id": "edf4ae45-2e6e-4a73-ba51-46e56e1fffda",
   "metadata": {},
   "outputs": [
    {
     "data": {
      "text/plain": [
       "13509"
      ]
     },
     "execution_count": 125,
     "metadata": {},
     "output_type": "execute_result"
    }
   ],
   "source": [
    "(df_train_bin[TARGET_NAME] == 'G').sum()"
   ]
  },
  {
   "cell_type": "markdown",
   "id": "5a723094-5628-4a1f-b20f-0e8a3120d061",
   "metadata": {},
   "source": [
    "## Train + val"
   ]
  },
  {
   "cell_type": "code",
   "execution_count": 107,
   "id": "3c93c399-f339-4aa3-942c-aaad84dbd50e",
   "metadata": {},
   "outputs": [],
   "source": [
    "df_train_val_bin_sts = count_obs_per_bin(data=df_train_val, columns=COLS_TO_USE)\n",
    "df_train_val_bin_sts_t = count_target_per_bin(data=df_train_val, target_name=TARGET_NAME, columns=COLS_TO_USE)\n",
    "df_train_val_bin_sts = pd.merge(df_train_val_bin_sts_t, df_train_val_bin_sts, on=['Feature', 'Bin'])\n",
    "\n",
    "assert not df_train_val_bin_sts[['Bin', 'Feature', 'n']].duplicated().any()\n",
    "assert not df_train_val_bin_sts[['Bin', 'Feature', 'B', 'G']].duplicated().any()\n",
    "del df_train_val_bin_sts_t\n",
    "\n",
    "\n",
    "df_train_val_bin_sts['Event rate'] = df_train_val_bin_sts['B'] / df_train_val_bin_sts['n']"
   ]
  },
  {
   "cell_type": "code",
   "execution_count": 109,
   "id": "0efa7dcc-8667-4222-8574-331afb853726",
   "metadata": {},
   "outputs": [
    {
     "data": {
      "text/html": [
       "<div>\n",
       "<style scoped>\n",
       "    .dataframe tbody tr th:only-of-type {\n",
       "        vertical-align: middle;\n",
       "    }\n",
       "\n",
       "    .dataframe tbody tr th {\n",
       "        vertical-align: top;\n",
       "    }\n",
       "\n",
       "    .dataframe thead th {\n",
       "        text-align: right;\n",
       "    }\n",
       "</style>\n",
       "<table border=\"1\" class=\"dataframe\">\n",
       "  <thead>\n",
       "    <tr style=\"text-align: right;\">\n",
       "      <th></th>\n",
       "      <th>Bin</th>\n",
       "      <th>B</th>\n",
       "      <th>G</th>\n",
       "      <th>Feature</th>\n",
       "      <th>n</th>\n",
       "      <th>Event rate</th>\n",
       "    </tr>\n",
       "  </thead>\n",
       "  <tbody>\n",
       "    <tr>\n",
       "      <th>21</th>\n",
       "      <td>-1</td>\n",
       "      <td>4.0</td>\n",
       "      <td>205.0</td>\n",
       "      <td>TRD_A_20</td>\n",
       "      <td>209</td>\n",
       "      <td>0.019139</td>\n",
       "    </tr>\n",
       "    <tr>\n",
       "      <th>22</th>\n",
       "      <td>-2</td>\n",
       "      <td>2148.0</td>\n",
       "      <td>32898.0</td>\n",
       "      <td>TRD_A_20</td>\n",
       "      <td>35046</td>\n",
       "      <td>0.061291</td>\n",
       "    </tr>\n",
       "    <tr>\n",
       "      <th>23</th>\n",
       "      <td>[1, inf)</td>\n",
       "      <td>79.0</td>\n",
       "      <td>1761.0</td>\n",
       "      <td>TRD_A_20</td>\n",
       "      <td>1840</td>\n",
       "      <td>0.042935</td>\n",
       "    </tr>\n",
       "    <tr>\n",
       "      <th>24</th>\n",
       "      <td>{-3, 0}</td>\n",
       "      <td>278.0</td>\n",
       "      <td>25166.0</td>\n",
       "      <td>TRD_A_20</td>\n",
       "      <td>25444</td>\n",
       "      <td>0.010926</td>\n",
       "    </tr>\n",
       "  </tbody>\n",
       "</table>\n",
       "</div>"
      ],
      "text/plain": [
       "         Bin       B        G   Feature      n  Event rate\n",
       "21        -1     4.0    205.0  TRD_A_20    209    0.019139\n",
       "22        -2  2148.0  32898.0  TRD_A_20  35046    0.061291\n",
       "23  [1, inf)    79.0   1761.0  TRD_A_20   1840    0.042935\n",
       "24   {-3, 0}   278.0  25166.0  TRD_A_20  25444    0.010926"
      ]
     },
     "execution_count": 109,
     "metadata": {},
     "output_type": "execute_result"
    }
   ],
   "source": [
    "df_train_val_bin_sts[df_train_val_bin_sts.Feature == 'TRD_A_20']"
   ]
  },
  {
   "cell_type": "code",
   "execution_count": 111,
   "id": "0aa2aa54-21c0-43cb-959c-cc53cff7ece4",
   "metadata": {},
   "outputs": [
    {
     "data": {
      "text/plain": [
       "(4, 1867)"
      ]
     },
     "execution_count": 111,
     "metadata": {},
     "output_type": "execute_result"
    }
   ],
   "source": [
    "df[\n",
    "    (df._RDATE >= TRAIN_FROM) & \n",
    "    (df._RDATE < VAL_TO) & \n",
    "    (df[TARGET_NAME] == 'B') & \n",
    "    (df.TRD_A_20 == -1)\n",
    "].shape"
   ]
  },
  {
   "cell_type": "code",
   "execution_count": 114,
   "id": "a79caecd-2153-4174-91d0-6374c84f33f4",
   "metadata": {},
   "outputs": [
    {
     "data": {
      "text/plain": [
       "(209, 1867)"
      ]
     },
     "execution_count": 114,
     "metadata": {},
     "output_type": "execute_result"
    }
   ],
   "source": [
    "df[\n",
    "    (df._RDATE >= TRAIN_FROM) & \n",
    "    (df._RDATE < VAL_TO) & \n",
    "    (df[TARGET_NAME] != 'I') & \n",
    "    # (df[TARGET_NAME] == 'B') & \n",
    "    (df.TRD_A_20 == -1)\n",
    "].shape"
   ]
  },
  {
   "cell_type": "code",
   "execution_count": 115,
   "id": "39456803-b4d2-4bf5-90ce-fe6e030cafaf",
   "metadata": {},
   "outputs": [],
   "source": [
    "df_train_val_bin_sts.to_csv(os.path.join(DATA_PATH, 'woe_train_val.csv'), index=False)"
   ]
  },
  {
   "cell_type": "code",
   "execution_count": 126,
   "id": "58b93917-74be-432e-b674-a9030032a42f",
   "metadata": {},
   "outputs": [
    {
     "data": {
      "text/plain": [
       "GB6_Flag_2Limit\n",
       "G    60030\n",
       "B     2509\n",
       "Name: count, dtype: int64"
      ]
     },
     "execution_count": 126,
     "metadata": {},
     "output_type": "execute_result"
    }
   ],
   "source": [
    "df_train_val[TARGET_NAME].value_counts()"
   ]
  },
  {
   "cell_type": "markdown",
   "id": "a88a4821-bfcb-4410-bae9-7ff555872e97",
   "metadata": {},
   "source": [
    "## Test"
   ]
  },
  {
   "cell_type": "code",
   "execution_count": 116,
   "id": "5b0b6106-8802-40ca-8905-71fa93c0d870",
   "metadata": {},
   "outputs": [],
   "source": [
    "df_test_bin_sts = count_obs_per_bin(data=df_test_same, columns=COLS_TO_USE)\n",
    "df_test_bin_sts_t = count_target_per_bin(data=df_test, target_name=TARGET_NAME, columns=COLS_TO_USE)\n",
    "df_test_bin_sts = pd.merge(df_test_bin_sts_t, df_test_bin_sts, on=['Feature', 'Bin'])\n",
    "\n",
    "assert not df_test_bin_sts[['Bin', 'Feature', 'n']].duplicated().any()\n",
    "assert not df_test_bin_sts[['Bin', 'Feature', 'B', 'G']].duplicated().any()\n",
    "del df_test_bin_sts_t\n",
    "\n",
    "\n",
    "df_test_bin_sts['Event rate'] = df_test_bin_sts['B'] / df_test_bin_sts['n']"
   ]
  },
  {
   "cell_type": "code",
   "execution_count": 117,
   "id": "9c147b6f-e476-4e56-915c-d0bdc4fb9176",
   "metadata": {},
   "outputs": [
    {
     "data": {
      "text/html": [
       "<div>\n",
       "<style scoped>\n",
       "    .dataframe tbody tr th:only-of-type {\n",
       "        vertical-align: middle;\n",
       "    }\n",
       "\n",
       "    .dataframe tbody tr th {\n",
       "        vertical-align: top;\n",
       "    }\n",
       "\n",
       "    .dataframe thead th {\n",
       "        text-align: right;\n",
       "    }\n",
       "</style>\n",
       "<table border=\"1\" class=\"dataframe\">\n",
       "  <thead>\n",
       "    <tr style=\"text-align: right;\">\n",
       "      <th></th>\n",
       "      <th>Bin</th>\n",
       "      <th>B</th>\n",
       "      <th>G</th>\n",
       "      <th>Feature</th>\n",
       "      <th>n</th>\n",
       "      <th>Event rate</th>\n",
       "    </tr>\n",
       "  </thead>\n",
       "  <tbody>\n",
       "    <tr>\n",
       "      <th>21</th>\n",
       "      <td>-1</td>\n",
       "      <td>4.0</td>\n",
       "      <td>45.0</td>\n",
       "      <td>TRD_A_20</td>\n",
       "      <td>49</td>\n",
       "      <td>0.081633</td>\n",
       "    </tr>\n",
       "    <tr>\n",
       "      <th>22</th>\n",
       "      <td>-2</td>\n",
       "      <td>1179.0</td>\n",
       "      <td>8267.0</td>\n",
       "      <td>TRD_A_20</td>\n",
       "      <td>9446</td>\n",
       "      <td>0.124815</td>\n",
       "    </tr>\n",
       "    <tr>\n",
       "      <th>23</th>\n",
       "      <td>[1, inf)</td>\n",
       "      <td>36.0</td>\n",
       "      <td>352.0</td>\n",
       "      <td>TRD_A_20</td>\n",
       "      <td>388</td>\n",
       "      <td>0.092784</td>\n",
       "    </tr>\n",
       "    <tr>\n",
       "      <th>24</th>\n",
       "      <td>{-3, 0}</td>\n",
       "      <td>115.0</td>\n",
       "      <td>4999.0</td>\n",
       "      <td>TRD_A_20</td>\n",
       "      <td>5114</td>\n",
       "      <td>0.022487</td>\n",
       "    </tr>\n",
       "  </tbody>\n",
       "</table>\n",
       "</div>"
      ],
      "text/plain": [
       "         Bin       B       G   Feature     n  Event rate\n",
       "21        -1     4.0    45.0  TRD_A_20    49    0.081633\n",
       "22        -2  1179.0  8267.0  TRD_A_20  9446    0.124815\n",
       "23  [1, inf)    36.0   352.0  TRD_A_20   388    0.092784\n",
       "24   {-3, 0}   115.0  4999.0  TRD_A_20  5114    0.022487"
      ]
     },
     "execution_count": 117,
     "metadata": {},
     "output_type": "execute_result"
    }
   ],
   "source": [
    "df_test_bin_sts[df_test_bin_sts.Feature == 'TRD_A_20']"
   ]
  },
  {
   "cell_type": "code",
   "execution_count": 118,
   "id": "57b4f359-3e99-4304-8d01-137c96a211bb",
   "metadata": {},
   "outputs": [
    {
     "data": {
      "text/plain": [
       "(4, 1867)"
      ]
     },
     "execution_count": 118,
     "metadata": {},
     "output_type": "execute_result"
    }
   ],
   "source": [
    "df[\n",
    "    (df._RDATE >= TEST_FROM) & \n",
    "    (df._RDATE < TEST_TO) & \n",
    "    (df[TARGET_NAME] == 'B') & \n",
    "    (df.TRD_A_20 == -1)\n",
    "].shape"
   ]
  },
  {
   "cell_type": "code",
   "execution_count": 120,
   "id": "aa65f05b-e8a0-447c-83b7-94601b2df41f",
   "metadata": {},
   "outputs": [
    {
     "data": {
      "text/plain": [
       "(49, 1867)"
      ]
     },
     "execution_count": 120,
     "metadata": {},
     "output_type": "execute_result"
    }
   ],
   "source": [
    "df[\n",
    "    (df._RDATE >= TEST_FROM) & \n",
    "    (df._RDATE < TEST_TO) & \n",
    "    (df[TARGET_NAME] != 'I') & \n",
    "    # (df[TARGET_NAME] == 'B') & \n",
    "    (df.TRD_A_20 == -1)\n",
    "].shape"
   ]
  },
  {
   "cell_type": "code",
   "execution_count": 121,
   "id": "be56a714-959c-4184-895d-54c8d44c1fdc",
   "metadata": {},
   "outputs": [],
   "source": [
    "df_test_bin_sts.to_csv(os.path.join(DATA_PATH, 'woe_test.csv'), index=False)"
   ]
  },
  {
   "cell_type": "code",
   "execution_count": 127,
   "id": "22261c74-0ffb-47ca-bd9d-04a0d10be01a",
   "metadata": {},
   "outputs": [
    {
     "data": {
      "text/plain": [
       "GB6_Flag_2Limit\n",
       "G    13663\n",
       "B     1334\n",
       "Name: count, dtype: int64"
      ]
     },
     "execution_count": 127,
     "metadata": {},
     "output_type": "execute_result"
    }
   ],
   "source": [
    "df_test_same[TARGET_NAME].value_counts()"
   ]
  },
  {
   "cell_type": "code",
   "execution_count": 128,
   "id": "803e9593-b3e8-4c75-8b89-58ae1bd612d9",
   "metadata": {},
   "outputs": [
    {
     "data": {
      "text/html": [
       "<div>\n",
       "<style scoped>\n",
       "    .dataframe tbody tr th:only-of-type {\n",
       "        vertical-align: middle;\n",
       "    }\n",
       "\n",
       "    .dataframe tbody tr th {\n",
       "        vertical-align: top;\n",
       "    }\n",
       "\n",
       "    .dataframe thead th {\n",
       "        text-align: right;\n",
       "    }\n",
       "</style>\n",
       "<table border=\"1\" class=\"dataframe\">\n",
       "  <thead>\n",
       "    <tr style=\"text-align: right;\">\n",
       "      <th></th>\n",
       "      <th>Bin</th>\n",
       "      <th>B</th>\n",
       "      <th>G</th>\n",
       "      <th>Feature</th>\n",
       "      <th>n</th>\n",
       "      <th>Event rate</th>\n",
       "    </tr>\n",
       "  </thead>\n",
       "  <tbody>\n",
       "    <tr>\n",
       "      <th>9</th>\n",
       "      <td>[859.50, 955.50)</td>\n",
       "      <td>175.0</td>\n",
       "      <td>2078.0</td>\n",
       "      <td>OPTIN_11SCN_ML</td>\n",
       "      <td>2253</td>\n",
       "      <td>0.077674</td>\n",
       "    </tr>\n",
       "  </tbody>\n",
       "</table>\n",
       "</div>"
      ],
      "text/plain": [
       "                Bin      B       G         Feature     n  Event rate\n",
       "9  [859.50, 955.50)  175.0  2078.0  OPTIN_11SCN_ML  2253    0.077674"
      ]
     },
     "execution_count": 128,
     "metadata": {},
     "output_type": "execute_result"
    }
   ],
   "source": [
    "df_test_bin_sts[(df_test_bin_sts.Feature == 'OPTIN_11SCN_ML') & (df_test_bin_sts.Bin == \"[859.50, 955.50)\")]"
   ]
  },
  {
   "cell_type": "code",
   "execution_count": 133,
   "id": "321d5997-d2ee-4425-be38-af5731ec21c5",
   "metadata": {},
   "outputs": [
    {
     "data": {
      "text/plain": [
       "13.118440779610195"
      ]
     },
     "execution_count": 133,
     "metadata": {},
     "output_type": "execute_result"
    }
   ],
   "source": [
    "175.0 * 100 /1334"
   ]
  },
  {
   "cell_type": "code",
   "execution_count": 139,
   "id": "6462615c-e099-4b0c-b97c-0167c5929278",
   "metadata": {},
   "outputs": [
    {
     "data": {
      "text/plain": [
       "15.208958501061261"
      ]
     },
     "execution_count": 139,
     "metadata": {},
     "output_type": "execute_result"
    }
   ],
   "source": [
    "2078.0 * 100 / 13663"
   ]
  },
  {
   "cell_type": "code",
   "execution_count": 140,
   "id": "d870fd6d-4dc0-44aa-b12a-0b1a241593c4",
   "metadata": {},
   "outputs": [
    {
     "data": {
      "text/plain": [
       "0.14786569587273984"
      ]
     },
     "execution_count": 140,
     "metadata": {},
     "output_type": "execute_result"
    }
   ],
   "source": [
    "np.log(15.208958501061261/13.118440779610195)"
   ]
  },
  {
   "cell_type": "code",
   "execution_count": 129,
   "id": "8f33cf3a-28f8-4a69-a198-0ff9f160ccab",
   "metadata": {},
   "outputs": [
    {
     "data": {
      "text/html": [
       "<div>\n",
       "<style scoped>\n",
       "    .dataframe tbody tr th:only-of-type {\n",
       "        vertical-align: middle;\n",
       "    }\n",
       "\n",
       "    .dataframe tbody tr th {\n",
       "        vertical-align: top;\n",
       "    }\n",
       "\n",
       "    .dataframe thead th {\n",
       "        text-align: right;\n",
       "    }\n",
       "</style>\n",
       "<table border=\"1\" class=\"dataframe\">\n",
       "  <thead>\n",
       "    <tr style=\"text-align: right;\">\n",
       "      <th></th>\n",
       "      <th>Bin</th>\n",
       "      <th>B</th>\n",
       "      <th>G</th>\n",
       "      <th>Feature</th>\n",
       "      <th>n</th>\n",
       "      <th>Event rate</th>\n",
       "    </tr>\n",
       "  </thead>\n",
       "  <tbody>\n",
       "    <tr>\n",
       "      <th>9</th>\n",
       "      <td>[859.50, 955.50)</td>\n",
       "      <td>337.0</td>\n",
       "      <td>8418.0</td>\n",
       "      <td>OPTIN_11SCN_ML</td>\n",
       "      <td>8755</td>\n",
       "      <td>0.038492</td>\n",
       "    </tr>\n",
       "  </tbody>\n",
       "</table>\n",
       "</div>"
      ],
      "text/plain": [
       "                Bin      B       G         Feature     n  Event rate\n",
       "9  [859.50, 955.50)  337.0  8418.0  OPTIN_11SCN_ML  8755    0.038492"
      ]
     },
     "execution_count": 129,
     "metadata": {},
     "output_type": "execute_result"
    }
   ],
   "source": [
    "df_train_val_bin_sts[(df_train_val_bin_sts.Feature == 'OPTIN_11SCN_ML') & (df_test_bin_sts.Bin == \"[859.50, 955.50)\")]"
   ]
  },
  {
   "cell_type": "code",
   "execution_count": 134,
   "id": "e0d6a4d9-4e5a-4099-b050-e83815052a8d",
   "metadata": {},
   "outputs": [
    {
     "data": {
      "text/plain": [
       "13.431646074133122"
      ]
     },
     "execution_count": 134,
     "metadata": {},
     "output_type": "execute_result"
    }
   ],
   "source": [
    "337.0* 100 /2509"
   ]
  },
  {
   "cell_type": "code",
   "execution_count": 137,
   "id": "5ce775ef-d9ab-4873-a565-779c64f2f3e9",
   "metadata": {},
   "outputs": [
    {
     "data": {
      "text/plain": [
       "14.022988505747126"
      ]
     },
     "execution_count": 137,
     "metadata": {},
     "output_type": "execute_result"
    }
   ],
   "source": [
    "8418.0 * 100 /60030"
   ]
  },
  {
   "cell_type": "code",
   "execution_count": 142,
   "id": "40252489-8ceb-48be-9c09-1ea60936f7d7",
   "metadata": {},
   "outputs": [
    {
     "data": {
      "text/plain": [
       "0.04308444909868764"
      ]
     },
     "execution_count": 142,
     "metadata": {},
     "output_type": "execute_result"
    }
   ],
   "source": [
    "np.log(14.022988505747126/13.431646074133122)"
   ]
  },
  {
   "cell_type": "code",
   "execution_count": 131,
   "id": "e7bcbcc3-bcd3-4281-ac37-fd252c952f7b",
   "metadata": {},
   "outputs": [
    {
     "data": {
      "text/html": [
       "<div>\n",
       "<style scoped>\n",
       "    .dataframe tbody tr th:only-of-type {\n",
       "        vertical-align: middle;\n",
       "    }\n",
       "\n",
       "    .dataframe tbody tr th {\n",
       "        vertical-align: top;\n",
       "    }\n",
       "\n",
       "    .dataframe thead th {\n",
       "        text-align: right;\n",
       "    }\n",
       "</style>\n",
       "<table border=\"1\" class=\"dataframe\">\n",
       "  <thead>\n",
       "    <tr style=\"text-align: right;\">\n",
       "      <th></th>\n",
       "      <th>Bin</th>\n",
       "      <th>B</th>\n",
       "      <th>G</th>\n",
       "      <th>Feature</th>\n",
       "      <th>n</th>\n",
       "      <th>Event rate</th>\n",
       "    </tr>\n",
       "  </thead>\n",
       "  <tbody>\n",
       "    <tr>\n",
       "      <th>8</th>\n",
       "      <td>[859.50, 955.50)</td>\n",
       "      <td>34.0</td>\n",
       "      <td>1627.0</td>\n",
       "      <td>OPTIN_11SCN_ML</td>\n",
       "      <td>1661</td>\n",
       "      <td>0.02047</td>\n",
       "    </tr>\n",
       "  </tbody>\n",
       "</table>\n",
       "</div>"
      ],
      "text/plain": [
       "                Bin     B       G         Feature     n  Event rate\n",
       "8  [859.50, 955.50)  34.0  1627.0  OPTIN_11SCN_ML  1661     0.02047"
      ]
     },
     "execution_count": 131,
     "metadata": {},
     "output_type": "execute_result"
    }
   ],
   "source": [
    "df_train_bin_sts[(df_train_bin_sts.Feature == 'OPTIN_11SCN_ML') & (df_train_bin_sts.Bin == \"[859.50, 955.50)\")]"
   ]
  },
  {
   "cell_type": "code",
   "execution_count": 136,
   "id": "ce7aec70-bfac-4ab9-b631-03090268756d",
   "metadata": {},
   "outputs": [
    {
     "data": {
      "text/plain": [
       "7.888631090487239"
      ]
     },
     "execution_count": 136,
     "metadata": {},
     "output_type": "execute_result"
    }
   ],
   "source": [
    "34*100/431"
   ]
  },
  {
   "cell_type": "code",
   "execution_count": 143,
   "id": "5fd95497-03ca-446b-84c2-dc04535fd5e2",
   "metadata": {},
   "outputs": [
    {
     "data": {
      "text/plain": [
       "12.043822636760678"
      ]
     },
     "execution_count": 143,
     "metadata": {},
     "output_type": "execute_result"
    }
   ],
   "source": [
    "1627.0*100/13509"
   ]
  },
  {
   "cell_type": "code",
   "execution_count": 144,
   "id": "1794b041-0c7e-4d03-8420-4f2f8006b7fa",
   "metadata": {},
   "outputs": [
    {
     "data": {
      "text/plain": [
       "0.4231292637369428"
      ]
     },
     "execution_count": 144,
     "metadata": {},
     "output_type": "execute_result"
    }
   ],
   "source": [
    "np.log(12.043822636760678/7.888631090487239)"
   ]
  }
 ],
 "metadata": {
  "kernelspec": {
   "display_name": "Python 3 (ipykernel)",
   "language": "python",
   "name": "python3"
  },
  "language_info": {
   "codemirror_mode": {
    "name": "ipython",
    "version": 3
   },
   "file_extension": ".py",
   "mimetype": "text/x-python",
   "name": "python",
   "nbconvert_exporter": "python",
   "pygments_lexer": "ipython3",
   "version": "3.12.3"
  }
 },
 "nbformat": 4,
 "nbformat_minor": 5
}
