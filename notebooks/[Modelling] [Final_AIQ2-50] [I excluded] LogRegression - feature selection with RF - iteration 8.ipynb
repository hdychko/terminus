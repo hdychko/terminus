{
 "cells": [
  {
   "cell_type": "code",
   "execution_count": 1,
   "id": "75acff47-a002-48ab-ba01-53e6bc36ce82",
   "metadata": {},
   "outputs": [],
   "source": [
    "%load_ext autoreload\n",
    "%autoreload 2"
   ]
  },
  {
   "cell_type": "code",
   "execution_count": 2,
   "id": "19c6e94d-d0a4-4c2f-ab56-120d072b4f75",
   "metadata": {},
   "outputs": [
    {
     "name": "stderr",
     "output_type": "stream",
     "text": [
      "Using `tqdm.autonotebook.tqdm` in notebook mode. Use `tqdm.tqdm` instead to force console mode (e.g. in jupyter console)\n"
     ]
    }
   ],
   "source": [
    "import os\n",
    "import sys\n",
    "import copy\n",
    "from typing import (\n",
    "    Dict, \n",
    "    List,\n",
    "    Any\n",
    ")\n",
    "\n",
    "import mlflow\n",
    "from datetime import datetime\n",
    "\n",
    "\n",
    "import numpy as np\n",
    "import pandas as pd\n",
    "\n",
    "from scipy.stats import randint, uniform\n",
    "from sklearn.preprocessing import StandardScaler\n",
    "from sklearn.ensemble import RandomForestClassifier\n",
    "from sklearn.linear_model import LogisticRegression\n",
    "\n",
    "from sklearn.model_selection import StratifiedShuffleSplit\n",
    "\n",
    "import shap\n",
    "\n",
    "from joblib import load, dump\n",
    "\n",
    "import seaborn as sns\n",
    "import matplotlib.pyplot as plt"
   ]
  },
  {
   "cell_type": "code",
   "execution_count": 3,
   "id": "971621b1-2dc3-444f-9a05-b41739fb1556",
   "metadata": {},
   "outputs": [],
   "source": [
    "sys.path.append(os.path.join(os.getcwd(), '..'))\n",
    "from utils.metrics import Metrics\n",
    "from utils.modelling_tools import (\n",
    "    search_hyper_params_and_log,\n",
    "    evaluate_model, \n",
    "    update_solver_by_penalty\n",
    ")\n",
    "from utils.metrics_by_quantile import MetricsByQuantile"
   ]
  },
  {
   "cell_type": "code",
   "execution_count": 4,
   "id": "0498fd42-f3be-4eec-a711-1ab3c2309c58",
   "metadata": {},
   "outputs": [],
   "source": [
    "RUN_NAME: str = '07-RF-hyperparams_tunning'"
   ]
  },
  {
   "cell_type": "code",
   "execution_count": 5,
   "id": "f0ef3ed0-6b41-4fc7-aca6-9eb365eb55dc",
   "metadata": {},
   "outputs": [],
   "source": [
    "PROJECT_PATH: str = os.path.join(os.getcwd(), '..')\n",
    "DATA_PATH: str = os.path.join(PROJECT_PATH, 'data')\n",
    "OPT_BIN_PATH: str = os.path.join(os.path.join(PROJECT_PATH, 'objects'), 'optbinners')\n",
    "MODELS_PATH: str = os.path.join(os.path.join(PROJECT_PATH, 'objects'), 'models')"
   ]
  },
  {
   "cell_type": "code",
   "execution_count": 6,
   "id": "42c18988-c302-46ee-b6e7-50f0ce56bda1",
   "metadata": {},
   "outputs": [],
   "source": [
    "TRAIN_FROM: datetime.date = pd.to_datetime('2021-12-01').date()\n",
    "TRAIN_TO: datetime.date = pd.to_datetime('2022-01-01').date()\n",
    "\n",
    "VAL_FROM: datetime.date = pd.to_datetime('2023-01-01').date()\n",
    "VAL_TO: datetime.date = pd.to_datetime('2023-05-01').date()\n",
    "\n",
    "TEST_FROM: datetime.date = pd.to_datetime('2023-05-01').date()\n",
    "TEST_TO: datetime.date = pd.to_datetime('2023-08-01').date()"
   ]
  },
  {
   "cell_type": "code",
   "execution_count": 7,
   "id": "2d0ea872-4276-4286-b13f-729afa2a4844",
   "metadata": {},
   "outputs": [],
   "source": [
    "# set constants\n",
    "COLS_TO_USE: List[str] = [\n",
    "\"OPTIN_11SCN_MLOptBin\",\n",
    "\"Marital_StatusOptBin\",\n",
    "\"VM01_SP_VM2_15OptBin\",\n",
    "\"GEN11_SP_N_92OptBin\",\n",
    "\"SP_EDI_24OptBin\",\n",
    "\"SP_G_37OptBin\",\n",
    "\"E4_Q_17OptBin\",\n",
    "\"SPA_F2_33OptBin\",\n",
    "\"E1_A_09OptBin\",\n",
    "]"
   ]
  },
  {
   "cell_type": "code",
   "execution_count": 8,
   "id": "5bf660b4-8a90-4651-8cd5-517c7873ac05",
   "metadata": {},
   "outputs": [],
   "source": [
    "TARGET_NAME: str = 'GB6_Flag_2Limit'\n",
    "TARGET_VALS: List[int] = [0, 1]\n",
    "TARGET_BIN: str = f'_{TARGET_NAME}_bin'\n",
    "TARGET_BIN_0isB: str = f'_{TARGET_NAME}_bin_0isB'\n",
    "\n",
    "PALETTE: Dict[str, str] = {\n",
    "    TARGET_NAME: {\n",
    "        'G': 'green',\n",
    "        'B': 'red',\n",
    "        'I': 'black'\n",
    "    },\n",
    "    TARGET_BIN: {0: 'green', 1: 'red'},\n",
    "    'DataPart': {'Train+Val': 'black', 'Val': 'blue', 'Test': 'red', 'Train': 'orange'}\n",
    "}"
   ]
  },
  {
   "cell_type": "code",
   "execution_count": 9,
   "id": "fc7a126e-58bb-42b4-8e82-5a152ccbe8aa",
   "metadata": {},
   "outputs": [],
   "source": [
    "N_ITER: int = 100\n",
    "RANDOM_SEED: int = 42\n",
    "CONFIDENCE_LEVEL = 0.05"
   ]
  },
  {
   "cell_type": "code",
   "execution_count": 10,
   "id": "ede82080-68f1-4100-9f5b-03ed30424ab9",
   "metadata": {},
   "outputs": [],
   "source": [
    "MODEL = RandomForestClassifier"
   ]
  },
  {
   "cell_type": "code",
   "execution_count": 11,
   "id": "59401ae9-8426-4632-944f-e91a3e6d44b6",
   "metadata": {},
   "outputs": [],
   "source": [
    "PARAMS: Dict[str, Any] = dict(\n",
    "    n_estimators=randint(100, 1000), \n",
    "    max_depth=[1, 2, 3], \n",
    "    min_samples_split=randint(50, 100),\n",
    "    n_jobs=[-1],\n",
    "    random_state=[RANDOM_SEED], \n",
    "    class_weight=['balanced', 'balanced_subsample'] \n",
    ")"
   ]
  },
  {
   "cell_type": "code",
   "execution_count": 12,
   "id": "08ac644b-bf8f-494f-a991-a9f42af0473c",
   "metadata": {},
   "outputs": [],
   "source": [
    "# read data\n",
    "df: pd.DataFrame = pd.read_csv(os.path.join(DATA_PATH, 'final_aiq2_optbins.csv'), low_memory=False)"
   ]
  },
  {
   "cell_type": "code",
   "execution_count": 13,
   "id": "6c84d06e-dea3-4f4f-9472-b1c59d5efdb1",
   "metadata": {},
   "outputs": [
    {
     "name": "stdout",
     "output_type": "stream",
     "text": [
      "Number of rows: 110462; columns: 2069\n"
     ]
    }
   ],
   "source": [
    "print('Number of rows: %.0f; columns: %.0f' % df.shape)"
   ]
  },
  {
   "cell_type": "markdown",
   "id": "94319c6e-b4c5-47f8-819e-a963876cfdba",
   "metadata": {},
   "source": [
    "# Preprocessing"
   ]
  },
  {
   "cell_type": "markdown",
   "id": "2f7f4d18-0ba2-42a6-8af0-1bdf430a7e42",
   "metadata": {},
   "source": [
    "Convert dates to the corresponding types"
   ]
  },
  {
   "cell_type": "code",
   "execution_count": 14,
   "id": "7d905a47-aaf2-4bae-ac9c-c8c3f2b949c4",
   "metadata": {},
   "outputs": [],
   "source": [
    "for col in ['_RDATE_EOM', '_RDATE']:\n",
    "    df[col] = pd.to_datetime(df[col]).dt.date"
   ]
  },
  {
   "cell_type": "code",
   "execution_count": 15,
   "id": "4ae62ad0-c222-485b-b704-1e2fbd2ecb78",
   "metadata": {},
   "outputs": [
    {
     "name": "stdout",
     "output_type": "stream",
     "text": [
      "Available date range:\n"
     ]
    },
    {
     "data": {
      "text/plain": [
       "min    2021-06-30\n",
       "max    2023-11-30\n",
       "Name: _RDATE, dtype: object"
      ]
     },
     "execution_count": 15,
     "metadata": {},
     "output_type": "execute_result"
    }
   ],
   "source": [
    "print('Available date range:')\n",
    "df['_RDATE'].agg(['min', 'max'])"
   ]
  },
  {
   "cell_type": "markdown",
   "id": "f2a79969-8c7b-475f-b7a0-5eea8ad2a753",
   "metadata": {},
   "source": [
    "Generate Target, where `GB6_Flag_2Limit` in ('I','B') is '1' and GB6_Flag_2Limit in ('G') is '0'"
   ]
  },
  {
   "cell_type": "code",
   "execution_count": 16,
   "id": "f3dfdabb-2725-4c6b-ac60-0020b6c8192f",
   "metadata": {},
   "outputs": [
    {
     "name": "stderr",
     "output_type": "stream",
     "text": [
      "Downcasting behavior in `replace` is deprecated and will be removed in a future version. To retain the old behavior, explicitly call `result.infer_objects(copy=False)`. To opt-in to the future behavior, set `pd.set_option('future.no_silent_downcasting', True)`\n"
     ]
    }
   ],
   "source": [
    "df[f'_{TARGET_NAME}_bin_0isB'] = df[TARGET_NAME].replace(\n",
    "    {\n",
    "        'G': 0,\n",
    "        'I': 1,\n",
    "        'B': 1\n",
    "    }\n",
    ")"
   ]
  },
  {
   "cell_type": "code",
   "execution_count": 17,
   "id": "1e69a9fd-e9db-4f7c-891e-4dfcbf2492cc",
   "metadata": {},
   "outputs": [
    {
     "data": {
      "text/html": [
       "<div>\n",
       "<style scoped>\n",
       "    .dataframe tbody tr th:only-of-type {\n",
       "        vertical-align: middle;\n",
       "    }\n",
       "\n",
       "    .dataframe tbody tr th {\n",
       "        vertical-align: top;\n",
       "    }\n",
       "\n",
       "    .dataframe thead th {\n",
       "        text-align: right;\n",
       "    }\n",
       "</style>\n",
       "<table border=\"1\" class=\"dataframe\">\n",
       "  <thead>\n",
       "    <tr style=\"text-align: right;\">\n",
       "      <th></th>\n",
       "      <th>_GB6_Flag_2Limit_bin_0isB</th>\n",
       "      <th>n</th>\n",
       "      <th>%</th>\n",
       "    </tr>\n",
       "  </thead>\n",
       "  <tbody>\n",
       "    <tr>\n",
       "      <th>0</th>\n",
       "      <td>0</td>\n",
       "      <td>99444</td>\n",
       "      <td>90.025529</td>\n",
       "    </tr>\n",
       "    <tr>\n",
       "      <th>1</th>\n",
       "      <td>1</td>\n",
       "      <td>11018</td>\n",
       "      <td>9.974471</td>\n",
       "    </tr>\n",
       "  </tbody>\n",
       "</table>\n",
       "</div>"
      ],
      "text/plain": [
       "   _GB6_Flag_2Limit_bin_0isB      n          %\n",
       "0                          0  99444  90.025529\n",
       "1                          1  11018   9.974471"
      ]
     },
     "execution_count": 17,
     "metadata": {},
     "output_type": "execute_result"
    }
   ],
   "source": [
    "pd.merge(\n",
    "    df[f'_{TARGET_NAME}_bin_0isB'].value_counts().reset_index(name='n'),\n",
    "    (df[f'_{TARGET_NAME}_bin_0isB'].value_counts(normalize=True) * 100).reset_index(name='%'),\n",
    "    on=f'_{TARGET_NAME}_bin_0isB', how='outer'\n",
    ")"
   ]
  },
  {
   "cell_type": "markdown",
   "id": "ee33a5eb-a8b2-4abc-b683-1f51388dc522",
   "metadata": {},
   "source": [
    "# Split data"
   ]
  },
  {
   "cell_type": "code",
   "execution_count": 18,
   "id": "d4c23765-e2a6-423a-b13d-752055372cf2",
   "metadata": {},
   "outputs": [],
   "source": [
    "df_train = df.loc[\n",
    "    (df._RDATE >= TRAIN_FROM) &\n",
    "    (df._RDATE < TRAIN_TO) & \n",
    "    (df[TARGET_NAME] != 'I'),\n",
    "    COLS_TO_USE + [TARGET_NAME, TARGET_BIN, '_RDATE']\n",
    "].reset_index(drop=True)\n",
    "\n",
    "df_train_val = df.loc[\n",
    "    (df._RDATE >= TRAIN_FROM) &\n",
    "    (df._RDATE < VAL_TO) &\n",
    "    (df[TARGET_NAME] != 'I'),\n",
    "    COLS_TO_USE + [TARGET_NAME, TARGET_BIN, '_RDATE']\n",
    "].reset_index(drop=True)\n",
    "\n",
    "df_val = df.loc[\n",
    "    (df._RDATE >= VAL_FROM) &\n",
    "    (df._RDATE < VAL_TO) &\n",
    "    (df[TARGET_NAME] != 'I'),\n",
    "    COLS_TO_USE + [TARGET_NAME, TARGET_BIN, '_RDATE']\n",
    "].reset_index(drop=True)\n",
    "\n",
    "df_test_same = df.loc[\n",
    "    (df._RDATE >= TEST_FROM) &\n",
    "    (df._RDATE < TEST_TO) &\n",
    "    (df[TARGET_NAME] != 'I'),\n",
    "    COLS_TO_USE + [TARGET_NAME, TARGET_BIN, '_RDATE']\n",
    "].reset_index(drop=True)\n",
    "\n",
    "df_test = df.loc[\n",
    "    (df._RDATE >= TEST_FROM) &\n",
    "    (df._RDATE < TEST_TO),\n",
    "    COLS_TO_USE + [TARGET_NAME, TARGET_BIN, '_RDATE', f'_{TARGET_NAME}_bin_0isB']\n",
    "].reset_index(drop=True)"
   ]
  },
  {
   "cell_type": "code",
   "execution_count": 19,
   "id": "72025a87-bd81-4946-8f4d-c18e510860d7",
   "metadata": {},
   "outputs": [
    {
     "name": "stdout",
     "output_type": "stream",
     "text": [
      "Distribution of _GB6_Flag_2Limit_bin_0isB on test\n"
     ]
    },
    {
     "data": {
      "text/html": [
       "<div>\n",
       "<style scoped>\n",
       "    .dataframe tbody tr th:only-of-type {\n",
       "        vertical-align: middle;\n",
       "    }\n",
       "\n",
       "    .dataframe tbody tr th {\n",
       "        vertical-align: top;\n",
       "    }\n",
       "\n",
       "    .dataframe thead th {\n",
       "        text-align: right;\n",
       "    }\n",
       "</style>\n",
       "<table border=\"1\" class=\"dataframe\">\n",
       "  <thead>\n",
       "    <tr style=\"text-align: right;\">\n",
       "      <th></th>\n",
       "      <th>_GB6_Flag_2Limit_bin_0isB</th>\n",
       "      <th>n</th>\n",
       "      <th>%</th>\n",
       "    </tr>\n",
       "  </thead>\n",
       "  <tbody>\n",
       "    <tr>\n",
       "      <th>0</th>\n",
       "      <td>0</td>\n",
       "      <td>13663</td>\n",
       "      <td>84.126593</td>\n",
       "    </tr>\n",
       "    <tr>\n",
       "      <th>1</th>\n",
       "      <td>1</td>\n",
       "      <td>2578</td>\n",
       "      <td>15.873407</td>\n",
       "    </tr>\n",
       "  </tbody>\n",
       "</table>\n",
       "</div>"
      ],
      "text/plain": [
       "   _GB6_Flag_2Limit_bin_0isB      n          %\n",
       "0                          0  13663  84.126593\n",
       "1                          1   2578  15.873407"
      ]
     },
     "execution_count": 19,
     "metadata": {},
     "output_type": "execute_result"
    }
   ],
   "source": [
    "print(f'Distribution of _{TARGET_NAME}_bin_0isB on test')\n",
    "pd.merge(\n",
    "    df_test[f'_{TARGET_NAME}_bin_0isB'].value_counts().reset_index(name='n'),\n",
    "    (df_test[f'_{TARGET_NAME}_bin_0isB'].value_counts(normalize=True) * 100).reset_index(name='%'),\n",
    "    on=f'_{TARGET_NAME}_bin_0isB', how='outer'\n",
    ")"
   ]
  },
  {
   "cell_type": "code",
   "execution_count": 20,
   "id": "c90ddd72-6c09-4c83-9fb9-02ab573e8f97",
   "metadata": {},
   "outputs": [],
   "source": [
    "data_dict = {\n",
    "    \"df_train\": df_train,\n",
    "    \"df_val\": df_val,\n",
    "    \"df_train_val\": df_train_val, \n",
    "    \"df_test_same\": df_test_same,\n",
    "    \"df_test\": df_test\n",
    "}"
   ]
  },
  {
   "cell_type": "code",
   "execution_count": 21,
   "id": "1d1934b6-93e2-458e-8238-44afa9766bde",
   "metadata": {},
   "outputs": [],
   "source": [
    "# randomly select N observations from test data\n",
    "N = 10000\n",
    "sss = StratifiedShuffleSplit(n_splits=1, train_size=N, random_state=RANDOM_SEED)\n",
    "indx = sss.split(data_dict['df_test_same'].reset_index(drop=True), data_dict['df_test_same'][TARGET_BIN])\n",
    "random_indx = list(indx)[0][0]\n",
    "\n",
    "assert len(random_indx) == N, \"Incorrect number of elements in the subsample\"\n",
    "test_sample = data_dict['df_test_same'].reset_index(drop=True).iloc[random_indx, :].reset_index(drop=True)"
   ]
  },
  {
   "cell_type": "code",
   "execution_count": 22,
   "id": "cde908a4-1b58-449f-b71d-3b4682fb11ae",
   "metadata": {},
   "outputs": [],
   "source": [
    "data_dict['df_test_same_sample'] = test_sample"
   ]
  },
  {
   "cell_type": "markdown",
   "id": "8d56a335-9d09-4f9e-b3c4-7723f692aae6",
   "metadata": {},
   "source": [
    "# Run the experiment"
   ]
  },
  {
   "cell_type": "markdown",
   "id": "d66e13ec-bbcb-4ee2-8160-b6372f4559ef",
   "metadata": {},
   "source": [
    "## Feature selection with RF"
   ]
  },
  {
   "cell_type": "code",
   "execution_count": 23,
   "id": "55f4bf92-56ad-4830-a9d9-058795e6c935",
   "metadata": {},
   "outputs": [
    {
     "data": {
      "text/plain": [
       "<Experiment: artifact_location='mlflow-artifacts:/580674066489129884', creation_time=1717145302705, experiment_id='580674066489129884', last_update_time=1717145302705, lifecycle_stage='active', name='[Experian][RF-feature-selection]', tags={}>"
      ]
     },
     "execution_count": 23,
     "metadata": {},
     "output_type": "execute_result"
    }
   ],
   "source": [
    "mlflow.set_tracking_uri(uri=\"http://127.0.0.1:5000/\")\n",
    "mlflow.set_experiment(\"[Experian][RF-feature-selection]\")"
   ]
  },
  {
   "cell_type": "code",
   "execution_count": 24,
   "id": "e6eb4051-b9fa-44fb-a0e9-7f9349c8feb4",
   "metadata": {},
   "outputs": [],
   "source": [
    "experiment_description = f\"\"\"\n",
    "    'features': {len(COLS_TO_USE)},\n",
    "    'target': {TARGET_BIN},\n",
    "    'target_vals': '0==G, 1==B',\n",
    "    'model': {MODEL.__name__},\n",
    "    'data_version': '22.05.2024', \n",
    "    'train_period': [{TRAIN_FROM.strftime('%Y-%m-%d') + ', ' + TRAIN_TO.strftime('%Y-%m-%d')}),\n",
    "    'val_period': [{VAL_FROM.strftime('%Y-%m-%d') + ', ' + VAL_TO.strftime('%Y-%m-%d')}),\n",
    "    'test_period': [{TEST_FROM.strftime('%Y-%m-%d') + ', ' + TEST_TO.strftime('%Y-%m-%d')}),\n",
    "\"\"\""
   ]
  },
  {
   "cell_type": "code",
   "execution_count": 25,
   "id": "83c10787-824f-495c-bd2c-2ea3d15c0083",
   "metadata": {
    "scrolled": true
   },
   "outputs": [
    {
     "name": "stdout",
     "output_type": "stream",
     "text": [
      "\n",
      "    'features': 9,\n",
      "    'target': _GB6_Flag_2Limit_bin,\n",
      "    'target_vals': '0==G, 1==B',\n",
      "    'model': RandomForestClassifier,\n",
      "    'data_version': '22.05.2024', \n",
      "    'train_period': [2021-12-01, 2022-01-01),\n",
      "    'val_period': [2023-01-01, 2023-05-01),\n",
      "    'test_period': [2023-05-01, 2023-08-01),\n",
      "\n"
     ]
    }
   ],
   "source": [
    "print(experiment_description)"
   ]
  },
  {
   "cell_type": "code",
   "execution_count": null,
   "id": "0ab575b8-440e-4fb8-847f-a6fad218f546",
   "metadata": {
    "scrolled": true
   },
   "outputs": [
    {
     "name": "stderr",
     "output_type": "stream",
     "text": [
      "2024/06/04 14:24:10 WARNING mlflow.system_metrics.system_metrics_monitor: Skip logging GPU metrics because creating `GPUMonitor` failed with error: Failed to initialize NVML, skip logging GPU metrics: NVML Shared Library Not Found.\n",
      "Exception in thread 2024/06/04 14:24:10 INFO mlflow.system_metrics.system_metrics_monitor: Started monitoring system metrics.\n",
      "SystemMetricsMonitor:\n",
      "Traceback (most recent call last):\n",
      "  File \"C:\\Users\\hdychko\\AppData\\Local\\anaconda3\\envs\\experian_dev\\Lib\\threading.py\", line 1073, in _bootstrap_inner\n",
      "    self.run()\n",
      "  File \"C:\\Users\\hdychko\\AppData\\Local\\anaconda3\\envs\\experian_dev\\Lib\\threading.py\", line 1010, in run\n",
      "    self._target(*self._args, **self._kwargs)\n",
      "  File \"C:\\Users\\hdychko\\AppData\\Local\\anaconda3\\envs\\experian_dev\\Lib\\site-packages\\mlflow\\system_metrics\\system_metrics_monitor.py\", line 122, in monitor\n",
      "    self.collect_metrics()\n",
      "  File \"C:\\Users\\hdychko\\AppData\\Local\\anaconda3\\envs\\experian_dev\\Lib\\site-packages\\mlflow\\system_metrics\\system_metrics_monitor.py\", line 148, in collect_metrics\n",
      "    monitor.collect_metrics()\n",
      "  File \"C:\\Users\\hdychko\\AppData\\Local\\anaconda3\\envs\\experian_dev\\Lib\\site-packages\\mlflow\\system_metrics\\metrics\\disk_monitor.py\", line 15, in collect_metrics\n",
      "    disk_usage = psutil.disk_usage(os.sep)\n",
      "                 ^^^^^^^^^^^^^^^^^^^^^^^^^\n",
      "  File \"C:\\Users\\hdychko\\AppData\\Local\\anaconda3\\envs\\experian_dev\\Lib\\site-packages\\psutil\\__init__.py\", line 2003, in disk_usage\n",
      "    return _psplatform.disk_usage(path)\n",
      "           ^^^^^^^^^^^^^^^^^^^^^^^^^^^^\n",
      "  File \"C:\\Users\\hdychko\\AppData\\Local\\anaconda3\\envs\\experian_dev\\Lib\\site-packages\\psutil\\_pswindows.py\", line 274, in disk_usage\n",
      "    total, free = cext.disk_usage(path)\n",
      "                  ^^^^^^^^^^^^^^^^^^^^^\n",
      "SystemError: argument 1 (impossible<bad format char>)\n"
     ]
    },
    {
     "name": "stdout",
     "output_type": "stream",
     "text": [
      "# 1 / 100\n"
     ]
    },
    {
     "name": "stderr",
     "output_type": "stream",
     "text": [
      "2024/06/04 14:24:11 WARNING mlflow.system_metrics.system_metrics_monitor: Skip logging GPU metrics because creating `GPUMonitor` failed with error: Failed to initialize NVML, skip logging GPU metrics: NVML Shared Library Not Found.\n",
      "Exception in thread 2024/06/04 14:24:11 INFO mlflow.system_metrics.system_metrics_monitor: Started monitoring system metrics.\n",
      "SystemMetricsMonitor:\n",
      "Traceback (most recent call last):\n",
      "  File \"C:\\Users\\hdychko\\AppData\\Local\\anaconda3\\envs\\experian_dev\\Lib\\threading.py\", line 1073, in _bootstrap_inner\n",
      "    self.run()\n",
      "  File \"C:\\Users\\hdychko\\AppData\\Local\\anaconda3\\envs\\experian_dev\\Lib\\threading.py\", line 1010, in run\n",
      "    self._target(*self._args, **self._kwargs)\n",
      "  File \"C:\\Users\\hdychko\\AppData\\Local\\anaconda3\\envs\\experian_dev\\Lib\\site-packages\\mlflow\\system_metrics\\system_metrics_monitor.py\", line 122, in monitor\n",
      "    self.collect_metrics()\n",
      "  File \"C:\\Users\\hdychko\\AppData\\Local\\anaconda3\\envs\\experian_dev\\Lib\\site-packages\\mlflow\\system_metrics\\system_metrics_monitor.py\", line 148, in collect_metrics\n",
      "    monitor.collect_metrics()\n",
      "  File \"C:\\Users\\hdychko\\AppData\\Local\\anaconda3\\envs\\experian_dev\\Lib\\site-packages\\mlflow\\system_metrics\\metrics\\disk_monitor.py\", line 15, in collect_metrics\n",
      "    disk_usage = psutil.disk_usage(os.sep)\n",
      "                 ^^^^^^^^^^^^^^^^^^^^^^^^^\n",
      "  File \"C:\\Users\\hdychko\\AppData\\Local\\anaconda3\\envs\\experian_dev\\Lib\\site-packages\\psutil\\__init__.py\", line 2003, in disk_usage\n",
      "    return _psplatform.disk_usage(path)\n",
      "           ^^^^^^^^^^^^^^^^^^^^^^^^^^^^\n",
      "  File \"C:\\Users\\hdychko\\AppData\\Local\\anaconda3\\envs\\experian_dev\\Lib\\site-packages\\psutil\\_pswindows.py\", line 274, in disk_usage\n",
      "    total, free = cext.disk_usage(path)\n",
      "                  ^^^^^^^^^^^^^^^^^^^^^\n",
      "SystemError: argument 1 (impossible<bad format char>)\n",
      "2024/06/04 14:24:30 INFO mlflow.system_metrics.system_metrics_monitor: Stopping system metrics monitoring...\n",
      "2024/06/04 14:24:30 INFO mlflow.system_metrics.system_metrics_monitor: Successfully terminated system metrics monitoring!\n"
     ]
    },
    {
     "name": "stdout",
     "output_type": "stream",
     "text": [
      "# 2 / 100\n"
     ]
    },
    {
     "name": "stderr",
     "output_type": "stream",
     "text": [
      "2024/06/04 14:24:31 WARNING mlflow.system_metrics.system_metrics_monitor: Skip logging GPU metrics because creating `GPUMonitor` failed with error: Failed to initialize NVML, skip logging GPU metrics: NVML Shared Library Not Found.\n",
      "Exception in thread SystemMetricsMonitor:\n",
      "Traceback (most recent call last):\n",
      "  File \"C:\\Users\\hdychko\\AppData\\Local\\anaconda3\\envs\\experian_dev\\Lib\\threading.py\", line 1073, in _bootstrap_inner\n",
      "2024/06/04 14:24:31 INFO mlflow.system_metrics.system_metrics_monitor: Started monitoring system metrics.\n",
      "    self.run()\n",
      "  File \"C:\\Users\\hdychko\\AppData\\Local\\anaconda3\\envs\\experian_dev\\Lib\\threading.py\", line 1010, in run\n",
      "    self._target(*self._args, **self._kwargs)\n",
      "  File \"C:\\Users\\hdychko\\AppData\\Local\\anaconda3\\envs\\experian_dev\\Lib\\site-packages\\mlflow\\system_metrics\\system_metrics_monitor.py\", line 122, in monitor\n",
      "    self.collect_metrics()\n",
      "  File \"C:\\Users\\hdychko\\AppData\\Local\\anaconda3\\envs\\experian_dev\\Lib\\site-packages\\mlflow\\system_metrics\\system_metrics_monitor.py\", line 148, in collect_metrics\n",
      "    monitor.collect_metrics()\n",
      "  File \"C:\\Users\\hdychko\\AppData\\Local\\anaconda3\\envs\\experian_dev\\Lib\\site-packages\\mlflow\\system_metrics\\metrics\\disk_monitor.py\", line 15, in collect_metrics\n",
      "    disk_usage = psutil.disk_usage(os.sep)\n",
      "                 ^^^^^^^^^^^^^^^^^^^^^^^^^\n",
      "  File \"C:\\Users\\hdychko\\AppData\\Local\\anaconda3\\envs\\experian_dev\\Lib\\site-packages\\psutil\\__init__.py\", line 2003, in disk_usage\n",
      "    return _psplatform.disk_usage(path)\n",
      "           ^^^^^^^^^^^^^^^^^^^^^^^^^^^^\n",
      "  File \"C:\\Users\\hdychko\\AppData\\Local\\anaconda3\\envs\\experian_dev\\Lib\\site-packages\\psutil\\_pswindows.py\", line 274, in disk_usage\n",
      "    total, free = cext.disk_usage(path)\n",
      "                  ^^^^^^^^^^^^^^^^^^^^^\n",
      "SystemError: argument 1 (impossible<bad format char>)\n",
      "2024/06/04 14:24:39 INFO mlflow.system_metrics.system_metrics_monitor: Stopping system metrics monitoring...\n",
      "2024/06/04 14:24:39 INFO mlflow.system_metrics.system_metrics_monitor: Successfully terminated system metrics monitoring!\n"
     ]
    },
    {
     "name": "stdout",
     "output_type": "stream",
     "text": [
      "# 3 / 100\n"
     ]
    },
    {
     "name": "stderr",
     "output_type": "stream",
     "text": [
      "2024/06/04 14:24:40 WARNING mlflow.system_metrics.system_metrics_monitor: Skip logging GPU metrics because creating `GPUMonitor` failed with error: Failed to initialize NVML, skip logging GPU metrics: NVML Shared Library Not Found.\n",
      "Exception in thread 2024/06/04 14:24:40 INFO mlflow.system_metrics.system_metrics_monitor: Started monitoring system metrics.\n",
      "SystemMetricsMonitor:\n",
      "Traceback (most recent call last):\n",
      "  File \"C:\\Users\\hdychko\\AppData\\Local\\anaconda3\\envs\\experian_dev\\Lib\\threading.py\", line 1073, in _bootstrap_inner\n",
      "    self.run()\n",
      "  File \"C:\\Users\\hdychko\\AppData\\Local\\anaconda3\\envs\\experian_dev\\Lib\\threading.py\", line 1010, in run\n",
      "    self._target(*self._args, **self._kwargs)\n",
      "  File \"C:\\Users\\hdychko\\AppData\\Local\\anaconda3\\envs\\experian_dev\\Lib\\site-packages\\mlflow\\system_metrics\\system_metrics_monitor.py\", line 122, in monitor\n",
      "    self.collect_metrics()\n",
      "  File \"C:\\Users\\hdychko\\AppData\\Local\\anaconda3\\envs\\experian_dev\\Lib\\site-packages\\mlflow\\system_metrics\\system_metrics_monitor.py\", line 148, in collect_metrics\n",
      "    monitor.collect_metrics()\n",
      "  File \"C:\\Users\\hdychko\\AppData\\Local\\anaconda3\\envs\\experian_dev\\Lib\\site-packages\\mlflow\\system_metrics\\metrics\\disk_monitor.py\", line 15, in collect_metrics\n",
      "    disk_usage = psutil.disk_usage(os.sep)\n",
      "                 ^^^^^^^^^^^^^^^^^^^^^^^^^\n",
      "  File \"C:\\Users\\hdychko\\AppData\\Local\\anaconda3\\envs\\experian_dev\\Lib\\site-packages\\psutil\\__init__.py\", line 2003, in disk_usage\n",
      "    return _psplatform.disk_usage(path)\n",
      "           ^^^^^^^^^^^^^^^^^^^^^^^^^^^^\n",
      "  File \"C:\\Users\\hdychko\\AppData\\Local\\anaconda3\\envs\\experian_dev\\Lib\\site-packages\\psutil\\_pswindows.py\", line 274, in disk_usage\n",
      "    total, free = cext.disk_usage(path)\n",
      "                  ^^^^^^^^^^^^^^^^^^^^^\n",
      "SystemError: argument 1 (impossible<bad format char>)\n",
      "2024/06/04 14:24:48 INFO mlflow.system_metrics.system_metrics_monitor: Stopping system metrics monitoring...\n",
      "2024/06/04 14:24:48 INFO mlflow.system_metrics.system_metrics_monitor: Successfully terminated system metrics monitoring!\n"
     ]
    },
    {
     "name": "stdout",
     "output_type": "stream",
     "text": [
      "# 4 / 100\n"
     ]
    },
    {
     "name": "stderr",
     "output_type": "stream",
     "text": [
      "2024/06/04 14:24:51 WARNING mlflow.system_metrics.system_metrics_monitor: Skip logging GPU metrics because creating `GPUMonitor` failed with error: Failed to initialize NVML, skip logging GPU metrics: NVML Shared Library Not Found.\n",
      "Exception in thread SystemMetricsMonitor:\n",
      "Traceback (most recent call last):\n",
      "  File \"C:\\Users\\hdychko\\AppData\\Local\\anaconda3\\envs\\experian_dev\\Lib\\threading.py\", line 1073, in _bootstrap_inner\n",
      "2024/06/04 14:24:51 INFO mlflow.system_metrics.system_metrics_monitor: Started monitoring system metrics.\n",
      "    self.run()\n",
      "  File \"C:\\Users\\hdychko\\AppData\\Local\\anaconda3\\envs\\experian_dev\\Lib\\threading.py\", line 1010, in run\n",
      "    self._target(*self._args, **self._kwargs)\n",
      "  File \"C:\\Users\\hdychko\\AppData\\Local\\anaconda3\\envs\\experian_dev\\Lib\\site-packages\\mlflow\\system_metrics\\system_metrics_monitor.py\", line 122, in monitor\n",
      "    self.collect_metrics()\n",
      "  File \"C:\\Users\\hdychko\\AppData\\Local\\anaconda3\\envs\\experian_dev\\Lib\\site-packages\\mlflow\\system_metrics\\system_metrics_monitor.py\", line 148, in collect_metrics\n",
      "    monitor.collect_metrics()\n",
      "  File \"C:\\Users\\hdychko\\AppData\\Local\\anaconda3\\envs\\experian_dev\\Lib\\site-packages\\mlflow\\system_metrics\\metrics\\disk_monitor.py\", line 15, in collect_metrics\n",
      "    disk_usage = psutil.disk_usage(os.sep)\n",
      "                 ^^^^^^^^^^^^^^^^^^^^^^^^^\n",
      "  File \"C:\\Users\\hdychko\\AppData\\Local\\anaconda3\\envs\\experian_dev\\Lib\\site-packages\\psutil\\__init__.py\", line 2003, in disk_usage\n",
      "    return _psplatform.disk_usage(path)\n",
      "           ^^^^^^^^^^^^^^^^^^^^^^^^^^^^\n",
      "  File \"C:\\Users\\hdychko\\AppData\\Local\\anaconda3\\envs\\experian_dev\\Lib\\site-packages\\psutil\\_pswindows.py\", line 274, in disk_usage\n",
      "    total, free = cext.disk_usage(path)\n",
      "                  ^^^^^^^^^^^^^^^^^^^^^\n",
      "SystemError: argument 1 (impossible<bad format char>)\n",
      "2024/06/04 14:24:58 INFO mlflow.system_metrics.system_metrics_monitor: Stopping system metrics monitoring...\n",
      "2024/06/04 14:24:58 INFO mlflow.system_metrics.system_metrics_monitor: Successfully terminated system metrics monitoring!\n"
     ]
    },
    {
     "name": "stdout",
     "output_type": "stream",
     "text": [
      "# 5 / 100\n"
     ]
    },
    {
     "name": "stderr",
     "output_type": "stream",
     "text": [
      "2024/06/04 14:25:01 WARNING mlflow.system_metrics.system_metrics_monitor: Skip logging GPU metrics because creating `GPUMonitor` failed with error: Failed to initialize NVML, skip logging GPU metrics: NVML Shared Library Not Found.\n",
      "Exception in thread 2024/06/04 14:25:01 INFO mlflow.system_metrics.system_metrics_monitor: Started monitoring system metrics.\n",
      "SystemMetricsMonitor:\n",
      "Traceback (most recent call last):\n",
      "  File \"C:\\Users\\hdychko\\AppData\\Local\\anaconda3\\envs\\experian_dev\\Lib\\threading.py\", line 1073, in _bootstrap_inner\n",
      "    self.run()\n",
      "  File \"C:\\Users\\hdychko\\AppData\\Local\\anaconda3\\envs\\experian_dev\\Lib\\threading.py\", line 1010, in run\n",
      "    self._target(*self._args, **self._kwargs)\n",
      "  File \"C:\\Users\\hdychko\\AppData\\Local\\anaconda3\\envs\\experian_dev\\Lib\\site-packages\\mlflow\\system_metrics\\system_metrics_monitor.py\", line 122, in monitor\n",
      "    self.collect_metrics()\n",
      "  File \"C:\\Users\\hdychko\\AppData\\Local\\anaconda3\\envs\\experian_dev\\Lib\\site-packages\\mlflow\\system_metrics\\system_metrics_monitor.py\", line 148, in collect_metrics\n",
      "    monitor.collect_metrics()\n",
      "  File \"C:\\Users\\hdychko\\AppData\\Local\\anaconda3\\envs\\experian_dev\\Lib\\site-packages\\mlflow\\system_metrics\\metrics\\disk_monitor.py\", line 15, in collect_metrics\n",
      "    disk_usage = psutil.disk_usage(os.sep)\n",
      "                 ^^^^^^^^^^^^^^^^^^^^^^^^^\n",
      "  File \"C:\\Users\\hdychko\\AppData\\Local\\anaconda3\\envs\\experian_dev\\Lib\\site-packages\\psutil\\__init__.py\", line 2003, in disk_usage\n",
      "    return _psplatform.disk_usage(path)\n",
      "           ^^^^^^^^^^^^^^^^^^^^^^^^^^^^\n",
      "  File \"C:\\Users\\hdychko\\AppData\\Local\\anaconda3\\envs\\experian_dev\\Lib\\site-packages\\psutil\\_pswindows.py\", line 274, in disk_usage\n",
      "    total, free = cext.disk_usage(path)\n",
      "                  ^^^^^^^^^^^^^^^^^^^^^\n",
      "SystemError: argument 1 (impossible<bad format char>)\n",
      "2024/06/04 14:25:09 INFO mlflow.system_metrics.system_metrics_monitor: Stopping system metrics monitoring...\n",
      "2024/06/04 14:25:09 INFO mlflow.system_metrics.system_metrics_monitor: Successfully terminated system metrics monitoring!\n"
     ]
    },
    {
     "name": "stdout",
     "output_type": "stream",
     "text": [
      "# 6 / 100\n"
     ]
    },
    {
     "name": "stderr",
     "output_type": "stream",
     "text": [
      "2024/06/04 14:25:13 WARNING mlflow.system_metrics.system_metrics_monitor: Skip logging GPU metrics because creating `GPUMonitor` failed with error: Failed to initialize NVML, skip logging GPU metrics: NVML Shared Library Not Found.\n",
      "Exception in thread 2024/06/04 14:25:13 INFO mlflow.system_metrics.system_metrics_monitor: Started monitoring system metrics.\n",
      "SystemMetricsMonitor:\n",
      "Traceback (most recent call last):\n",
      "  File \"C:\\Users\\hdychko\\AppData\\Local\\anaconda3\\envs\\experian_dev\\Lib\\threading.py\", line 1073, in _bootstrap_inner\n",
      "    self.run()\n",
      "  File \"C:\\Users\\hdychko\\AppData\\Local\\anaconda3\\envs\\experian_dev\\Lib\\threading.py\", line 1010, in run\n",
      "    self._target(*self._args, **self._kwargs)\n",
      "  File \"C:\\Users\\hdychko\\AppData\\Local\\anaconda3\\envs\\experian_dev\\Lib\\site-packages\\mlflow\\system_metrics\\system_metrics_monitor.py\", line 122, in monitor\n",
      "    self.collect_metrics()\n",
      "  File \"C:\\Users\\hdychko\\AppData\\Local\\anaconda3\\envs\\experian_dev\\Lib\\site-packages\\mlflow\\system_metrics\\system_metrics_monitor.py\", line 148, in collect_metrics\n",
      "    monitor.collect_metrics()\n",
      "  File \"C:\\Users\\hdychko\\AppData\\Local\\anaconda3\\envs\\experian_dev\\Lib\\site-packages\\mlflow\\system_metrics\\metrics\\disk_monitor.py\", line 15, in collect_metrics\n",
      "    disk_usage = psutil.disk_usage(os.sep)\n",
      "                 ^^^^^^^^^^^^^^^^^^^^^^^^^\n",
      "  File \"C:\\Users\\hdychko\\AppData\\Local\\anaconda3\\envs\\experian_dev\\Lib\\site-packages\\psutil\\__init__.py\", line 2003, in disk_usage\n",
      "    return _psplatform.disk_usage(path)\n",
      "           ^^^^^^^^^^^^^^^^^^^^^^^^^^^^\n",
      "  File \"C:\\Users\\hdychko\\AppData\\Local\\anaconda3\\envs\\experian_dev\\Lib\\site-packages\\psutil\\_pswindows.py\", line 274, in disk_usage\n",
      "    total, free = cext.disk_usage(path)\n",
      "                  ^^^^^^^^^^^^^^^^^^^^^\n",
      "SystemError: argument 1 (impossible<bad format char>)\n",
      "2024/06/04 14:25:21 INFO mlflow.system_metrics.system_metrics_monitor: Stopping system metrics monitoring...\n",
      "2024/06/04 14:25:21 INFO mlflow.system_metrics.system_metrics_monitor: Successfully terminated system metrics monitoring!\n"
     ]
    },
    {
     "name": "stdout",
     "output_type": "stream",
     "text": [
      "# 7 / 100\n"
     ]
    },
    {
     "name": "stderr",
     "output_type": "stream",
     "text": [
      "2024/06/04 14:25:23 WARNING mlflow.system_metrics.system_metrics_monitor: Skip logging GPU metrics because creating `GPUMonitor` failed with error: Failed to initialize NVML, skip logging GPU metrics: NVML Shared Library Not Found.\n",
      "Exception in thread SystemMetricsMonitor:\n",
      "Traceback (most recent call last):\n",
      "  File \"C:\\Users\\hdychko\\AppData\\Local\\anaconda3\\envs\\experian_dev\\Lib\\threading.py\", line 1073, in _bootstrap_inner\n",
      "2024/06/04 14:25:23 INFO mlflow.system_metrics.system_metrics_monitor: Started monitoring system metrics.\n",
      "    self.run()\n",
      "  File \"C:\\Users\\hdychko\\AppData\\Local\\anaconda3\\envs\\experian_dev\\Lib\\threading.py\", line 1010, in run\n",
      "    self._target(*self._args, **self._kwargs)\n",
      "  File \"C:\\Users\\hdychko\\AppData\\Local\\anaconda3\\envs\\experian_dev\\Lib\\site-packages\\mlflow\\system_metrics\\system_metrics_monitor.py\", line 122, in monitor\n",
      "    self.collect_metrics()\n",
      "  File \"C:\\Users\\hdychko\\AppData\\Local\\anaconda3\\envs\\experian_dev\\Lib\\site-packages\\mlflow\\system_metrics\\system_metrics_monitor.py\", line 148, in collect_metrics\n",
      "    monitor.collect_metrics()\n",
      "  File \"C:\\Users\\hdychko\\AppData\\Local\\anaconda3\\envs\\experian_dev\\Lib\\site-packages\\mlflow\\system_metrics\\metrics\\disk_monitor.py\", line 15, in collect_metrics\n",
      "    disk_usage = psutil.disk_usage(os.sep)\n",
      "                 ^^^^^^^^^^^^^^^^^^^^^^^^^\n",
      "  File \"C:\\Users\\hdychko\\AppData\\Local\\anaconda3\\envs\\experian_dev\\Lib\\site-packages\\psutil\\__init__.py\", line 2003, in disk_usage\n",
      "    return _psplatform.disk_usage(path)\n",
      "           ^^^^^^^^^^^^^^^^^^^^^^^^^^^^\n",
      "  File \"C:\\Users\\hdychko\\AppData\\Local\\anaconda3\\envs\\experian_dev\\Lib\\site-packages\\psutil\\_pswindows.py\", line 274, in disk_usage\n",
      "    total, free = cext.disk_usage(path)\n",
      "                  ^^^^^^^^^^^^^^^^^^^^^\n",
      "SystemError: argument 1 (impossible<bad format char>)\n",
      "2024/06/04 14:25:31 INFO mlflow.system_metrics.system_metrics_monitor: Stopping system metrics monitoring...\n",
      "2024/06/04 14:25:31 INFO mlflow.system_metrics.system_metrics_monitor: Successfully terminated system metrics monitoring!\n"
     ]
    },
    {
     "name": "stdout",
     "output_type": "stream",
     "text": [
      "# 8 / 100\n"
     ]
    },
    {
     "name": "stderr",
     "output_type": "stream",
     "text": [
      "2024/06/04 14:25:32 WARNING mlflow.system_metrics.system_metrics_monitor: Skip logging GPU metrics because creating `GPUMonitor` failed with error: Failed to initialize NVML, skip logging GPU metrics: NVML Shared Library Not Found.\n",
      "Exception in thread SystemMetricsMonitor:\n",
      "Traceback (most recent call last):\n",
      "  File \"C:\\Users\\hdychko\\AppData\\Local\\anaconda3\\envs\\experian_dev\\Lib\\threading.py\", line 1073, in _bootstrap_inner\n",
      "2024/06/04 14:25:32 INFO mlflow.system_metrics.system_metrics_monitor: Started monitoring system metrics.\n",
      "    self.run()\n",
      "  File \"C:\\Users\\hdychko\\AppData\\Local\\anaconda3\\envs\\experian_dev\\Lib\\threading.py\", line 1010, in run\n",
      "    self._target(*self._args, **self._kwargs)\n",
      "  File \"C:\\Users\\hdychko\\AppData\\Local\\anaconda3\\envs\\experian_dev\\Lib\\site-packages\\mlflow\\system_metrics\\system_metrics_monitor.py\", line 122, in monitor\n",
      "    self.collect_metrics()\n",
      "  File \"C:\\Users\\hdychko\\AppData\\Local\\anaconda3\\envs\\experian_dev\\Lib\\site-packages\\mlflow\\system_metrics\\system_metrics_monitor.py\", line 148, in collect_metrics\n",
      "    monitor.collect_metrics()\n",
      "  File \"C:\\Users\\hdychko\\AppData\\Local\\anaconda3\\envs\\experian_dev\\Lib\\site-packages\\mlflow\\system_metrics\\metrics\\disk_monitor.py\", line 15, in collect_metrics\n",
      "    disk_usage = psutil.disk_usage(os.sep)\n",
      "                 ^^^^^^^^^^^^^^^^^^^^^^^^^\n",
      "  File \"C:\\Users\\hdychko\\AppData\\Local\\anaconda3\\envs\\experian_dev\\Lib\\site-packages\\psutil\\__init__.py\", line 2003, in disk_usage\n",
      "    return _psplatform.disk_usage(path)\n",
      "           ^^^^^^^^^^^^^^^^^^^^^^^^^^^^\n",
      "  File \"C:\\Users\\hdychko\\AppData\\Local\\anaconda3\\envs\\experian_dev\\Lib\\site-packages\\psutil\\_pswindows.py\", line 274, in disk_usage\n",
      "    total, free = cext.disk_usage(path)\n",
      "                  ^^^^^^^^^^^^^^^^^^^^^\n",
      "SystemError: argument 1 (impossible<bad format char>)\n",
      "2024/06/04 14:25:41 INFO mlflow.system_metrics.system_metrics_monitor: Stopping system metrics monitoring...\n",
      "2024/06/04 14:25:41 INFO mlflow.system_metrics.system_metrics_monitor: Successfully terminated system metrics monitoring!\n"
     ]
    },
    {
     "name": "stdout",
     "output_type": "stream",
     "text": [
      "# 9 / 100\n"
     ]
    },
    {
     "name": "stderr",
     "output_type": "stream",
     "text": [
      "2024/06/04 14:25:45 WARNING mlflow.system_metrics.system_metrics_monitor: Skip logging GPU metrics because creating `GPUMonitor` failed with error: Failed to initialize NVML, skip logging GPU metrics: NVML Shared Library Not Found.\n",
      "Exception in thread 2024/06/04 14:25:45 INFO mlflow.system_metrics.system_metrics_monitor: Started monitoring system metrics.\n",
      "SystemMetricsMonitor:\n",
      "Traceback (most recent call last):\n",
      "  File \"C:\\Users\\hdychko\\AppData\\Local\\anaconda3\\envs\\experian_dev\\Lib\\threading.py\", line 1073, in _bootstrap_inner\n",
      "    self.run()\n",
      "  File \"C:\\Users\\hdychko\\AppData\\Local\\anaconda3\\envs\\experian_dev\\Lib\\threading.py\", line 1010, in run\n",
      "    self._target(*self._args, **self._kwargs)\n",
      "  File \"C:\\Users\\hdychko\\AppData\\Local\\anaconda3\\envs\\experian_dev\\Lib\\site-packages\\mlflow\\system_metrics\\system_metrics_monitor.py\", line 122, in monitor\n",
      "    self.collect_metrics()\n",
      "  File \"C:\\Users\\hdychko\\AppData\\Local\\anaconda3\\envs\\experian_dev\\Lib\\site-packages\\mlflow\\system_metrics\\system_metrics_monitor.py\", line 148, in collect_metrics\n",
      "    monitor.collect_metrics()\n",
      "  File \"C:\\Users\\hdychko\\AppData\\Local\\anaconda3\\envs\\experian_dev\\Lib\\site-packages\\mlflow\\system_metrics\\metrics\\disk_monitor.py\", line 15, in collect_metrics\n",
      "    disk_usage = psutil.disk_usage(os.sep)\n",
      "                 ^^^^^^^^^^^^^^^^^^^^^^^^^\n",
      "  File \"C:\\Users\\hdychko\\AppData\\Local\\anaconda3\\envs\\experian_dev\\Lib\\site-packages\\psutil\\__init__.py\", line 2003, in disk_usage\n",
      "    return _psplatform.disk_usage(path)\n",
      "           ^^^^^^^^^^^^^^^^^^^^^^^^^^^^\n",
      "  File \"C:\\Users\\hdychko\\AppData\\Local\\anaconda3\\envs\\experian_dev\\Lib\\site-packages\\psutil\\_pswindows.py\", line 274, in disk_usage\n",
      "    total, free = cext.disk_usage(path)\n",
      "                  ^^^^^^^^^^^^^^^^^^^^^\n",
      "SystemError: argument 1 (impossible<bad format char>)\n",
      "2024/06/04 14:25:56 INFO mlflow.system_metrics.system_metrics_monitor: Stopping system metrics monitoring...\n",
      "2024/06/04 14:25:56 INFO mlflow.system_metrics.system_metrics_monitor: Successfully terminated system metrics monitoring!\n"
     ]
    },
    {
     "name": "stdout",
     "output_type": "stream",
     "text": [
      "# 10 / 100\n"
     ]
    },
    {
     "name": "stderr",
     "output_type": "stream",
     "text": [
      "2024/06/04 14:26:00 WARNING mlflow.system_metrics.system_metrics_monitor: Skip logging GPU metrics because creating `GPUMonitor` failed with error: Failed to initialize NVML, skip logging GPU metrics: NVML Shared Library Not Found.\n",
      "Exception in thread SystemMetricsMonitor:\n",
      "Traceback (most recent call last):\n",
      "  File \"C:\\Users\\hdychko\\AppData\\Local\\anaconda3\\envs\\experian_dev\\Lib\\threading.py\", line 1073, in _bootstrap_inner\n",
      "2024/06/04 14:26:00 INFO mlflow.system_metrics.system_metrics_monitor: Started monitoring system metrics.\n",
      "    self.run()\n",
      "  File \"C:\\Users\\hdychko\\AppData\\Local\\anaconda3\\envs\\experian_dev\\Lib\\threading.py\", line 1010, in run\n",
      "    self._target(*self._args, **self._kwargs)\n",
      "  File \"C:\\Users\\hdychko\\AppData\\Local\\anaconda3\\envs\\experian_dev\\Lib\\site-packages\\mlflow\\system_metrics\\system_metrics_monitor.py\", line 122, in monitor\n",
      "    self.collect_metrics()\n",
      "  File \"C:\\Users\\hdychko\\AppData\\Local\\anaconda3\\envs\\experian_dev\\Lib\\site-packages\\mlflow\\system_metrics\\system_metrics_monitor.py\", line 148, in collect_metrics\n",
      "    monitor.collect_metrics()\n",
      "  File \"C:\\Users\\hdychko\\AppData\\Local\\anaconda3\\envs\\experian_dev\\Lib\\site-packages\\mlflow\\system_metrics\\metrics\\disk_monitor.py\", line 15, in collect_metrics\n",
      "    disk_usage = psutil.disk_usage(os.sep)\n",
      "                 ^^^^^^^^^^^^^^^^^^^^^^^^^\n",
      "  File \"C:\\Users\\hdychko\\AppData\\Local\\anaconda3\\envs\\experian_dev\\Lib\\site-packages\\psutil\\__init__.py\", line 2003, in disk_usage\n",
      "    return _psplatform.disk_usage(path)\n",
      "           ^^^^^^^^^^^^^^^^^^^^^^^^^^^^\n",
      "  File \"C:\\Users\\hdychko\\AppData\\Local\\anaconda3\\envs\\experian_dev\\Lib\\site-packages\\psutil\\_pswindows.py\", line 274, in disk_usage\n",
      "    total, free = cext.disk_usage(path)\n",
      "                  ^^^^^^^^^^^^^^^^^^^^^\n",
      "SystemError: argument 1 (impossible<bad format char>)\n",
      "2024/06/04 14:26:11 INFO mlflow.system_metrics.system_metrics_monitor: Stopping system metrics monitoring...\n",
      "2024/06/04 14:26:11 INFO mlflow.system_metrics.system_metrics_monitor: Successfully terminated system metrics monitoring!\n"
     ]
    },
    {
     "name": "stdout",
     "output_type": "stream",
     "text": [
      "# 11 / 100\n"
     ]
    },
    {
     "name": "stderr",
     "output_type": "stream",
     "text": [
      "2024/06/04 14:26:14 WARNING mlflow.system_metrics.system_metrics_monitor: Skip logging GPU metrics because creating `GPUMonitor` failed with error: Failed to initialize NVML, skip logging GPU metrics: NVML Shared Library Not Found.\n",
      "Exception in thread SystemMetricsMonitor:\n",
      "2024/06/04 14:26:14 INFO mlflow.system_metrics.system_metrics_monitor: Started monitoring system metrics.\n",
      "Traceback (most recent call last):\n",
      "  File \"C:\\Users\\hdychko\\AppData\\Local\\anaconda3\\envs\\experian_dev\\Lib\\threading.py\", line 1073, in _bootstrap_inner\n",
      "    self.run()\n",
      "  File \"C:\\Users\\hdychko\\AppData\\Local\\anaconda3\\envs\\experian_dev\\Lib\\threading.py\", line 1010, in run\n",
      "    self._target(*self._args, **self._kwargs)\n",
      "  File \"C:\\Users\\hdychko\\AppData\\Local\\anaconda3\\envs\\experian_dev\\Lib\\site-packages\\mlflow\\system_metrics\\system_metrics_monitor.py\", line 122, in monitor\n",
      "    self.collect_metrics()\n",
      "  File \"C:\\Users\\hdychko\\AppData\\Local\\anaconda3\\envs\\experian_dev\\Lib\\site-packages\\mlflow\\system_metrics\\system_metrics_monitor.py\", line 148, in collect_metrics\n",
      "    monitor.collect_metrics()\n",
      "  File \"C:\\Users\\hdychko\\AppData\\Local\\anaconda3\\envs\\experian_dev\\Lib\\site-packages\\mlflow\\system_metrics\\metrics\\disk_monitor.py\", line 15, in collect_metrics\n",
      "    disk_usage = psutil.disk_usage(os.sep)\n",
      "                 ^^^^^^^^^^^^^^^^^^^^^^^^^\n",
      "  File \"C:\\Users\\hdychko\\AppData\\Local\\anaconda3\\envs\\experian_dev\\Lib\\site-packages\\psutil\\__init__.py\", line 2003, in disk_usage\n",
      "    return _psplatform.disk_usage(path)\n",
      "           ^^^^^^^^^^^^^^^^^^^^^^^^^^^^\n",
      "  File \"C:\\Users\\hdychko\\AppData\\Local\\anaconda3\\envs\\experian_dev\\Lib\\site-packages\\psutil\\_pswindows.py\", line 274, in disk_usage\n",
      "    total, free = cext.disk_usage(path)\n",
      "                  ^^^^^^^^^^^^^^^^^^^^^\n",
      "SystemError: argument 1 (impossible<bad format char>)\n",
      "2024/06/04 14:26:23 INFO mlflow.system_metrics.system_metrics_monitor: Stopping system metrics monitoring...\n",
      "2024/06/04 14:26:23 INFO mlflow.system_metrics.system_metrics_monitor: Successfully terminated system metrics monitoring!\n"
     ]
    },
    {
     "name": "stdout",
     "output_type": "stream",
     "text": [
      "# 12 / 100\n"
     ]
    },
    {
     "name": "stderr",
     "output_type": "stream",
     "text": [
      "2024/06/04 14:26:26 WARNING mlflow.system_metrics.system_metrics_monitor: Skip logging GPU metrics because creating `GPUMonitor` failed with error: Failed to initialize NVML, skip logging GPU metrics: NVML Shared Library Not Found.\n",
      "Exception in thread SystemMetricsMonitor:\n",
      "Traceback (most recent call last):\n",
      "  File \"C:\\Users\\hdychko\\AppData\\Local\\anaconda3\\envs\\experian_dev\\Lib\\threading.py\", line 1073, in _bootstrap_inner\n",
      "2024/06/04 14:26:26 INFO mlflow.system_metrics.system_metrics_monitor: Started monitoring system metrics.\n",
      "    self.run()\n",
      "  File \"C:\\Users\\hdychko\\AppData\\Local\\anaconda3\\envs\\experian_dev\\Lib\\threading.py\", line 1010, in run\n",
      "    self._target(*self._args, **self._kwargs)\n",
      "  File \"C:\\Users\\hdychko\\AppData\\Local\\anaconda3\\envs\\experian_dev\\Lib\\site-packages\\mlflow\\system_metrics\\system_metrics_monitor.py\", line 122, in monitor\n",
      "    self.collect_metrics()\n",
      "  File \"C:\\Users\\hdychko\\AppData\\Local\\anaconda3\\envs\\experian_dev\\Lib\\site-packages\\mlflow\\system_metrics\\system_metrics_monitor.py\", line 148, in collect_metrics\n",
      "    monitor.collect_metrics()\n",
      "  File \"C:\\Users\\hdychko\\AppData\\Local\\anaconda3\\envs\\experian_dev\\Lib\\site-packages\\mlflow\\system_metrics\\metrics\\disk_monitor.py\", line 15, in collect_metrics\n",
      "    disk_usage = psutil.disk_usage(os.sep)\n",
      "                 ^^^^^^^^^^^^^^^^^^^^^^^^^\n",
      "  File \"C:\\Users\\hdychko\\AppData\\Local\\anaconda3\\envs\\experian_dev\\Lib\\site-packages\\psutil\\__init__.py\", line 2003, in disk_usage\n",
      "    return _psplatform.disk_usage(path)\n",
      "           ^^^^^^^^^^^^^^^^^^^^^^^^^^^^\n",
      "  File \"C:\\Users\\hdychko\\AppData\\Local\\anaconda3\\envs\\experian_dev\\Lib\\site-packages\\psutil\\_pswindows.py\", line 274, in disk_usage\n",
      "    total, free = cext.disk_usage(path)\n",
      "                  ^^^^^^^^^^^^^^^^^^^^^\n",
      "SystemError: argument 1 (impossible<bad format char>)\n",
      "2024/06/04 14:26:34 INFO mlflow.system_metrics.system_metrics_monitor: Stopping system metrics monitoring...\n",
      "2024/06/04 14:26:34 INFO mlflow.system_metrics.system_metrics_monitor: Successfully terminated system metrics monitoring!\n"
     ]
    },
    {
     "name": "stdout",
     "output_type": "stream",
     "text": [
      "# 13 / 100\n"
     ]
    },
    {
     "name": "stderr",
     "output_type": "stream",
     "text": [
      "2024/06/04 14:26:35 WARNING mlflow.system_metrics.system_metrics_monitor: Skip logging GPU metrics because creating `GPUMonitor` failed with error: Failed to initialize NVML, skip logging GPU metrics: NVML Shared Library Not Found.\n",
      "Exception in thread SystemMetricsMonitor:\n",
      "Traceback (most recent call last):\n",
      "  File \"C:\\Users\\hdychko\\AppData\\Local\\anaconda3\\envs\\experian_dev\\Lib\\threading.py\", line 1073, in _bootstrap_inner\n",
      "2024/06/04 14:26:35 INFO mlflow.system_metrics.system_metrics_monitor: Started monitoring system metrics.\n",
      "    self.run()\n",
      "  File \"C:\\Users\\hdychko\\AppData\\Local\\anaconda3\\envs\\experian_dev\\Lib\\threading.py\", line 1010, in run\n",
      "    self._target(*self._args, **self._kwargs)\n",
      "  File \"C:\\Users\\hdychko\\AppData\\Local\\anaconda3\\envs\\experian_dev\\Lib\\site-packages\\mlflow\\system_metrics\\system_metrics_monitor.py\", line 122, in monitor\n",
      "    self.collect_metrics()\n",
      "  File \"C:\\Users\\hdychko\\AppData\\Local\\anaconda3\\envs\\experian_dev\\Lib\\site-packages\\mlflow\\system_metrics\\system_metrics_monitor.py\", line 148, in collect_metrics\n",
      "    monitor.collect_metrics()\n",
      "  File \"C:\\Users\\hdychko\\AppData\\Local\\anaconda3\\envs\\experian_dev\\Lib\\site-packages\\mlflow\\system_metrics\\metrics\\disk_monitor.py\", line 15, in collect_metrics\n",
      "    disk_usage = psutil.disk_usage(os.sep)\n",
      "                 ^^^^^^^^^^^^^^^^^^^^^^^^^\n",
      "  File \"C:\\Users\\hdychko\\AppData\\Local\\anaconda3\\envs\\experian_dev\\Lib\\site-packages\\psutil\\__init__.py\", line 2003, in disk_usage\n",
      "    return _psplatform.disk_usage(path)\n",
      "           ^^^^^^^^^^^^^^^^^^^^^^^^^^^^\n",
      "  File \"C:\\Users\\hdychko\\AppData\\Local\\anaconda3\\envs\\experian_dev\\Lib\\site-packages\\psutil\\_pswindows.py\", line 274, in disk_usage\n",
      "    total, free = cext.disk_usage(path)\n",
      "                  ^^^^^^^^^^^^^^^^^^^^^\n",
      "SystemError: argument 1 (impossible<bad format char>)\n",
      "2024/06/04 14:26:43 INFO mlflow.system_metrics.system_metrics_monitor: Stopping system metrics monitoring...\n",
      "2024/06/04 14:26:43 INFO mlflow.system_metrics.system_metrics_monitor: Successfully terminated system metrics monitoring!\n"
     ]
    },
    {
     "name": "stdout",
     "output_type": "stream",
     "text": [
      "# 14 / 100\n"
     ]
    },
    {
     "name": "stderr",
     "output_type": "stream",
     "text": [
      "2024/06/04 14:26:45 WARNING mlflow.system_metrics.system_metrics_monitor: Skip logging GPU metrics because creating `GPUMonitor` failed with error: Failed to initialize NVML, skip logging GPU metrics: NVML Shared Library Not Found.\n",
      "Exception in thread 2024/06/04 14:26:45 INFO mlflow.system_metrics.system_metrics_monitor: Started monitoring system metrics.\n",
      "SystemMetricsMonitor:\n",
      "Traceback (most recent call last):\n",
      "  File \"C:\\Users\\hdychko\\AppData\\Local\\anaconda3\\envs\\experian_dev\\Lib\\threading.py\", line 1073, in _bootstrap_inner\n",
      "    self.run()\n",
      "  File \"C:\\Users\\hdychko\\AppData\\Local\\anaconda3\\envs\\experian_dev\\Lib\\threading.py\", line 1010, in run\n",
      "    self._target(*self._args, **self._kwargs)\n",
      "  File \"C:\\Users\\hdychko\\AppData\\Local\\anaconda3\\envs\\experian_dev\\Lib\\site-packages\\mlflow\\system_metrics\\system_metrics_monitor.py\", line 122, in monitor\n",
      "    self.collect_metrics()\n",
      "  File \"C:\\Users\\hdychko\\AppData\\Local\\anaconda3\\envs\\experian_dev\\Lib\\site-packages\\mlflow\\system_metrics\\system_metrics_monitor.py\", line 148, in collect_metrics\n",
      "    monitor.collect_metrics()\n",
      "  File \"C:\\Users\\hdychko\\AppData\\Local\\anaconda3\\envs\\experian_dev\\Lib\\site-packages\\mlflow\\system_metrics\\metrics\\disk_monitor.py\", line 15, in collect_metrics\n",
      "    disk_usage = psutil.disk_usage(os.sep)\n",
      "                 ^^^^^^^^^^^^^^^^^^^^^^^^^\n",
      "  File \"C:\\Users\\hdychko\\AppData\\Local\\anaconda3\\envs\\experian_dev\\Lib\\site-packages\\psutil\\__init__.py\", line 2003, in disk_usage\n",
      "    return _psplatform.disk_usage(path)\n",
      "           ^^^^^^^^^^^^^^^^^^^^^^^^^^^^\n",
      "  File \"C:\\Users\\hdychko\\AppData\\Local\\anaconda3\\envs\\experian_dev\\Lib\\site-packages\\psutil\\_pswindows.py\", line 274, in disk_usage\n",
      "    total, free = cext.disk_usage(path)\n",
      "                  ^^^^^^^^^^^^^^^^^^^^^\n",
      "SystemError: argument 1 (impossible<bad format char>)\n",
      "2024/06/04 14:26:58 INFO mlflow.system_metrics.system_metrics_monitor: Stopping system metrics monitoring...\n",
      "2024/06/04 14:26:58 INFO mlflow.system_metrics.system_metrics_monitor: Successfully terminated system metrics monitoring!\n"
     ]
    },
    {
     "name": "stdout",
     "output_type": "stream",
     "text": [
      "# 15 / 100\n"
     ]
    },
    {
     "name": "stderr",
     "output_type": "stream",
     "text": [
      "2024/06/04 14:27:03 WARNING mlflow.system_metrics.system_metrics_monitor: Skip logging GPU metrics because creating `GPUMonitor` failed with error: Failed to initialize NVML, skip logging GPU metrics: NVML Shared Library Not Found.\n",
      "Exception in thread 2024/06/04 14:27:03 INFO mlflow.system_metrics.system_metrics_monitor: Started monitoring system metrics.\n",
      "SystemMetricsMonitor:\n",
      "Traceback (most recent call last):\n",
      "  File \"C:\\Users\\hdychko\\AppData\\Local\\anaconda3\\envs\\experian_dev\\Lib\\threading.py\", line 1073, in _bootstrap_inner\n",
      "    self.run()\n",
      "  File \"C:\\Users\\hdychko\\AppData\\Local\\anaconda3\\envs\\experian_dev\\Lib\\threading.py\", line 1010, in run\n",
      "    self._target(*self._args, **self._kwargs)\n",
      "  File \"C:\\Users\\hdychko\\AppData\\Local\\anaconda3\\envs\\experian_dev\\Lib\\site-packages\\mlflow\\system_metrics\\system_metrics_monitor.py\", line 122, in monitor\n",
      "    self.collect_metrics()\n",
      "  File \"C:\\Users\\hdychko\\AppData\\Local\\anaconda3\\envs\\experian_dev\\Lib\\site-packages\\mlflow\\system_metrics\\system_metrics_monitor.py\", line 148, in collect_metrics\n",
      "    monitor.collect_metrics()\n",
      "  File \"C:\\Users\\hdychko\\AppData\\Local\\anaconda3\\envs\\experian_dev\\Lib\\site-packages\\mlflow\\system_metrics\\metrics\\disk_monitor.py\", line 15, in collect_metrics\n",
      "    disk_usage = psutil.disk_usage(os.sep)\n",
      "                 ^^^^^^^^^^^^^^^^^^^^^^^^^\n",
      "  File \"C:\\Users\\hdychko\\AppData\\Local\\anaconda3\\envs\\experian_dev\\Lib\\site-packages\\psutil\\__init__.py\", line 2003, in disk_usage\n",
      "    return _psplatform.disk_usage(path)\n",
      "           ^^^^^^^^^^^^^^^^^^^^^^^^^^^^\n",
      "  File \"C:\\Users\\hdychko\\AppData\\Local\\anaconda3\\envs\\experian_dev\\Lib\\site-packages\\psutil\\_pswindows.py\", line 274, in disk_usage\n",
      "    total, free = cext.disk_usage(path)\n",
      "                  ^^^^^^^^^^^^^^^^^^^^^\n",
      "SystemError: argument 1 (impossible<bad format char>)\n",
      "2024/06/04 14:27:13 INFO mlflow.system_metrics.system_metrics_monitor: Stopping system metrics monitoring...\n",
      "2024/06/04 14:27:13 INFO mlflow.system_metrics.system_metrics_monitor: Successfully terminated system metrics monitoring!\n"
     ]
    },
    {
     "name": "stdout",
     "output_type": "stream",
     "text": [
      "# 16 / 100\n"
     ]
    },
    {
     "name": "stderr",
     "output_type": "stream",
     "text": [
      "2024/06/04 14:27:14 WARNING mlflow.system_metrics.system_metrics_monitor: Skip logging GPU metrics because creating `GPUMonitor` failed with error: Failed to initialize NVML, skip logging GPU metrics: NVML Shared Library Not Found.\n",
      "Exception in thread SystemMetricsMonitor:\n",
      "Traceback (most recent call last):\n",
      "  File \"C:\\Users\\hdychko\\AppData\\Local\\anaconda3\\envs\\experian_dev\\Lib\\threading.py\", line 1073, in _bootstrap_inner\n",
      "2024/06/04 14:27:14 INFO mlflow.system_metrics.system_metrics_monitor: Started monitoring system metrics.\n",
      "    self.run()\n",
      "  File \"C:\\Users\\hdychko\\AppData\\Local\\anaconda3\\envs\\experian_dev\\Lib\\threading.py\", line 1010, in run\n",
      "    self._target(*self._args, **self._kwargs)\n",
      "  File \"C:\\Users\\hdychko\\AppData\\Local\\anaconda3\\envs\\experian_dev\\Lib\\site-packages\\mlflow\\system_metrics\\system_metrics_monitor.py\", line 122, in monitor\n",
      "    self.collect_metrics()\n",
      "  File \"C:\\Users\\hdychko\\AppData\\Local\\anaconda3\\envs\\experian_dev\\Lib\\site-packages\\mlflow\\system_metrics\\system_metrics_monitor.py\", line 148, in collect_metrics\n",
      "    monitor.collect_metrics()\n",
      "  File \"C:\\Users\\hdychko\\AppData\\Local\\anaconda3\\envs\\experian_dev\\Lib\\site-packages\\mlflow\\system_metrics\\metrics\\disk_monitor.py\", line 15, in collect_metrics\n",
      "    disk_usage = psutil.disk_usage(os.sep)\n",
      "                 ^^^^^^^^^^^^^^^^^^^^^^^^^\n",
      "  File \"C:\\Users\\hdychko\\AppData\\Local\\anaconda3\\envs\\experian_dev\\Lib\\site-packages\\psutil\\__init__.py\", line 2003, in disk_usage\n",
      "    return _psplatform.disk_usage(path)\n",
      "           ^^^^^^^^^^^^^^^^^^^^^^^^^^^^\n",
      "  File \"C:\\Users\\hdychko\\AppData\\Local\\anaconda3\\envs\\experian_dev\\Lib\\site-packages\\psutil\\_pswindows.py\", line 274, in disk_usage\n",
      "    total, free = cext.disk_usage(path)\n",
      "                  ^^^^^^^^^^^^^^^^^^^^^\n",
      "SystemError: argument 1 (impossible<bad format char>)\n",
      "2024/06/04 14:27:21 INFO mlflow.system_metrics.system_metrics_monitor: Stopping system metrics monitoring...\n",
      "2024/06/04 14:27:21 INFO mlflow.system_metrics.system_metrics_monitor: Successfully terminated system metrics monitoring!\n"
     ]
    },
    {
     "name": "stdout",
     "output_type": "stream",
     "text": [
      "# 17 / 100\n"
     ]
    },
    {
     "name": "stderr",
     "output_type": "stream",
     "text": [
      "2024/06/04 14:27:24 WARNING mlflow.system_metrics.system_metrics_monitor: Skip logging GPU metrics because creating `GPUMonitor` failed with error: Failed to initialize NVML, skip logging GPU metrics: NVML Shared Library Not Found.\n",
      "Exception in thread 2024/06/04 14:27:24 INFO mlflow.system_metrics.system_metrics_monitor: Started monitoring system metrics.\n",
      "SystemMetricsMonitor:\n",
      "Traceback (most recent call last):\n",
      "  File \"C:\\Users\\hdychko\\AppData\\Local\\anaconda3\\envs\\experian_dev\\Lib\\threading.py\", line 1073, in _bootstrap_inner\n",
      "    self.run()\n",
      "  File \"C:\\Users\\hdychko\\AppData\\Local\\anaconda3\\envs\\experian_dev\\Lib\\threading.py\", line 1010, in run\n",
      "    self._target(*self._args, **self._kwargs)\n",
      "  File \"C:\\Users\\hdychko\\AppData\\Local\\anaconda3\\envs\\experian_dev\\Lib\\site-packages\\mlflow\\system_metrics\\system_metrics_monitor.py\", line 122, in monitor\n",
      "    self.collect_metrics()\n",
      "  File \"C:\\Users\\hdychko\\AppData\\Local\\anaconda3\\envs\\experian_dev\\Lib\\site-packages\\mlflow\\system_metrics\\system_metrics_monitor.py\", line 148, in collect_metrics\n",
      "    monitor.collect_metrics()\n",
      "  File \"C:\\Users\\hdychko\\AppData\\Local\\anaconda3\\envs\\experian_dev\\Lib\\site-packages\\mlflow\\system_metrics\\metrics\\disk_monitor.py\", line 15, in collect_metrics\n",
      "    disk_usage = psutil.disk_usage(os.sep)\n",
      "                 ^^^^^^^^^^^^^^^^^^^^^^^^^\n",
      "  File \"C:\\Users\\hdychko\\AppData\\Local\\anaconda3\\envs\\experian_dev\\Lib\\site-packages\\psutil\\__init__.py\", line 2003, in disk_usage\n",
      "    return _psplatform.disk_usage(path)\n",
      "           ^^^^^^^^^^^^^^^^^^^^^^^^^^^^\n",
      "  File \"C:\\Users\\hdychko\\AppData\\Local\\anaconda3\\envs\\experian_dev\\Lib\\site-packages\\psutil\\_pswindows.py\", line 274, in disk_usage\n",
      "    total, free = cext.disk_usage(path)\n",
      "                  ^^^^^^^^^^^^^^^^^^^^^\n",
      "SystemError: argument 1 (impossible<bad format char>)\n",
      "2024/06/04 14:27:33 INFO mlflow.system_metrics.system_metrics_monitor: Stopping system metrics monitoring...\n",
      "2024/06/04 14:27:33 INFO mlflow.system_metrics.system_metrics_monitor: Successfully terminated system metrics monitoring!\n"
     ]
    },
    {
     "name": "stdout",
     "output_type": "stream",
     "text": [
      "# 18 / 100\n"
     ]
    },
    {
     "name": "stderr",
     "output_type": "stream",
     "text": [
      "2024/06/04 14:27:34 WARNING mlflow.system_metrics.system_metrics_monitor: Skip logging GPU metrics because creating `GPUMonitor` failed with error: Failed to initialize NVML, skip logging GPU metrics: NVML Shared Library Not Found.\n",
      "Exception in thread SystemMetricsMonitor:\n",
      "Traceback (most recent call last):\n",
      "  File \"C:\\Users\\hdychko\\AppData\\Local\\anaconda3\\envs\\experian_dev\\Lib\\threading.py\", line 1073, in _bootstrap_inner\n",
      "2024/06/04 14:27:34 INFO mlflow.system_metrics.system_metrics_monitor: Started monitoring system metrics.\n",
      "    self.run()\n",
      "  File \"C:\\Users\\hdychko\\AppData\\Local\\anaconda3\\envs\\experian_dev\\Lib\\threading.py\", line 1010, in run\n",
      "    self._target(*self._args, **self._kwargs)\n",
      "  File \"C:\\Users\\hdychko\\AppData\\Local\\anaconda3\\envs\\experian_dev\\Lib\\site-packages\\mlflow\\system_metrics\\system_metrics_monitor.py\", line 122, in monitor\n",
      "    self.collect_metrics()\n",
      "  File \"C:\\Users\\hdychko\\AppData\\Local\\anaconda3\\envs\\experian_dev\\Lib\\site-packages\\mlflow\\system_metrics\\system_metrics_monitor.py\", line 148, in collect_metrics\n",
      "    monitor.collect_metrics()\n",
      "  File \"C:\\Users\\hdychko\\AppData\\Local\\anaconda3\\envs\\experian_dev\\Lib\\site-packages\\mlflow\\system_metrics\\metrics\\disk_monitor.py\", line 15, in collect_metrics\n",
      "    disk_usage = psutil.disk_usage(os.sep)\n",
      "                 ^^^^^^^^^^^^^^^^^^^^^^^^^\n",
      "  File \"C:\\Users\\hdychko\\AppData\\Local\\anaconda3\\envs\\experian_dev\\Lib\\site-packages\\psutil\\__init__.py\", line 2003, in disk_usage\n",
      "    return _psplatform.disk_usage(path)\n",
      "           ^^^^^^^^^^^^^^^^^^^^^^^^^^^^\n",
      "  File \"C:\\Users\\hdychko\\AppData\\Local\\anaconda3\\envs\\experian_dev\\Lib\\site-packages\\psutil\\_pswindows.py\", line 274, in disk_usage\n",
      "    total, free = cext.disk_usage(path)\n",
      "                  ^^^^^^^^^^^^^^^^^^^^^\n",
      "SystemError: argument 1 (impossible<bad format char>)\n",
      "2024/06/04 14:27:43 INFO mlflow.system_metrics.system_metrics_monitor: Stopping system metrics monitoring...\n",
      "2024/06/04 14:27:43 INFO mlflow.system_metrics.system_metrics_monitor: Successfully terminated system metrics monitoring!\n"
     ]
    },
    {
     "name": "stdout",
     "output_type": "stream",
     "text": [
      "# 19 / 100\n"
     ]
    },
    {
     "name": "stderr",
     "output_type": "stream",
     "text": [
      "2024/06/04 14:27:44 WARNING mlflow.system_metrics.system_metrics_monitor: Skip logging GPU metrics because creating `GPUMonitor` failed with error: Failed to initialize NVML, skip logging GPU metrics: NVML Shared Library Not Found.\n",
      "Exception in thread 2024/06/04 14:27:44 INFO mlflow.system_metrics.system_metrics_monitor: Started monitoring system metrics.\n",
      "SystemMetricsMonitor:\n",
      "Traceback (most recent call last):\n",
      "  File \"C:\\Users\\hdychko\\AppData\\Local\\anaconda3\\envs\\experian_dev\\Lib\\threading.py\", line 1073, in _bootstrap_inner\n",
      "    self.run()\n",
      "  File \"C:\\Users\\hdychko\\AppData\\Local\\anaconda3\\envs\\experian_dev\\Lib\\threading.py\", line 1010, in run\n",
      "    self._target(*self._args, **self._kwargs)\n",
      "  File \"C:\\Users\\hdychko\\AppData\\Local\\anaconda3\\envs\\experian_dev\\Lib\\site-packages\\mlflow\\system_metrics\\system_metrics_monitor.py\", line 122, in monitor\n",
      "    self.collect_metrics()\n",
      "  File \"C:\\Users\\hdychko\\AppData\\Local\\anaconda3\\envs\\experian_dev\\Lib\\site-packages\\mlflow\\system_metrics\\system_metrics_monitor.py\", line 148, in collect_metrics\n",
      "    monitor.collect_metrics()\n",
      "  File \"C:\\Users\\hdychko\\AppData\\Local\\anaconda3\\envs\\experian_dev\\Lib\\site-packages\\mlflow\\system_metrics\\metrics\\disk_monitor.py\", line 15, in collect_metrics\n",
      "    disk_usage = psutil.disk_usage(os.sep)\n",
      "                 ^^^^^^^^^^^^^^^^^^^^^^^^^\n",
      "  File \"C:\\Users\\hdychko\\AppData\\Local\\anaconda3\\envs\\experian_dev\\Lib\\site-packages\\psutil\\__init__.py\", line 2003, in disk_usage\n",
      "    return _psplatform.disk_usage(path)\n",
      "           ^^^^^^^^^^^^^^^^^^^^^^^^^^^^\n",
      "  File \"C:\\Users\\hdychko\\AppData\\Local\\anaconda3\\envs\\experian_dev\\Lib\\site-packages\\psutil\\_pswindows.py\", line 274, in disk_usage\n",
      "    total, free = cext.disk_usage(path)\n",
      "                  ^^^^^^^^^^^^^^^^^^^^^\n",
      "SystemError: argument 1 (impossible<bad format char>)\n",
      "2024/06/04 14:27:52 INFO mlflow.system_metrics.system_metrics_monitor: Stopping system metrics monitoring...\n",
      "2024/06/04 14:27:52 INFO mlflow.system_metrics.system_metrics_monitor: Successfully terminated system metrics monitoring!\n"
     ]
    },
    {
     "name": "stdout",
     "output_type": "stream",
     "text": [
      "# 20 / 100\n"
     ]
    },
    {
     "name": "stderr",
     "output_type": "stream",
     "text": [
      "2024/06/04 14:27:53 WARNING mlflow.system_metrics.system_metrics_monitor: Skip logging GPU metrics because creating `GPUMonitor` failed with error: Failed to initialize NVML, skip logging GPU metrics: NVML Shared Library Not Found.\n",
      "Exception in thread SystemMetricsMonitor:\n",
      "Traceback (most recent call last):\n",
      "  File \"C:\\Users\\hdychko\\AppData\\Local\\anaconda3\\envs\\experian_dev\\Lib\\threading.py\", line 1073, in _bootstrap_inner\n",
      "2024/06/04 14:27:53 INFO mlflow.system_metrics.system_metrics_monitor: Started monitoring system metrics.\n",
      "    self.run()\n",
      "  File \"C:\\Users\\hdychko\\AppData\\Local\\anaconda3\\envs\\experian_dev\\Lib\\threading.py\", line 1010, in run\n",
      "    self._target(*self._args, **self._kwargs)\n",
      "  File \"C:\\Users\\hdychko\\AppData\\Local\\anaconda3\\envs\\experian_dev\\Lib\\site-packages\\mlflow\\system_metrics\\system_metrics_monitor.py\", line 122, in monitor\n",
      "    self.collect_metrics()\n",
      "  File \"C:\\Users\\hdychko\\AppData\\Local\\anaconda3\\envs\\experian_dev\\Lib\\site-packages\\mlflow\\system_metrics\\system_metrics_monitor.py\", line 148, in collect_metrics\n",
      "    monitor.collect_metrics()\n",
      "  File \"C:\\Users\\hdychko\\AppData\\Local\\anaconda3\\envs\\experian_dev\\Lib\\site-packages\\mlflow\\system_metrics\\metrics\\disk_monitor.py\", line 15, in collect_metrics\n",
      "    disk_usage = psutil.disk_usage(os.sep)\n",
      "                 ^^^^^^^^^^^^^^^^^^^^^^^^^\n",
      "  File \"C:\\Users\\hdychko\\AppData\\Local\\anaconda3\\envs\\experian_dev\\Lib\\site-packages\\psutil\\__init__.py\", line 2003, in disk_usage\n",
      "    return _psplatform.disk_usage(path)\n",
      "           ^^^^^^^^^^^^^^^^^^^^^^^^^^^^\n",
      "  File \"C:\\Users\\hdychko\\AppData\\Local\\anaconda3\\envs\\experian_dev\\Lib\\site-packages\\psutil\\_pswindows.py\", line 274, in disk_usage\n",
      "    total, free = cext.disk_usage(path)\n",
      "                  ^^^^^^^^^^^^^^^^^^^^^\n",
      "SystemError: argument 1 (impossible<bad format char>)\n",
      "2024/06/04 14:28:06 INFO mlflow.system_metrics.system_metrics_monitor: Stopping system metrics monitoring...\n",
      "2024/06/04 14:28:06 INFO mlflow.system_metrics.system_metrics_monitor: Successfully terminated system metrics monitoring!\n"
     ]
    },
    {
     "name": "stdout",
     "output_type": "stream",
     "text": [
      "# 21 / 100\n"
     ]
    },
    {
     "name": "stderr",
     "output_type": "stream",
     "text": [
      "2024/06/04 14:28:09 WARNING mlflow.system_metrics.system_metrics_monitor: Skip logging GPU metrics because creating `GPUMonitor` failed with error: Failed to initialize NVML, skip logging GPU metrics: NVML Shared Library Not Found.\n",
      "Exception in thread 2024/06/04 14:28:09 INFO mlflow.system_metrics.system_metrics_monitor: Started monitoring system metrics.\n",
      "SystemMetricsMonitor:\n",
      "Traceback (most recent call last):\n",
      "  File \"C:\\Users\\hdychko\\AppData\\Local\\anaconda3\\envs\\experian_dev\\Lib\\threading.py\", line 1073, in _bootstrap_inner\n",
      "    self.run()\n",
      "  File \"C:\\Users\\hdychko\\AppData\\Local\\anaconda3\\envs\\experian_dev\\Lib\\threading.py\", line 1010, in run\n",
      "    self._target(*self._args, **self._kwargs)\n",
      "  File \"C:\\Users\\hdychko\\AppData\\Local\\anaconda3\\envs\\experian_dev\\Lib\\site-packages\\mlflow\\system_metrics\\system_metrics_monitor.py\", line 122, in monitor\n",
      "    self.collect_metrics()\n",
      "  File \"C:\\Users\\hdychko\\AppData\\Local\\anaconda3\\envs\\experian_dev\\Lib\\site-packages\\mlflow\\system_metrics\\system_metrics_monitor.py\", line 148, in collect_metrics\n",
      "    monitor.collect_metrics()\n",
      "  File \"C:\\Users\\hdychko\\AppData\\Local\\anaconda3\\envs\\experian_dev\\Lib\\site-packages\\mlflow\\system_metrics\\metrics\\disk_monitor.py\", line 15, in collect_metrics\n",
      "    disk_usage = psutil.disk_usage(os.sep)\n",
      "                 ^^^^^^^^^^^^^^^^^^^^^^^^^\n",
      "  File \"C:\\Users\\hdychko\\AppData\\Local\\anaconda3\\envs\\experian_dev\\Lib\\site-packages\\psutil\\__init__.py\", line 2003, in disk_usage\n",
      "    return _psplatform.disk_usage(path)\n",
      "           ^^^^^^^^^^^^^^^^^^^^^^^^^^^^\n",
      "  File \"C:\\Users\\hdychko\\AppData\\Local\\anaconda3\\envs\\experian_dev\\Lib\\site-packages\\psutil\\_pswindows.py\", line 274, in disk_usage\n",
      "    total, free = cext.disk_usage(path)\n",
      "                  ^^^^^^^^^^^^^^^^^^^^^\n",
      "SystemError: argument 1 (impossible<bad format char>)\n",
      "2024/06/04 14:28:27 INFO mlflow.system_metrics.system_metrics_monitor: Stopping system metrics monitoring...\n",
      "2024/06/04 14:28:27 INFO mlflow.system_metrics.system_metrics_monitor: Successfully terminated system metrics monitoring!\n"
     ]
    },
    {
     "name": "stdout",
     "output_type": "stream",
     "text": [
      "# 22 / 100\n"
     ]
    },
    {
     "name": "stderr",
     "output_type": "stream",
     "text": [
      "2024/06/04 14:28:30 WARNING mlflow.system_metrics.system_metrics_monitor: Skip logging GPU metrics because creating `GPUMonitor` failed with error: Failed to initialize NVML, skip logging GPU metrics: NVML Shared Library Not Found.\n",
      "Exception in thread 2024/06/04 14:28:30 INFO mlflow.system_metrics.system_metrics_monitor: Started monitoring system metrics.\n",
      "SystemMetricsMonitor:\n",
      "Traceback (most recent call last):\n",
      "  File \"C:\\Users\\hdychko\\AppData\\Local\\anaconda3\\envs\\experian_dev\\Lib\\threading.py\", line 1073, in _bootstrap_inner\n",
      "    self.run()\n",
      "  File \"C:\\Users\\hdychko\\AppData\\Local\\anaconda3\\envs\\experian_dev\\Lib\\threading.py\", line 1010, in run\n",
      "    self._target(*self._args, **self._kwargs)\n",
      "  File \"C:\\Users\\hdychko\\AppData\\Local\\anaconda3\\envs\\experian_dev\\Lib\\site-packages\\mlflow\\system_metrics\\system_metrics_monitor.py\", line 122, in monitor\n",
      "    self.collect_metrics()\n",
      "  File \"C:\\Users\\hdychko\\AppData\\Local\\anaconda3\\envs\\experian_dev\\Lib\\site-packages\\mlflow\\system_metrics\\system_metrics_monitor.py\", line 148, in collect_metrics\n",
      "    monitor.collect_metrics()\n",
      "  File \"C:\\Users\\hdychko\\AppData\\Local\\anaconda3\\envs\\experian_dev\\Lib\\site-packages\\mlflow\\system_metrics\\metrics\\disk_monitor.py\", line 15, in collect_metrics\n",
      "    disk_usage = psutil.disk_usage(os.sep)\n",
      "                 ^^^^^^^^^^^^^^^^^^^^^^^^^\n",
      "  File \"C:\\Users\\hdychko\\AppData\\Local\\anaconda3\\envs\\experian_dev\\Lib\\site-packages\\psutil\\__init__.py\", line 2003, in disk_usage\n",
      "    return _psplatform.disk_usage(path)\n",
      "           ^^^^^^^^^^^^^^^^^^^^^^^^^^^^\n",
      "  File \"C:\\Users\\hdychko\\AppData\\Local\\anaconda3\\envs\\experian_dev\\Lib\\site-packages\\psutil\\_pswindows.py\", line 274, in disk_usage\n",
      "    total, free = cext.disk_usage(path)\n",
      "                  ^^^^^^^^^^^^^^^^^^^^^\n",
      "SystemError: argument 1 (impossible<bad format char>)\n",
      "2024/06/04 14:28:43 INFO mlflow.system_metrics.system_metrics_monitor: Stopping system metrics monitoring...\n",
      "2024/06/04 14:28:43 INFO mlflow.system_metrics.system_metrics_monitor: Successfully terminated system metrics monitoring!\n"
     ]
    },
    {
     "name": "stdout",
     "output_type": "stream",
     "text": [
      "# 23 / 100\n"
     ]
    },
    {
     "name": "stderr",
     "output_type": "stream",
     "text": [
      "2024/06/04 14:28:52 WARNING mlflow.system_metrics.system_metrics_monitor: Skip logging GPU metrics because creating `GPUMonitor` failed with error: Failed to initialize NVML, skip logging GPU metrics: NVML Shared Library Not Found.\n",
      "Exception in thread 2024/06/04 14:28:52 INFO mlflow.system_metrics.system_metrics_monitor: Started monitoring system metrics.\n",
      "SystemMetricsMonitor:\n",
      "Traceback (most recent call last):\n",
      "  File \"C:\\Users\\hdychko\\AppData\\Local\\anaconda3\\envs\\experian_dev\\Lib\\threading.py\", line 1073, in _bootstrap_inner\n",
      "    self.run()\n",
      "  File \"C:\\Users\\hdychko\\AppData\\Local\\anaconda3\\envs\\experian_dev\\Lib\\threading.py\", line 1010, in run\n",
      "    self._target(*self._args, **self._kwargs)\n",
      "  File \"C:\\Users\\hdychko\\AppData\\Local\\anaconda3\\envs\\experian_dev\\Lib\\site-packages\\mlflow\\system_metrics\\system_metrics_monitor.py\", line 122, in monitor\n",
      "    self.collect_metrics()\n",
      "  File \"C:\\Users\\hdychko\\AppData\\Local\\anaconda3\\envs\\experian_dev\\Lib\\site-packages\\mlflow\\system_metrics\\system_metrics_monitor.py\", line 148, in collect_metrics\n",
      "    monitor.collect_metrics()\n",
      "  File \"C:\\Users\\hdychko\\AppData\\Local\\anaconda3\\envs\\experian_dev\\Lib\\site-packages\\mlflow\\system_metrics\\metrics\\disk_monitor.py\", line 15, in collect_metrics\n",
      "    disk_usage = psutil.disk_usage(os.sep)\n",
      "                 ^^^^^^^^^^^^^^^^^^^^^^^^^\n",
      "  File \"C:\\Users\\hdychko\\AppData\\Local\\anaconda3\\envs\\experian_dev\\Lib\\site-packages\\psutil\\__init__.py\", line 2003, in disk_usage\n",
      "    return _psplatform.disk_usage(path)\n",
      "           ^^^^^^^^^^^^^^^^^^^^^^^^^^^^\n",
      "  File \"C:\\Users\\hdychko\\AppData\\Local\\anaconda3\\envs\\experian_dev\\Lib\\site-packages\\psutil\\_pswindows.py\", line 274, in disk_usage\n",
      "    total, free = cext.disk_usage(path)\n",
      "                  ^^^^^^^^^^^^^^^^^^^^^\n",
      "SystemError: argument 1 (impossible<bad format char>)\n",
      "2024/06/04 14:29:07 INFO mlflow.system_metrics.system_metrics_monitor: Stopping system metrics monitoring...\n",
      "2024/06/04 14:29:07 INFO mlflow.system_metrics.system_metrics_monitor: Successfully terminated system metrics monitoring!\n"
     ]
    },
    {
     "name": "stdout",
     "output_type": "stream",
     "text": [
      "# 24 / 100\n"
     ]
    },
    {
     "name": "stderr",
     "output_type": "stream",
     "text": [
      "2024/06/04 14:29:11 WARNING mlflow.system_metrics.system_metrics_monitor: Skip logging GPU metrics because creating `GPUMonitor` failed with error: Failed to initialize NVML, skip logging GPU metrics: NVML Shared Library Not Found.\n",
      "Exception in thread 2024/06/04 14:29:11 INFO mlflow.system_metrics.system_metrics_monitor: Started monitoring system metrics.\n",
      "SystemMetricsMonitor:\n",
      "Traceback (most recent call last):\n",
      "  File \"C:\\Users\\hdychko\\AppData\\Local\\anaconda3\\envs\\experian_dev\\Lib\\threading.py\", line 1073, in _bootstrap_inner\n",
      "    self.run()\n",
      "  File \"C:\\Users\\hdychko\\AppData\\Local\\anaconda3\\envs\\experian_dev\\Lib\\threading.py\", line 1010, in run\n",
      "    self._target(*self._args, **self._kwargs)\n",
      "  File \"C:\\Users\\hdychko\\AppData\\Local\\anaconda3\\envs\\experian_dev\\Lib\\site-packages\\mlflow\\system_metrics\\system_metrics_monitor.py\", line 122, in monitor\n",
      "    self.collect_metrics()\n",
      "  File \"C:\\Users\\hdychko\\AppData\\Local\\anaconda3\\envs\\experian_dev\\Lib\\site-packages\\mlflow\\system_metrics\\system_metrics_monitor.py\", line 148, in collect_metrics\n",
      "    monitor.collect_metrics()\n",
      "  File \"C:\\Users\\hdychko\\AppData\\Local\\anaconda3\\envs\\experian_dev\\Lib\\site-packages\\mlflow\\system_metrics\\metrics\\disk_monitor.py\", line 15, in collect_metrics\n",
      "    disk_usage = psutil.disk_usage(os.sep)\n",
      "                 ^^^^^^^^^^^^^^^^^^^^^^^^^\n",
      "  File \"C:\\Users\\hdychko\\AppData\\Local\\anaconda3\\envs\\experian_dev\\Lib\\site-packages\\psutil\\__init__.py\", line 2003, in disk_usage\n",
      "    return _psplatform.disk_usage(path)\n",
      "           ^^^^^^^^^^^^^^^^^^^^^^^^^^^^\n",
      "  File \"C:\\Users\\hdychko\\AppData\\Local\\anaconda3\\envs\\experian_dev\\Lib\\site-packages\\psutil\\_pswindows.py\", line 274, in disk_usage\n",
      "    total, free = cext.disk_usage(path)\n",
      "                  ^^^^^^^^^^^^^^^^^^^^^\n",
      "SystemError: argument 1 (impossible<bad format char>)\n",
      "2024/06/04 14:29:23 INFO mlflow.system_metrics.system_metrics_monitor: Stopping system metrics monitoring...\n",
      "2024/06/04 14:29:23 INFO mlflow.system_metrics.system_metrics_monitor: Successfully terminated system metrics monitoring!\n"
     ]
    },
    {
     "name": "stdout",
     "output_type": "stream",
     "text": [
      "# 25 / 100\n"
     ]
    },
    {
     "name": "stderr",
     "output_type": "stream",
     "text": [
      "2024/06/04 14:29:26 WARNING mlflow.system_metrics.system_metrics_monitor: Skip logging GPU metrics because creating `GPUMonitor` failed with error: Failed to initialize NVML, skip logging GPU metrics: NVML Shared Library Not Found.\n",
      "Exception in thread 2024/06/04 14:29:26 INFO mlflow.system_metrics.system_metrics_monitor: Started monitoring system metrics.\n",
      "SystemMetricsMonitor:\n",
      "Traceback (most recent call last):\n",
      "  File \"C:\\Users\\hdychko\\AppData\\Local\\anaconda3\\envs\\experian_dev\\Lib\\threading.py\", line 1073, in _bootstrap_inner\n",
      "    self.run()\n",
      "  File \"C:\\Users\\hdychko\\AppData\\Local\\anaconda3\\envs\\experian_dev\\Lib\\threading.py\", line 1010, in run\n",
      "    self._target(*self._args, **self._kwargs)\n",
      "  File \"C:\\Users\\hdychko\\AppData\\Local\\anaconda3\\envs\\experian_dev\\Lib\\site-packages\\mlflow\\system_metrics\\system_metrics_monitor.py\", line 122, in monitor\n",
      "    self.collect_metrics()\n",
      "  File \"C:\\Users\\hdychko\\AppData\\Local\\anaconda3\\envs\\experian_dev\\Lib\\site-packages\\mlflow\\system_metrics\\system_metrics_monitor.py\", line 148, in collect_metrics\n",
      "    monitor.collect_metrics()\n",
      "  File \"C:\\Users\\hdychko\\AppData\\Local\\anaconda3\\envs\\experian_dev\\Lib\\site-packages\\mlflow\\system_metrics\\metrics\\disk_monitor.py\", line 15, in collect_metrics\n",
      "    disk_usage = psutil.disk_usage(os.sep)\n",
      "                 ^^^^^^^^^^^^^^^^^^^^^^^^^\n",
      "  File \"C:\\Users\\hdychko\\AppData\\Local\\anaconda3\\envs\\experian_dev\\Lib\\site-packages\\psutil\\__init__.py\", line 2003, in disk_usage\n",
      "    return _psplatform.disk_usage(path)\n",
      "           ^^^^^^^^^^^^^^^^^^^^^^^^^^^^\n",
      "  File \"C:\\Users\\hdychko\\AppData\\Local\\anaconda3\\envs\\experian_dev\\Lib\\site-packages\\psutil\\_pswindows.py\", line 274, in disk_usage\n",
      "    total, free = cext.disk_usage(path)\n",
      "                  ^^^^^^^^^^^^^^^^^^^^^\n",
      "SystemError: argument 1 (impossible<bad format char>)\n",
      "2024/06/04 14:29:45 INFO mlflow.system_metrics.system_metrics_monitor: Stopping system metrics monitoring...\n",
      "2024/06/04 14:29:45 INFO mlflow.system_metrics.system_metrics_monitor: Successfully terminated system metrics monitoring!\n"
     ]
    },
    {
     "name": "stdout",
     "output_type": "stream",
     "text": [
      "# 26 / 100\n"
     ]
    },
    {
     "name": "stderr",
     "output_type": "stream",
     "text": [
      "2024/06/04 14:29:47 WARNING mlflow.system_metrics.system_metrics_monitor: Skip logging GPU metrics because creating `GPUMonitor` failed with error: Failed to initialize NVML, skip logging GPU metrics: NVML Shared Library Not Found.\n",
      "Exception in thread 2024/06/04 14:29:47 INFO mlflow.system_metrics.system_metrics_monitor: Started monitoring system metrics.\n",
      "SystemMetricsMonitor:\n",
      "Traceback (most recent call last):\n",
      "  File \"C:\\Users\\hdychko\\AppData\\Local\\anaconda3\\envs\\experian_dev\\Lib\\threading.py\", line 1073, in _bootstrap_inner\n",
      "    self.run()\n",
      "  File \"C:\\Users\\hdychko\\AppData\\Local\\anaconda3\\envs\\experian_dev\\Lib\\threading.py\", line 1010, in run\n",
      "    self._target(*self._args, **self._kwargs)\n",
      "  File \"C:\\Users\\hdychko\\AppData\\Local\\anaconda3\\envs\\experian_dev\\Lib\\site-packages\\mlflow\\system_metrics\\system_metrics_monitor.py\", line 122, in monitor\n",
      "    self.collect_metrics()\n",
      "  File \"C:\\Users\\hdychko\\AppData\\Local\\anaconda3\\envs\\experian_dev\\Lib\\site-packages\\mlflow\\system_metrics\\system_metrics_monitor.py\", line 148, in collect_metrics\n",
      "    monitor.collect_metrics()\n",
      "  File \"C:\\Users\\hdychko\\AppData\\Local\\anaconda3\\envs\\experian_dev\\Lib\\site-packages\\mlflow\\system_metrics\\metrics\\disk_monitor.py\", line 15, in collect_metrics\n",
      "    disk_usage = psutil.disk_usage(os.sep)\n",
      "                 ^^^^^^^^^^^^^^^^^^^^^^^^^\n",
      "  File \"C:\\Users\\hdychko\\AppData\\Local\\anaconda3\\envs\\experian_dev\\Lib\\site-packages\\psutil\\__init__.py\", line 2003, in disk_usage\n",
      "    return _psplatform.disk_usage(path)\n",
      "           ^^^^^^^^^^^^^^^^^^^^^^^^^^^^\n",
      "  File \"C:\\Users\\hdychko\\AppData\\Local\\anaconda3\\envs\\experian_dev\\Lib\\site-packages\\psutil\\_pswindows.py\", line 274, in disk_usage\n",
      "    total, free = cext.disk_usage(path)\n",
      "                  ^^^^^^^^^^^^^^^^^^^^^\n",
      "SystemError: argument 1 (impossible<bad format char>)\n",
      "2024/06/04 14:30:15 INFO mlflow.system_metrics.system_metrics_monitor: Stopping system metrics monitoring...\n",
      "2024/06/04 14:30:15 INFO mlflow.system_metrics.system_metrics_monitor: Successfully terminated system metrics monitoring!\n"
     ]
    },
    {
     "name": "stdout",
     "output_type": "stream",
     "text": [
      "# 27 / 100\n"
     ]
    },
    {
     "name": "stderr",
     "output_type": "stream",
     "text": [
      "2024/06/04 14:30:17 WARNING mlflow.system_metrics.system_metrics_monitor: Skip logging GPU metrics because creating `GPUMonitor` failed with error: Failed to initialize NVML, skip logging GPU metrics: NVML Shared Library Not Found.\n",
      "Exception in thread 2024/06/04 14:30:17 INFO mlflow.system_metrics.system_metrics_monitor: Started monitoring system metrics.\n",
      "SystemMetricsMonitor:\n",
      "Traceback (most recent call last):\n",
      "  File \"C:\\Users\\hdychko\\AppData\\Local\\anaconda3\\envs\\experian_dev\\Lib\\threading.py\", line 1073, in _bootstrap_inner\n",
      "    self.run()\n",
      "  File \"C:\\Users\\hdychko\\AppData\\Local\\anaconda3\\envs\\experian_dev\\Lib\\threading.py\", line 1010, in run\n",
      "    self._target(*self._args, **self._kwargs)\n",
      "  File \"C:\\Users\\hdychko\\AppData\\Local\\anaconda3\\envs\\experian_dev\\Lib\\site-packages\\mlflow\\system_metrics\\system_metrics_monitor.py\", line 122, in monitor\n",
      "    self.collect_metrics()\n",
      "  File \"C:\\Users\\hdychko\\AppData\\Local\\anaconda3\\envs\\experian_dev\\Lib\\site-packages\\mlflow\\system_metrics\\system_metrics_monitor.py\", line 148, in collect_metrics\n",
      "    monitor.collect_metrics()\n",
      "  File \"C:\\Users\\hdychko\\AppData\\Local\\anaconda3\\envs\\experian_dev\\Lib\\site-packages\\mlflow\\system_metrics\\metrics\\disk_monitor.py\", line 15, in collect_metrics\n",
      "    disk_usage = psutil.disk_usage(os.sep)\n",
      "                 ^^^^^^^^^^^^^^^^^^^^^^^^^\n",
      "  File \"C:\\Users\\hdychko\\AppData\\Local\\anaconda3\\envs\\experian_dev\\Lib\\site-packages\\psutil\\__init__.py\", line 2003, in disk_usage\n",
      "    return _psplatform.disk_usage(path)\n",
      "           ^^^^^^^^^^^^^^^^^^^^^^^^^^^^\n",
      "  File \"C:\\Users\\hdychko\\AppData\\Local\\anaconda3\\envs\\experian_dev\\Lib\\site-packages\\psutil\\_pswindows.py\", line 274, in disk_usage\n",
      "    total, free = cext.disk_usage(path)\n",
      "                  ^^^^^^^^^^^^^^^^^^^^^\n",
      "SystemError: argument 1 (impossible<bad format char>)\n",
      "2024/06/04 14:30:28 INFO mlflow.system_metrics.system_metrics_monitor: Stopping system metrics monitoring...\n",
      "2024/06/04 14:30:28 INFO mlflow.system_metrics.system_metrics_monitor: Successfully terminated system metrics monitoring!\n"
     ]
    },
    {
     "name": "stdout",
     "output_type": "stream",
     "text": [
      "# 28 / 100\n"
     ]
    },
    {
     "name": "stderr",
     "output_type": "stream",
     "text": [
      "2024/06/04 14:30:29 WARNING mlflow.system_metrics.system_metrics_monitor: Skip logging GPU metrics because creating `GPUMonitor` failed with error: Failed to initialize NVML, skip logging GPU metrics: NVML Shared Library Not Found.\n",
      "Exception in thread 2024/06/04 14:30:29 INFO mlflow.system_metrics.system_metrics_monitor: Started monitoring system metrics.\n",
      "SystemMetricsMonitor:\n",
      "Traceback (most recent call last):\n",
      "  File \"C:\\Users\\hdychko\\AppData\\Local\\anaconda3\\envs\\experian_dev\\Lib\\threading.py\", line 1073, in _bootstrap_inner\n",
      "    self.run()\n",
      "  File \"C:\\Users\\hdychko\\AppData\\Local\\anaconda3\\envs\\experian_dev\\Lib\\threading.py\", line 1010, in run\n",
      "    self._target(*self._args, **self._kwargs)\n",
      "  File \"C:\\Users\\hdychko\\AppData\\Local\\anaconda3\\envs\\experian_dev\\Lib\\site-packages\\mlflow\\system_metrics\\system_metrics_monitor.py\", line 122, in monitor\n",
      "    self.collect_metrics()\n",
      "  File \"C:\\Users\\hdychko\\AppData\\Local\\anaconda3\\envs\\experian_dev\\Lib\\site-packages\\mlflow\\system_metrics\\system_metrics_monitor.py\", line 148, in collect_metrics\n",
      "    monitor.collect_metrics()\n",
      "  File \"C:\\Users\\hdychko\\AppData\\Local\\anaconda3\\envs\\experian_dev\\Lib\\site-packages\\mlflow\\system_metrics\\metrics\\disk_monitor.py\", line 15, in collect_metrics\n",
      "    disk_usage = psutil.disk_usage(os.sep)\n",
      "                 ^^^^^^^^^^^^^^^^^^^^^^^^^\n",
      "  File \"C:\\Users\\hdychko\\AppData\\Local\\anaconda3\\envs\\experian_dev\\Lib\\site-packages\\psutil\\__init__.py\", line 2003, in disk_usage\n",
      "    return _psplatform.disk_usage(path)\n",
      "           ^^^^^^^^^^^^^^^^^^^^^^^^^^^^\n",
      "  File \"C:\\Users\\hdychko\\AppData\\Local\\anaconda3\\envs\\experian_dev\\Lib\\site-packages\\psutil\\_pswindows.py\", line 274, in disk_usage\n",
      "    total, free = cext.disk_usage(path)\n",
      "                  ^^^^^^^^^^^^^^^^^^^^^\n",
      "SystemError: argument 1 (impossible<bad format char>)\n",
      "2024/06/04 14:30:40 INFO mlflow.system_metrics.system_metrics_monitor: Stopping system metrics monitoring...\n",
      "2024/06/04 14:30:40 INFO mlflow.system_metrics.system_metrics_monitor: Successfully terminated system metrics monitoring!\n"
     ]
    },
    {
     "name": "stdout",
     "output_type": "stream",
     "text": [
      "# 29 / 100\n"
     ]
    },
    {
     "name": "stderr",
     "output_type": "stream",
     "text": [
      "2024/06/04 14:30:46 WARNING mlflow.system_metrics.system_metrics_monitor: Skip logging GPU metrics because creating `GPUMonitor` failed with error: Failed to initialize NVML, skip logging GPU metrics: NVML Shared Library Not Found.\n",
      "Exception in thread 2024/06/04 14:30:46 INFO mlflow.system_metrics.system_metrics_monitor: Started monitoring system metrics.\n",
      "SystemMetricsMonitor:\n",
      "Traceback (most recent call last):\n",
      "  File \"C:\\Users\\hdychko\\AppData\\Local\\anaconda3\\envs\\experian_dev\\Lib\\threading.py\", line 1073, in _bootstrap_inner\n",
      "    self.run()\n",
      "  File \"C:\\Users\\hdychko\\AppData\\Local\\anaconda3\\envs\\experian_dev\\Lib\\threading.py\", line 1010, in run\n",
      "    self._target(*self._args, **self._kwargs)\n",
      "  File \"C:\\Users\\hdychko\\AppData\\Local\\anaconda3\\envs\\experian_dev\\Lib\\site-packages\\mlflow\\system_metrics\\system_metrics_monitor.py\", line 122, in monitor\n",
      "    self.collect_metrics()\n",
      "  File \"C:\\Users\\hdychko\\AppData\\Local\\anaconda3\\envs\\experian_dev\\Lib\\site-packages\\mlflow\\system_metrics\\system_metrics_monitor.py\", line 148, in collect_metrics\n",
      "    monitor.collect_metrics()\n",
      "  File \"C:\\Users\\hdychko\\AppData\\Local\\anaconda3\\envs\\experian_dev\\Lib\\site-packages\\mlflow\\system_metrics\\metrics\\disk_monitor.py\", line 15, in collect_metrics\n",
      "    disk_usage = psutil.disk_usage(os.sep)\n",
      "                 ^^^^^^^^^^^^^^^^^^^^^^^^^\n",
      "  File \"C:\\Users\\hdychko\\AppData\\Local\\anaconda3\\envs\\experian_dev\\Lib\\site-packages\\psutil\\__init__.py\", line 2003, in disk_usage\n",
      "    return _psplatform.disk_usage(path)\n",
      "           ^^^^^^^^^^^^^^^^^^^^^^^^^^^^\n",
      "  File \"C:\\Users\\hdychko\\AppData\\Local\\anaconda3\\envs\\experian_dev\\Lib\\site-packages\\psutil\\_pswindows.py\", line 274, in disk_usage\n",
      "    total, free = cext.disk_usage(path)\n",
      "                  ^^^^^^^^^^^^^^^^^^^^^\n",
      "SystemError: argument 1 (impossible<bad format char>)\n",
      "2024/06/04 14:30:55 INFO mlflow.system_metrics.system_metrics_monitor: Stopping system metrics monitoring...\n",
      "2024/06/04 14:30:55 INFO mlflow.system_metrics.system_metrics_monitor: Successfully terminated system metrics monitoring!\n"
     ]
    },
    {
     "name": "stdout",
     "output_type": "stream",
     "text": [
      "# 30 / 100\n"
     ]
    },
    {
     "name": "stderr",
     "output_type": "stream",
     "text": [
      "2024/06/04 14:30:59 WARNING mlflow.system_metrics.system_metrics_monitor: Skip logging GPU metrics because creating `GPUMonitor` failed with error: Failed to initialize NVML, skip logging GPU metrics: NVML Shared Library Not Found.\n",
      "Exception in thread 2024/06/04 14:30:59 INFO mlflow.system_metrics.system_metrics_monitor: Started monitoring system metrics.\n",
      "SystemMetricsMonitor:\n",
      "Traceback (most recent call last):\n",
      "  File \"C:\\Users\\hdychko\\AppData\\Local\\anaconda3\\envs\\experian_dev\\Lib\\threading.py\", line 1073, in _bootstrap_inner\n",
      "    self.run()\n",
      "  File \"C:\\Users\\hdychko\\AppData\\Local\\anaconda3\\envs\\experian_dev\\Lib\\threading.py\", line 1010, in run\n",
      "    self._target(*self._args, **self._kwargs)\n",
      "  File \"C:\\Users\\hdychko\\AppData\\Local\\anaconda3\\envs\\experian_dev\\Lib\\site-packages\\mlflow\\system_metrics\\system_metrics_monitor.py\", line 122, in monitor\n",
      "    self.collect_metrics()\n",
      "  File \"C:\\Users\\hdychko\\AppData\\Local\\anaconda3\\envs\\experian_dev\\Lib\\site-packages\\mlflow\\system_metrics\\system_metrics_monitor.py\", line 148, in collect_metrics\n",
      "    monitor.collect_metrics()\n",
      "  File \"C:\\Users\\hdychko\\AppData\\Local\\anaconda3\\envs\\experian_dev\\Lib\\site-packages\\mlflow\\system_metrics\\metrics\\disk_monitor.py\", line 15, in collect_metrics\n",
      "    disk_usage = psutil.disk_usage(os.sep)\n",
      "                 ^^^^^^^^^^^^^^^^^^^^^^^^^\n",
      "  File \"C:\\Users\\hdychko\\AppData\\Local\\anaconda3\\envs\\experian_dev\\Lib\\site-packages\\psutil\\__init__.py\", line 2003, in disk_usage\n",
      "    return _psplatform.disk_usage(path)\n",
      "           ^^^^^^^^^^^^^^^^^^^^^^^^^^^^\n",
      "  File \"C:\\Users\\hdychko\\AppData\\Local\\anaconda3\\envs\\experian_dev\\Lib\\site-packages\\psutil\\_pswindows.py\", line 274, in disk_usage\n",
      "    total, free = cext.disk_usage(path)\n",
      "                  ^^^^^^^^^^^^^^^^^^^^^\n",
      "SystemError: argument 1 (impossible<bad format char>)\n",
      "2024/06/04 14:31:08 INFO mlflow.system_metrics.system_metrics_monitor: Stopping system metrics monitoring...\n",
      "2024/06/04 14:31:08 INFO mlflow.system_metrics.system_metrics_monitor: Successfully terminated system metrics monitoring!\n"
     ]
    },
    {
     "name": "stdout",
     "output_type": "stream",
     "text": [
      "# 31 / 100\n"
     ]
    },
    {
     "name": "stderr",
     "output_type": "stream",
     "text": [
      "2024/06/04 14:31:12 WARNING mlflow.system_metrics.system_metrics_monitor: Skip logging GPU metrics because creating `GPUMonitor` failed with error: Failed to initialize NVML, skip logging GPU metrics: NVML Shared Library Not Found.\n",
      "Exception in thread 2024/06/04 14:31:12 INFO mlflow.system_metrics.system_metrics_monitor: Started monitoring system metrics.\n",
      "SystemMetricsMonitor:\n",
      "Traceback (most recent call last):\n",
      "  File \"C:\\Users\\hdychko\\AppData\\Local\\anaconda3\\envs\\experian_dev\\Lib\\threading.py\", line 1073, in _bootstrap_inner\n",
      "    self.run()\n",
      "  File \"C:\\Users\\hdychko\\AppData\\Local\\anaconda3\\envs\\experian_dev\\Lib\\threading.py\", line 1010, in run\n",
      "    self._target(*self._args, **self._kwargs)\n",
      "  File \"C:\\Users\\hdychko\\AppData\\Local\\anaconda3\\envs\\experian_dev\\Lib\\site-packages\\mlflow\\system_metrics\\system_metrics_monitor.py\", line 122, in monitor\n",
      "    self.collect_metrics()\n",
      "  File \"C:\\Users\\hdychko\\AppData\\Local\\anaconda3\\envs\\experian_dev\\Lib\\site-packages\\mlflow\\system_metrics\\system_metrics_monitor.py\", line 148, in collect_metrics\n",
      "    monitor.collect_metrics()\n",
      "  File \"C:\\Users\\hdychko\\AppData\\Local\\anaconda3\\envs\\experian_dev\\Lib\\site-packages\\mlflow\\system_metrics\\metrics\\disk_monitor.py\", line 15, in collect_metrics\n",
      "    disk_usage = psutil.disk_usage(os.sep)\n",
      "                 ^^^^^^^^^^^^^^^^^^^^^^^^^\n",
      "  File \"C:\\Users\\hdychko\\AppData\\Local\\anaconda3\\envs\\experian_dev\\Lib\\site-packages\\psutil\\__init__.py\", line 2003, in disk_usage\n",
      "    return _psplatform.disk_usage(path)\n",
      "           ^^^^^^^^^^^^^^^^^^^^^^^^^^^^\n",
      "  File \"C:\\Users\\hdychko\\AppData\\Local\\anaconda3\\envs\\experian_dev\\Lib\\site-packages\\psutil\\_pswindows.py\", line 274, in disk_usage\n",
      "    total, free = cext.disk_usage(path)\n",
      "                  ^^^^^^^^^^^^^^^^^^^^^\n",
      "SystemError: argument 1 (impossible<bad format char>)\n",
      "2024/06/04 14:31:27 INFO mlflow.system_metrics.system_metrics_monitor: Stopping system metrics monitoring...\n",
      "2024/06/04 14:31:27 INFO mlflow.system_metrics.system_metrics_monitor: Successfully terminated system metrics monitoring!\n"
     ]
    },
    {
     "name": "stdout",
     "output_type": "stream",
     "text": [
      "# 32 / 100\n"
     ]
    },
    {
     "name": "stderr",
     "output_type": "stream",
     "text": [
      "2024/06/04 14:31:30 WARNING mlflow.system_metrics.system_metrics_monitor: Skip logging GPU metrics because creating `GPUMonitor` failed with error: Failed to initialize NVML, skip logging GPU metrics: NVML Shared Library Not Found.\n",
      "Exception in thread 2024/06/04 14:31:30 INFO mlflow.system_metrics.system_metrics_monitor: Started monitoring system metrics.\n",
      "SystemMetricsMonitor:\n",
      "Traceback (most recent call last):\n",
      "  File \"C:\\Users\\hdychko\\AppData\\Local\\anaconda3\\envs\\experian_dev\\Lib\\threading.py\", line 1073, in _bootstrap_inner\n",
      "    self.run()\n",
      "  File \"C:\\Users\\hdychko\\AppData\\Local\\anaconda3\\envs\\experian_dev\\Lib\\threading.py\", line 1010, in run\n",
      "    self._target(*self._args, **self._kwargs)\n",
      "  File \"C:\\Users\\hdychko\\AppData\\Local\\anaconda3\\envs\\experian_dev\\Lib\\site-packages\\mlflow\\system_metrics\\system_metrics_monitor.py\", line 122, in monitor\n",
      "    self.collect_metrics()\n",
      "  File \"C:\\Users\\hdychko\\AppData\\Local\\anaconda3\\envs\\experian_dev\\Lib\\site-packages\\mlflow\\system_metrics\\system_metrics_monitor.py\", line 148, in collect_metrics\n",
      "    monitor.collect_metrics()\n",
      "  File \"C:\\Users\\hdychko\\AppData\\Local\\anaconda3\\envs\\experian_dev\\Lib\\site-packages\\mlflow\\system_metrics\\metrics\\disk_monitor.py\", line 15, in collect_metrics\n",
      "    disk_usage = psutil.disk_usage(os.sep)\n",
      "                 ^^^^^^^^^^^^^^^^^^^^^^^^^\n",
      "  File \"C:\\Users\\hdychko\\AppData\\Local\\anaconda3\\envs\\experian_dev\\Lib\\site-packages\\psutil\\__init__.py\", line 2003, in disk_usage\n",
      "    return _psplatform.disk_usage(path)\n",
      "           ^^^^^^^^^^^^^^^^^^^^^^^^^^^^\n",
      "  File \"C:\\Users\\hdychko\\AppData\\Local\\anaconda3\\envs\\experian_dev\\Lib\\site-packages\\psutil\\_pswindows.py\", line 274, in disk_usage\n",
      "    total, free = cext.disk_usage(path)\n",
      "                  ^^^^^^^^^^^^^^^^^^^^^\n",
      "SystemError: argument 1 (impossible<bad format char>)\n",
      "2024/06/04 14:31:40 INFO mlflow.system_metrics.system_metrics_monitor: Stopping system metrics monitoring...\n",
      "2024/06/04 14:31:40 INFO mlflow.system_metrics.system_metrics_monitor: Successfully terminated system metrics monitoring!\n"
     ]
    },
    {
     "name": "stdout",
     "output_type": "stream",
     "text": [
      "# 33 / 100\n"
     ]
    },
    {
     "name": "stderr",
     "output_type": "stream",
     "text": [
      "2024/06/04 14:31:42 WARNING mlflow.system_metrics.system_metrics_monitor: Skip logging GPU metrics because creating `GPUMonitor` failed with error: Failed to initialize NVML, skip logging GPU metrics: NVML Shared Library Not Found.\n",
      "Exception in thread SystemMetricsMonitor:\n",
      "Traceback (most recent call last):\n",
      "  File \"C:\\Users\\hdychko\\AppData\\Local\\anaconda3\\envs\\experian_dev\\Lib\\threading.py\", line 1073, in _bootstrap_inner\n",
      "2024/06/04 14:31:42 INFO mlflow.system_metrics.system_metrics_monitor: Started monitoring system metrics.\n",
      "    self.run()\n",
      "  File \"C:\\Users\\hdychko\\AppData\\Local\\anaconda3\\envs\\experian_dev\\Lib\\threading.py\", line 1010, in run\n",
      "    self._target(*self._args, **self._kwargs)\n",
      "  File \"C:\\Users\\hdychko\\AppData\\Local\\anaconda3\\envs\\experian_dev\\Lib\\site-packages\\mlflow\\system_metrics\\system_metrics_monitor.py\", line 122, in monitor\n",
      "    self.collect_metrics()\n",
      "  File \"C:\\Users\\hdychko\\AppData\\Local\\anaconda3\\envs\\experian_dev\\Lib\\site-packages\\mlflow\\system_metrics\\system_metrics_monitor.py\", line 148, in collect_metrics\n",
      "    monitor.collect_metrics()\n",
      "  File \"C:\\Users\\hdychko\\AppData\\Local\\anaconda3\\envs\\experian_dev\\Lib\\site-packages\\mlflow\\system_metrics\\metrics\\disk_monitor.py\", line 15, in collect_metrics\n",
      "    disk_usage = psutil.disk_usage(os.sep)\n",
      "                 ^^^^^^^^^^^^^^^^^^^^^^^^^\n",
      "  File \"C:\\Users\\hdychko\\AppData\\Local\\anaconda3\\envs\\experian_dev\\Lib\\site-packages\\psutil\\__init__.py\", line 2003, in disk_usage\n",
      "    return _psplatform.disk_usage(path)\n",
      "           ^^^^^^^^^^^^^^^^^^^^^^^^^^^^\n",
      "  File \"C:\\Users\\hdychko\\AppData\\Local\\anaconda3\\envs\\experian_dev\\Lib\\site-packages\\psutil\\_pswindows.py\", line 274, in disk_usage\n",
      "    total, free = cext.disk_usage(path)\n",
      "                  ^^^^^^^^^^^^^^^^^^^^^\n",
      "SystemError: argument 1 (impossible<bad format char>)\n",
      "2024/06/04 14:31:51 INFO mlflow.system_metrics.system_metrics_monitor: Stopping system metrics monitoring...\n",
      "2024/06/04 14:31:51 INFO mlflow.system_metrics.system_metrics_monitor: Successfully terminated system metrics monitoring!\n"
     ]
    },
    {
     "name": "stdout",
     "output_type": "stream",
     "text": [
      "# 34 / 100\n"
     ]
    },
    {
     "name": "stderr",
     "output_type": "stream",
     "text": [
      "2024/06/04 14:31:57 WARNING mlflow.system_metrics.system_metrics_monitor: Skip logging GPU metrics because creating `GPUMonitor` failed with error: Failed to initialize NVML, skip logging GPU metrics: NVML Shared Library Not Found.\n",
      "Exception in thread 2024/06/04 14:31:57 INFO mlflow.system_metrics.system_metrics_monitor: Started monitoring system metrics.\n",
      "SystemMetricsMonitor:\n",
      "Traceback (most recent call last):\n",
      "  File \"C:\\Users\\hdychko\\AppData\\Local\\anaconda3\\envs\\experian_dev\\Lib\\threading.py\", line 1073, in _bootstrap_inner\n",
      "    self.run()\n",
      "  File \"C:\\Users\\hdychko\\AppData\\Local\\anaconda3\\envs\\experian_dev\\Lib\\threading.py\", line 1010, in run\n",
      "    self._target(*self._args, **self._kwargs)\n",
      "  File \"C:\\Users\\hdychko\\AppData\\Local\\anaconda3\\envs\\experian_dev\\Lib\\site-packages\\mlflow\\system_metrics\\system_metrics_monitor.py\", line 122, in monitor\n",
      "    self.collect_metrics()\n",
      "  File \"C:\\Users\\hdychko\\AppData\\Local\\anaconda3\\envs\\experian_dev\\Lib\\site-packages\\mlflow\\system_metrics\\system_metrics_monitor.py\", line 148, in collect_metrics\n",
      "    monitor.collect_metrics()\n",
      "  File \"C:\\Users\\hdychko\\AppData\\Local\\anaconda3\\envs\\experian_dev\\Lib\\site-packages\\mlflow\\system_metrics\\metrics\\disk_monitor.py\", line 15, in collect_metrics\n",
      "    disk_usage = psutil.disk_usage(os.sep)\n",
      "                 ^^^^^^^^^^^^^^^^^^^^^^^^^\n",
      "  File \"C:\\Users\\hdychko\\AppData\\Local\\anaconda3\\envs\\experian_dev\\Lib\\site-packages\\psutil\\__init__.py\", line 2003, in disk_usage\n",
      "    return _psplatform.disk_usage(path)\n",
      "           ^^^^^^^^^^^^^^^^^^^^^^^^^^^^\n",
      "  File \"C:\\Users\\hdychko\\AppData\\Local\\anaconda3\\envs\\experian_dev\\Lib\\site-packages\\psutil\\_pswindows.py\", line 274, in disk_usage\n",
      "    total, free = cext.disk_usage(path)\n",
      "                  ^^^^^^^^^^^^^^^^^^^^^\n",
      "SystemError: argument 1 (impossible<bad format char>)\n",
      "2024/06/04 14:32:07 INFO mlflow.system_metrics.system_metrics_monitor: Stopping system metrics monitoring...\n",
      "2024/06/04 14:32:07 INFO mlflow.system_metrics.system_metrics_monitor: Successfully terminated system metrics monitoring!\n"
     ]
    },
    {
     "name": "stdout",
     "output_type": "stream",
     "text": [
      "# 35 / 100\n"
     ]
    },
    {
     "name": "stderr",
     "output_type": "stream",
     "text": [
      "2024/06/04 14:32:10 WARNING mlflow.system_metrics.system_metrics_monitor: Skip logging GPU metrics because creating `GPUMonitor` failed with error: Failed to initialize NVML, skip logging GPU metrics: NVML Shared Library Not Found.\n",
      "Exception in thread 2024/06/04 14:32:10 INFO mlflow.system_metrics.system_metrics_monitor: Started monitoring system metrics.\n",
      "SystemMetricsMonitor:\n",
      "Traceback (most recent call last):\n",
      "  File \"C:\\Users\\hdychko\\AppData\\Local\\anaconda3\\envs\\experian_dev\\Lib\\threading.py\", line 1073, in _bootstrap_inner\n",
      "    self.run()\n",
      "  File \"C:\\Users\\hdychko\\AppData\\Local\\anaconda3\\envs\\experian_dev\\Lib\\threading.py\", line 1010, in run\n",
      "    self._target(*self._args, **self._kwargs)\n",
      "  File \"C:\\Users\\hdychko\\AppData\\Local\\anaconda3\\envs\\experian_dev\\Lib\\site-packages\\mlflow\\system_metrics\\system_metrics_monitor.py\", line 122, in monitor\n",
      "    self.collect_metrics()\n",
      "  File \"C:\\Users\\hdychko\\AppData\\Local\\anaconda3\\envs\\experian_dev\\Lib\\site-packages\\mlflow\\system_metrics\\system_metrics_monitor.py\", line 148, in collect_metrics\n",
      "    monitor.collect_metrics()\n",
      "  File \"C:\\Users\\hdychko\\AppData\\Local\\anaconda3\\envs\\experian_dev\\Lib\\site-packages\\mlflow\\system_metrics\\metrics\\disk_monitor.py\", line 15, in collect_metrics\n",
      "    disk_usage = psutil.disk_usage(os.sep)\n",
      "                 ^^^^^^^^^^^^^^^^^^^^^^^^^\n",
      "  File \"C:\\Users\\hdychko\\AppData\\Local\\anaconda3\\envs\\experian_dev\\Lib\\site-packages\\psutil\\__init__.py\", line 2003, in disk_usage\n",
      "    return _psplatform.disk_usage(path)\n",
      "           ^^^^^^^^^^^^^^^^^^^^^^^^^^^^\n",
      "  File \"C:\\Users\\hdychko\\AppData\\Local\\anaconda3\\envs\\experian_dev\\Lib\\site-packages\\psutil\\_pswindows.py\", line 274, in disk_usage\n",
      "    total, free = cext.disk_usage(path)\n",
      "                  ^^^^^^^^^^^^^^^^^^^^^\n",
      "SystemError: argument 1 (impossible<bad format char>)\n",
      "2024/06/04 14:32:19 INFO mlflow.system_metrics.system_metrics_monitor: Stopping system metrics monitoring...\n",
      "2024/06/04 14:32:19 INFO mlflow.system_metrics.system_metrics_monitor: Successfully terminated system metrics monitoring!\n"
     ]
    },
    {
     "name": "stdout",
     "output_type": "stream",
     "text": [
      "# 36 / 100\n"
     ]
    },
    {
     "name": "stderr",
     "output_type": "stream",
     "text": [
      "2024/06/04 14:32:20 WARNING mlflow.system_metrics.system_metrics_monitor: Skip logging GPU metrics because creating `GPUMonitor` failed with error: Failed to initialize NVML, skip logging GPU metrics: NVML Shared Library Not Found.\n",
      "Exception in thread 2024/06/04 14:32:20 INFO mlflow.system_metrics.system_metrics_monitor: Started monitoring system metrics.\n",
      "SystemMetricsMonitor:\n",
      "Traceback (most recent call last):\n",
      "  File \"C:\\Users\\hdychko\\AppData\\Local\\anaconda3\\envs\\experian_dev\\Lib\\threading.py\", line 1073, in _bootstrap_inner\n",
      "    self.run()\n",
      "  File \"C:\\Users\\hdychko\\AppData\\Local\\anaconda3\\envs\\experian_dev\\Lib\\threading.py\", line 1010, in run\n",
      "    self._target(*self._args, **self._kwargs)\n",
      "  File \"C:\\Users\\hdychko\\AppData\\Local\\anaconda3\\envs\\experian_dev\\Lib\\site-packages\\mlflow\\system_metrics\\system_metrics_monitor.py\", line 122, in monitor\n",
      "    self.collect_metrics()\n",
      "  File \"C:\\Users\\hdychko\\AppData\\Local\\anaconda3\\envs\\experian_dev\\Lib\\site-packages\\mlflow\\system_metrics\\system_metrics_monitor.py\", line 148, in collect_metrics\n",
      "    monitor.collect_metrics()\n",
      "  File \"C:\\Users\\hdychko\\AppData\\Local\\anaconda3\\envs\\experian_dev\\Lib\\site-packages\\mlflow\\system_metrics\\metrics\\disk_monitor.py\", line 15, in collect_metrics\n",
      "    disk_usage = psutil.disk_usage(os.sep)\n",
      "                 ^^^^^^^^^^^^^^^^^^^^^^^^^\n",
      "  File \"C:\\Users\\hdychko\\AppData\\Local\\anaconda3\\envs\\experian_dev\\Lib\\site-packages\\psutil\\__init__.py\", line 2003, in disk_usage\n",
      "    return _psplatform.disk_usage(path)\n",
      "           ^^^^^^^^^^^^^^^^^^^^^^^^^^^^\n",
      "  File \"C:\\Users\\hdychko\\AppData\\Local\\anaconda3\\envs\\experian_dev\\Lib\\site-packages\\psutil\\_pswindows.py\", line 274, in disk_usage\n",
      "    total, free = cext.disk_usage(path)\n",
      "                  ^^^^^^^^^^^^^^^^^^^^^\n",
      "SystemError: argument 1 (impossible<bad format char>)\n",
      "2024/06/04 14:32:29 INFO mlflow.system_metrics.system_metrics_monitor: Stopping system metrics monitoring...\n",
      "2024/06/04 14:32:29 INFO mlflow.system_metrics.system_metrics_monitor: Successfully terminated system metrics monitoring!\n"
     ]
    },
    {
     "name": "stdout",
     "output_type": "stream",
     "text": [
      "# 37 / 100\n"
     ]
    },
    {
     "name": "stderr",
     "output_type": "stream",
     "text": [
      "2024/06/04 14:32:33 WARNING mlflow.system_metrics.system_metrics_monitor: Skip logging GPU metrics because creating `GPUMonitor` failed with error: Failed to initialize NVML, skip logging GPU metrics: NVML Shared Library Not Found.\n",
      "Exception in thread 2024/06/04 14:32:33 INFO mlflow.system_metrics.system_metrics_monitor: Started monitoring system metrics.\n",
      "SystemMetricsMonitor:\n",
      "Traceback (most recent call last):\n",
      "  File \"C:\\Users\\hdychko\\AppData\\Local\\anaconda3\\envs\\experian_dev\\Lib\\threading.py\", line 1073, in _bootstrap_inner\n",
      "    self.run()\n",
      "  File \"C:\\Users\\hdychko\\AppData\\Local\\anaconda3\\envs\\experian_dev\\Lib\\threading.py\", line 1010, in run\n",
      "    self._target(*self._args, **self._kwargs)\n",
      "  File \"C:\\Users\\hdychko\\AppData\\Local\\anaconda3\\envs\\experian_dev\\Lib\\site-packages\\mlflow\\system_metrics\\system_metrics_monitor.py\", line 122, in monitor\n",
      "    self.collect_metrics()\n",
      "  File \"C:\\Users\\hdychko\\AppData\\Local\\anaconda3\\envs\\experian_dev\\Lib\\site-packages\\mlflow\\system_metrics\\system_metrics_monitor.py\", line 148, in collect_metrics\n",
      "    monitor.collect_metrics()\n",
      "  File \"C:\\Users\\hdychko\\AppData\\Local\\anaconda3\\envs\\experian_dev\\Lib\\site-packages\\mlflow\\system_metrics\\metrics\\disk_monitor.py\", line 15, in collect_metrics\n",
      "    disk_usage = psutil.disk_usage(os.sep)\n",
      "                 ^^^^^^^^^^^^^^^^^^^^^^^^^\n",
      "  File \"C:\\Users\\hdychko\\AppData\\Local\\anaconda3\\envs\\experian_dev\\Lib\\site-packages\\psutil\\__init__.py\", line 2003, in disk_usage\n",
      "    return _psplatform.disk_usage(path)\n",
      "           ^^^^^^^^^^^^^^^^^^^^^^^^^^^^\n",
      "  File \"C:\\Users\\hdychko\\AppData\\Local\\anaconda3\\envs\\experian_dev\\Lib\\site-packages\\psutil\\_pswindows.py\", line 274, in disk_usage\n",
      "    total, free = cext.disk_usage(path)\n",
      "                  ^^^^^^^^^^^^^^^^^^^^^\n",
      "SystemError: argument 1 (impossible<bad format char>)\n",
      "2024/06/04 14:32:41 INFO mlflow.system_metrics.system_metrics_monitor: Stopping system metrics monitoring...\n",
      "2024/06/04 14:32:41 INFO mlflow.system_metrics.system_metrics_monitor: Successfully terminated system metrics monitoring!\n"
     ]
    },
    {
     "name": "stdout",
     "output_type": "stream",
     "text": [
      "# 38 / 100\n"
     ]
    },
    {
     "name": "stderr",
     "output_type": "stream",
     "text": [
      "2024/06/04 14:32:45 WARNING mlflow.system_metrics.system_metrics_monitor: Skip logging GPU metrics because creating `GPUMonitor` failed with error: Failed to initialize NVML, skip logging GPU metrics: NVML Shared Library Not Found.\n",
      "Exception in thread 2024/06/04 14:32:45 INFO mlflow.system_metrics.system_metrics_monitor: Started monitoring system metrics.\n",
      "SystemMetricsMonitor:\n",
      "Traceback (most recent call last):\n",
      "  File \"C:\\Users\\hdychko\\AppData\\Local\\anaconda3\\envs\\experian_dev\\Lib\\threading.py\", line 1073, in _bootstrap_inner\n",
      "    self.run()\n",
      "  File \"C:\\Users\\hdychko\\AppData\\Local\\anaconda3\\envs\\experian_dev\\Lib\\threading.py\", line 1010, in run\n",
      "    self._target(*self._args, **self._kwargs)\n",
      "  File \"C:\\Users\\hdychko\\AppData\\Local\\anaconda3\\envs\\experian_dev\\Lib\\site-packages\\mlflow\\system_metrics\\system_metrics_monitor.py\", line 122, in monitor\n",
      "    self.collect_metrics()\n",
      "  File \"C:\\Users\\hdychko\\AppData\\Local\\anaconda3\\envs\\experian_dev\\Lib\\site-packages\\mlflow\\system_metrics\\system_metrics_monitor.py\", line 148, in collect_metrics\n",
      "    monitor.collect_metrics()\n",
      "  File \"C:\\Users\\hdychko\\AppData\\Local\\anaconda3\\envs\\experian_dev\\Lib\\site-packages\\mlflow\\system_metrics\\metrics\\disk_monitor.py\", line 15, in collect_metrics\n",
      "    disk_usage = psutil.disk_usage(os.sep)\n",
      "                 ^^^^^^^^^^^^^^^^^^^^^^^^^\n",
      "  File \"C:\\Users\\hdychko\\AppData\\Local\\anaconda3\\envs\\experian_dev\\Lib\\site-packages\\psutil\\__init__.py\", line 2003, in disk_usage\n",
      "    return _psplatform.disk_usage(path)\n",
      "           ^^^^^^^^^^^^^^^^^^^^^^^^^^^^\n",
      "  File \"C:\\Users\\hdychko\\AppData\\Local\\anaconda3\\envs\\experian_dev\\Lib\\site-packages\\psutil\\_pswindows.py\", line 274, in disk_usage\n",
      "    total, free = cext.disk_usage(path)\n",
      "                  ^^^^^^^^^^^^^^^^^^^^^\n",
      "SystemError: argument 1 (impossible<bad format char>)\n",
      "2024/06/04 14:32:54 INFO mlflow.system_metrics.system_metrics_monitor: Stopping system metrics monitoring...\n",
      "2024/06/04 14:32:54 INFO mlflow.system_metrics.system_metrics_monitor: Successfully terminated system metrics monitoring!\n"
     ]
    },
    {
     "name": "stdout",
     "output_type": "stream",
     "text": [
      "# 39 / 100\n"
     ]
    },
    {
     "name": "stderr",
     "output_type": "stream",
     "text": [
      "2024/06/04 14:32:57 WARNING mlflow.system_metrics.system_metrics_monitor: Skip logging GPU metrics because creating `GPUMonitor` failed with error: Failed to initialize NVML, skip logging GPU metrics: NVML Shared Library Not Found.\n",
      "Exception in thread 2024/06/04 14:32:57 INFO mlflow.system_metrics.system_metrics_monitor: Started monitoring system metrics.\n",
      "SystemMetricsMonitor:\n",
      "Traceback (most recent call last):\n",
      "  File \"C:\\Users\\hdychko\\AppData\\Local\\anaconda3\\envs\\experian_dev\\Lib\\threading.py\", line 1073, in _bootstrap_inner\n",
      "    self.run()\n",
      "  File \"C:\\Users\\hdychko\\AppData\\Local\\anaconda3\\envs\\experian_dev\\Lib\\threading.py\", line 1010, in run\n",
      "    self._target(*self._args, **self._kwargs)\n",
      "  File \"C:\\Users\\hdychko\\AppData\\Local\\anaconda3\\envs\\experian_dev\\Lib\\site-packages\\mlflow\\system_metrics\\system_metrics_monitor.py\", line 122, in monitor\n",
      "    self.collect_metrics()\n",
      "  File \"C:\\Users\\hdychko\\AppData\\Local\\anaconda3\\envs\\experian_dev\\Lib\\site-packages\\mlflow\\system_metrics\\system_metrics_monitor.py\", line 148, in collect_metrics\n",
      "    monitor.collect_metrics()\n",
      "  File \"C:\\Users\\hdychko\\AppData\\Local\\anaconda3\\envs\\experian_dev\\Lib\\site-packages\\mlflow\\system_metrics\\metrics\\disk_monitor.py\", line 15, in collect_metrics\n",
      "    disk_usage = psutil.disk_usage(os.sep)\n",
      "                 ^^^^^^^^^^^^^^^^^^^^^^^^^\n",
      "  File \"C:\\Users\\hdychko\\AppData\\Local\\anaconda3\\envs\\experian_dev\\Lib\\site-packages\\psutil\\__init__.py\", line 2003, in disk_usage\n",
      "    return _psplatform.disk_usage(path)\n",
      "           ^^^^^^^^^^^^^^^^^^^^^^^^^^^^\n",
      "  File \"C:\\Users\\hdychko\\AppData\\Local\\anaconda3\\envs\\experian_dev\\Lib\\site-packages\\psutil\\_pswindows.py\", line 274, in disk_usage\n",
      "    total, free = cext.disk_usage(path)\n",
      "                  ^^^^^^^^^^^^^^^^^^^^^\n",
      "SystemError: argument 1 (impossible<bad format char>)\n",
      "2024/06/04 14:33:05 INFO mlflow.system_metrics.system_metrics_monitor: Stopping system metrics monitoring...\n",
      "2024/06/04 14:33:05 INFO mlflow.system_metrics.system_metrics_monitor: Successfully terminated system metrics monitoring!\n"
     ]
    },
    {
     "name": "stdout",
     "output_type": "stream",
     "text": [
      "# 40 / 100\n"
     ]
    },
    {
     "name": "stderr",
     "output_type": "stream",
     "text": [
      "2024/06/04 14:33:08 WARNING mlflow.system_metrics.system_metrics_monitor: Skip logging GPU metrics because creating `GPUMonitor` failed with error: Failed to initialize NVML, skip logging GPU metrics: NVML Shared Library Not Found.\n",
      "Exception in thread 2024/06/04 14:33:08 INFO mlflow.system_metrics.system_metrics_monitor: Started monitoring system metrics.\n",
      "SystemMetricsMonitor:\n",
      "Traceback (most recent call last):\n",
      "  File \"C:\\Users\\hdychko\\AppData\\Local\\anaconda3\\envs\\experian_dev\\Lib\\threading.py\", line 1073, in _bootstrap_inner\n",
      "    self.run()\n",
      "  File \"C:\\Users\\hdychko\\AppData\\Local\\anaconda3\\envs\\experian_dev\\Lib\\threading.py\", line 1010, in run\n",
      "    self._target(*self._args, **self._kwargs)\n",
      "  File \"C:\\Users\\hdychko\\AppData\\Local\\anaconda3\\envs\\experian_dev\\Lib\\site-packages\\mlflow\\system_metrics\\system_metrics_monitor.py\", line 122, in monitor\n",
      "    self.collect_metrics()\n",
      "  File \"C:\\Users\\hdychko\\AppData\\Local\\anaconda3\\envs\\experian_dev\\Lib\\site-packages\\mlflow\\system_metrics\\system_metrics_monitor.py\", line 148, in collect_metrics\n",
      "    monitor.collect_metrics()\n",
      "  File \"C:\\Users\\hdychko\\AppData\\Local\\anaconda3\\envs\\experian_dev\\Lib\\site-packages\\mlflow\\system_metrics\\metrics\\disk_monitor.py\", line 15, in collect_metrics\n",
      "    disk_usage = psutil.disk_usage(os.sep)\n",
      "                 ^^^^^^^^^^^^^^^^^^^^^^^^^\n",
      "  File \"C:\\Users\\hdychko\\AppData\\Local\\anaconda3\\envs\\experian_dev\\Lib\\site-packages\\psutil\\__init__.py\", line 2003, in disk_usage\n",
      "    return _psplatform.disk_usage(path)\n",
      "           ^^^^^^^^^^^^^^^^^^^^^^^^^^^^\n",
      "  File \"C:\\Users\\hdychko\\AppData\\Local\\anaconda3\\envs\\experian_dev\\Lib\\site-packages\\psutil\\_pswindows.py\", line 274, in disk_usage\n",
      "    total, free = cext.disk_usage(path)\n",
      "                  ^^^^^^^^^^^^^^^^^^^^^\n",
      "SystemError: argument 1 (impossible<bad format char>)\n",
      "2024/06/04 14:33:18 INFO mlflow.system_metrics.system_metrics_monitor: Stopping system metrics monitoring...\n",
      "2024/06/04 14:33:18 INFO mlflow.system_metrics.system_metrics_monitor: Successfully terminated system metrics monitoring!\n"
     ]
    },
    {
     "name": "stdout",
     "output_type": "stream",
     "text": [
      "# 41 / 100\n"
     ]
    },
    {
     "name": "stderr",
     "output_type": "stream",
     "text": [
      "2024/06/04 14:33:22 WARNING mlflow.system_metrics.system_metrics_monitor: Skip logging GPU metrics because creating `GPUMonitor` failed with error: Failed to initialize NVML, skip logging GPU metrics: NVML Shared Library Not Found.\n",
      "Exception in thread 2024/06/04 14:33:22 INFO mlflow.system_metrics.system_metrics_monitor: Started monitoring system metrics.\n",
      "SystemMetricsMonitor:\n",
      "Traceback (most recent call last):\n",
      "  File \"C:\\Users\\hdychko\\AppData\\Local\\anaconda3\\envs\\experian_dev\\Lib\\threading.py\", line 1073, in _bootstrap_inner\n",
      "    self.run()\n",
      "  File \"C:\\Users\\hdychko\\AppData\\Local\\anaconda3\\envs\\experian_dev\\Lib\\threading.py\", line 1010, in run\n",
      "    self._target(*self._args, **self._kwargs)\n",
      "  File \"C:\\Users\\hdychko\\AppData\\Local\\anaconda3\\envs\\experian_dev\\Lib\\site-packages\\mlflow\\system_metrics\\system_metrics_monitor.py\", line 122, in monitor\n",
      "    self.collect_metrics()\n",
      "  File \"C:\\Users\\hdychko\\AppData\\Local\\anaconda3\\envs\\experian_dev\\Lib\\site-packages\\mlflow\\system_metrics\\system_metrics_monitor.py\", line 148, in collect_metrics\n",
      "    monitor.collect_metrics()\n",
      "  File \"C:\\Users\\hdychko\\AppData\\Local\\anaconda3\\envs\\experian_dev\\Lib\\site-packages\\mlflow\\system_metrics\\metrics\\disk_monitor.py\", line 15, in collect_metrics\n",
      "    disk_usage = psutil.disk_usage(os.sep)\n",
      "                 ^^^^^^^^^^^^^^^^^^^^^^^^^\n",
      "  File \"C:\\Users\\hdychko\\AppData\\Local\\anaconda3\\envs\\experian_dev\\Lib\\site-packages\\psutil\\__init__.py\", line 2003, in disk_usage\n",
      "    return _psplatform.disk_usage(path)\n",
      "           ^^^^^^^^^^^^^^^^^^^^^^^^^^^^\n",
      "  File \"C:\\Users\\hdychko\\AppData\\Local\\anaconda3\\envs\\experian_dev\\Lib\\site-packages\\psutil\\_pswindows.py\", line 274, in disk_usage\n",
      "    total, free = cext.disk_usage(path)\n",
      "                  ^^^^^^^^^^^^^^^^^^^^^\n",
      "SystemError: argument 1 (impossible<bad format char>)\n",
      "2024/06/04 14:33:33 INFO mlflow.system_metrics.system_metrics_monitor: Stopping system metrics monitoring...\n",
      "2024/06/04 14:33:33 INFO mlflow.system_metrics.system_metrics_monitor: Successfully terminated system metrics monitoring!\n"
     ]
    },
    {
     "name": "stdout",
     "output_type": "stream",
     "text": [
      "# 42 / 100\n"
     ]
    },
    {
     "name": "stderr",
     "output_type": "stream",
     "text": [
      "2024/06/04 14:33:38 WARNING mlflow.system_metrics.system_metrics_monitor: Skip logging GPU metrics because creating `GPUMonitor` failed with error: Failed to initialize NVML, skip logging GPU metrics: NVML Shared Library Not Found.\n",
      "Exception in thread 2024/06/04 14:33:38 INFO mlflow.system_metrics.system_metrics_monitor: Started monitoring system metrics.\n",
      "SystemMetricsMonitor:\n",
      "Traceback (most recent call last):\n",
      "  File \"C:\\Users\\hdychko\\AppData\\Local\\anaconda3\\envs\\experian_dev\\Lib\\threading.py\", line 1073, in _bootstrap_inner\n",
      "    self.run()\n",
      "  File \"C:\\Users\\hdychko\\AppData\\Local\\anaconda3\\envs\\experian_dev\\Lib\\threading.py\", line 1010, in run\n",
      "    self._target(*self._args, **self._kwargs)\n",
      "  File \"C:\\Users\\hdychko\\AppData\\Local\\anaconda3\\envs\\experian_dev\\Lib\\site-packages\\mlflow\\system_metrics\\system_metrics_monitor.py\", line 122, in monitor\n",
      "    self.collect_metrics()\n",
      "  File \"C:\\Users\\hdychko\\AppData\\Local\\anaconda3\\envs\\experian_dev\\Lib\\site-packages\\mlflow\\system_metrics\\system_metrics_monitor.py\", line 148, in collect_metrics\n",
      "    monitor.collect_metrics()\n",
      "  File \"C:\\Users\\hdychko\\AppData\\Local\\anaconda3\\envs\\experian_dev\\Lib\\site-packages\\mlflow\\system_metrics\\metrics\\disk_monitor.py\", line 15, in collect_metrics\n",
      "    disk_usage = psutil.disk_usage(os.sep)\n",
      "                 ^^^^^^^^^^^^^^^^^^^^^^^^^\n",
      "  File \"C:\\Users\\hdychko\\AppData\\Local\\anaconda3\\envs\\experian_dev\\Lib\\site-packages\\psutil\\__init__.py\", line 2003, in disk_usage\n",
      "    return _psplatform.disk_usage(path)\n",
      "           ^^^^^^^^^^^^^^^^^^^^^^^^^^^^\n",
      "  File \"C:\\Users\\hdychko\\AppData\\Local\\anaconda3\\envs\\experian_dev\\Lib\\site-packages\\psutil\\_pswindows.py\", line 274, in disk_usage\n",
      "    total, free = cext.disk_usage(path)\n",
      "                  ^^^^^^^^^^^^^^^^^^^^^\n",
      "SystemError: argument 1 (impossible<bad format char>)\n",
      "2024/06/04 14:33:48 INFO mlflow.system_metrics.system_metrics_monitor: Stopping system metrics monitoring...\n",
      "2024/06/04 14:33:48 INFO mlflow.system_metrics.system_metrics_monitor: Successfully terminated system metrics monitoring!\n"
     ]
    },
    {
     "name": "stdout",
     "output_type": "stream",
     "text": [
      "# 43 / 100\n"
     ]
    },
    {
     "name": "stderr",
     "output_type": "stream",
     "text": [
      "2024/06/04 14:33:49 WARNING mlflow.system_metrics.system_metrics_monitor: Skip logging GPU metrics because creating `GPUMonitor` failed with error: Failed to initialize NVML, skip logging GPU metrics: NVML Shared Library Not Found.\n",
      "Exception in thread 2024/06/04 14:33:49 INFO mlflow.system_metrics.system_metrics_monitor: Started monitoring system metrics.\n",
      "SystemMetricsMonitor:\n",
      "Traceback (most recent call last):\n",
      "  File \"C:\\Users\\hdychko\\AppData\\Local\\anaconda3\\envs\\experian_dev\\Lib\\threading.py\", line 1073, in _bootstrap_inner\n",
      "    self.run()\n",
      "  File \"C:\\Users\\hdychko\\AppData\\Local\\anaconda3\\envs\\experian_dev\\Lib\\threading.py\", line 1010, in run\n",
      "    self._target(*self._args, **self._kwargs)\n",
      "  File \"C:\\Users\\hdychko\\AppData\\Local\\anaconda3\\envs\\experian_dev\\Lib\\site-packages\\mlflow\\system_metrics\\system_metrics_monitor.py\", line 122, in monitor\n",
      "    self.collect_metrics()\n",
      "  File \"C:\\Users\\hdychko\\AppData\\Local\\anaconda3\\envs\\experian_dev\\Lib\\site-packages\\mlflow\\system_metrics\\system_metrics_monitor.py\", line 148, in collect_metrics\n",
      "    monitor.collect_metrics()\n",
      "  File \"C:\\Users\\hdychko\\AppData\\Local\\anaconda3\\envs\\experian_dev\\Lib\\site-packages\\mlflow\\system_metrics\\metrics\\disk_monitor.py\", line 15, in collect_metrics\n",
      "    disk_usage = psutil.disk_usage(os.sep)\n",
      "                 ^^^^^^^^^^^^^^^^^^^^^^^^^\n",
      "  File \"C:\\Users\\hdychko\\AppData\\Local\\anaconda3\\envs\\experian_dev\\Lib\\site-packages\\psutil\\__init__.py\", line 2003, in disk_usage\n",
      "    return _psplatform.disk_usage(path)\n",
      "           ^^^^^^^^^^^^^^^^^^^^^^^^^^^^\n",
      "  File \"C:\\Users\\hdychko\\AppData\\Local\\anaconda3\\envs\\experian_dev\\Lib\\site-packages\\psutil\\_pswindows.py\", line 274, in disk_usage\n",
      "    total, free = cext.disk_usage(path)\n",
      "                  ^^^^^^^^^^^^^^^^^^^^^\n",
      "SystemError: argument 1 (impossible<bad format char>)\n",
      "2024/06/04 14:33:57 INFO mlflow.system_metrics.system_metrics_monitor: Stopping system metrics monitoring...\n",
      "2024/06/04 14:33:57 INFO mlflow.system_metrics.system_metrics_monitor: Successfully terminated system metrics monitoring!\n"
     ]
    },
    {
     "name": "stdout",
     "output_type": "stream",
     "text": [
      "# 44 / 100\n"
     ]
    },
    {
     "name": "stderr",
     "output_type": "stream",
     "text": [
      "2024/06/04 14:33:59 WARNING mlflow.system_metrics.system_metrics_monitor: Skip logging GPU metrics because creating `GPUMonitor` failed with error: Failed to initialize NVML, skip logging GPU metrics: NVML Shared Library Not Found.\n",
      "Exception in thread 2024/06/04 14:33:59 INFO mlflow.system_metrics.system_metrics_monitor: Started monitoring system metrics.\n",
      "SystemMetricsMonitor:\n",
      "Traceback (most recent call last):\n",
      "  File \"C:\\Users\\hdychko\\AppData\\Local\\anaconda3\\envs\\experian_dev\\Lib\\threading.py\", line 1073, in _bootstrap_inner\n",
      "    self.run()\n",
      "  File \"C:\\Users\\hdychko\\AppData\\Local\\anaconda3\\envs\\experian_dev\\Lib\\threading.py\", line 1010, in run\n",
      "    self._target(*self._args, **self._kwargs)\n",
      "  File \"C:\\Users\\hdychko\\AppData\\Local\\anaconda3\\envs\\experian_dev\\Lib\\site-packages\\mlflow\\system_metrics\\system_metrics_monitor.py\", line 122, in monitor\n",
      "    self.collect_metrics()\n",
      "  File \"C:\\Users\\hdychko\\AppData\\Local\\anaconda3\\envs\\experian_dev\\Lib\\site-packages\\mlflow\\system_metrics\\system_metrics_monitor.py\", line 148, in collect_metrics\n",
      "    monitor.collect_metrics()\n",
      "  File \"C:\\Users\\hdychko\\AppData\\Local\\anaconda3\\envs\\experian_dev\\Lib\\site-packages\\mlflow\\system_metrics\\metrics\\disk_monitor.py\", line 15, in collect_metrics\n",
      "    disk_usage = psutil.disk_usage(os.sep)\n",
      "                 ^^^^^^^^^^^^^^^^^^^^^^^^^\n",
      "  File \"C:\\Users\\hdychko\\AppData\\Local\\anaconda3\\envs\\experian_dev\\Lib\\site-packages\\psutil\\__init__.py\", line 2003, in disk_usage\n",
      "    return _psplatform.disk_usage(path)\n",
      "           ^^^^^^^^^^^^^^^^^^^^^^^^^^^^\n",
      "  File \"C:\\Users\\hdychko\\AppData\\Local\\anaconda3\\envs\\experian_dev\\Lib\\site-packages\\psutil\\_pswindows.py\", line 274, in disk_usage\n",
      "    total, free = cext.disk_usage(path)\n",
      "                  ^^^^^^^^^^^^^^^^^^^^^\n",
      "SystemError: argument 1 (impossible<bad format char>)\n",
      "2024/06/04 14:34:06 INFO mlflow.system_metrics.system_metrics_monitor: Stopping system metrics monitoring...\n",
      "2024/06/04 14:34:06 INFO mlflow.system_metrics.system_metrics_monitor: Successfully terminated system metrics monitoring!\n"
     ]
    },
    {
     "name": "stdout",
     "output_type": "stream",
     "text": [
      "# 45 / 100\n"
     ]
    },
    {
     "name": "stderr",
     "output_type": "stream",
     "text": [
      "2024/06/04 14:34:09 WARNING mlflow.system_metrics.system_metrics_monitor: Skip logging GPU metrics because creating `GPUMonitor` failed with error: Failed to initialize NVML, skip logging GPU metrics: NVML Shared Library Not Found.\n",
      "Exception in thread 2024/06/04 14:34:09 INFO mlflow.system_metrics.system_metrics_monitor: Started monitoring system metrics.\n",
      "SystemMetricsMonitor:\n",
      "Traceback (most recent call last):\n",
      "  File \"C:\\Users\\hdychko\\AppData\\Local\\anaconda3\\envs\\experian_dev\\Lib\\threading.py\", line 1073, in _bootstrap_inner\n",
      "    self.run()\n",
      "  File \"C:\\Users\\hdychko\\AppData\\Local\\anaconda3\\envs\\experian_dev\\Lib\\threading.py\", line 1010, in run\n",
      "    self._target(*self._args, **self._kwargs)\n",
      "  File \"C:\\Users\\hdychko\\AppData\\Local\\anaconda3\\envs\\experian_dev\\Lib\\site-packages\\mlflow\\system_metrics\\system_metrics_monitor.py\", line 122, in monitor\n",
      "    self.collect_metrics()\n",
      "  File \"C:\\Users\\hdychko\\AppData\\Local\\anaconda3\\envs\\experian_dev\\Lib\\site-packages\\mlflow\\system_metrics\\system_metrics_monitor.py\", line 148, in collect_metrics\n",
      "    monitor.collect_metrics()\n",
      "  File \"C:\\Users\\hdychko\\AppData\\Local\\anaconda3\\envs\\experian_dev\\Lib\\site-packages\\mlflow\\system_metrics\\metrics\\disk_monitor.py\", line 15, in collect_metrics\n",
      "    disk_usage = psutil.disk_usage(os.sep)\n",
      "                 ^^^^^^^^^^^^^^^^^^^^^^^^^\n",
      "  File \"C:\\Users\\hdychko\\AppData\\Local\\anaconda3\\envs\\experian_dev\\Lib\\site-packages\\psutil\\__init__.py\", line 2003, in disk_usage\n",
      "    return _psplatform.disk_usage(path)\n",
      "           ^^^^^^^^^^^^^^^^^^^^^^^^^^^^\n",
      "  File \"C:\\Users\\hdychko\\AppData\\Local\\anaconda3\\envs\\experian_dev\\Lib\\site-packages\\psutil\\_pswindows.py\", line 274, in disk_usage\n",
      "    total, free = cext.disk_usage(path)\n",
      "                  ^^^^^^^^^^^^^^^^^^^^^\n",
      "SystemError: argument 1 (impossible<bad format char>)\n",
      "2024/06/04 14:34:21 INFO mlflow.system_metrics.system_metrics_monitor: Stopping system metrics monitoring...\n",
      "2024/06/04 14:34:21 INFO mlflow.system_metrics.system_metrics_monitor: Successfully terminated system metrics monitoring!\n"
     ]
    },
    {
     "name": "stdout",
     "output_type": "stream",
     "text": [
      "# 46 / 100\n"
     ]
    },
    {
     "name": "stderr",
     "output_type": "stream",
     "text": [
      "2024/06/04 14:34:26 WARNING mlflow.system_metrics.system_metrics_monitor: Skip logging GPU metrics because creating `GPUMonitor` failed with error: Failed to initialize NVML, skip logging GPU metrics: NVML Shared Library Not Found.\n",
      "Exception in thread 2024/06/04 14:34:26 INFO mlflow.system_metrics.system_metrics_monitor: Started monitoring system metrics.\n",
      "SystemMetricsMonitor:\n",
      "Traceback (most recent call last):\n",
      "  File \"C:\\Users\\hdychko\\AppData\\Local\\anaconda3\\envs\\experian_dev\\Lib\\threading.py\", line 1073, in _bootstrap_inner\n",
      "    self.run()\n",
      "  File \"C:\\Users\\hdychko\\AppData\\Local\\anaconda3\\envs\\experian_dev\\Lib\\threading.py\", line 1010, in run\n",
      "    self._target(*self._args, **self._kwargs)\n",
      "  File \"C:\\Users\\hdychko\\AppData\\Local\\anaconda3\\envs\\experian_dev\\Lib\\site-packages\\mlflow\\system_metrics\\system_metrics_monitor.py\", line 122, in monitor\n",
      "    self.collect_metrics()\n",
      "  File \"C:\\Users\\hdychko\\AppData\\Local\\anaconda3\\envs\\experian_dev\\Lib\\site-packages\\mlflow\\system_metrics\\system_metrics_monitor.py\", line 148, in collect_metrics\n",
      "    monitor.collect_metrics()\n",
      "  File \"C:\\Users\\hdychko\\AppData\\Local\\anaconda3\\envs\\experian_dev\\Lib\\site-packages\\mlflow\\system_metrics\\metrics\\disk_monitor.py\", line 15, in collect_metrics\n",
      "    disk_usage = psutil.disk_usage(os.sep)\n",
      "                 ^^^^^^^^^^^^^^^^^^^^^^^^^\n",
      "  File \"C:\\Users\\hdychko\\AppData\\Local\\anaconda3\\envs\\experian_dev\\Lib\\site-packages\\psutil\\__init__.py\", line 2003, in disk_usage\n",
      "    return _psplatform.disk_usage(path)\n",
      "           ^^^^^^^^^^^^^^^^^^^^^^^^^^^^\n",
      "  File \"C:\\Users\\hdychko\\AppData\\Local\\anaconda3\\envs\\experian_dev\\Lib\\site-packages\\psutil\\_pswindows.py\", line 274, in disk_usage\n",
      "    total, free = cext.disk_usage(path)\n",
      "                  ^^^^^^^^^^^^^^^^^^^^^\n",
      "SystemError: argument 1 (impossible<bad format char>)\n",
      "2024/06/04 14:34:51 INFO mlflow.system_metrics.system_metrics_monitor: Stopping system metrics monitoring...\n",
      "2024/06/04 14:34:51 INFO mlflow.system_metrics.system_metrics_monitor: Successfully terminated system metrics monitoring!\n"
     ]
    },
    {
     "name": "stdout",
     "output_type": "stream",
     "text": [
      "# 47 / 100\n"
     ]
    },
    {
     "name": "stderr",
     "output_type": "stream",
     "text": [
      "2024/06/04 14:34:58 WARNING mlflow.system_metrics.system_metrics_monitor: Skip logging GPU metrics because creating `GPUMonitor` failed with error: Failed to initialize NVML, skip logging GPU metrics: NVML Shared Library Not Found.\n",
      "Exception in thread 2024/06/04 14:34:58 INFO mlflow.system_metrics.system_metrics_monitor: Started monitoring system metrics.\n",
      "SystemMetricsMonitor:\n",
      "Traceback (most recent call last):\n",
      "  File \"C:\\Users\\hdychko\\AppData\\Local\\anaconda3\\envs\\experian_dev\\Lib\\threading.py\", line 1073, in _bootstrap_inner\n",
      "    self.run()\n",
      "  File \"C:\\Users\\hdychko\\AppData\\Local\\anaconda3\\envs\\experian_dev\\Lib\\threading.py\", line 1010, in run\n",
      "    self._target(*self._args, **self._kwargs)\n",
      "  File \"C:\\Users\\hdychko\\AppData\\Local\\anaconda3\\envs\\experian_dev\\Lib\\site-packages\\mlflow\\system_metrics\\system_metrics_monitor.py\", line 122, in monitor\n",
      "    self.collect_metrics()\n",
      "  File \"C:\\Users\\hdychko\\AppData\\Local\\anaconda3\\envs\\experian_dev\\Lib\\site-packages\\mlflow\\system_metrics\\system_metrics_monitor.py\", line 148, in collect_metrics\n",
      "    monitor.collect_metrics()\n",
      "  File \"C:\\Users\\hdychko\\AppData\\Local\\anaconda3\\envs\\experian_dev\\Lib\\site-packages\\mlflow\\system_metrics\\metrics\\disk_monitor.py\", line 15, in collect_metrics\n",
      "    disk_usage = psutil.disk_usage(os.sep)\n",
      "                 ^^^^^^^^^^^^^^^^^^^^^^^^^\n",
      "  File \"C:\\Users\\hdychko\\AppData\\Local\\anaconda3\\envs\\experian_dev\\Lib\\site-packages\\psutil\\__init__.py\", line 2003, in disk_usage\n",
      "    return _psplatform.disk_usage(path)\n",
      "           ^^^^^^^^^^^^^^^^^^^^^^^^^^^^\n",
      "  File \"C:\\Users\\hdychko\\AppData\\Local\\anaconda3\\envs\\experian_dev\\Lib\\site-packages\\psutil\\_pswindows.py\", line 274, in disk_usage\n",
      "    total, free = cext.disk_usage(path)\n",
      "                  ^^^^^^^^^^^^^^^^^^^^^\n",
      "SystemError: argument 1 (impossible<bad format char>)\n",
      "2024/06/04 14:35:15 INFO mlflow.system_metrics.system_metrics_monitor: Stopping system metrics monitoring...\n",
      "2024/06/04 14:35:15 INFO mlflow.system_metrics.system_metrics_monitor: Successfully terminated system metrics monitoring!\n"
     ]
    },
    {
     "name": "stdout",
     "output_type": "stream",
     "text": [
      "# 48 / 100\n"
     ]
    },
    {
     "name": "stderr",
     "output_type": "stream",
     "text": [
      "2024/06/04 14:35:20 WARNING mlflow.system_metrics.system_metrics_monitor: Skip logging GPU metrics because creating `GPUMonitor` failed with error: Failed to initialize NVML, skip logging GPU metrics: NVML Shared Library Not Found.\n",
      "Exception in thread 2024/06/04 14:35:20 INFO mlflow.system_metrics.system_metrics_monitor: Started monitoring system metrics.\n",
      "SystemMetricsMonitor:\n",
      "Traceback (most recent call last):\n",
      "  File \"C:\\Users\\hdychko\\AppData\\Local\\anaconda3\\envs\\experian_dev\\Lib\\threading.py\", line 1073, in _bootstrap_inner\n",
      "    self.run()\n",
      "  File \"C:\\Users\\hdychko\\AppData\\Local\\anaconda3\\envs\\experian_dev\\Lib\\threading.py\", line 1010, in run\n",
      "    self._target(*self._args, **self._kwargs)\n",
      "  File \"C:\\Users\\hdychko\\AppData\\Local\\anaconda3\\envs\\experian_dev\\Lib\\site-packages\\mlflow\\system_metrics\\system_metrics_monitor.py\", line 122, in monitor\n",
      "    self.collect_metrics()\n",
      "  File \"C:\\Users\\hdychko\\AppData\\Local\\anaconda3\\envs\\experian_dev\\Lib\\site-packages\\mlflow\\system_metrics\\system_metrics_monitor.py\", line 148, in collect_metrics\n",
      "    monitor.collect_metrics()\n",
      "  File \"C:\\Users\\hdychko\\AppData\\Local\\anaconda3\\envs\\experian_dev\\Lib\\site-packages\\mlflow\\system_metrics\\metrics\\disk_monitor.py\", line 15, in collect_metrics\n",
      "    disk_usage = psutil.disk_usage(os.sep)\n",
      "                 ^^^^^^^^^^^^^^^^^^^^^^^^^\n",
      "  File \"C:\\Users\\hdychko\\AppData\\Local\\anaconda3\\envs\\experian_dev\\Lib\\site-packages\\psutil\\__init__.py\", line 2003, in disk_usage\n",
      "    return _psplatform.disk_usage(path)\n",
      "           ^^^^^^^^^^^^^^^^^^^^^^^^^^^^\n",
      "  File \"C:\\Users\\hdychko\\AppData\\Local\\anaconda3\\envs\\experian_dev\\Lib\\site-packages\\psutil\\_pswindows.py\", line 274, in disk_usage\n",
      "    total, free = cext.disk_usage(path)\n",
      "                  ^^^^^^^^^^^^^^^^^^^^^\n",
      "SystemError: argument 1 (impossible<bad format char>)\n",
      "2024/06/04 14:35:29 INFO mlflow.system_metrics.system_metrics_monitor: Stopping system metrics monitoring...\n",
      "2024/06/04 14:35:29 INFO mlflow.system_metrics.system_metrics_monitor: Successfully terminated system metrics monitoring!\n"
     ]
    },
    {
     "name": "stdout",
     "output_type": "stream",
     "text": [
      "# 49 / 100\n"
     ]
    },
    {
     "name": "stderr",
     "output_type": "stream",
     "text": [
      "2024/06/04 14:35:32 WARNING mlflow.system_metrics.system_metrics_monitor: Skip logging GPU metrics because creating `GPUMonitor` failed with error: Failed to initialize NVML, skip logging GPU metrics: NVML Shared Library Not Found.\n",
      "Exception in thread 2024/06/04 14:35:32 INFO mlflow.system_metrics.system_metrics_monitor: Started monitoring system metrics.\n",
      "SystemMetricsMonitor:\n",
      "Traceback (most recent call last):\n",
      "  File \"C:\\Users\\hdychko\\AppData\\Local\\anaconda3\\envs\\experian_dev\\Lib\\threading.py\", line 1073, in _bootstrap_inner\n",
      "    self.run()\n",
      "  File \"C:\\Users\\hdychko\\AppData\\Local\\anaconda3\\envs\\experian_dev\\Lib\\threading.py\", line 1010, in run\n",
      "    self._target(*self._args, **self._kwargs)\n",
      "  File \"C:\\Users\\hdychko\\AppData\\Local\\anaconda3\\envs\\experian_dev\\Lib\\site-packages\\mlflow\\system_metrics\\system_metrics_monitor.py\", line 122, in monitor\n",
      "    self.collect_metrics()\n",
      "  File \"C:\\Users\\hdychko\\AppData\\Local\\anaconda3\\envs\\experian_dev\\Lib\\site-packages\\mlflow\\system_metrics\\system_metrics_monitor.py\", line 148, in collect_metrics\n",
      "    monitor.collect_metrics()\n",
      "  File \"C:\\Users\\hdychko\\AppData\\Local\\anaconda3\\envs\\experian_dev\\Lib\\site-packages\\mlflow\\system_metrics\\metrics\\disk_monitor.py\", line 15, in collect_metrics\n",
      "    disk_usage = psutil.disk_usage(os.sep)\n",
      "                 ^^^^^^^^^^^^^^^^^^^^^^^^^\n",
      "  File \"C:\\Users\\hdychko\\AppData\\Local\\anaconda3\\envs\\experian_dev\\Lib\\site-packages\\psutil\\__init__.py\", line 2003, in disk_usage\n",
      "    return _psplatform.disk_usage(path)\n",
      "           ^^^^^^^^^^^^^^^^^^^^^^^^^^^^\n",
      "  File \"C:\\Users\\hdychko\\AppData\\Local\\anaconda3\\envs\\experian_dev\\Lib\\site-packages\\psutil\\_pswindows.py\", line 274, in disk_usage\n",
      "    total, free = cext.disk_usage(path)\n",
      "                  ^^^^^^^^^^^^^^^^^^^^^\n",
      "SystemError: argument 1 (impossible<bad format char>)\n",
      "2024/06/04 14:35:40 INFO mlflow.system_metrics.system_metrics_monitor: Stopping system metrics monitoring...\n",
      "2024/06/04 14:35:40 INFO mlflow.system_metrics.system_metrics_monitor: Successfully terminated system metrics monitoring!\n"
     ]
    },
    {
     "name": "stdout",
     "output_type": "stream",
     "text": [
      "# 50 / 100\n"
     ]
    },
    {
     "name": "stderr",
     "output_type": "stream",
     "text": [
      "2024/06/04 14:35:42 WARNING mlflow.system_metrics.system_metrics_monitor: Skip logging GPU metrics because creating `GPUMonitor` failed with error: Failed to initialize NVML, skip logging GPU metrics: NVML Shared Library Not Found.\n",
      "Exception in thread 2024/06/04 14:35:42 INFO mlflow.system_metrics.system_metrics_monitor: Started monitoring system metrics.\n",
      "SystemMetricsMonitor:\n",
      "Traceback (most recent call last):\n",
      "  File \"C:\\Users\\hdychko\\AppData\\Local\\anaconda3\\envs\\experian_dev\\Lib\\threading.py\", line 1073, in _bootstrap_inner\n",
      "    self.run()\n",
      "  File \"C:\\Users\\hdychko\\AppData\\Local\\anaconda3\\envs\\experian_dev\\Lib\\threading.py\", line 1010, in run\n",
      "    self._target(*self._args, **self._kwargs)\n",
      "  File \"C:\\Users\\hdychko\\AppData\\Local\\anaconda3\\envs\\experian_dev\\Lib\\site-packages\\mlflow\\system_metrics\\system_metrics_monitor.py\", line 122, in monitor\n",
      "    self.collect_metrics()\n",
      "  File \"C:\\Users\\hdychko\\AppData\\Local\\anaconda3\\envs\\experian_dev\\Lib\\site-packages\\mlflow\\system_metrics\\system_metrics_monitor.py\", line 148, in collect_metrics\n",
      "    monitor.collect_metrics()\n",
      "  File \"C:\\Users\\hdychko\\AppData\\Local\\anaconda3\\envs\\experian_dev\\Lib\\site-packages\\mlflow\\system_metrics\\metrics\\disk_monitor.py\", line 15, in collect_metrics\n",
      "    disk_usage = psutil.disk_usage(os.sep)\n",
      "                 ^^^^^^^^^^^^^^^^^^^^^^^^^\n",
      "  File \"C:\\Users\\hdychko\\AppData\\Local\\anaconda3\\envs\\experian_dev\\Lib\\site-packages\\psutil\\__init__.py\", line 2003, in disk_usage\n",
      "    return _psplatform.disk_usage(path)\n",
      "           ^^^^^^^^^^^^^^^^^^^^^^^^^^^^\n",
      "  File \"C:\\Users\\hdychko\\AppData\\Local\\anaconda3\\envs\\experian_dev\\Lib\\site-packages\\psutil\\_pswindows.py\", line 274, in disk_usage\n",
      "    total, free = cext.disk_usage(path)\n",
      "                  ^^^^^^^^^^^^^^^^^^^^^\n",
      "SystemError: argument 1 (impossible<bad format char>)\n",
      "2024/06/04 14:35:50 INFO mlflow.system_metrics.system_metrics_monitor: Stopping system metrics monitoring...\n",
      "2024/06/04 14:35:50 INFO mlflow.system_metrics.system_metrics_monitor: Successfully terminated system metrics monitoring!\n"
     ]
    },
    {
     "name": "stdout",
     "output_type": "stream",
     "text": [
      "# 51 / 100\n"
     ]
    },
    {
     "name": "stderr",
     "output_type": "stream",
     "text": [
      "2024/06/04 14:35:52 WARNING mlflow.system_metrics.system_metrics_monitor: Skip logging GPU metrics because creating `GPUMonitor` failed with error: Failed to initialize NVML, skip logging GPU metrics: NVML Shared Library Not Found.\n",
      "Exception in thread 2024/06/04 14:35:52 INFO mlflow.system_metrics.system_metrics_monitor: Started monitoring system metrics.\n",
      "SystemMetricsMonitor:\n",
      "Traceback (most recent call last):\n",
      "  File \"C:\\Users\\hdychko\\AppData\\Local\\anaconda3\\envs\\experian_dev\\Lib\\threading.py\", line 1073, in _bootstrap_inner\n",
      "    self.run()\n",
      "  File \"C:\\Users\\hdychko\\AppData\\Local\\anaconda3\\envs\\experian_dev\\Lib\\threading.py\", line 1010, in run\n",
      "    self._target(*self._args, **self._kwargs)\n",
      "  File \"C:\\Users\\hdychko\\AppData\\Local\\anaconda3\\envs\\experian_dev\\Lib\\site-packages\\mlflow\\system_metrics\\system_metrics_monitor.py\", line 122, in monitor\n",
      "    self.collect_metrics()\n",
      "  File \"C:\\Users\\hdychko\\AppData\\Local\\anaconda3\\envs\\experian_dev\\Lib\\site-packages\\mlflow\\system_metrics\\system_metrics_monitor.py\", line 148, in collect_metrics\n",
      "    monitor.collect_metrics()\n",
      "  File \"C:\\Users\\hdychko\\AppData\\Local\\anaconda3\\envs\\experian_dev\\Lib\\site-packages\\mlflow\\system_metrics\\metrics\\disk_monitor.py\", line 15, in collect_metrics\n",
      "    disk_usage = psutil.disk_usage(os.sep)\n",
      "                 ^^^^^^^^^^^^^^^^^^^^^^^^^\n",
      "  File \"C:\\Users\\hdychko\\AppData\\Local\\anaconda3\\envs\\experian_dev\\Lib\\site-packages\\psutil\\__init__.py\", line 2003, in disk_usage\n",
      "    return _psplatform.disk_usage(path)\n",
      "           ^^^^^^^^^^^^^^^^^^^^^^^^^^^^\n",
      "  File \"C:\\Users\\hdychko\\AppData\\Local\\anaconda3\\envs\\experian_dev\\Lib\\site-packages\\psutil\\_pswindows.py\", line 274, in disk_usage\n",
      "    total, free = cext.disk_usage(path)\n",
      "                  ^^^^^^^^^^^^^^^^^^^^^\n",
      "SystemError: argument 1 (impossible<bad format char>)\n",
      "2024/06/04 14:36:01 INFO mlflow.system_metrics.system_metrics_monitor: Stopping system metrics monitoring...\n",
      "2024/06/04 14:36:01 INFO mlflow.system_metrics.system_metrics_monitor: Successfully terminated system metrics monitoring!\n"
     ]
    },
    {
     "name": "stdout",
     "output_type": "stream",
     "text": [
      "# 52 / 100\n"
     ]
    },
    {
     "name": "stderr",
     "output_type": "stream",
     "text": [
      "2024/06/04 14:36:03 WARNING mlflow.system_metrics.system_metrics_monitor: Skip logging GPU metrics because creating `GPUMonitor` failed with error: Failed to initialize NVML, skip logging GPU metrics: NVML Shared Library Not Found.\n",
      "Exception in thread 2024/06/04 14:36:03 INFO mlflow.system_metrics.system_metrics_monitor: Started monitoring system metrics.\n",
      "SystemMetricsMonitor:\n",
      "Traceback (most recent call last):\n",
      "  File \"C:\\Users\\hdychko\\AppData\\Local\\anaconda3\\envs\\experian_dev\\Lib\\threading.py\", line 1073, in _bootstrap_inner\n",
      "    self.run()\n",
      "  File \"C:\\Users\\hdychko\\AppData\\Local\\anaconda3\\envs\\experian_dev\\Lib\\threading.py\", line 1010, in run\n",
      "    self._target(*self._args, **self._kwargs)\n",
      "  File \"C:\\Users\\hdychko\\AppData\\Local\\anaconda3\\envs\\experian_dev\\Lib\\site-packages\\mlflow\\system_metrics\\system_metrics_monitor.py\", line 122, in monitor\n",
      "    self.collect_metrics()\n",
      "  File \"C:\\Users\\hdychko\\AppData\\Local\\anaconda3\\envs\\experian_dev\\Lib\\site-packages\\mlflow\\system_metrics\\system_metrics_monitor.py\", line 148, in collect_metrics\n",
      "    monitor.collect_metrics()\n",
      "  File \"C:\\Users\\hdychko\\AppData\\Local\\anaconda3\\envs\\experian_dev\\Lib\\site-packages\\mlflow\\system_metrics\\metrics\\disk_monitor.py\", line 15, in collect_metrics\n",
      "    disk_usage = psutil.disk_usage(os.sep)\n",
      "                 ^^^^^^^^^^^^^^^^^^^^^^^^^\n",
      "  File \"C:\\Users\\hdychko\\AppData\\Local\\anaconda3\\envs\\experian_dev\\Lib\\site-packages\\psutil\\__init__.py\", line 2003, in disk_usage\n",
      "    return _psplatform.disk_usage(path)\n",
      "           ^^^^^^^^^^^^^^^^^^^^^^^^^^^^\n",
      "  File \"C:\\Users\\hdychko\\AppData\\Local\\anaconda3\\envs\\experian_dev\\Lib\\site-packages\\psutil\\_pswindows.py\", line 274, in disk_usage\n",
      "    total, free = cext.disk_usage(path)\n",
      "                  ^^^^^^^^^^^^^^^^^^^^^\n",
      "SystemError: argument 1 (impossible<bad format char>)\n",
      "2024/06/04 14:36:15 INFO mlflow.system_metrics.system_metrics_monitor: Stopping system metrics monitoring...\n",
      "2024/06/04 14:36:15 INFO mlflow.system_metrics.system_metrics_monitor: Successfully terminated system metrics monitoring!\n"
     ]
    },
    {
     "name": "stdout",
     "output_type": "stream",
     "text": [
      "# 53 / 100\n"
     ]
    },
    {
     "name": "stderr",
     "output_type": "stream",
     "text": [
      "2024/06/04 14:36:17 WARNING mlflow.system_metrics.system_metrics_monitor: Skip logging GPU metrics because creating `GPUMonitor` failed with error: Failed to initialize NVML, skip logging GPU metrics: NVML Shared Library Not Found.\n",
      "Exception in thread 2024/06/04 14:36:17 INFO mlflow.system_metrics.system_metrics_monitor: Started monitoring system metrics.\n",
      "SystemMetricsMonitor:\n",
      "Traceback (most recent call last):\n",
      "  File \"C:\\Users\\hdychko\\AppData\\Local\\anaconda3\\envs\\experian_dev\\Lib\\threading.py\", line 1073, in _bootstrap_inner\n",
      "    self.run()\n",
      "  File \"C:\\Users\\hdychko\\AppData\\Local\\anaconda3\\envs\\experian_dev\\Lib\\threading.py\", line 1010, in run\n",
      "    self._target(*self._args, **self._kwargs)\n",
      "  File \"C:\\Users\\hdychko\\AppData\\Local\\anaconda3\\envs\\experian_dev\\Lib\\site-packages\\mlflow\\system_metrics\\system_metrics_monitor.py\", line 122, in monitor\n",
      "    self.collect_metrics()\n",
      "  File \"C:\\Users\\hdychko\\AppData\\Local\\anaconda3\\envs\\experian_dev\\Lib\\site-packages\\mlflow\\system_metrics\\system_metrics_monitor.py\", line 148, in collect_metrics\n",
      "    monitor.collect_metrics()\n",
      "  File \"C:\\Users\\hdychko\\AppData\\Local\\anaconda3\\envs\\experian_dev\\Lib\\site-packages\\mlflow\\system_metrics\\metrics\\disk_monitor.py\", line 15, in collect_metrics\n",
      "    disk_usage = psutil.disk_usage(os.sep)\n",
      "                 ^^^^^^^^^^^^^^^^^^^^^^^^^\n",
      "  File \"C:\\Users\\hdychko\\AppData\\Local\\anaconda3\\envs\\experian_dev\\Lib\\site-packages\\psutil\\__init__.py\", line 2003, in disk_usage\n",
      "    return _psplatform.disk_usage(path)\n",
      "           ^^^^^^^^^^^^^^^^^^^^^^^^^^^^\n",
      "  File \"C:\\Users\\hdychko\\AppData\\Local\\anaconda3\\envs\\experian_dev\\Lib\\site-packages\\psutil\\_pswindows.py\", line 274, in disk_usage\n",
      "    total, free = cext.disk_usage(path)\n",
      "                  ^^^^^^^^^^^^^^^^^^^^^\n",
      "SystemError: argument 1 (impossible<bad format char>)\n",
      "2024/06/04 14:36:25 INFO mlflow.system_metrics.system_metrics_monitor: Stopping system metrics monitoring...\n",
      "2024/06/04 14:36:25 INFO mlflow.system_metrics.system_metrics_monitor: Successfully terminated system metrics monitoring!\n"
     ]
    },
    {
     "name": "stdout",
     "output_type": "stream",
     "text": [
      "# 54 / 100\n"
     ]
    },
    {
     "name": "stderr",
     "output_type": "stream",
     "text": [
      "2024/06/04 14:36:31 WARNING mlflow.system_metrics.system_metrics_monitor: Skip logging GPU metrics because creating `GPUMonitor` failed with error: Failed to initialize NVML, skip logging GPU metrics: NVML Shared Library Not Found.\n",
      "Exception in thread 2024/06/04 14:36:31 INFO mlflow.system_metrics.system_metrics_monitor: Started monitoring system metrics.\n",
      "SystemMetricsMonitor:\n",
      "Traceback (most recent call last):\n",
      "  File \"C:\\Users\\hdychko\\AppData\\Local\\anaconda3\\envs\\experian_dev\\Lib\\threading.py\", line 1073, in _bootstrap_inner\n",
      "    self.run()\n",
      "  File \"C:\\Users\\hdychko\\AppData\\Local\\anaconda3\\envs\\experian_dev\\Lib\\threading.py\", line 1010, in run\n",
      "    self._target(*self._args, **self._kwargs)\n",
      "  File \"C:\\Users\\hdychko\\AppData\\Local\\anaconda3\\envs\\experian_dev\\Lib\\site-packages\\mlflow\\system_metrics\\system_metrics_monitor.py\", line 122, in monitor\n",
      "    self.collect_metrics()\n",
      "  File \"C:\\Users\\hdychko\\AppData\\Local\\anaconda3\\envs\\experian_dev\\Lib\\site-packages\\mlflow\\system_metrics\\system_metrics_monitor.py\", line 148, in collect_metrics\n",
      "    monitor.collect_metrics()\n",
      "  File \"C:\\Users\\hdychko\\AppData\\Local\\anaconda3\\envs\\experian_dev\\Lib\\site-packages\\mlflow\\system_metrics\\metrics\\disk_monitor.py\", line 15, in collect_metrics\n",
      "    disk_usage = psutil.disk_usage(os.sep)\n",
      "                 ^^^^^^^^^^^^^^^^^^^^^^^^^\n",
      "  File \"C:\\Users\\hdychko\\AppData\\Local\\anaconda3\\envs\\experian_dev\\Lib\\site-packages\\psutil\\__init__.py\", line 2003, in disk_usage\n",
      "    return _psplatform.disk_usage(path)\n",
      "           ^^^^^^^^^^^^^^^^^^^^^^^^^^^^\n",
      "  File \"C:\\Users\\hdychko\\AppData\\Local\\anaconda3\\envs\\experian_dev\\Lib\\site-packages\\psutil\\_pswindows.py\", line 274, in disk_usage\n",
      "    total, free = cext.disk_usage(path)\n",
      "                  ^^^^^^^^^^^^^^^^^^^^^\n",
      "SystemError: argument 1 (impossible<bad format char>)\n",
      "2024/06/04 14:36:38 INFO mlflow.system_metrics.system_metrics_monitor: Stopping system metrics monitoring...\n",
      "2024/06/04 14:36:38 INFO mlflow.system_metrics.system_metrics_monitor: Successfully terminated system metrics monitoring!\n"
     ]
    },
    {
     "name": "stdout",
     "output_type": "stream",
     "text": [
      "# 55 / 100\n"
     ]
    },
    {
     "name": "stderr",
     "output_type": "stream",
     "text": [
      "2024/06/04 14:36:44 WARNING mlflow.system_metrics.system_metrics_monitor: Skip logging GPU metrics because creating `GPUMonitor` failed with error: Failed to initialize NVML, skip logging GPU metrics: NVML Shared Library Not Found.\n",
      "2024/06/04 14:36:44 INFO mlflow.system_metrics.system_metrics_monitor: Started monitoring system metrics.\n",
      "Exception in thread SystemMetricsMonitor:\n",
      "Traceback (most recent call last):\n",
      "  File \"C:\\Users\\hdychko\\AppData\\Local\\anaconda3\\envs\\experian_dev\\Lib\\threading.py\", line 1073, in _bootstrap_inner\n",
      "    self.run()\n",
      "  File \"C:\\Users\\hdychko\\AppData\\Local\\anaconda3\\envs\\experian_dev\\Lib\\threading.py\", line 1010, in run\n",
      "    self._target(*self._args, **self._kwargs)\n",
      "  File \"C:\\Users\\hdychko\\AppData\\Local\\anaconda3\\envs\\experian_dev\\Lib\\site-packages\\mlflow\\system_metrics\\system_metrics_monitor.py\", line 122, in monitor\n",
      "    self.collect_metrics()\n",
      "  File \"C:\\Users\\hdychko\\AppData\\Local\\anaconda3\\envs\\experian_dev\\Lib\\site-packages\\mlflow\\system_metrics\\system_metrics_monitor.py\", line 148, in collect_metrics\n",
      "    monitor.collect_metrics()\n",
      "  File \"C:\\Users\\hdychko\\AppData\\Local\\anaconda3\\envs\\experian_dev\\Lib\\site-packages\\mlflow\\system_metrics\\metrics\\disk_monitor.py\", line 15, in collect_metrics\n",
      "    disk_usage = psutil.disk_usage(os.sep)\n",
      "                 ^^^^^^^^^^^^^^^^^^^^^^^^^\n",
      "  File \"C:\\Users\\hdychko\\AppData\\Local\\anaconda3\\envs\\experian_dev\\Lib\\site-packages\\psutil\\__init__.py\", line 2003, in disk_usage\n",
      "    return _psplatform.disk_usage(path)\n",
      "           ^^^^^^^^^^^^^^^^^^^^^^^^^^^^\n",
      "  File \"C:\\Users\\hdychko\\AppData\\Local\\anaconda3\\envs\\experian_dev\\Lib\\site-packages\\psutil\\_pswindows.py\", line 274, in disk_usage\n",
      "    total, free = cext.disk_usage(path)\n",
      "                  ^^^^^^^^^^^^^^^^^^^^^\n",
      "SystemError: argument 1 (impossible<bad format char>)\n",
      "2024/06/04 14:36:52 INFO mlflow.system_metrics.system_metrics_monitor: Stopping system metrics monitoring...\n",
      "2024/06/04 14:36:52 INFO mlflow.system_metrics.system_metrics_monitor: Successfully terminated system metrics monitoring!\n"
     ]
    },
    {
     "name": "stdout",
     "output_type": "stream",
     "text": [
      "# 56 / 100\n"
     ]
    },
    {
     "name": "stderr",
     "output_type": "stream",
     "text": [
      "2024/06/04 14:36:55 WARNING mlflow.system_metrics.system_metrics_monitor: Skip logging GPU metrics because creating `GPUMonitor` failed with error: Failed to initialize NVML, skip logging GPU metrics: NVML Shared Library Not Found.\n",
      "Exception in thread 2024/06/04 14:36:55 INFO mlflow.system_metrics.system_metrics_monitor: Started monitoring system metrics.\n",
      "SystemMetricsMonitor:\n",
      "Traceback (most recent call last):\n",
      "  File \"C:\\Users\\hdychko\\AppData\\Local\\anaconda3\\envs\\experian_dev\\Lib\\threading.py\", line 1073, in _bootstrap_inner\n",
      "    self.run()\n",
      "  File \"C:\\Users\\hdychko\\AppData\\Local\\anaconda3\\envs\\experian_dev\\Lib\\threading.py\", line 1010, in run\n",
      "    self._target(*self._args, **self._kwargs)\n",
      "  File \"C:\\Users\\hdychko\\AppData\\Local\\anaconda3\\envs\\experian_dev\\Lib\\site-packages\\mlflow\\system_metrics\\system_metrics_monitor.py\", line 122, in monitor\n",
      "    self.collect_metrics()\n",
      "  File \"C:\\Users\\hdychko\\AppData\\Local\\anaconda3\\envs\\experian_dev\\Lib\\site-packages\\mlflow\\system_metrics\\system_metrics_monitor.py\", line 148, in collect_metrics\n",
      "    monitor.collect_metrics()\n",
      "  File \"C:\\Users\\hdychko\\AppData\\Local\\anaconda3\\envs\\experian_dev\\Lib\\site-packages\\mlflow\\system_metrics\\metrics\\disk_monitor.py\", line 15, in collect_metrics\n",
      "    disk_usage = psutil.disk_usage(os.sep)\n",
      "                 ^^^^^^^^^^^^^^^^^^^^^^^^^\n",
      "  File \"C:\\Users\\hdychko\\AppData\\Local\\anaconda3\\envs\\experian_dev\\Lib\\site-packages\\psutil\\__init__.py\", line 2003, in disk_usage\n",
      "    return _psplatform.disk_usage(path)\n",
      "           ^^^^^^^^^^^^^^^^^^^^^^^^^^^^\n",
      "  File \"C:\\Users\\hdychko\\AppData\\Local\\anaconda3\\envs\\experian_dev\\Lib\\site-packages\\psutil\\_pswindows.py\", line 274, in disk_usage\n",
      "    total, free = cext.disk_usage(path)\n",
      "                  ^^^^^^^^^^^^^^^^^^^^^\n",
      "SystemError: argument 1 (impossible<bad format char>)\n",
      "2024/06/04 14:37:09 INFO mlflow.system_metrics.system_metrics_monitor: Stopping system metrics monitoring...\n",
      "2024/06/04 14:37:09 INFO mlflow.system_metrics.system_metrics_monitor: Successfully terminated system metrics monitoring!\n"
     ]
    },
    {
     "name": "stdout",
     "output_type": "stream",
     "text": [
      "# 57 / 100\n"
     ]
    },
    {
     "name": "stderr",
     "output_type": "stream",
     "text": [
      "2024/06/04 14:37:13 WARNING mlflow.system_metrics.system_metrics_monitor: Skip logging GPU metrics because creating `GPUMonitor` failed with error: Failed to initialize NVML, skip logging GPU metrics: NVML Shared Library Not Found.\n",
      "Exception in thread 2024/06/04 14:37:13 INFO mlflow.system_metrics.system_metrics_monitor: Started monitoring system metrics.\n",
      "SystemMetricsMonitor:\n",
      "Traceback (most recent call last):\n",
      "  File \"C:\\Users\\hdychko\\AppData\\Local\\anaconda3\\envs\\experian_dev\\Lib\\threading.py\", line 1073, in _bootstrap_inner\n",
      "    self.run()\n",
      "  File \"C:\\Users\\hdychko\\AppData\\Local\\anaconda3\\envs\\experian_dev\\Lib\\threading.py\", line 1010, in run\n",
      "    self._target(*self._args, **self._kwargs)\n",
      "  File \"C:\\Users\\hdychko\\AppData\\Local\\anaconda3\\envs\\experian_dev\\Lib\\site-packages\\mlflow\\system_metrics\\system_metrics_monitor.py\", line 122, in monitor\n",
      "    self.collect_metrics()\n",
      "  File \"C:\\Users\\hdychko\\AppData\\Local\\anaconda3\\envs\\experian_dev\\Lib\\site-packages\\mlflow\\system_metrics\\system_metrics_monitor.py\", line 148, in collect_metrics\n",
      "    monitor.collect_metrics()\n",
      "  File \"C:\\Users\\hdychko\\AppData\\Local\\anaconda3\\envs\\experian_dev\\Lib\\site-packages\\mlflow\\system_metrics\\metrics\\disk_monitor.py\", line 15, in collect_metrics\n",
      "    disk_usage = psutil.disk_usage(os.sep)\n",
      "                 ^^^^^^^^^^^^^^^^^^^^^^^^^\n",
      "  File \"C:\\Users\\hdychko\\AppData\\Local\\anaconda3\\envs\\experian_dev\\Lib\\site-packages\\psutil\\__init__.py\", line 2003, in disk_usage\n",
      "    return _psplatform.disk_usage(path)\n",
      "           ^^^^^^^^^^^^^^^^^^^^^^^^^^^^\n",
      "  File \"C:\\Users\\hdychko\\AppData\\Local\\anaconda3\\envs\\experian_dev\\Lib\\site-packages\\psutil\\_pswindows.py\", line 274, in disk_usage\n",
      "    total, free = cext.disk_usage(path)\n",
      "                  ^^^^^^^^^^^^^^^^^^^^^\n",
      "SystemError: argument 1 (impossible<bad format char>)\n",
      "2024/06/04 14:37:28 INFO mlflow.system_metrics.system_metrics_monitor: Stopping system metrics monitoring...\n",
      "2024/06/04 14:37:28 INFO mlflow.system_metrics.system_metrics_monitor: Successfully terminated system metrics monitoring!\n"
     ]
    },
    {
     "name": "stdout",
     "output_type": "stream",
     "text": [
      "# 58 / 100\n"
     ]
    },
    {
     "name": "stderr",
     "output_type": "stream",
     "text": [
      "2024/06/04 14:37:32 WARNING mlflow.system_metrics.system_metrics_monitor: Skip logging GPU metrics because creating `GPUMonitor` failed with error: Failed to initialize NVML, skip logging GPU metrics: NVML Shared Library Not Found.\n",
      "Exception in thread 2024/06/04 14:37:32 INFO mlflow.system_metrics.system_metrics_monitor: Started monitoring system metrics.\n",
      "SystemMetricsMonitor:\n",
      "Traceback (most recent call last):\n",
      "  File \"C:\\Users\\hdychko\\AppData\\Local\\anaconda3\\envs\\experian_dev\\Lib\\threading.py\", line 1073, in _bootstrap_inner\n",
      "    self.run()\n",
      "  File \"C:\\Users\\hdychko\\AppData\\Local\\anaconda3\\envs\\experian_dev\\Lib\\threading.py\", line 1010, in run\n",
      "    self._target(*self._args, **self._kwargs)\n",
      "  File \"C:\\Users\\hdychko\\AppData\\Local\\anaconda3\\envs\\experian_dev\\Lib\\site-packages\\mlflow\\system_metrics\\system_metrics_monitor.py\", line 122, in monitor\n",
      "    self.collect_metrics()\n",
      "  File \"C:\\Users\\hdychko\\AppData\\Local\\anaconda3\\envs\\experian_dev\\Lib\\site-packages\\mlflow\\system_metrics\\system_metrics_monitor.py\", line 148, in collect_metrics\n",
      "    monitor.collect_metrics()\n",
      "  File \"C:\\Users\\hdychko\\AppData\\Local\\anaconda3\\envs\\experian_dev\\Lib\\site-packages\\mlflow\\system_metrics\\metrics\\disk_monitor.py\", line 15, in collect_metrics\n",
      "    disk_usage = psutil.disk_usage(os.sep)\n",
      "                 ^^^^^^^^^^^^^^^^^^^^^^^^^\n",
      "  File \"C:\\Users\\hdychko\\AppData\\Local\\anaconda3\\envs\\experian_dev\\Lib\\site-packages\\psutil\\__init__.py\", line 2003, in disk_usage\n",
      "    return _psplatform.disk_usage(path)\n",
      "           ^^^^^^^^^^^^^^^^^^^^^^^^^^^^\n",
      "  File \"C:\\Users\\hdychko\\AppData\\Local\\anaconda3\\envs\\experian_dev\\Lib\\site-packages\\psutil\\_pswindows.py\", line 274, in disk_usage\n",
      "    total, free = cext.disk_usage(path)\n",
      "                  ^^^^^^^^^^^^^^^^^^^^^\n",
      "SystemError: argument 1 (impossible<bad format char>)\n",
      "2024/06/04 14:37:40 INFO mlflow.system_metrics.system_metrics_monitor: Stopping system metrics monitoring...\n",
      "2024/06/04 14:37:40 INFO mlflow.system_metrics.system_metrics_monitor: Successfully terminated system metrics monitoring!\n"
     ]
    },
    {
     "name": "stdout",
     "output_type": "stream",
     "text": [
      "# 59 / 100\n"
     ]
    },
    {
     "name": "stderr",
     "output_type": "stream",
     "text": [
      "2024/06/04 14:37:42 WARNING mlflow.system_metrics.system_metrics_monitor: Skip logging GPU metrics because creating `GPUMonitor` failed with error: Failed to initialize NVML, skip logging GPU metrics: NVML Shared Library Not Found.\n",
      "Exception in thread 2024/06/04 14:37:42 INFO mlflow.system_metrics.system_metrics_monitor: Started monitoring system metrics.\n",
      "SystemMetricsMonitor:\n",
      "Traceback (most recent call last):\n",
      "  File \"C:\\Users\\hdychko\\AppData\\Local\\anaconda3\\envs\\experian_dev\\Lib\\threading.py\", line 1073, in _bootstrap_inner\n",
      "    self.run()\n",
      "  File \"C:\\Users\\hdychko\\AppData\\Local\\anaconda3\\envs\\experian_dev\\Lib\\threading.py\", line 1010, in run\n",
      "    self._target(*self._args, **self._kwargs)\n",
      "  File \"C:\\Users\\hdychko\\AppData\\Local\\anaconda3\\envs\\experian_dev\\Lib\\site-packages\\mlflow\\system_metrics\\system_metrics_monitor.py\", line 122, in monitor\n",
      "    self.collect_metrics()\n",
      "  File \"C:\\Users\\hdychko\\AppData\\Local\\anaconda3\\envs\\experian_dev\\Lib\\site-packages\\mlflow\\system_metrics\\system_metrics_monitor.py\", line 148, in collect_metrics\n",
      "    monitor.collect_metrics()\n",
      "  File \"C:\\Users\\hdychko\\AppData\\Local\\anaconda3\\envs\\experian_dev\\Lib\\site-packages\\mlflow\\system_metrics\\metrics\\disk_monitor.py\", line 15, in collect_metrics\n",
      "    disk_usage = psutil.disk_usage(os.sep)\n",
      "                 ^^^^^^^^^^^^^^^^^^^^^^^^^\n",
      "  File \"C:\\Users\\hdychko\\AppData\\Local\\anaconda3\\envs\\experian_dev\\Lib\\site-packages\\psutil\\__init__.py\", line 2003, in disk_usage\n",
      "    return _psplatform.disk_usage(path)\n",
      "           ^^^^^^^^^^^^^^^^^^^^^^^^^^^^\n",
      "  File \"C:\\Users\\hdychko\\AppData\\Local\\anaconda3\\envs\\experian_dev\\Lib\\site-packages\\psutil\\_pswindows.py\", line 274, in disk_usage\n",
      "    total, free = cext.disk_usage(path)\n",
      "                  ^^^^^^^^^^^^^^^^^^^^^\n",
      "SystemError: argument 1 (impossible<bad format char>)\n",
      "2024/06/04 14:37:53 INFO mlflow.system_metrics.system_metrics_monitor: Stopping system metrics monitoring...\n",
      "2024/06/04 14:37:53 INFO mlflow.system_metrics.system_metrics_monitor: Successfully terminated system metrics monitoring!\n"
     ]
    },
    {
     "name": "stdout",
     "output_type": "stream",
     "text": [
      "# 60 / 100\n"
     ]
    },
    {
     "name": "stderr",
     "output_type": "stream",
     "text": [
      "2024/06/04 14:37:55 WARNING mlflow.system_metrics.system_metrics_monitor: Skip logging GPU metrics because creating `GPUMonitor` failed with error: Failed to initialize NVML, skip logging GPU metrics: NVML Shared Library Not Found.\n",
      "Exception in thread 2024/06/04 14:37:55 INFO mlflow.system_metrics.system_metrics_monitor: Started monitoring system metrics.\n",
      "SystemMetricsMonitor:\n",
      "Traceback (most recent call last):\n",
      "  File \"C:\\Users\\hdychko\\AppData\\Local\\anaconda3\\envs\\experian_dev\\Lib\\threading.py\", line 1073, in _bootstrap_inner\n",
      "    self.run()\n",
      "  File \"C:\\Users\\hdychko\\AppData\\Local\\anaconda3\\envs\\experian_dev\\Lib\\threading.py\", line 1010, in run\n",
      "    self._target(*self._args, **self._kwargs)\n",
      "  File \"C:\\Users\\hdychko\\AppData\\Local\\anaconda3\\envs\\experian_dev\\Lib\\site-packages\\mlflow\\system_metrics\\system_metrics_monitor.py\", line 122, in monitor\n",
      "    self.collect_metrics()\n",
      "  File \"C:\\Users\\hdychko\\AppData\\Local\\anaconda3\\envs\\experian_dev\\Lib\\site-packages\\mlflow\\system_metrics\\system_metrics_monitor.py\", line 148, in collect_metrics\n",
      "    monitor.collect_metrics()\n",
      "  File \"C:\\Users\\hdychko\\AppData\\Local\\anaconda3\\envs\\experian_dev\\Lib\\site-packages\\mlflow\\system_metrics\\metrics\\disk_monitor.py\", line 15, in collect_metrics\n",
      "    disk_usage = psutil.disk_usage(os.sep)\n",
      "                 ^^^^^^^^^^^^^^^^^^^^^^^^^\n",
      "  File \"C:\\Users\\hdychko\\AppData\\Local\\anaconda3\\envs\\experian_dev\\Lib\\site-packages\\psutil\\__init__.py\", line 2003, in disk_usage\n",
      "    return _psplatform.disk_usage(path)\n",
      "           ^^^^^^^^^^^^^^^^^^^^^^^^^^^^\n",
      "  File \"C:\\Users\\hdychko\\AppData\\Local\\anaconda3\\envs\\experian_dev\\Lib\\site-packages\\psutil\\_pswindows.py\", line 274, in disk_usage\n",
      "    total, free = cext.disk_usage(path)\n",
      "                  ^^^^^^^^^^^^^^^^^^^^^\n",
      "SystemError: argument 1 (impossible<bad format char>)\n",
      "2024/06/04 14:38:07 INFO mlflow.system_metrics.system_metrics_monitor: Stopping system metrics monitoring...\n",
      "2024/06/04 14:38:07 INFO mlflow.system_metrics.system_metrics_monitor: Successfully terminated system metrics monitoring!\n"
     ]
    },
    {
     "name": "stdout",
     "output_type": "stream",
     "text": [
      "# 61 / 100\n"
     ]
    },
    {
     "name": "stderr",
     "output_type": "stream",
     "text": [
      "2024/06/04 14:38:11 WARNING mlflow.system_metrics.system_metrics_monitor: Skip logging GPU metrics because creating `GPUMonitor` failed with error: Failed to initialize NVML, skip logging GPU metrics: NVML Shared Library Not Found.\n",
      "Exception in thread 2024/06/04 14:38:11 INFO mlflow.system_metrics.system_metrics_monitor: Started monitoring system metrics.\n",
      "SystemMetricsMonitor:\n",
      "Traceback (most recent call last):\n",
      "  File \"C:\\Users\\hdychko\\AppData\\Local\\anaconda3\\envs\\experian_dev\\Lib\\threading.py\", line 1073, in _bootstrap_inner\n",
      "    self.run()\n",
      "  File \"C:\\Users\\hdychko\\AppData\\Local\\anaconda3\\envs\\experian_dev\\Lib\\threading.py\", line 1010, in run\n",
      "    self._target(*self._args, **self._kwargs)\n",
      "  File \"C:\\Users\\hdychko\\AppData\\Local\\anaconda3\\envs\\experian_dev\\Lib\\site-packages\\mlflow\\system_metrics\\system_metrics_monitor.py\", line 122, in monitor\n",
      "    self.collect_metrics()\n",
      "  File \"C:\\Users\\hdychko\\AppData\\Local\\anaconda3\\envs\\experian_dev\\Lib\\site-packages\\mlflow\\system_metrics\\system_metrics_monitor.py\", line 148, in collect_metrics\n",
      "    monitor.collect_metrics()\n",
      "  File \"C:\\Users\\hdychko\\AppData\\Local\\anaconda3\\envs\\experian_dev\\Lib\\site-packages\\mlflow\\system_metrics\\metrics\\disk_monitor.py\", line 15, in collect_metrics\n",
      "    disk_usage = psutil.disk_usage(os.sep)\n",
      "                 ^^^^^^^^^^^^^^^^^^^^^^^^^\n",
      "  File \"C:\\Users\\hdychko\\AppData\\Local\\anaconda3\\envs\\experian_dev\\Lib\\site-packages\\psutil\\__init__.py\", line 2003, in disk_usage\n",
      "    return _psplatform.disk_usage(path)\n",
      "           ^^^^^^^^^^^^^^^^^^^^^^^^^^^^\n",
      "  File \"C:\\Users\\hdychko\\AppData\\Local\\anaconda3\\envs\\experian_dev\\Lib\\site-packages\\psutil\\_pswindows.py\", line 274, in disk_usage\n",
      "    total, free = cext.disk_usage(path)\n",
      "                  ^^^^^^^^^^^^^^^^^^^^^\n",
      "SystemError: argument 1 (impossible<bad format char>)\n",
      "2024/06/04 14:38:20 INFO mlflow.system_metrics.system_metrics_monitor: Stopping system metrics monitoring...\n",
      "2024/06/04 14:38:20 INFO mlflow.system_metrics.system_metrics_monitor: Successfully terminated system metrics monitoring!\n"
     ]
    },
    {
     "name": "stdout",
     "output_type": "stream",
     "text": [
      "# 62 / 100\n"
     ]
    },
    {
     "name": "stderr",
     "output_type": "stream",
     "text": [
      "2024/06/04 14:38:23 WARNING mlflow.system_metrics.system_metrics_monitor: Skip logging GPU metrics because creating `GPUMonitor` failed with error: Failed to initialize NVML, skip logging GPU metrics: NVML Shared Library Not Found.\n",
      "Exception in thread 2024/06/04 14:38:23 INFO mlflow.system_metrics.system_metrics_monitor: Started monitoring system metrics.\n",
      "SystemMetricsMonitor:\n",
      "Traceback (most recent call last):\n",
      "  File \"C:\\Users\\hdychko\\AppData\\Local\\anaconda3\\envs\\experian_dev\\Lib\\threading.py\", line 1073, in _bootstrap_inner\n",
      "    self.run()\n",
      "  File \"C:\\Users\\hdychko\\AppData\\Local\\anaconda3\\envs\\experian_dev\\Lib\\threading.py\", line 1010, in run\n",
      "    self._target(*self._args, **self._kwargs)\n",
      "  File \"C:\\Users\\hdychko\\AppData\\Local\\anaconda3\\envs\\experian_dev\\Lib\\site-packages\\mlflow\\system_metrics\\system_metrics_monitor.py\", line 122, in monitor\n",
      "    self.collect_metrics()\n",
      "  File \"C:\\Users\\hdychko\\AppData\\Local\\anaconda3\\envs\\experian_dev\\Lib\\site-packages\\mlflow\\system_metrics\\system_metrics_monitor.py\", line 148, in collect_metrics\n",
      "    monitor.collect_metrics()\n",
      "  File \"C:\\Users\\hdychko\\AppData\\Local\\anaconda3\\envs\\experian_dev\\Lib\\site-packages\\mlflow\\system_metrics\\metrics\\disk_monitor.py\", line 15, in collect_metrics\n",
      "    disk_usage = psutil.disk_usage(os.sep)\n",
      "                 ^^^^^^^^^^^^^^^^^^^^^^^^^\n",
      "  File \"C:\\Users\\hdychko\\AppData\\Local\\anaconda3\\envs\\experian_dev\\Lib\\site-packages\\psutil\\__init__.py\", line 2003, in disk_usage\n",
      "    return _psplatform.disk_usage(path)\n",
      "           ^^^^^^^^^^^^^^^^^^^^^^^^^^^^\n",
      "  File \"C:\\Users\\hdychko\\AppData\\Local\\anaconda3\\envs\\experian_dev\\Lib\\site-packages\\psutil\\_pswindows.py\", line 274, in disk_usage\n",
      "    total, free = cext.disk_usage(path)\n",
      "                  ^^^^^^^^^^^^^^^^^^^^^\n",
      "SystemError: argument 1 (impossible<bad format char>)\n",
      "2024/06/04 14:38:35 INFO mlflow.system_metrics.system_metrics_monitor: Stopping system metrics monitoring...\n",
      "2024/06/04 14:38:35 INFO mlflow.system_metrics.system_metrics_monitor: Successfully terminated system metrics monitoring!\n"
     ]
    },
    {
     "name": "stdout",
     "output_type": "stream",
     "text": [
      "# 63 / 100\n"
     ]
    },
    {
     "name": "stderr",
     "output_type": "stream",
     "text": [
      "2024/06/04 14:38:37 WARNING mlflow.system_metrics.system_metrics_monitor: Skip logging GPU metrics because creating `GPUMonitor` failed with error: Failed to initialize NVML, skip logging GPU metrics: NVML Shared Library Not Found.\n",
      "Exception in thread 2024/06/04 14:38:37 INFO mlflow.system_metrics.system_metrics_monitor: Started monitoring system metrics.\n",
      "SystemMetricsMonitor:\n",
      "Traceback (most recent call last):\n",
      "  File \"C:\\Users\\hdychko\\AppData\\Local\\anaconda3\\envs\\experian_dev\\Lib\\threading.py\", line 1073, in _bootstrap_inner\n",
      "    self.run()\n",
      "  File \"C:\\Users\\hdychko\\AppData\\Local\\anaconda3\\envs\\experian_dev\\Lib\\threading.py\", line 1010, in run\n",
      "    self._target(*self._args, **self._kwargs)\n",
      "  File \"C:\\Users\\hdychko\\AppData\\Local\\anaconda3\\envs\\experian_dev\\Lib\\site-packages\\mlflow\\system_metrics\\system_metrics_monitor.py\", line 122, in monitor\n",
      "    self.collect_metrics()\n",
      "  File \"C:\\Users\\hdychko\\AppData\\Local\\anaconda3\\envs\\experian_dev\\Lib\\site-packages\\mlflow\\system_metrics\\system_metrics_monitor.py\", line 148, in collect_metrics\n",
      "    monitor.collect_metrics()\n",
      "  File \"C:\\Users\\hdychko\\AppData\\Local\\anaconda3\\envs\\experian_dev\\Lib\\site-packages\\mlflow\\system_metrics\\metrics\\disk_monitor.py\", line 15, in collect_metrics\n",
      "    disk_usage = psutil.disk_usage(os.sep)\n",
      "                 ^^^^^^^^^^^^^^^^^^^^^^^^^\n",
      "  File \"C:\\Users\\hdychko\\AppData\\Local\\anaconda3\\envs\\experian_dev\\Lib\\site-packages\\psutil\\__init__.py\", line 2003, in disk_usage\n",
      "    return _psplatform.disk_usage(path)\n",
      "           ^^^^^^^^^^^^^^^^^^^^^^^^^^^^\n",
      "  File \"C:\\Users\\hdychko\\AppData\\Local\\anaconda3\\envs\\experian_dev\\Lib\\site-packages\\psutil\\_pswindows.py\", line 274, in disk_usage\n",
      "    total, free = cext.disk_usage(path)\n",
      "                  ^^^^^^^^^^^^^^^^^^^^^\n",
      "SystemError: argument 1 (impossible<bad format char>)\n",
      "2024/06/04 14:38:47 INFO mlflow.system_metrics.system_metrics_monitor: Stopping system metrics monitoring...\n",
      "2024/06/04 14:38:47 INFO mlflow.system_metrics.system_metrics_monitor: Successfully terminated system metrics monitoring!\n"
     ]
    },
    {
     "name": "stdout",
     "output_type": "stream",
     "text": [
      "# 64 / 100\n"
     ]
    },
    {
     "name": "stderr",
     "output_type": "stream",
     "text": [
      "2024/06/04 14:38:51 WARNING mlflow.system_metrics.system_metrics_monitor: Skip logging GPU metrics because creating `GPUMonitor` failed with error: Failed to initialize NVML, skip logging GPU metrics: NVML Shared Library Not Found.\n",
      "Exception in thread 2024/06/04 14:38:51 INFO mlflow.system_metrics.system_metrics_monitor: Started monitoring system metrics.\n",
      "SystemMetricsMonitor:\n",
      "Traceback (most recent call last):\n",
      "  File \"C:\\Users\\hdychko\\AppData\\Local\\anaconda3\\envs\\experian_dev\\Lib\\threading.py\", line 1073, in _bootstrap_inner\n",
      "    self.run()\n",
      "  File \"C:\\Users\\hdychko\\AppData\\Local\\anaconda3\\envs\\experian_dev\\Lib\\threading.py\", line 1010, in run\n",
      "    self._target(*self._args, **self._kwargs)\n",
      "  File \"C:\\Users\\hdychko\\AppData\\Local\\anaconda3\\envs\\experian_dev\\Lib\\site-packages\\mlflow\\system_metrics\\system_metrics_monitor.py\", line 122, in monitor\n",
      "    self.collect_metrics()\n",
      "  File \"C:\\Users\\hdychko\\AppData\\Local\\anaconda3\\envs\\experian_dev\\Lib\\site-packages\\mlflow\\system_metrics\\system_metrics_monitor.py\", line 148, in collect_metrics\n",
      "    monitor.collect_metrics()\n",
      "  File \"C:\\Users\\hdychko\\AppData\\Local\\anaconda3\\envs\\experian_dev\\Lib\\site-packages\\mlflow\\system_metrics\\metrics\\disk_monitor.py\", line 15, in collect_metrics\n",
      "    disk_usage = psutil.disk_usage(os.sep)\n",
      "                 ^^^^^^^^^^^^^^^^^^^^^^^^^\n",
      "  File \"C:\\Users\\hdychko\\AppData\\Local\\anaconda3\\envs\\experian_dev\\Lib\\site-packages\\psutil\\__init__.py\", line 2003, in disk_usage\n",
      "    return _psplatform.disk_usage(path)\n",
      "           ^^^^^^^^^^^^^^^^^^^^^^^^^^^^\n",
      "  File \"C:\\Users\\hdychko\\AppData\\Local\\anaconda3\\envs\\experian_dev\\Lib\\site-packages\\psutil\\_pswindows.py\", line 274, in disk_usage\n",
      "    total, free = cext.disk_usage(path)\n",
      "                  ^^^^^^^^^^^^^^^^^^^^^\n",
      "SystemError: argument 1 (impossible<bad format char>)\n",
      "2024/06/04 14:38:59 INFO mlflow.system_metrics.system_metrics_monitor: Stopping system metrics monitoring...\n",
      "2024/06/04 14:38:59 INFO mlflow.system_metrics.system_metrics_monitor: Successfully terminated system metrics monitoring!\n"
     ]
    },
    {
     "name": "stdout",
     "output_type": "stream",
     "text": [
      "# 65 / 100\n"
     ]
    },
    {
     "name": "stderr",
     "output_type": "stream",
     "text": [
      "2024/06/04 14:39:05 WARNING mlflow.system_metrics.system_metrics_monitor: Skip logging GPU metrics because creating `GPUMonitor` failed with error: Failed to initialize NVML, skip logging GPU metrics: NVML Shared Library Not Found.\n",
      "Exception in thread 2024/06/04 14:39:05 INFO mlflow.system_metrics.system_metrics_monitor: Started monitoring system metrics.\n",
      "SystemMetricsMonitor:\n",
      "Traceback (most recent call last):\n",
      "  File \"C:\\Users\\hdychko\\AppData\\Local\\anaconda3\\envs\\experian_dev\\Lib\\threading.py\", line 1073, in _bootstrap_inner\n",
      "    self.run()\n",
      "  File \"C:\\Users\\hdychko\\AppData\\Local\\anaconda3\\envs\\experian_dev\\Lib\\threading.py\", line 1010, in run\n",
      "    self._target(*self._args, **self._kwargs)\n",
      "  File \"C:\\Users\\hdychko\\AppData\\Local\\anaconda3\\envs\\experian_dev\\Lib\\site-packages\\mlflow\\system_metrics\\system_metrics_monitor.py\", line 122, in monitor\n",
      "    self.collect_metrics()\n",
      "  File \"C:\\Users\\hdychko\\AppData\\Local\\anaconda3\\envs\\experian_dev\\Lib\\site-packages\\mlflow\\system_metrics\\system_metrics_monitor.py\", line 148, in collect_metrics\n",
      "    monitor.collect_metrics()\n",
      "  File \"C:\\Users\\hdychko\\AppData\\Local\\anaconda3\\envs\\experian_dev\\Lib\\site-packages\\mlflow\\system_metrics\\metrics\\disk_monitor.py\", line 15, in collect_metrics\n",
      "    disk_usage = psutil.disk_usage(os.sep)\n",
      "                 ^^^^^^^^^^^^^^^^^^^^^^^^^\n",
      "  File \"C:\\Users\\hdychko\\AppData\\Local\\anaconda3\\envs\\experian_dev\\Lib\\site-packages\\psutil\\__init__.py\", line 2003, in disk_usage\n",
      "    return _psplatform.disk_usage(path)\n",
      "           ^^^^^^^^^^^^^^^^^^^^^^^^^^^^\n",
      "  File \"C:\\Users\\hdychko\\AppData\\Local\\anaconda3\\envs\\experian_dev\\Lib\\site-packages\\psutil\\_pswindows.py\", line 274, in disk_usage\n",
      "    total, free = cext.disk_usage(path)\n",
      "                  ^^^^^^^^^^^^^^^^^^^^^\n",
      "SystemError: argument 1 (impossible<bad format char>)\n",
      "2024/06/04 14:39:13 INFO mlflow.system_metrics.system_metrics_monitor: Stopping system metrics monitoring...\n",
      "2024/06/04 14:39:13 INFO mlflow.system_metrics.system_metrics_monitor: Successfully terminated system metrics monitoring!\n"
     ]
    },
    {
     "name": "stdout",
     "output_type": "stream",
     "text": [
      "# 66 / 100\n"
     ]
    },
    {
     "name": "stderr",
     "output_type": "stream",
     "text": [
      "2024/06/04 14:39:15 WARNING mlflow.system_metrics.system_metrics_monitor: Skip logging GPU metrics because creating `GPUMonitor` failed with error: Failed to initialize NVML, skip logging GPU metrics: NVML Shared Library Not Found.\n",
      "Exception in thread 2024/06/04 14:39:15 INFO mlflow.system_metrics.system_metrics_monitor: Started monitoring system metrics.\n",
      "SystemMetricsMonitor:\n",
      "Traceback (most recent call last):\n",
      "  File \"C:\\Users\\hdychko\\AppData\\Local\\anaconda3\\envs\\experian_dev\\Lib\\threading.py\", line 1073, in _bootstrap_inner\n",
      "    self.run()\n",
      "  File \"C:\\Users\\hdychko\\AppData\\Local\\anaconda3\\envs\\experian_dev\\Lib\\threading.py\", line 1010, in run\n",
      "    self._target(*self._args, **self._kwargs)\n",
      "  File \"C:\\Users\\hdychko\\AppData\\Local\\anaconda3\\envs\\experian_dev\\Lib\\site-packages\\mlflow\\system_metrics\\system_metrics_monitor.py\", line 122, in monitor\n",
      "    self.collect_metrics()\n",
      "  File \"C:\\Users\\hdychko\\AppData\\Local\\anaconda3\\envs\\experian_dev\\Lib\\site-packages\\mlflow\\system_metrics\\system_metrics_monitor.py\", line 148, in collect_metrics\n",
      "    monitor.collect_metrics()\n",
      "  File \"C:\\Users\\hdychko\\AppData\\Local\\anaconda3\\envs\\experian_dev\\Lib\\site-packages\\mlflow\\system_metrics\\metrics\\disk_monitor.py\", line 15, in collect_metrics\n",
      "    disk_usage = psutil.disk_usage(os.sep)\n",
      "                 ^^^^^^^^^^^^^^^^^^^^^^^^^\n",
      "  File \"C:\\Users\\hdychko\\AppData\\Local\\anaconda3\\envs\\experian_dev\\Lib\\site-packages\\psutil\\__init__.py\", line 2003, in disk_usage\n",
      "    return _psplatform.disk_usage(path)\n",
      "           ^^^^^^^^^^^^^^^^^^^^^^^^^^^^\n",
      "  File \"C:\\Users\\hdychko\\AppData\\Local\\anaconda3\\envs\\experian_dev\\Lib\\site-packages\\psutil\\_pswindows.py\", line 274, in disk_usage\n",
      "    total, free = cext.disk_usage(path)\n",
      "                  ^^^^^^^^^^^^^^^^^^^^^\n",
      "SystemError: argument 1 (impossible<bad format char>)\n",
      "2024/06/04 14:39:24 INFO mlflow.system_metrics.system_metrics_monitor: Stopping system metrics monitoring...\n",
      "2024/06/04 14:39:24 INFO mlflow.system_metrics.system_metrics_monitor: Successfully terminated system metrics monitoring!\n"
     ]
    },
    {
     "name": "stdout",
     "output_type": "stream",
     "text": [
      "# 67 / 100\n"
     ]
    },
    {
     "name": "stderr",
     "output_type": "stream",
     "text": [
      "2024/06/04 14:39:30 WARNING mlflow.system_metrics.system_metrics_monitor: Skip logging GPU metrics because creating `GPUMonitor` failed with error: Failed to initialize NVML, skip logging GPU metrics: NVML Shared Library Not Found.\n",
      "Exception in thread 2024/06/04 14:39:30 INFO mlflow.system_metrics.system_metrics_monitor: Started monitoring system metrics.\n",
      "SystemMetricsMonitor:\n",
      "Traceback (most recent call last):\n",
      "  File \"C:\\Users\\hdychko\\AppData\\Local\\anaconda3\\envs\\experian_dev\\Lib\\threading.py\", line 1073, in _bootstrap_inner\n",
      "    self.run()\n",
      "  File \"C:\\Users\\hdychko\\AppData\\Local\\anaconda3\\envs\\experian_dev\\Lib\\threading.py\", line 1010, in run\n",
      "    self._target(*self._args, **self._kwargs)\n",
      "  File \"C:\\Users\\hdychko\\AppData\\Local\\anaconda3\\envs\\experian_dev\\Lib\\site-packages\\mlflow\\system_metrics\\system_metrics_monitor.py\", line 122, in monitor\n",
      "    self.collect_metrics()\n",
      "  File \"C:\\Users\\hdychko\\AppData\\Local\\anaconda3\\envs\\experian_dev\\Lib\\site-packages\\mlflow\\system_metrics\\system_metrics_monitor.py\", line 148, in collect_metrics\n",
      "    monitor.collect_metrics()\n",
      "  File \"C:\\Users\\hdychko\\AppData\\Local\\anaconda3\\envs\\experian_dev\\Lib\\site-packages\\mlflow\\system_metrics\\metrics\\disk_monitor.py\", line 15, in collect_metrics\n",
      "    disk_usage = psutil.disk_usage(os.sep)\n",
      "                 ^^^^^^^^^^^^^^^^^^^^^^^^^\n",
      "  File \"C:\\Users\\hdychko\\AppData\\Local\\anaconda3\\envs\\experian_dev\\Lib\\site-packages\\psutil\\__init__.py\", line 2003, in disk_usage\n",
      "    return _psplatform.disk_usage(path)\n",
      "           ^^^^^^^^^^^^^^^^^^^^^^^^^^^^\n",
      "  File \"C:\\Users\\hdychko\\AppData\\Local\\anaconda3\\envs\\experian_dev\\Lib\\site-packages\\psutil\\_pswindows.py\", line 274, in disk_usage\n",
      "    total, free = cext.disk_usage(path)\n",
      "                  ^^^^^^^^^^^^^^^^^^^^^\n",
      "SystemError: argument 1 (impossible<bad format char>)\n",
      "2024/06/04 14:39:38 INFO mlflow.system_metrics.system_metrics_monitor: Stopping system metrics monitoring...\n",
      "2024/06/04 14:39:38 INFO mlflow.system_metrics.system_metrics_monitor: Successfully terminated system metrics monitoring!\n"
     ]
    },
    {
     "name": "stdout",
     "output_type": "stream",
     "text": [
      "# 68 / 100\n"
     ]
    },
    {
     "name": "stderr",
     "output_type": "stream",
     "text": [
      "2024/06/04 14:39:42 WARNING mlflow.system_metrics.system_metrics_monitor: Skip logging GPU metrics because creating `GPUMonitor` failed with error: Failed to initialize NVML, skip logging GPU metrics: NVML Shared Library Not Found.\n",
      "Exception in thread 2024/06/04 14:39:42 INFO mlflow.system_metrics.system_metrics_monitor: Started monitoring system metrics.\n",
      "SystemMetricsMonitor:\n",
      "Traceback (most recent call last):\n",
      "  File \"C:\\Users\\hdychko\\AppData\\Local\\anaconda3\\envs\\experian_dev\\Lib\\threading.py\", line 1073, in _bootstrap_inner\n",
      "    self.run()\n",
      "  File \"C:\\Users\\hdychko\\AppData\\Local\\anaconda3\\envs\\experian_dev\\Lib\\threading.py\", line 1010, in run\n",
      "    self._target(*self._args, **self._kwargs)\n",
      "  File \"C:\\Users\\hdychko\\AppData\\Local\\anaconda3\\envs\\experian_dev\\Lib\\site-packages\\mlflow\\system_metrics\\system_metrics_monitor.py\", line 122, in monitor\n",
      "    self.collect_metrics()\n",
      "  File \"C:\\Users\\hdychko\\AppData\\Local\\anaconda3\\envs\\experian_dev\\Lib\\site-packages\\mlflow\\system_metrics\\system_metrics_monitor.py\", line 148, in collect_metrics\n",
      "    monitor.collect_metrics()\n",
      "  File \"C:\\Users\\hdychko\\AppData\\Local\\anaconda3\\envs\\experian_dev\\Lib\\site-packages\\mlflow\\system_metrics\\metrics\\disk_monitor.py\", line 15, in collect_metrics\n",
      "    disk_usage = psutil.disk_usage(os.sep)\n",
      "                 ^^^^^^^^^^^^^^^^^^^^^^^^^\n",
      "  File \"C:\\Users\\hdychko\\AppData\\Local\\anaconda3\\envs\\experian_dev\\Lib\\site-packages\\psutil\\__init__.py\", line 2003, in disk_usage\n",
      "    return _psplatform.disk_usage(path)\n",
      "           ^^^^^^^^^^^^^^^^^^^^^^^^^^^^\n",
      "  File \"C:\\Users\\hdychko\\AppData\\Local\\anaconda3\\envs\\experian_dev\\Lib\\site-packages\\psutil\\_pswindows.py\", line 274, in disk_usage\n",
      "    total, free = cext.disk_usage(path)\n",
      "                  ^^^^^^^^^^^^^^^^^^^^^\n",
      "SystemError: argument 1 (impossible<bad format char>)\n",
      "2024/06/04 14:39:50 INFO mlflow.system_metrics.system_metrics_monitor: Stopping system metrics monitoring...\n",
      "2024/06/04 14:39:50 INFO mlflow.system_metrics.system_metrics_monitor: Successfully terminated system metrics monitoring!\n"
     ]
    },
    {
     "name": "stdout",
     "output_type": "stream",
     "text": [
      "# 69 / 100\n"
     ]
    },
    {
     "name": "stderr",
     "output_type": "stream",
     "text": [
      "2024/06/04 14:39:51 WARNING mlflow.system_metrics.system_metrics_monitor: Skip logging GPU metrics because creating `GPUMonitor` failed with error: Failed to initialize NVML, skip logging GPU metrics: NVML Shared Library Not Found.\n",
      "Exception in thread 2024/06/04 14:39:51 INFO mlflow.system_metrics.system_metrics_monitor: Started monitoring system metrics.\n",
      "SystemMetricsMonitor:\n",
      "Traceback (most recent call last):\n",
      "  File \"C:\\Users\\hdychko\\AppData\\Local\\anaconda3\\envs\\experian_dev\\Lib\\threading.py\", line 1073, in _bootstrap_inner\n",
      "    self.run()\n",
      "  File \"C:\\Users\\hdychko\\AppData\\Local\\anaconda3\\envs\\experian_dev\\Lib\\threading.py\", line 1010, in run\n",
      "    self._target(*self._args, **self._kwargs)\n",
      "  File \"C:\\Users\\hdychko\\AppData\\Local\\anaconda3\\envs\\experian_dev\\Lib\\site-packages\\mlflow\\system_metrics\\system_metrics_monitor.py\", line 122, in monitor\n",
      "    self.collect_metrics()\n",
      "  File \"C:\\Users\\hdychko\\AppData\\Local\\anaconda3\\envs\\experian_dev\\Lib\\site-packages\\mlflow\\system_metrics\\system_metrics_monitor.py\", line 148, in collect_metrics\n",
      "    monitor.collect_metrics()\n",
      "  File \"C:\\Users\\hdychko\\AppData\\Local\\anaconda3\\envs\\experian_dev\\Lib\\site-packages\\mlflow\\system_metrics\\metrics\\disk_monitor.py\", line 15, in collect_metrics\n",
      "    disk_usage = psutil.disk_usage(os.sep)\n",
      "                 ^^^^^^^^^^^^^^^^^^^^^^^^^\n",
      "  File \"C:\\Users\\hdychko\\AppData\\Local\\anaconda3\\envs\\experian_dev\\Lib\\site-packages\\psutil\\__init__.py\", line 2003, in disk_usage\n",
      "    return _psplatform.disk_usage(path)\n",
      "           ^^^^^^^^^^^^^^^^^^^^^^^^^^^^\n",
      "  File \"C:\\Users\\hdychko\\AppData\\Local\\anaconda3\\envs\\experian_dev\\Lib\\site-packages\\psutil\\_pswindows.py\", line 274, in disk_usage\n",
      "    total, free = cext.disk_usage(path)\n",
      "                  ^^^^^^^^^^^^^^^^^^^^^\n",
      "SystemError: argument 1 (impossible<bad format char>)\n",
      "2024/06/04 14:40:00 INFO mlflow.system_metrics.system_metrics_monitor: Stopping system metrics monitoring...\n",
      "2024/06/04 14:40:00 INFO mlflow.system_metrics.system_metrics_monitor: Successfully terminated system metrics monitoring!\n"
     ]
    },
    {
     "name": "stdout",
     "output_type": "stream",
     "text": [
      "# 70 / 100\n"
     ]
    },
    {
     "name": "stderr",
     "output_type": "stream",
     "text": [
      "2024/06/04 14:40:03 WARNING mlflow.system_metrics.system_metrics_monitor: Skip logging GPU metrics because creating `GPUMonitor` failed with error: Failed to initialize NVML, skip logging GPU metrics: NVML Shared Library Not Found.\n",
      "Exception in thread SystemMetricsMonitor:\n",
      "Traceback (most recent call last):\n",
      "  File \"C:\\Users\\hdychko\\AppData\\Local\\anaconda3\\envs\\experian_dev\\Lib\\threading.py\", line 1073, in _bootstrap_inner\n",
      "2024/06/04 14:40:03 INFO mlflow.system_metrics.system_metrics_monitor: Started monitoring system metrics.\n",
      "    self.run()\n",
      "  File \"C:\\Users\\hdychko\\AppData\\Local\\anaconda3\\envs\\experian_dev\\Lib\\threading.py\", line 1010, in run\n",
      "    self._target(*self._args, **self._kwargs)\n",
      "  File \"C:\\Users\\hdychko\\AppData\\Local\\anaconda3\\envs\\experian_dev\\Lib\\site-packages\\mlflow\\system_metrics\\system_metrics_monitor.py\", line 122, in monitor\n",
      "    self.collect_metrics()\n",
      "  File \"C:\\Users\\hdychko\\AppData\\Local\\anaconda3\\envs\\experian_dev\\Lib\\site-packages\\mlflow\\system_metrics\\system_metrics_monitor.py\", line 148, in collect_metrics\n",
      "    monitor.collect_metrics()\n",
      "  File \"C:\\Users\\hdychko\\AppData\\Local\\anaconda3\\envs\\experian_dev\\Lib\\site-packages\\mlflow\\system_metrics\\metrics\\disk_monitor.py\", line 15, in collect_metrics\n",
      "    disk_usage = psutil.disk_usage(os.sep)\n",
      "                 ^^^^^^^^^^^^^^^^^^^^^^^^^\n",
      "  File \"C:\\Users\\hdychko\\AppData\\Local\\anaconda3\\envs\\experian_dev\\Lib\\site-packages\\psutil\\__init__.py\", line 2003, in disk_usage\n",
      "    return _psplatform.disk_usage(path)\n",
      "           ^^^^^^^^^^^^^^^^^^^^^^^^^^^^\n",
      "  File \"C:\\Users\\hdychko\\AppData\\Local\\anaconda3\\envs\\experian_dev\\Lib\\site-packages\\psutil\\_pswindows.py\", line 274, in disk_usage\n",
      "    total, free = cext.disk_usage(path)\n",
      "                  ^^^^^^^^^^^^^^^^^^^^^\n",
      "SystemError: argument 1 (impossible<bad format char>)\n",
      "2024/06/04 14:40:45 INFO mlflow.system_metrics.system_metrics_monitor: Stopping system metrics monitoring...\n",
      "2024/06/04 14:40:45 INFO mlflow.system_metrics.system_metrics_monitor: Successfully terminated system metrics monitoring!\n"
     ]
    },
    {
     "name": "stdout",
     "output_type": "stream",
     "text": [
      "# 71 / 100\n"
     ]
    },
    {
     "name": "stderr",
     "output_type": "stream",
     "text": [
      "2024/06/04 14:40:48 WARNING mlflow.system_metrics.system_metrics_monitor: Skip logging GPU metrics because creating `GPUMonitor` failed with error: Failed to initialize NVML, skip logging GPU metrics: NVML Shared Library Not Found.\n",
      "Exception in thread SystemMetricsMonitor:\n",
      "Traceback (most recent call last):\n",
      "  File \"C:\\Users\\hdychko\\AppData\\Local\\anaconda3\\envs\\experian_dev\\Lib\\threading.py\", line 1073, in _bootstrap_inner\n",
      "2024/06/04 14:40:48 INFO mlflow.system_metrics.system_metrics_monitor: Started monitoring system metrics.\n",
      "    self.run()\n",
      "  File \"C:\\Users\\hdychko\\AppData\\Local\\anaconda3\\envs\\experian_dev\\Lib\\threading.py\", line 1010, in run\n",
      "    self._target(*self._args, **self._kwargs)\n",
      "  File \"C:\\Users\\hdychko\\AppData\\Local\\anaconda3\\envs\\experian_dev\\Lib\\site-packages\\mlflow\\system_metrics\\system_metrics_monitor.py\", line 122, in monitor\n",
      "    self.collect_metrics()\n",
      "  File \"C:\\Users\\hdychko\\AppData\\Local\\anaconda3\\envs\\experian_dev\\Lib\\site-packages\\mlflow\\system_metrics\\system_metrics_monitor.py\", line 148, in collect_metrics\n",
      "    monitor.collect_metrics()\n",
      "  File \"C:\\Users\\hdychko\\AppData\\Local\\anaconda3\\envs\\experian_dev\\Lib\\site-packages\\mlflow\\system_metrics\\metrics\\disk_monitor.py\", line 15, in collect_metrics\n",
      "    disk_usage = psutil.disk_usage(os.sep)\n",
      "                 ^^^^^^^^^^^^^^^^^^^^^^^^^\n",
      "  File \"C:\\Users\\hdychko\\AppData\\Local\\anaconda3\\envs\\experian_dev\\Lib\\site-packages\\psutil\\__init__.py\", line 2003, in disk_usage\n",
      "    return _psplatform.disk_usage(path)\n",
      "           ^^^^^^^^^^^^^^^^^^^^^^^^^^^^\n",
      "  File \"C:\\Users\\hdychko\\AppData\\Local\\anaconda3\\envs\\experian_dev\\Lib\\site-packages\\psutil\\_pswindows.py\", line 274, in disk_usage\n",
      "    total, free = cext.disk_usage(path)\n",
      "                  ^^^^^^^^^^^^^^^^^^^^^\n",
      "SystemError: argument 1 (impossible<bad format char>)\n",
      "2024/06/04 14:40:59 INFO mlflow.system_metrics.system_metrics_monitor: Stopping system metrics monitoring...\n",
      "2024/06/04 14:40:59 INFO mlflow.system_metrics.system_metrics_monitor: Successfully terminated system metrics monitoring!\n"
     ]
    },
    {
     "name": "stdout",
     "output_type": "stream",
     "text": [
      "# 72 / 100\n"
     ]
    },
    {
     "name": "stderr",
     "output_type": "stream",
     "text": [
      "2024/06/04 14:41:04 WARNING mlflow.system_metrics.system_metrics_monitor: Skip logging GPU metrics because creating `GPUMonitor` failed with error: Failed to initialize NVML, skip logging GPU metrics: NVML Shared Library Not Found.\n",
      "Exception in thread SystemMetricsMonitor:\n",
      "Traceback (most recent call last):\n",
      "  File \"C:\\Users\\hdychko\\AppData\\Local\\anaconda3\\envs\\experian_dev\\Lib\\threading.py\", line 1073, in _bootstrap_inner\n",
      "2024/06/04 14:41:04 INFO mlflow.system_metrics.system_metrics_monitor: Started monitoring system metrics.\n",
      "    self.run()\n",
      "  File \"C:\\Users\\hdychko\\AppData\\Local\\anaconda3\\envs\\experian_dev\\Lib\\threading.py\", line 1010, in run\n",
      "    self._target(*self._args, **self._kwargs)\n",
      "  File \"C:\\Users\\hdychko\\AppData\\Local\\anaconda3\\envs\\experian_dev\\Lib\\site-packages\\mlflow\\system_metrics\\system_metrics_monitor.py\", line 122, in monitor\n",
      "    self.collect_metrics()\n",
      "  File \"C:\\Users\\hdychko\\AppData\\Local\\anaconda3\\envs\\experian_dev\\Lib\\site-packages\\mlflow\\system_metrics\\system_metrics_monitor.py\", line 148, in collect_metrics\n",
      "    monitor.collect_metrics()\n",
      "  File \"C:\\Users\\hdychko\\AppData\\Local\\anaconda3\\envs\\experian_dev\\Lib\\site-packages\\mlflow\\system_metrics\\metrics\\disk_monitor.py\", line 15, in collect_metrics\n",
      "    disk_usage = psutil.disk_usage(os.sep)\n",
      "                 ^^^^^^^^^^^^^^^^^^^^^^^^^\n",
      "  File \"C:\\Users\\hdychko\\AppData\\Local\\anaconda3\\envs\\experian_dev\\Lib\\site-packages\\psutil\\__init__.py\", line 2003, in disk_usage\n",
      "    return _psplatform.disk_usage(path)\n",
      "           ^^^^^^^^^^^^^^^^^^^^^^^^^^^^\n",
      "  File \"C:\\Users\\hdychko\\AppData\\Local\\anaconda3\\envs\\experian_dev\\Lib\\site-packages\\psutil\\_pswindows.py\", line 274, in disk_usage\n",
      "    total, free = cext.disk_usage(path)\n",
      "                  ^^^^^^^^^^^^^^^^^^^^^\n",
      "SystemError: argument 1 (impossible<bad format char>)\n",
      "2024/06/04 14:41:12 INFO mlflow.system_metrics.system_metrics_monitor: Stopping system metrics monitoring...\n",
      "2024/06/04 14:41:12 INFO mlflow.system_metrics.system_metrics_monitor: Successfully terminated system metrics monitoring!\n"
     ]
    },
    {
     "name": "stdout",
     "output_type": "stream",
     "text": [
      "# 73 / 100\n"
     ]
    },
    {
     "name": "stderr",
     "output_type": "stream",
     "text": [
      "2024/06/04 14:41:17 WARNING mlflow.system_metrics.system_metrics_monitor: Skip logging GPU metrics because creating `GPUMonitor` failed with error: Failed to initialize NVML, skip logging GPU metrics: NVML Shared Library Not Found.\n",
      "Exception in thread 2024/06/04 14:41:17 INFO mlflow.system_metrics.system_metrics_monitor: Started monitoring system metrics.\n",
      "SystemMetricsMonitor:\n",
      "Traceback (most recent call last):\n",
      "  File \"C:\\Users\\hdychko\\AppData\\Local\\anaconda3\\envs\\experian_dev\\Lib\\threading.py\", line 1073, in _bootstrap_inner\n",
      "    self.run()\n",
      "  File \"C:\\Users\\hdychko\\AppData\\Local\\anaconda3\\envs\\experian_dev\\Lib\\threading.py\", line 1010, in run\n",
      "    self._target(*self._args, **self._kwargs)\n",
      "  File \"C:\\Users\\hdychko\\AppData\\Local\\anaconda3\\envs\\experian_dev\\Lib\\site-packages\\mlflow\\system_metrics\\system_metrics_monitor.py\", line 122, in monitor\n",
      "    self.collect_metrics()\n",
      "  File \"C:\\Users\\hdychko\\AppData\\Local\\anaconda3\\envs\\experian_dev\\Lib\\site-packages\\mlflow\\system_metrics\\system_metrics_monitor.py\", line 148, in collect_metrics\n",
      "    monitor.collect_metrics()\n",
      "  File \"C:\\Users\\hdychko\\AppData\\Local\\anaconda3\\envs\\experian_dev\\Lib\\site-packages\\mlflow\\system_metrics\\metrics\\disk_monitor.py\", line 15, in collect_metrics\n",
      "    disk_usage = psutil.disk_usage(os.sep)\n",
      "                 ^^^^^^^^^^^^^^^^^^^^^^^^^\n",
      "  File \"C:\\Users\\hdychko\\AppData\\Local\\anaconda3\\envs\\experian_dev\\Lib\\site-packages\\psutil\\__init__.py\", line 2003, in disk_usage\n",
      "    return _psplatform.disk_usage(path)\n",
      "           ^^^^^^^^^^^^^^^^^^^^^^^^^^^^\n",
      "  File \"C:\\Users\\hdychko\\AppData\\Local\\anaconda3\\envs\\experian_dev\\Lib\\site-packages\\psutil\\_pswindows.py\", line 274, in disk_usage\n",
      "    total, free = cext.disk_usage(path)\n",
      "                  ^^^^^^^^^^^^^^^^^^^^^\n",
      "SystemError: argument 1 (impossible<bad format char>)\n",
      "2024/06/04 14:41:25 INFO mlflow.system_metrics.system_metrics_monitor: Stopping system metrics monitoring...\n",
      "2024/06/04 14:41:25 INFO mlflow.system_metrics.system_metrics_monitor: Successfully terminated system metrics monitoring!\n"
     ]
    },
    {
     "name": "stdout",
     "output_type": "stream",
     "text": [
      "# 74 / 100\n"
     ]
    },
    {
     "name": "stderr",
     "output_type": "stream",
     "text": [
      "2024/06/04 14:41:28 WARNING mlflow.system_metrics.system_metrics_monitor: Skip logging GPU metrics because creating `GPUMonitor` failed with error: Failed to initialize NVML, skip logging GPU metrics: NVML Shared Library Not Found.\n",
      "Exception in thread 2024/06/04 14:41:28 INFO mlflow.system_metrics.system_metrics_monitor: Started monitoring system metrics.\n",
      "SystemMetricsMonitor:\n",
      "Traceback (most recent call last):\n",
      "  File \"C:\\Users\\hdychko\\AppData\\Local\\anaconda3\\envs\\experian_dev\\Lib\\threading.py\", line 1073, in _bootstrap_inner\n",
      "    self.run()\n",
      "  File \"C:\\Users\\hdychko\\AppData\\Local\\anaconda3\\envs\\experian_dev\\Lib\\threading.py\", line 1010, in run\n",
      "    self._target(*self._args, **self._kwargs)\n",
      "  File \"C:\\Users\\hdychko\\AppData\\Local\\anaconda3\\envs\\experian_dev\\Lib\\site-packages\\mlflow\\system_metrics\\system_metrics_monitor.py\", line 122, in monitor\n",
      "    self.collect_metrics()\n",
      "  File \"C:\\Users\\hdychko\\AppData\\Local\\anaconda3\\envs\\experian_dev\\Lib\\site-packages\\mlflow\\system_metrics\\system_metrics_monitor.py\", line 148, in collect_metrics\n",
      "    monitor.collect_metrics()\n",
      "  File \"C:\\Users\\hdychko\\AppData\\Local\\anaconda3\\envs\\experian_dev\\Lib\\site-packages\\mlflow\\system_metrics\\metrics\\disk_monitor.py\", line 15, in collect_metrics\n",
      "    disk_usage = psutil.disk_usage(os.sep)\n",
      "                 ^^^^^^^^^^^^^^^^^^^^^^^^^\n",
      "  File \"C:\\Users\\hdychko\\AppData\\Local\\anaconda3\\envs\\experian_dev\\Lib\\site-packages\\psutil\\__init__.py\", line 2003, in disk_usage\n",
      "    return _psplatform.disk_usage(path)\n",
      "           ^^^^^^^^^^^^^^^^^^^^^^^^^^^^\n",
      "  File \"C:\\Users\\hdychko\\AppData\\Local\\anaconda3\\envs\\experian_dev\\Lib\\site-packages\\psutil\\_pswindows.py\", line 274, in disk_usage\n",
      "    total, free = cext.disk_usage(path)\n",
      "                  ^^^^^^^^^^^^^^^^^^^^^\n",
      "SystemError: argument 1 (impossible<bad format char>)\n",
      "2024/06/04 14:41:37 INFO mlflow.system_metrics.system_metrics_monitor: Stopping system metrics monitoring...\n",
      "2024/06/04 14:41:37 INFO mlflow.system_metrics.system_metrics_monitor: Successfully terminated system metrics monitoring!\n"
     ]
    },
    {
     "name": "stdout",
     "output_type": "stream",
     "text": [
      "# 75 / 100\n"
     ]
    },
    {
     "name": "stderr",
     "output_type": "stream",
     "text": [
      "2024/06/04 14:41:40 WARNING mlflow.system_metrics.system_metrics_monitor: Skip logging GPU metrics because creating `GPUMonitor` failed with error: Failed to initialize NVML, skip logging GPU metrics: NVML Shared Library Not Found.\n",
      "Exception in thread 2024/06/04 14:41:40 INFO mlflow.system_metrics.system_metrics_monitor: Started monitoring system metrics.\n",
      "SystemMetricsMonitor:\n",
      "Traceback (most recent call last):\n",
      "  File \"C:\\Users\\hdychko\\AppData\\Local\\anaconda3\\envs\\experian_dev\\Lib\\threading.py\", line 1073, in _bootstrap_inner\n",
      "    self.run()\n",
      "  File \"C:\\Users\\hdychko\\AppData\\Local\\anaconda3\\envs\\experian_dev\\Lib\\threading.py\", line 1010, in run\n",
      "    self._target(*self._args, **self._kwargs)\n",
      "  File \"C:\\Users\\hdychko\\AppData\\Local\\anaconda3\\envs\\experian_dev\\Lib\\site-packages\\mlflow\\system_metrics\\system_metrics_monitor.py\", line 122, in monitor\n",
      "    self.collect_metrics()\n",
      "  File \"C:\\Users\\hdychko\\AppData\\Local\\anaconda3\\envs\\experian_dev\\Lib\\site-packages\\mlflow\\system_metrics\\system_metrics_monitor.py\", line 148, in collect_metrics\n",
      "    monitor.collect_metrics()\n",
      "  File \"C:\\Users\\hdychko\\AppData\\Local\\anaconda3\\envs\\experian_dev\\Lib\\site-packages\\mlflow\\system_metrics\\metrics\\disk_monitor.py\", line 15, in collect_metrics\n",
      "    disk_usage = psutil.disk_usage(os.sep)\n",
      "                 ^^^^^^^^^^^^^^^^^^^^^^^^^\n",
      "  File \"C:\\Users\\hdychko\\AppData\\Local\\anaconda3\\envs\\experian_dev\\Lib\\site-packages\\psutil\\__init__.py\", line 2003, in disk_usage\n",
      "    return _psplatform.disk_usage(path)\n",
      "           ^^^^^^^^^^^^^^^^^^^^^^^^^^^^\n",
      "  File \"C:\\Users\\hdychko\\AppData\\Local\\anaconda3\\envs\\experian_dev\\Lib\\site-packages\\psutil\\_pswindows.py\", line 274, in disk_usage\n",
      "    total, free = cext.disk_usage(path)\n",
      "                  ^^^^^^^^^^^^^^^^^^^^^\n",
      "SystemError: argument 1 (impossible<bad format char>)\n",
      "2024/06/04 14:41:53 INFO mlflow.system_metrics.system_metrics_monitor: Stopping system metrics monitoring...\n",
      "2024/06/04 14:41:53 INFO mlflow.system_metrics.system_metrics_monitor: Successfully terminated system metrics monitoring!\n"
     ]
    },
    {
     "name": "stdout",
     "output_type": "stream",
     "text": [
      "# 76 / 100\n"
     ]
    },
    {
     "name": "stderr",
     "output_type": "stream",
     "text": [
      "2024/06/04 14:41:56 WARNING mlflow.system_metrics.system_metrics_monitor: Skip logging GPU metrics because creating `GPUMonitor` failed with error: Failed to initialize NVML, skip logging GPU metrics: NVML Shared Library Not Found.\n",
      "Exception in thread 2024/06/04 14:41:56 INFO mlflow.system_metrics.system_metrics_monitor: Started monitoring system metrics.\n",
      "SystemMetricsMonitor:\n",
      "Traceback (most recent call last):\n",
      "  File \"C:\\Users\\hdychko\\AppData\\Local\\anaconda3\\envs\\experian_dev\\Lib\\threading.py\", line 1073, in _bootstrap_inner\n",
      "    self.run()\n",
      "  File \"C:\\Users\\hdychko\\AppData\\Local\\anaconda3\\envs\\experian_dev\\Lib\\threading.py\", line 1010, in run\n",
      "    self._target(*self._args, **self._kwargs)\n",
      "  File \"C:\\Users\\hdychko\\AppData\\Local\\anaconda3\\envs\\experian_dev\\Lib\\site-packages\\mlflow\\system_metrics\\system_metrics_monitor.py\", line 122, in monitor\n",
      "    self.collect_metrics()\n",
      "  File \"C:\\Users\\hdychko\\AppData\\Local\\anaconda3\\envs\\experian_dev\\Lib\\site-packages\\mlflow\\system_metrics\\system_metrics_monitor.py\", line 148, in collect_metrics\n",
      "    monitor.collect_metrics()\n",
      "  File \"C:\\Users\\hdychko\\AppData\\Local\\anaconda3\\envs\\experian_dev\\Lib\\site-packages\\mlflow\\system_metrics\\metrics\\disk_monitor.py\", line 15, in collect_metrics\n",
      "    disk_usage = psutil.disk_usage(os.sep)\n",
      "                 ^^^^^^^^^^^^^^^^^^^^^^^^^\n",
      "  File \"C:\\Users\\hdychko\\AppData\\Local\\anaconda3\\envs\\experian_dev\\Lib\\site-packages\\psutil\\__init__.py\", line 2003, in disk_usage\n",
      "    return _psplatform.disk_usage(path)\n",
      "           ^^^^^^^^^^^^^^^^^^^^^^^^^^^^\n",
      "  File \"C:\\Users\\hdychko\\AppData\\Local\\anaconda3\\envs\\experian_dev\\Lib\\site-packages\\psutil\\_pswindows.py\", line 274, in disk_usage\n",
      "    total, free = cext.disk_usage(path)\n",
      "                  ^^^^^^^^^^^^^^^^^^^^^\n",
      "SystemError: argument 1 (impossible<bad format char>)\n",
      "2024/06/04 14:42:09 INFO mlflow.system_metrics.system_metrics_monitor: Stopping system metrics monitoring...\n",
      "2024/06/04 14:42:09 INFO mlflow.system_metrics.system_metrics_monitor: Successfully terminated system metrics monitoring!\n"
     ]
    },
    {
     "name": "stdout",
     "output_type": "stream",
     "text": [
      "# 77 / 100\n"
     ]
    },
    {
     "name": "stderr",
     "output_type": "stream",
     "text": [
      "2024/06/04 14:42:11 WARNING mlflow.system_metrics.system_metrics_monitor: Skip logging GPU metrics because creating `GPUMonitor` failed with error: Failed to initialize NVML, skip logging GPU metrics: NVML Shared Library Not Found.\n",
      "Exception in thread 2024/06/04 14:42:11 INFO mlflow.system_metrics.system_metrics_monitor: Started monitoring system metrics.\n",
      "SystemMetricsMonitor:\n",
      "Traceback (most recent call last):\n",
      "  File \"C:\\Users\\hdychko\\AppData\\Local\\anaconda3\\envs\\experian_dev\\Lib\\threading.py\", line 1073, in _bootstrap_inner\n",
      "    self.run()\n",
      "  File \"C:\\Users\\hdychko\\AppData\\Local\\anaconda3\\envs\\experian_dev\\Lib\\threading.py\", line 1010, in run\n",
      "    self._target(*self._args, **self._kwargs)\n",
      "  File \"C:\\Users\\hdychko\\AppData\\Local\\anaconda3\\envs\\experian_dev\\Lib\\site-packages\\mlflow\\system_metrics\\system_metrics_monitor.py\", line 122, in monitor\n",
      "    self.collect_metrics()\n",
      "  File \"C:\\Users\\hdychko\\AppData\\Local\\anaconda3\\envs\\experian_dev\\Lib\\site-packages\\mlflow\\system_metrics\\system_metrics_monitor.py\", line 148, in collect_metrics\n",
      "    monitor.collect_metrics()\n",
      "  File \"C:\\Users\\hdychko\\AppData\\Local\\anaconda3\\envs\\experian_dev\\Lib\\site-packages\\mlflow\\system_metrics\\metrics\\disk_monitor.py\", line 15, in collect_metrics\n",
      "    disk_usage = psutil.disk_usage(os.sep)\n",
      "                 ^^^^^^^^^^^^^^^^^^^^^^^^^\n",
      "  File \"C:\\Users\\hdychko\\AppData\\Local\\anaconda3\\envs\\experian_dev\\Lib\\site-packages\\psutil\\__init__.py\", line 2003, in disk_usage\n",
      "    return _psplatform.disk_usage(path)\n",
      "           ^^^^^^^^^^^^^^^^^^^^^^^^^^^^\n",
      "  File \"C:\\Users\\hdychko\\AppData\\Local\\anaconda3\\envs\\experian_dev\\Lib\\site-packages\\psutil\\_pswindows.py\", line 274, in disk_usage\n",
      "    total, free = cext.disk_usage(path)\n",
      "                  ^^^^^^^^^^^^^^^^^^^^^\n",
      "SystemError: argument 1 (impossible<bad format char>)\n",
      "2024/06/04 14:42:21 INFO mlflow.system_metrics.system_metrics_monitor: Stopping system metrics monitoring...\n",
      "2024/06/04 14:42:21 INFO mlflow.system_metrics.system_metrics_monitor: Successfully terminated system metrics monitoring!\n"
     ]
    },
    {
     "name": "stdout",
     "output_type": "stream",
     "text": [
      "# 78 / 100\n"
     ]
    },
    {
     "name": "stderr",
     "output_type": "stream",
     "text": [
      "2024/06/04 14:42:25 WARNING mlflow.system_metrics.system_metrics_monitor: Skip logging GPU metrics because creating `GPUMonitor` failed with error: Failed to initialize NVML, skip logging GPU metrics: NVML Shared Library Not Found.\n",
      "Exception in thread 2024/06/04 14:42:25 INFO mlflow.system_metrics.system_metrics_monitor: Started monitoring system metrics.\n",
      "SystemMetricsMonitor:\n",
      "Traceback (most recent call last):\n",
      "  File \"C:\\Users\\hdychko\\AppData\\Local\\anaconda3\\envs\\experian_dev\\Lib\\threading.py\", line 1073, in _bootstrap_inner\n",
      "    self.run()\n",
      "  File \"C:\\Users\\hdychko\\AppData\\Local\\anaconda3\\envs\\experian_dev\\Lib\\threading.py\", line 1010, in run\n",
      "    self._target(*self._args, **self._kwargs)\n",
      "  File \"C:\\Users\\hdychko\\AppData\\Local\\anaconda3\\envs\\experian_dev\\Lib\\site-packages\\mlflow\\system_metrics\\system_metrics_monitor.py\", line 122, in monitor\n",
      "    self.collect_metrics()\n",
      "  File \"C:\\Users\\hdychko\\AppData\\Local\\anaconda3\\envs\\experian_dev\\Lib\\site-packages\\mlflow\\system_metrics\\system_metrics_monitor.py\", line 148, in collect_metrics\n",
      "    monitor.collect_metrics()\n",
      "  File \"C:\\Users\\hdychko\\AppData\\Local\\anaconda3\\envs\\experian_dev\\Lib\\site-packages\\mlflow\\system_metrics\\metrics\\disk_monitor.py\", line 15, in collect_metrics\n",
      "    disk_usage = psutil.disk_usage(os.sep)\n",
      "                 ^^^^^^^^^^^^^^^^^^^^^^^^^\n",
      "  File \"C:\\Users\\hdychko\\AppData\\Local\\anaconda3\\envs\\experian_dev\\Lib\\site-packages\\psutil\\__init__.py\", line 2003, in disk_usage\n",
      "    return _psplatform.disk_usage(path)\n",
      "           ^^^^^^^^^^^^^^^^^^^^^^^^^^^^\n",
      "  File \"C:\\Users\\hdychko\\AppData\\Local\\anaconda3\\envs\\experian_dev\\Lib\\site-packages\\psutil\\_pswindows.py\", line 274, in disk_usage\n",
      "    total, free = cext.disk_usage(path)\n",
      "                  ^^^^^^^^^^^^^^^^^^^^^\n",
      "SystemError: argument 1 (impossible<bad format char>)\n",
      "2024/06/04 14:42:35 INFO mlflow.system_metrics.system_metrics_monitor: Stopping system metrics monitoring...\n",
      "2024/06/04 14:42:35 INFO mlflow.system_metrics.system_metrics_monitor: Successfully terminated system metrics monitoring!\n"
     ]
    },
    {
     "name": "stdout",
     "output_type": "stream",
     "text": [
      "# 79 / 100\n"
     ]
    },
    {
     "name": "stderr",
     "output_type": "stream",
     "text": [
      "2024/06/04 14:42:37 WARNING mlflow.system_metrics.system_metrics_monitor: Skip logging GPU metrics because creating `GPUMonitor` failed with error: Failed to initialize NVML, skip logging GPU metrics: NVML Shared Library Not Found.\n",
      "Exception in thread 2024/06/04 14:42:37 INFO mlflow.system_metrics.system_metrics_monitor: Started monitoring system metrics.\n",
      "SystemMetricsMonitor:\n",
      "Traceback (most recent call last):\n",
      "  File \"C:\\Users\\hdychko\\AppData\\Local\\anaconda3\\envs\\experian_dev\\Lib\\threading.py\", line 1073, in _bootstrap_inner\n",
      "    self.run()\n",
      "  File \"C:\\Users\\hdychko\\AppData\\Local\\anaconda3\\envs\\experian_dev\\Lib\\threading.py\", line 1010, in run\n",
      "    self._target(*self._args, **self._kwargs)\n",
      "  File \"C:\\Users\\hdychko\\AppData\\Local\\anaconda3\\envs\\experian_dev\\Lib\\site-packages\\mlflow\\system_metrics\\system_metrics_monitor.py\", line 122, in monitor\n",
      "    self.collect_metrics()\n",
      "  File \"C:\\Users\\hdychko\\AppData\\Local\\anaconda3\\envs\\experian_dev\\Lib\\site-packages\\mlflow\\system_metrics\\system_metrics_monitor.py\", line 148, in collect_metrics\n",
      "    monitor.collect_metrics()\n",
      "  File \"C:\\Users\\hdychko\\AppData\\Local\\anaconda3\\envs\\experian_dev\\Lib\\site-packages\\mlflow\\system_metrics\\metrics\\disk_monitor.py\", line 15, in collect_metrics\n",
      "    disk_usage = psutil.disk_usage(os.sep)\n",
      "                 ^^^^^^^^^^^^^^^^^^^^^^^^^\n",
      "  File \"C:\\Users\\hdychko\\AppData\\Local\\anaconda3\\envs\\experian_dev\\Lib\\site-packages\\psutil\\__init__.py\", line 2003, in disk_usage\n",
      "    return _psplatform.disk_usage(path)\n",
      "           ^^^^^^^^^^^^^^^^^^^^^^^^^^^^\n",
      "  File \"C:\\Users\\hdychko\\AppData\\Local\\anaconda3\\envs\\experian_dev\\Lib\\site-packages\\psutil\\_pswindows.py\", line 274, in disk_usage\n",
      "    total, free = cext.disk_usage(path)\n",
      "                  ^^^^^^^^^^^^^^^^^^^^^\n",
      "SystemError: argument 1 (impossible<bad format char>)\n",
      "2024/06/04 14:42:46 INFO mlflow.system_metrics.system_metrics_monitor: Stopping system metrics monitoring...\n",
      "2024/06/04 14:42:46 INFO mlflow.system_metrics.system_metrics_monitor: Successfully terminated system metrics monitoring!\n"
     ]
    },
    {
     "name": "stdout",
     "output_type": "stream",
     "text": [
      "# 80 / 100\n"
     ]
    },
    {
     "name": "stderr",
     "output_type": "stream",
     "text": [
      "2024/06/04 14:42:47 WARNING mlflow.system_metrics.system_metrics_monitor: Skip logging GPU metrics because creating `GPUMonitor` failed with error: Failed to initialize NVML, skip logging GPU metrics: NVML Shared Library Not Found.\n",
      "Exception in thread SystemMetricsMonitor:\n",
      "Traceback (most recent call last):\n",
      "  File \"C:\\Users\\hdychko\\AppData\\Local\\anaconda3\\envs\\experian_dev\\Lib\\threading.py\", line 1073, in _bootstrap_inner\n",
      "2024/06/04 14:42:47 INFO mlflow.system_metrics.system_metrics_monitor: Started monitoring system metrics.\n",
      "    self.run()\n",
      "  File \"C:\\Users\\hdychko\\AppData\\Local\\anaconda3\\envs\\experian_dev\\Lib\\threading.py\", line 1010, in run\n",
      "    self._target(*self._args, **self._kwargs)\n",
      "  File \"C:\\Users\\hdychko\\AppData\\Local\\anaconda3\\envs\\experian_dev\\Lib\\site-packages\\mlflow\\system_metrics\\system_metrics_monitor.py\", line 122, in monitor\n",
      "    self.collect_metrics()\n",
      "  File \"C:\\Users\\hdychko\\AppData\\Local\\anaconda3\\envs\\experian_dev\\Lib\\site-packages\\mlflow\\system_metrics\\system_metrics_monitor.py\", line 148, in collect_metrics\n",
      "    monitor.collect_metrics()\n",
      "  File \"C:\\Users\\hdychko\\AppData\\Local\\anaconda3\\envs\\experian_dev\\Lib\\site-packages\\mlflow\\system_metrics\\metrics\\disk_monitor.py\", line 15, in collect_metrics\n",
      "    disk_usage = psutil.disk_usage(os.sep)\n",
      "                 ^^^^^^^^^^^^^^^^^^^^^^^^^\n",
      "  File \"C:\\Users\\hdychko\\AppData\\Local\\anaconda3\\envs\\experian_dev\\Lib\\site-packages\\psutil\\__init__.py\", line 2003, in disk_usage\n",
      "    return _psplatform.disk_usage(path)\n",
      "           ^^^^^^^^^^^^^^^^^^^^^^^^^^^^\n",
      "  File \"C:\\Users\\hdychko\\AppData\\Local\\anaconda3\\envs\\experian_dev\\Lib\\site-packages\\psutil\\_pswindows.py\", line 274, in disk_usage\n",
      "    total, free = cext.disk_usage(path)\n",
      "                  ^^^^^^^^^^^^^^^^^^^^^\n",
      "SystemError: argument 1 (impossible<bad format char>)\n",
      "2024/06/04 14:42:55 INFO mlflow.system_metrics.system_metrics_monitor: Stopping system metrics monitoring...\n",
      "2024/06/04 14:42:55 INFO mlflow.system_metrics.system_metrics_monitor: Successfully terminated system metrics monitoring!\n"
     ]
    },
    {
     "name": "stdout",
     "output_type": "stream",
     "text": [
      "# 81 / 100\n"
     ]
    },
    {
     "name": "stderr",
     "output_type": "stream",
     "text": [
      "2024/06/04 14:42:57 WARNING mlflow.system_metrics.system_metrics_monitor: Skip logging GPU metrics because creating `GPUMonitor` failed with error: Failed to initialize NVML, skip logging GPU metrics: NVML Shared Library Not Found.\n",
      "Exception in thread 2024/06/04 14:42:57 INFO mlflow.system_metrics.system_metrics_monitor: Started monitoring system metrics.\n",
      "SystemMetricsMonitor:\n",
      "Traceback (most recent call last):\n",
      "  File \"C:\\Users\\hdychko\\AppData\\Local\\anaconda3\\envs\\experian_dev\\Lib\\threading.py\", line 1073, in _bootstrap_inner\n",
      "    self.run()\n",
      "  File \"C:\\Users\\hdychko\\AppData\\Local\\anaconda3\\envs\\experian_dev\\Lib\\threading.py\", line 1010, in run\n",
      "    self._target(*self._args, **self._kwargs)\n",
      "  File \"C:\\Users\\hdychko\\AppData\\Local\\anaconda3\\envs\\experian_dev\\Lib\\site-packages\\mlflow\\system_metrics\\system_metrics_monitor.py\", line 122, in monitor\n",
      "    self.collect_metrics()\n",
      "  File \"C:\\Users\\hdychko\\AppData\\Local\\anaconda3\\envs\\experian_dev\\Lib\\site-packages\\mlflow\\system_metrics\\system_metrics_monitor.py\", line 148, in collect_metrics\n",
      "    monitor.collect_metrics()\n",
      "  File \"C:\\Users\\hdychko\\AppData\\Local\\anaconda3\\envs\\experian_dev\\Lib\\site-packages\\mlflow\\system_metrics\\metrics\\disk_monitor.py\", line 15, in collect_metrics\n",
      "    disk_usage = psutil.disk_usage(os.sep)\n",
      "                 ^^^^^^^^^^^^^^^^^^^^^^^^^\n",
      "  File \"C:\\Users\\hdychko\\AppData\\Local\\anaconda3\\envs\\experian_dev\\Lib\\site-packages\\psutil\\__init__.py\", line 2003, in disk_usage\n",
      "    return _psplatform.disk_usage(path)\n",
      "           ^^^^^^^^^^^^^^^^^^^^^^^^^^^^\n",
      "  File \"C:\\Users\\hdychko\\AppData\\Local\\anaconda3\\envs\\experian_dev\\Lib\\site-packages\\psutil\\_pswindows.py\", line 274, in disk_usage\n",
      "    total, free = cext.disk_usage(path)\n",
      "                  ^^^^^^^^^^^^^^^^^^^^^\n",
      "SystemError: argument 1 (impossible<bad format char>)\n",
      "2024/06/04 14:43:05 INFO mlflow.system_metrics.system_metrics_monitor: Stopping system metrics monitoring...\n",
      "2024/06/04 14:43:05 INFO mlflow.system_metrics.system_metrics_monitor: Successfully terminated system metrics monitoring!\n"
     ]
    },
    {
     "name": "stdout",
     "output_type": "stream",
     "text": [
      "# 82 / 100\n"
     ]
    },
    {
     "name": "stderr",
     "output_type": "stream",
     "text": [
      "2024/06/04 14:43:07 WARNING mlflow.system_metrics.system_metrics_monitor: Skip logging GPU metrics because creating `GPUMonitor` failed with error: Failed to initialize NVML, skip logging GPU metrics: NVML Shared Library Not Found.\n",
      "Exception in thread 2024/06/04 14:43:07 INFO mlflow.system_metrics.system_metrics_monitor: Started monitoring system metrics.\n",
      "SystemMetricsMonitor:\n",
      "Traceback (most recent call last):\n",
      "  File \"C:\\Users\\hdychko\\AppData\\Local\\anaconda3\\envs\\experian_dev\\Lib\\threading.py\", line 1073, in _bootstrap_inner\n",
      "    self.run()\n",
      "  File \"C:\\Users\\hdychko\\AppData\\Local\\anaconda3\\envs\\experian_dev\\Lib\\threading.py\", line 1010, in run\n",
      "    self._target(*self._args, **self._kwargs)\n",
      "  File \"C:\\Users\\hdychko\\AppData\\Local\\anaconda3\\envs\\experian_dev\\Lib\\site-packages\\mlflow\\system_metrics\\system_metrics_monitor.py\", line 122, in monitor\n",
      "    self.collect_metrics()\n",
      "  File \"C:\\Users\\hdychko\\AppData\\Local\\anaconda3\\envs\\experian_dev\\Lib\\site-packages\\mlflow\\system_metrics\\system_metrics_monitor.py\", line 148, in collect_metrics\n",
      "    monitor.collect_metrics()\n",
      "  File \"C:\\Users\\hdychko\\AppData\\Local\\anaconda3\\envs\\experian_dev\\Lib\\site-packages\\mlflow\\system_metrics\\metrics\\disk_monitor.py\", line 15, in collect_metrics\n",
      "    disk_usage = psutil.disk_usage(os.sep)\n",
      "                 ^^^^^^^^^^^^^^^^^^^^^^^^^\n",
      "  File \"C:\\Users\\hdychko\\AppData\\Local\\anaconda3\\envs\\experian_dev\\Lib\\site-packages\\psutil\\__init__.py\", line 2003, in disk_usage\n",
      "    return _psplatform.disk_usage(path)\n",
      "           ^^^^^^^^^^^^^^^^^^^^^^^^^^^^\n",
      "  File \"C:\\Users\\hdychko\\AppData\\Local\\anaconda3\\envs\\experian_dev\\Lib\\site-packages\\psutil\\_pswindows.py\", line 274, in disk_usage\n",
      "    total, free = cext.disk_usage(path)\n",
      "                  ^^^^^^^^^^^^^^^^^^^^^\n",
      "SystemError: argument 1 (impossible<bad format char>)\n",
      "2024/06/04 14:43:21 INFO mlflow.system_metrics.system_metrics_monitor: Stopping system metrics monitoring...\n",
      "2024/06/04 14:43:21 INFO mlflow.system_metrics.system_metrics_monitor: Successfully terminated system metrics monitoring!\n"
     ]
    },
    {
     "name": "stdout",
     "output_type": "stream",
     "text": [
      "# 83 / 100\n"
     ]
    },
    {
     "name": "stderr",
     "output_type": "stream",
     "text": [
      "2024/06/04 14:43:26 WARNING mlflow.system_metrics.system_metrics_monitor: Skip logging GPU metrics because creating `GPUMonitor` failed with error: Failed to initialize NVML, skip logging GPU metrics: NVML Shared Library Not Found.\n",
      "2024/06/04 14:43:26 INFO mlflow.system_metrics.system_metrics_monitor: Started monitoring system metrics.\n",
      "Exception in thread SystemMetricsMonitor:\n",
      "Traceback (most recent call last):\n",
      "  File \"C:\\Users\\hdychko\\AppData\\Local\\anaconda3\\envs\\experian_dev\\Lib\\threading.py\", line 1073, in _bootstrap_inner\n",
      "    self.run()\n",
      "  File \"C:\\Users\\hdychko\\AppData\\Local\\anaconda3\\envs\\experian_dev\\Lib\\threading.py\", line 1010, in run\n",
      "    self._target(*self._args, **self._kwargs)\n",
      "  File \"C:\\Users\\hdychko\\AppData\\Local\\anaconda3\\envs\\experian_dev\\Lib\\site-packages\\mlflow\\system_metrics\\system_metrics_monitor.py\", line 122, in monitor\n",
      "    self.collect_metrics()\n",
      "  File \"C:\\Users\\hdychko\\AppData\\Local\\anaconda3\\envs\\experian_dev\\Lib\\site-packages\\mlflow\\system_metrics\\system_metrics_monitor.py\", line 148, in collect_metrics\n",
      "    monitor.collect_metrics()\n",
      "  File \"C:\\Users\\hdychko\\AppData\\Local\\anaconda3\\envs\\experian_dev\\Lib\\site-packages\\mlflow\\system_metrics\\metrics\\disk_monitor.py\", line 15, in collect_metrics\n",
      "    disk_usage = psutil.disk_usage(os.sep)\n",
      "                 ^^^^^^^^^^^^^^^^^^^^^^^^^\n",
      "  File \"C:\\Users\\hdychko\\AppData\\Local\\anaconda3\\envs\\experian_dev\\Lib\\site-packages\\psutil\\__init__.py\", line 2003, in disk_usage\n",
      "    return _psplatform.disk_usage(path)\n",
      "           ^^^^^^^^^^^^^^^^^^^^^^^^^^^^\n",
      "  File \"C:\\Users\\hdychko\\AppData\\Local\\anaconda3\\envs\\experian_dev\\Lib\\site-packages\\psutil\\_pswindows.py\", line 274, in disk_usage\n",
      "    total, free = cext.disk_usage(path)\n",
      "                  ^^^^^^^^^^^^^^^^^^^^^\n",
      "SystemError: argument 1 (impossible<bad format char>)\n",
      "2024/06/04 14:43:36 INFO mlflow.system_metrics.system_metrics_monitor: Stopping system metrics monitoring...\n",
      "2024/06/04 14:43:36 INFO mlflow.system_metrics.system_metrics_monitor: Successfully terminated system metrics monitoring!\n"
     ]
    },
    {
     "name": "stdout",
     "output_type": "stream",
     "text": [
      "# 84 / 100\n"
     ]
    },
    {
     "name": "stderr",
     "output_type": "stream",
     "text": [
      "2024/06/04 14:43:40 WARNING mlflow.system_metrics.system_metrics_monitor: Skip logging GPU metrics because creating `GPUMonitor` failed with error: Failed to initialize NVML, skip logging GPU metrics: NVML Shared Library Not Found.\n",
      "Exception in thread SystemMetricsMonitor:\n",
      "Traceback (most recent call last):\n",
      "  File \"C:\\Users\\hdychko\\AppData\\Local\\anaconda3\\envs\\experian_dev\\Lib\\threading.py\", line 1073, in _bootstrap_inner\n",
      "2024/06/04 14:43:40 INFO mlflow.system_metrics.system_metrics_monitor: Started monitoring system metrics.\n",
      "    self.run()\n",
      "  File \"C:\\Users\\hdychko\\AppData\\Local\\anaconda3\\envs\\experian_dev\\Lib\\threading.py\", line 1010, in run\n",
      "    self._target(*self._args, **self._kwargs)\n",
      "  File \"C:\\Users\\hdychko\\AppData\\Local\\anaconda3\\envs\\experian_dev\\Lib\\site-packages\\mlflow\\system_metrics\\system_metrics_monitor.py\", line 122, in monitor\n",
      "    self.collect_metrics()\n",
      "  File \"C:\\Users\\hdychko\\AppData\\Local\\anaconda3\\envs\\experian_dev\\Lib\\site-packages\\mlflow\\system_metrics\\system_metrics_monitor.py\", line 148, in collect_metrics\n",
      "    monitor.collect_metrics()\n",
      "  File \"C:\\Users\\hdychko\\AppData\\Local\\anaconda3\\envs\\experian_dev\\Lib\\site-packages\\mlflow\\system_metrics\\metrics\\disk_monitor.py\", line 15, in collect_metrics\n",
      "    disk_usage = psutil.disk_usage(os.sep)\n",
      "                 ^^^^^^^^^^^^^^^^^^^^^^^^^\n",
      "  File \"C:\\Users\\hdychko\\AppData\\Local\\anaconda3\\envs\\experian_dev\\Lib\\site-packages\\psutil\\__init__.py\", line 2003, in disk_usage\n",
      "    return _psplatform.disk_usage(path)\n",
      "           ^^^^^^^^^^^^^^^^^^^^^^^^^^^^\n",
      "  File \"C:\\Users\\hdychko\\AppData\\Local\\anaconda3\\envs\\experian_dev\\Lib\\site-packages\\psutil\\_pswindows.py\", line 274, in disk_usage\n",
      "    total, free = cext.disk_usage(path)\n",
      "                  ^^^^^^^^^^^^^^^^^^^^^\n",
      "SystemError: argument 1 (impossible<bad format char>)\n",
      "2024/06/04 14:43:48 INFO mlflow.system_metrics.system_metrics_monitor: Stopping system metrics monitoring...\n",
      "2024/06/04 14:43:48 INFO mlflow.system_metrics.system_metrics_monitor: Successfully terminated system metrics monitoring!\n"
     ]
    },
    {
     "name": "stdout",
     "output_type": "stream",
     "text": [
      "# 85 / 100\n"
     ]
    },
    {
     "name": "stderr",
     "output_type": "stream",
     "text": [
      "2024/06/04 14:43:50 WARNING mlflow.system_metrics.system_metrics_monitor: Skip logging GPU metrics because creating `GPUMonitor` failed with error: Failed to initialize NVML, skip logging GPU metrics: NVML Shared Library Not Found.\n",
      "Exception in thread SystemMetricsMonitor:\n",
      "Traceback (most recent call last):\n",
      "  File \"C:\\Users\\hdychko\\AppData\\Local\\anaconda3\\envs\\experian_dev\\Lib\\threading.py\", line 1073, in _bootstrap_inner\n",
      "2024/06/04 14:43:50 INFO mlflow.system_metrics.system_metrics_monitor: Started monitoring system metrics.\n",
      "    self.run()\n",
      "  File \"C:\\Users\\hdychko\\AppData\\Local\\anaconda3\\envs\\experian_dev\\Lib\\threading.py\", line 1010, in run\n",
      "    self._target(*self._args, **self._kwargs)\n",
      "  File \"C:\\Users\\hdychko\\AppData\\Local\\anaconda3\\envs\\experian_dev\\Lib\\site-packages\\mlflow\\system_metrics\\system_metrics_monitor.py\", line 122, in monitor\n",
      "    self.collect_metrics()\n",
      "  File \"C:\\Users\\hdychko\\AppData\\Local\\anaconda3\\envs\\experian_dev\\Lib\\site-packages\\mlflow\\system_metrics\\system_metrics_monitor.py\", line 148, in collect_metrics\n",
      "    monitor.collect_metrics()\n",
      "  File \"C:\\Users\\hdychko\\AppData\\Local\\anaconda3\\envs\\experian_dev\\Lib\\site-packages\\mlflow\\system_metrics\\metrics\\disk_monitor.py\", line 15, in collect_metrics\n",
      "    disk_usage = psutil.disk_usage(os.sep)\n",
      "                 ^^^^^^^^^^^^^^^^^^^^^^^^^\n",
      "  File \"C:\\Users\\hdychko\\AppData\\Local\\anaconda3\\envs\\experian_dev\\Lib\\site-packages\\psutil\\__init__.py\", line 2003, in disk_usage\n",
      "    return _psplatform.disk_usage(path)\n",
      "           ^^^^^^^^^^^^^^^^^^^^^^^^^^^^\n",
      "  File \"C:\\Users\\hdychko\\AppData\\Local\\anaconda3\\envs\\experian_dev\\Lib\\site-packages\\psutil\\_pswindows.py\", line 274, in disk_usage\n",
      "    total, free = cext.disk_usage(path)\n",
      "                  ^^^^^^^^^^^^^^^^^^^^^\n",
      "SystemError: argument 1 (impossible<bad format char>)\n",
      "2024/06/04 14:43:59 INFO mlflow.system_metrics.system_metrics_monitor: Stopping system metrics monitoring...\n",
      "2024/06/04 14:43:59 INFO mlflow.system_metrics.system_metrics_monitor: Successfully terminated system metrics monitoring!\n"
     ]
    },
    {
     "name": "stdout",
     "output_type": "stream",
     "text": [
      "# 86 / 100\n"
     ]
    },
    {
     "name": "stderr",
     "output_type": "stream",
     "text": [
      "2024/06/04 14:44:02 WARNING mlflow.system_metrics.system_metrics_monitor: Skip logging GPU metrics because creating `GPUMonitor` failed with error: Failed to initialize NVML, skip logging GPU metrics: NVML Shared Library Not Found.\n",
      "Exception in thread 2024/06/04 14:44:02 INFO mlflow.system_metrics.system_metrics_monitor: Started monitoring system metrics.\n",
      "SystemMetricsMonitor:\n",
      "Traceback (most recent call last):\n",
      "  File \"C:\\Users\\hdychko\\AppData\\Local\\anaconda3\\envs\\experian_dev\\Lib\\threading.py\", line 1073, in _bootstrap_inner\n",
      "    self.run()\n",
      "  File \"C:\\Users\\hdychko\\AppData\\Local\\anaconda3\\envs\\experian_dev\\Lib\\threading.py\", line 1010, in run\n",
      "    self._target(*self._args, **self._kwargs)\n",
      "  File \"C:\\Users\\hdychko\\AppData\\Local\\anaconda3\\envs\\experian_dev\\Lib\\site-packages\\mlflow\\system_metrics\\system_metrics_monitor.py\", line 122, in monitor\n",
      "    self.collect_metrics()\n",
      "  File \"C:\\Users\\hdychko\\AppData\\Local\\anaconda3\\envs\\experian_dev\\Lib\\site-packages\\mlflow\\system_metrics\\system_metrics_monitor.py\", line 148, in collect_metrics\n",
      "    monitor.collect_metrics()\n",
      "  File \"C:\\Users\\hdychko\\AppData\\Local\\anaconda3\\envs\\experian_dev\\Lib\\site-packages\\mlflow\\system_metrics\\metrics\\disk_monitor.py\", line 15, in collect_metrics\n",
      "    disk_usage = psutil.disk_usage(os.sep)\n",
      "                 ^^^^^^^^^^^^^^^^^^^^^^^^^\n",
      "  File \"C:\\Users\\hdychko\\AppData\\Local\\anaconda3\\envs\\experian_dev\\Lib\\site-packages\\psutil\\__init__.py\", line 2003, in disk_usage\n",
      "    return _psplatform.disk_usage(path)\n",
      "           ^^^^^^^^^^^^^^^^^^^^^^^^^^^^\n",
      "  File \"C:\\Users\\hdychko\\AppData\\Local\\anaconda3\\envs\\experian_dev\\Lib\\site-packages\\psutil\\_pswindows.py\", line 274, in disk_usage\n",
      "    total, free = cext.disk_usage(path)\n",
      "                  ^^^^^^^^^^^^^^^^^^^^^\n",
      "SystemError: argument 1 (impossible<bad format char>)\n",
      "2024/06/04 14:44:13 INFO mlflow.system_metrics.system_metrics_monitor: Stopping system metrics monitoring...\n",
      "2024/06/04 14:44:13 INFO mlflow.system_metrics.system_metrics_monitor: Successfully terminated system metrics monitoring!\n"
     ]
    },
    {
     "name": "stdout",
     "output_type": "stream",
     "text": [
      "# 87 / 100\n"
     ]
    },
    {
     "name": "stderr",
     "output_type": "stream",
     "text": [
      "2024/06/04 14:44:20 WARNING mlflow.system_metrics.system_metrics_monitor: Skip logging GPU metrics because creating `GPUMonitor` failed with error: Failed to initialize NVML, skip logging GPU metrics: NVML Shared Library Not Found.\n",
      "Exception in thread 2024/06/04 14:44:21 INFO mlflow.system_metrics.system_metrics_monitor: Started monitoring system metrics.\n",
      "SystemMetricsMonitor:\n",
      "Traceback (most recent call last):\n",
      "  File \"C:\\Users\\hdychko\\AppData\\Local\\anaconda3\\envs\\experian_dev\\Lib\\threading.py\", line 1073, in _bootstrap_inner\n",
      "    self.run()\n",
      "  File \"C:\\Users\\hdychko\\AppData\\Local\\anaconda3\\envs\\experian_dev\\Lib\\threading.py\", line 1010, in run\n",
      "    self._target(*self._args, **self._kwargs)\n",
      "  File \"C:\\Users\\hdychko\\AppData\\Local\\anaconda3\\envs\\experian_dev\\Lib\\site-packages\\mlflow\\system_metrics\\system_metrics_monitor.py\", line 122, in monitor\n",
      "    self.collect_metrics()\n",
      "  File \"C:\\Users\\hdychko\\AppData\\Local\\anaconda3\\envs\\experian_dev\\Lib\\site-packages\\mlflow\\system_metrics\\system_metrics_monitor.py\", line 148, in collect_metrics\n",
      "    monitor.collect_metrics()\n",
      "  File \"C:\\Users\\hdychko\\AppData\\Local\\anaconda3\\envs\\experian_dev\\Lib\\site-packages\\mlflow\\system_metrics\\metrics\\disk_monitor.py\", line 15, in collect_metrics\n",
      "    disk_usage = psutil.disk_usage(os.sep)\n",
      "                 ^^^^^^^^^^^^^^^^^^^^^^^^^\n",
      "  File \"C:\\Users\\hdychko\\AppData\\Local\\anaconda3\\envs\\experian_dev\\Lib\\site-packages\\psutil\\__init__.py\", line 2003, in disk_usage\n",
      "    return _psplatform.disk_usage(path)\n",
      "           ^^^^^^^^^^^^^^^^^^^^^^^^^^^^\n",
      "  File \"C:\\Users\\hdychko\\AppData\\Local\\anaconda3\\envs\\experian_dev\\Lib\\site-packages\\psutil\\_pswindows.py\", line 274, in disk_usage\n",
      "    total, free = cext.disk_usage(path)\n",
      "                  ^^^^^^^^^^^^^^^^^^^^^\n",
      "SystemError: argument 1 (impossible<bad format char>)\n",
      "2024/06/04 14:44:37 INFO mlflow.system_metrics.system_metrics_monitor: Stopping system metrics monitoring...\n",
      "2024/06/04 14:44:37 INFO mlflow.system_metrics.system_metrics_monitor: Successfully terminated system metrics monitoring!\n"
     ]
    },
    {
     "name": "stdout",
     "output_type": "stream",
     "text": [
      "# 88 / 100\n"
     ]
    },
    {
     "name": "stderr",
     "output_type": "stream",
     "text": [
      "2024/06/04 14:44:46 WARNING mlflow.system_metrics.system_metrics_monitor: Skip logging GPU metrics because creating `GPUMonitor` failed with error: Failed to initialize NVML, skip logging GPU metrics: NVML Shared Library Not Found.\n",
      "Exception in thread 2024/06/04 14:44:46 INFO mlflow.system_metrics.system_metrics_monitor: Started monitoring system metrics.\n",
      "SystemMetricsMonitor:\n",
      "Traceback (most recent call last):\n",
      "  File \"C:\\Users\\hdychko\\AppData\\Local\\anaconda3\\envs\\experian_dev\\Lib\\threading.py\", line 1073, in _bootstrap_inner\n",
      "    self.run()\n",
      "  File \"C:\\Users\\hdychko\\AppData\\Local\\anaconda3\\envs\\experian_dev\\Lib\\threading.py\", line 1010, in run\n",
      "    self._target(*self._args, **self._kwargs)\n",
      "  File \"C:\\Users\\hdychko\\AppData\\Local\\anaconda3\\envs\\experian_dev\\Lib\\site-packages\\mlflow\\system_metrics\\system_metrics_monitor.py\", line 122, in monitor\n",
      "    self.collect_metrics()\n",
      "  File \"C:\\Users\\hdychko\\AppData\\Local\\anaconda3\\envs\\experian_dev\\Lib\\site-packages\\mlflow\\system_metrics\\system_metrics_monitor.py\", line 148, in collect_metrics\n",
      "    monitor.collect_metrics()\n",
      "  File \"C:\\Users\\hdychko\\AppData\\Local\\anaconda3\\envs\\experian_dev\\Lib\\site-packages\\mlflow\\system_metrics\\metrics\\disk_monitor.py\", line 15, in collect_metrics\n",
      "    disk_usage = psutil.disk_usage(os.sep)\n",
      "                 ^^^^^^^^^^^^^^^^^^^^^^^^^\n",
      "  File \"C:\\Users\\hdychko\\AppData\\Local\\anaconda3\\envs\\experian_dev\\Lib\\site-packages\\psutil\\__init__.py\", line 2003, in disk_usage\n",
      "    return _psplatform.disk_usage(path)\n",
      "           ^^^^^^^^^^^^^^^^^^^^^^^^^^^^\n",
      "  File \"C:\\Users\\hdychko\\AppData\\Local\\anaconda3\\envs\\experian_dev\\Lib\\site-packages\\psutil\\_pswindows.py\", line 274, in disk_usage\n",
      "    total, free = cext.disk_usage(path)\n",
      "                  ^^^^^^^^^^^^^^^^^^^^^\n",
      "SystemError: argument 1 (impossible<bad format char>)\n",
      "2024/06/04 14:44:56 INFO mlflow.system_metrics.system_metrics_monitor: Stopping system metrics monitoring...\n",
      "2024/06/04 14:44:56 INFO mlflow.system_metrics.system_metrics_monitor: Successfully terminated system metrics monitoring!\n"
     ]
    },
    {
     "name": "stdout",
     "output_type": "stream",
     "text": [
      "# 89 / 100\n"
     ]
    },
    {
     "name": "stderr",
     "output_type": "stream",
     "text": [
      "2024/06/04 14:44:59 WARNING mlflow.system_metrics.system_metrics_monitor: Skip logging GPU metrics because creating `GPUMonitor` failed with error: Failed to initialize NVML, skip logging GPU metrics: NVML Shared Library Not Found.\n",
      "Exception in thread 2024/06/04 14:44:59 INFO mlflow.system_metrics.system_metrics_monitor: Started monitoring system metrics.\n",
      "SystemMetricsMonitor:\n",
      "Traceback (most recent call last):\n",
      "  File \"C:\\Users\\hdychko\\AppData\\Local\\anaconda3\\envs\\experian_dev\\Lib\\threading.py\", line 1073, in _bootstrap_inner\n",
      "    self.run()\n",
      "  File \"C:\\Users\\hdychko\\AppData\\Local\\anaconda3\\envs\\experian_dev\\Lib\\threading.py\", line 1010, in run\n",
      "    self._target(*self._args, **self._kwargs)\n",
      "  File \"C:\\Users\\hdychko\\AppData\\Local\\anaconda3\\envs\\experian_dev\\Lib\\site-packages\\mlflow\\system_metrics\\system_metrics_monitor.py\", line 122, in monitor\n",
      "    self.collect_metrics()\n",
      "  File \"C:\\Users\\hdychko\\AppData\\Local\\anaconda3\\envs\\experian_dev\\Lib\\site-packages\\mlflow\\system_metrics\\system_metrics_monitor.py\", line 148, in collect_metrics\n",
      "    monitor.collect_metrics()\n",
      "  File \"C:\\Users\\hdychko\\AppData\\Local\\anaconda3\\envs\\experian_dev\\Lib\\site-packages\\mlflow\\system_metrics\\metrics\\disk_monitor.py\", line 15, in collect_metrics\n",
      "    disk_usage = psutil.disk_usage(os.sep)\n",
      "                 ^^^^^^^^^^^^^^^^^^^^^^^^^\n",
      "  File \"C:\\Users\\hdychko\\AppData\\Local\\anaconda3\\envs\\experian_dev\\Lib\\site-packages\\psutil\\__init__.py\", line 2003, in disk_usage\n",
      "    return _psplatform.disk_usage(path)\n",
      "           ^^^^^^^^^^^^^^^^^^^^^^^^^^^^\n",
      "  File \"C:\\Users\\hdychko\\AppData\\Local\\anaconda3\\envs\\experian_dev\\Lib\\site-packages\\psutil\\_pswindows.py\", line 274, in disk_usage\n",
      "    total, free = cext.disk_usage(path)\n",
      "                  ^^^^^^^^^^^^^^^^^^^^^\n",
      "SystemError: argument 1 (impossible<bad format char>)\n",
      "2024/06/04 14:45:08 INFO mlflow.system_metrics.system_metrics_monitor: Stopping system metrics monitoring...\n",
      "2024/06/04 14:45:08 INFO mlflow.system_metrics.system_metrics_monitor: Successfully terminated system metrics monitoring!\n"
     ]
    },
    {
     "name": "stdout",
     "output_type": "stream",
     "text": [
      "# 90 / 100\n"
     ]
    },
    {
     "name": "stderr",
     "output_type": "stream",
     "text": [
      "2024/06/04 14:45:11 WARNING mlflow.system_metrics.system_metrics_monitor: Skip logging GPU metrics because creating `GPUMonitor` failed with error: Failed to initialize NVML, skip logging GPU metrics: NVML Shared Library Not Found.\n",
      "Exception in thread 2024/06/04 14:45:11 INFO mlflow.system_metrics.system_metrics_monitor: Started monitoring system metrics.\n",
      "SystemMetricsMonitor:\n",
      "Traceback (most recent call last):\n",
      "  File \"C:\\Users\\hdychko\\AppData\\Local\\anaconda3\\envs\\experian_dev\\Lib\\threading.py\", line 1073, in _bootstrap_inner\n",
      "    self.run()\n",
      "  File \"C:\\Users\\hdychko\\AppData\\Local\\anaconda3\\envs\\experian_dev\\Lib\\threading.py\", line 1010, in run\n",
      "    self._target(*self._args, **self._kwargs)\n",
      "  File \"C:\\Users\\hdychko\\AppData\\Local\\anaconda3\\envs\\experian_dev\\Lib\\site-packages\\mlflow\\system_metrics\\system_metrics_monitor.py\", line 122, in monitor\n",
      "    self.collect_metrics()\n",
      "  File \"C:\\Users\\hdychko\\AppData\\Local\\anaconda3\\envs\\experian_dev\\Lib\\site-packages\\mlflow\\system_metrics\\system_metrics_monitor.py\", line 148, in collect_metrics\n",
      "    monitor.collect_metrics()\n",
      "  File \"C:\\Users\\hdychko\\AppData\\Local\\anaconda3\\envs\\experian_dev\\Lib\\site-packages\\mlflow\\system_metrics\\metrics\\disk_monitor.py\", line 15, in collect_metrics\n",
      "    disk_usage = psutil.disk_usage(os.sep)\n",
      "                 ^^^^^^^^^^^^^^^^^^^^^^^^^\n",
      "  File \"C:\\Users\\hdychko\\AppData\\Local\\anaconda3\\envs\\experian_dev\\Lib\\site-packages\\psutil\\__init__.py\", line 2003, in disk_usage\n",
      "    return _psplatform.disk_usage(path)\n",
      "           ^^^^^^^^^^^^^^^^^^^^^^^^^^^^\n",
      "  File \"C:\\Users\\hdychko\\AppData\\Local\\anaconda3\\envs\\experian_dev\\Lib\\site-packages\\psutil\\_pswindows.py\", line 274, in disk_usage\n",
      "    total, free = cext.disk_usage(path)\n",
      "                  ^^^^^^^^^^^^^^^^^^^^^\n",
      "SystemError: argument 1 (impossible<bad format char>)\n",
      "2024/06/04 14:45:20 INFO mlflow.system_metrics.system_metrics_monitor: Stopping system metrics monitoring...\n",
      "2024/06/04 14:45:20 INFO mlflow.system_metrics.system_metrics_monitor: Successfully terminated system metrics monitoring!\n"
     ]
    },
    {
     "name": "stdout",
     "output_type": "stream",
     "text": [
      "# 91 / 100\n"
     ]
    },
    {
     "name": "stderr",
     "output_type": "stream",
     "text": [
      "2024/06/04 14:45:23 WARNING mlflow.system_metrics.system_metrics_monitor: Skip logging GPU metrics because creating `GPUMonitor` failed with error: Failed to initialize NVML, skip logging GPU metrics: NVML Shared Library Not Found.\n",
      "Exception in thread 2024/06/04 14:45:23 INFO mlflow.system_metrics.system_metrics_monitor: Started monitoring system metrics.\n",
      "SystemMetricsMonitor:\n",
      "Traceback (most recent call last):\n",
      "  File \"C:\\Users\\hdychko\\AppData\\Local\\anaconda3\\envs\\experian_dev\\Lib\\threading.py\", line 1073, in _bootstrap_inner\n",
      "    self.run()\n",
      "  File \"C:\\Users\\hdychko\\AppData\\Local\\anaconda3\\envs\\experian_dev\\Lib\\threading.py\", line 1010, in run\n",
      "    self._target(*self._args, **self._kwargs)\n",
      "  File \"C:\\Users\\hdychko\\AppData\\Local\\anaconda3\\envs\\experian_dev\\Lib\\site-packages\\mlflow\\system_metrics\\system_metrics_monitor.py\", line 122, in monitor\n",
      "    self.collect_metrics()\n",
      "  File \"C:\\Users\\hdychko\\AppData\\Local\\anaconda3\\envs\\experian_dev\\Lib\\site-packages\\mlflow\\system_metrics\\system_metrics_monitor.py\", line 148, in collect_metrics\n",
      "    monitor.collect_metrics()\n",
      "  File \"C:\\Users\\hdychko\\AppData\\Local\\anaconda3\\envs\\experian_dev\\Lib\\site-packages\\mlflow\\system_metrics\\metrics\\disk_monitor.py\", line 15, in collect_metrics\n",
      "    disk_usage = psutil.disk_usage(os.sep)\n",
      "                 ^^^^^^^^^^^^^^^^^^^^^^^^^\n",
      "  File \"C:\\Users\\hdychko\\AppData\\Local\\anaconda3\\envs\\experian_dev\\Lib\\site-packages\\psutil\\__init__.py\", line 2003, in disk_usage\n",
      "    return _psplatform.disk_usage(path)\n",
      "           ^^^^^^^^^^^^^^^^^^^^^^^^^^^^\n",
      "  File \"C:\\Users\\hdychko\\AppData\\Local\\anaconda3\\envs\\experian_dev\\Lib\\site-packages\\psutil\\_pswindows.py\", line 274, in disk_usage\n",
      "    total, free = cext.disk_usage(path)\n",
      "                  ^^^^^^^^^^^^^^^^^^^^^\n",
      "SystemError: argument 1 (impossible<bad format char>)\n",
      "2024/06/04 14:45:33 INFO mlflow.system_metrics.system_metrics_monitor: Stopping system metrics monitoring...\n",
      "2024/06/04 14:45:33 INFO mlflow.system_metrics.system_metrics_monitor: Successfully terminated system metrics monitoring!\n"
     ]
    },
    {
     "name": "stdout",
     "output_type": "stream",
     "text": [
      "# 92 / 100\n"
     ]
    },
    {
     "name": "stderr",
     "output_type": "stream",
     "text": [
      "2024/06/04 14:45:37 WARNING mlflow.system_metrics.system_metrics_monitor: Skip logging GPU metrics because creating `GPUMonitor` failed with error: Failed to initialize NVML, skip logging GPU metrics: NVML Shared Library Not Found.\n",
      "Exception in thread 2024/06/04 14:45:37 INFO mlflow.system_metrics.system_metrics_monitor: Started monitoring system metrics.\n",
      "SystemMetricsMonitor:\n",
      "Traceback (most recent call last):\n",
      "  File \"C:\\Users\\hdychko\\AppData\\Local\\anaconda3\\envs\\experian_dev\\Lib\\threading.py\", line 1073, in _bootstrap_inner\n",
      "    self.run()\n",
      "  File \"C:\\Users\\hdychko\\AppData\\Local\\anaconda3\\envs\\experian_dev\\Lib\\threading.py\", line 1010, in run\n",
      "    self._target(*self._args, **self._kwargs)\n",
      "  File \"C:\\Users\\hdychko\\AppData\\Local\\anaconda3\\envs\\experian_dev\\Lib\\site-packages\\mlflow\\system_metrics\\system_metrics_monitor.py\", line 122, in monitor\n",
      "    self.collect_metrics()\n",
      "  File \"C:\\Users\\hdychko\\AppData\\Local\\anaconda3\\envs\\experian_dev\\Lib\\site-packages\\mlflow\\system_metrics\\system_metrics_monitor.py\", line 148, in collect_metrics\n",
      "    monitor.collect_metrics()\n",
      "  File \"C:\\Users\\hdychko\\AppData\\Local\\anaconda3\\envs\\experian_dev\\Lib\\site-packages\\mlflow\\system_metrics\\metrics\\disk_monitor.py\", line 15, in collect_metrics\n",
      "    disk_usage = psutil.disk_usage(os.sep)\n",
      "                 ^^^^^^^^^^^^^^^^^^^^^^^^^\n",
      "  File \"C:\\Users\\hdychko\\AppData\\Local\\anaconda3\\envs\\experian_dev\\Lib\\site-packages\\psutil\\__init__.py\", line 2003, in disk_usage\n",
      "    return _psplatform.disk_usage(path)\n",
      "           ^^^^^^^^^^^^^^^^^^^^^^^^^^^^\n",
      "  File \"C:\\Users\\hdychko\\AppData\\Local\\anaconda3\\envs\\experian_dev\\Lib\\site-packages\\psutil\\_pswindows.py\", line 274, in disk_usage\n",
      "    total, free = cext.disk_usage(path)\n",
      "                  ^^^^^^^^^^^^^^^^^^^^^\n",
      "SystemError: argument 1 (impossible<bad format char>)\n",
      "2024/06/04 14:45:53 INFO mlflow.system_metrics.system_metrics_monitor: Stopping system metrics monitoring...\n",
      "2024/06/04 14:45:53 INFO mlflow.system_metrics.system_metrics_monitor: Successfully terminated system metrics monitoring!\n"
     ]
    },
    {
     "name": "stdout",
     "output_type": "stream",
     "text": [
      "# 93 / 100\n"
     ]
    },
    {
     "name": "stderr",
     "output_type": "stream",
     "text": [
      "2024/06/04 14:46:00 WARNING mlflow.system_metrics.system_metrics_monitor: Skip logging GPU metrics because creating `GPUMonitor` failed with error: Failed to initialize NVML, skip logging GPU metrics: NVML Shared Library Not Found.\n",
      "Exception in thread 2024/06/04 14:46:00 INFO mlflow.system_metrics.system_metrics_monitor: Started monitoring system metrics.\n",
      "SystemMetricsMonitor:\n",
      "Traceback (most recent call last):\n",
      "  File \"C:\\Users\\hdychko\\AppData\\Local\\anaconda3\\envs\\experian_dev\\Lib\\threading.py\", line 1073, in _bootstrap_inner\n",
      "    self.run()\n",
      "  File \"C:\\Users\\hdychko\\AppData\\Local\\anaconda3\\envs\\experian_dev\\Lib\\threading.py\", line 1010, in run\n",
      "    self._target(*self._args, **self._kwargs)\n",
      "  File \"C:\\Users\\hdychko\\AppData\\Local\\anaconda3\\envs\\experian_dev\\Lib\\site-packages\\mlflow\\system_metrics\\system_metrics_monitor.py\", line 122, in monitor\n",
      "    self.collect_metrics()\n",
      "  File \"C:\\Users\\hdychko\\AppData\\Local\\anaconda3\\envs\\experian_dev\\Lib\\site-packages\\mlflow\\system_metrics\\system_metrics_monitor.py\", line 148, in collect_metrics\n",
      "    monitor.collect_metrics()\n",
      "  File \"C:\\Users\\hdychko\\AppData\\Local\\anaconda3\\envs\\experian_dev\\Lib\\site-packages\\mlflow\\system_metrics\\metrics\\disk_monitor.py\", line 15, in collect_metrics\n",
      "    disk_usage = psutil.disk_usage(os.sep)\n",
      "                 ^^^^^^^^^^^^^^^^^^^^^^^^^\n",
      "  File \"C:\\Users\\hdychko\\AppData\\Local\\anaconda3\\envs\\experian_dev\\Lib\\site-packages\\psutil\\__init__.py\", line 2003, in disk_usage\n",
      "    return _psplatform.disk_usage(path)\n",
      "           ^^^^^^^^^^^^^^^^^^^^^^^^^^^^\n",
      "  File \"C:\\Users\\hdychko\\AppData\\Local\\anaconda3\\envs\\experian_dev\\Lib\\site-packages\\psutil\\_pswindows.py\", line 274, in disk_usage\n",
      "    total, free = cext.disk_usage(path)\n",
      "                  ^^^^^^^^^^^^^^^^^^^^^\n",
      "SystemError: argument 1 (impossible<bad format char>)\n",
      "2024/06/04 14:46:11 INFO mlflow.system_metrics.system_metrics_monitor: Stopping system metrics monitoring...\n",
      "2024/06/04 14:46:11 INFO mlflow.system_metrics.system_metrics_monitor: Successfully terminated system metrics monitoring!\n"
     ]
    },
    {
     "name": "stdout",
     "output_type": "stream",
     "text": [
      "# 94 / 100\n"
     ]
    },
    {
     "name": "stderr",
     "output_type": "stream",
     "text": [
      "2024/06/04 14:46:15 WARNING mlflow.system_metrics.system_metrics_monitor: Skip logging GPU metrics because creating `GPUMonitor` failed with error: Failed to initialize NVML, skip logging GPU metrics: NVML Shared Library Not Found.\n",
      "Exception in thread SystemMetricsMonitor:\n",
      "Traceback (most recent call last):\n",
      "  File \"C:\\Users\\hdychko\\AppData\\Local\\anaconda3\\envs\\experian_dev\\Lib\\threading.py\", line 1073, in _bootstrap_inner\n",
      "2024/06/04 14:46:15 INFO mlflow.system_metrics.system_metrics_monitor: Started monitoring system metrics.\n",
      "    self.run()\n",
      "  File \"C:\\Users\\hdychko\\AppData\\Local\\anaconda3\\envs\\experian_dev\\Lib\\threading.py\", line 1010, in run\n",
      "    self._target(*self._args, **self._kwargs)\n",
      "  File \"C:\\Users\\hdychko\\AppData\\Local\\anaconda3\\envs\\experian_dev\\Lib\\site-packages\\mlflow\\system_metrics\\system_metrics_monitor.py\", line 122, in monitor\n",
      "    self.collect_metrics()\n",
      "  File \"C:\\Users\\hdychko\\AppData\\Local\\anaconda3\\envs\\experian_dev\\Lib\\site-packages\\mlflow\\system_metrics\\system_metrics_monitor.py\", line 148, in collect_metrics\n",
      "    monitor.collect_metrics()\n",
      "  File \"C:\\Users\\hdychko\\AppData\\Local\\anaconda3\\envs\\experian_dev\\Lib\\site-packages\\mlflow\\system_metrics\\metrics\\disk_monitor.py\", line 15, in collect_metrics\n",
      "    disk_usage = psutil.disk_usage(os.sep)\n",
      "                 ^^^^^^^^^^^^^^^^^^^^^^^^^\n",
      "  File \"C:\\Users\\hdychko\\AppData\\Local\\anaconda3\\envs\\experian_dev\\Lib\\site-packages\\psutil\\__init__.py\", line 2003, in disk_usage\n",
      "    return _psplatform.disk_usage(path)\n",
      "           ^^^^^^^^^^^^^^^^^^^^^^^^^^^^\n",
      "  File \"C:\\Users\\hdychko\\AppData\\Local\\anaconda3\\envs\\experian_dev\\Lib\\site-packages\\psutil\\_pswindows.py\", line 274, in disk_usage\n",
      "    total, free = cext.disk_usage(path)\n",
      "                  ^^^^^^^^^^^^^^^^^^^^^\n",
      "SystemError: argument 1 (impossible<bad format char>)\n",
      "2024/06/04 14:46:24 INFO mlflow.system_metrics.system_metrics_monitor: Stopping system metrics monitoring...\n",
      "2024/06/04 14:46:24 INFO mlflow.system_metrics.system_metrics_monitor: Successfully terminated system metrics monitoring!\n"
     ]
    },
    {
     "name": "stdout",
     "output_type": "stream",
     "text": [
      "# 95 / 100\n"
     ]
    },
    {
     "name": "stderr",
     "output_type": "stream",
     "text": [
      "2024/06/04 14:46:27 WARNING mlflow.system_metrics.system_metrics_monitor: Skip logging GPU metrics because creating `GPUMonitor` failed with error: Failed to initialize NVML, skip logging GPU metrics: NVML Shared Library Not Found.\n",
      "Exception in thread 2024/06/04 14:46:27 INFO mlflow.system_metrics.system_metrics_monitor: Started monitoring system metrics.\n",
      "SystemMetricsMonitor:\n",
      "Traceback (most recent call last):\n",
      "  File \"C:\\Users\\hdychko\\AppData\\Local\\anaconda3\\envs\\experian_dev\\Lib\\threading.py\", line 1073, in _bootstrap_inner\n",
      "    self.run()\n",
      "  File \"C:\\Users\\hdychko\\AppData\\Local\\anaconda3\\envs\\experian_dev\\Lib\\threading.py\", line 1010, in run\n",
      "    self._target(*self._args, **self._kwargs)\n",
      "  File \"C:\\Users\\hdychko\\AppData\\Local\\anaconda3\\envs\\experian_dev\\Lib\\site-packages\\mlflow\\system_metrics\\system_metrics_monitor.py\", line 122, in monitor\n",
      "    self.collect_metrics()\n",
      "  File \"C:\\Users\\hdychko\\AppData\\Local\\anaconda3\\envs\\experian_dev\\Lib\\site-packages\\mlflow\\system_metrics\\system_metrics_monitor.py\", line 148, in collect_metrics\n",
      "    monitor.collect_metrics()\n",
      "  File \"C:\\Users\\hdychko\\AppData\\Local\\anaconda3\\envs\\experian_dev\\Lib\\site-packages\\mlflow\\system_metrics\\metrics\\disk_monitor.py\", line 15, in collect_metrics\n",
      "    disk_usage = psutil.disk_usage(os.sep)\n",
      "                 ^^^^^^^^^^^^^^^^^^^^^^^^^\n",
      "  File \"C:\\Users\\hdychko\\AppData\\Local\\anaconda3\\envs\\experian_dev\\Lib\\site-packages\\psutil\\__init__.py\", line 2003, in disk_usage\n",
      "    return _psplatform.disk_usage(path)\n",
      "           ^^^^^^^^^^^^^^^^^^^^^^^^^^^^\n",
      "  File \"C:\\Users\\hdychko\\AppData\\Local\\anaconda3\\envs\\experian_dev\\Lib\\site-packages\\psutil\\_pswindows.py\", line 274, in disk_usage\n",
      "    total, free = cext.disk_usage(path)\n",
      "                  ^^^^^^^^^^^^^^^^^^^^^\n",
      "SystemError: argument 1 (impossible<bad format char>)\n",
      "2024/06/04 14:46:36 INFO mlflow.system_metrics.system_metrics_monitor: Stopping system metrics monitoring...\n",
      "2024/06/04 14:46:36 INFO mlflow.system_metrics.system_metrics_monitor: Successfully terminated system metrics monitoring!\n"
     ]
    },
    {
     "name": "stdout",
     "output_type": "stream",
     "text": [
      "# 96 / 100\n"
     ]
    },
    {
     "name": "stderr",
     "output_type": "stream",
     "text": [
      "2024/06/04 14:46:37 WARNING mlflow.system_metrics.system_metrics_monitor: Skip logging GPU metrics because creating `GPUMonitor` failed with error: Failed to initialize NVML, skip logging GPU metrics: NVML Shared Library Not Found.\n",
      "Exception in thread 2024/06/04 14:46:37 INFO mlflow.system_metrics.system_metrics_monitor: Started monitoring system metrics.\n",
      "SystemMetricsMonitor:\n",
      "Traceback (most recent call last):\n",
      "  File \"C:\\Users\\hdychko\\AppData\\Local\\anaconda3\\envs\\experian_dev\\Lib\\threading.py\", line 1073, in _bootstrap_inner\n",
      "    self.run()\n",
      "  File \"C:\\Users\\hdychko\\AppData\\Local\\anaconda3\\envs\\experian_dev\\Lib\\threading.py\", line 1010, in run\n",
      "    self._target(*self._args, **self._kwargs)\n",
      "  File \"C:\\Users\\hdychko\\AppData\\Local\\anaconda3\\envs\\experian_dev\\Lib\\site-packages\\mlflow\\system_metrics\\system_metrics_monitor.py\", line 122, in monitor\n",
      "    self.collect_metrics()\n",
      "  File \"C:\\Users\\hdychko\\AppData\\Local\\anaconda3\\envs\\experian_dev\\Lib\\site-packages\\mlflow\\system_metrics\\system_metrics_monitor.py\", line 148, in collect_metrics\n",
      "    monitor.collect_metrics()\n",
      "  File \"C:\\Users\\hdychko\\AppData\\Local\\anaconda3\\envs\\experian_dev\\Lib\\site-packages\\mlflow\\system_metrics\\metrics\\disk_monitor.py\", line 15, in collect_metrics\n",
      "    disk_usage = psutil.disk_usage(os.sep)\n",
      "                 ^^^^^^^^^^^^^^^^^^^^^^^^^\n",
      "  File \"C:\\Users\\hdychko\\AppData\\Local\\anaconda3\\envs\\experian_dev\\Lib\\site-packages\\psutil\\__init__.py\", line 2003, in disk_usage\n",
      "    return _psplatform.disk_usage(path)\n",
      "           ^^^^^^^^^^^^^^^^^^^^^^^^^^^^\n",
      "  File \"C:\\Users\\hdychko\\AppData\\Local\\anaconda3\\envs\\experian_dev\\Lib\\site-packages\\psutil\\_pswindows.py\", line 274, in disk_usage\n",
      "    total, free = cext.disk_usage(path)\n",
      "                  ^^^^^^^^^^^^^^^^^^^^^\n",
      "SystemError: argument 1 (impossible<bad format char>)\n",
      "2024/06/04 14:46:46 INFO mlflow.system_metrics.system_metrics_monitor: Stopping system metrics monitoring...\n",
      "2024/06/04 14:46:46 INFO mlflow.system_metrics.system_metrics_monitor: Successfully terminated system metrics monitoring!\n"
     ]
    }
   ],
   "source": [
    "with mlflow.start_run(run_name=RUN_NAME, log_system_metrics=True):\n",
    "    res = search_hyper_params_and_log(\n",
    "        run_name=RUN_NAME,\n",
    "        data_dict=data_dict,\n",
    "        cols_to_use=COLS_TO_USE,\n",
    "        target_name=TARGET_BIN,\n",
    "        distributions=PARAMS,\n",
    "        n_iter=N_ITER,\n",
    "        model=MODEL,\n",
    "        custom_params_updates=None,\n",
    "        tags={'features': len(COLS_TO_USE)}, \n",
    "        palette=PALETTE['DataPart'],\n",
    "        test_name='df_test_same',\n",
    "        model_path=MODELS_PATH,\n",
    "        model_type='RF',\n",
    "        normalize=False,\n",
    "        shap_explainer=shap.TreeExplainer\n",
    "    )"
   ]
  },
  {
   "cell_type": "code",
   "execution_count": null,
   "id": "474394ce-24c4-4c50-8e48-151d573ff899",
   "metadata": {},
   "outputs": [],
   "source": [
    "df_metrics, df_imp, data_dict, model_obj, std_scaler = res"
   ]
  },
  {
   "cell_type": "markdown",
   "id": "e2674960-deeb-42cd-a4c3-69fa61b5d3bd",
   "metadata": {},
   "source": [
    "### RF's quality"
   ]
  },
  {
   "cell_type": "markdown",
   "id": "31a8c348-9c89-4769-8e8f-a527bea24409",
   "metadata": {},
   "source": [
    "#### Feature importance, SHAP"
   ]
  },
  {
   "cell_type": "code",
   "execution_count": null,
   "id": "804bac9f-f83e-4b74-a655-07c64cdb5996",
   "metadata": {},
   "outputs": [],
   "source": [
    "df_imp.sort_values('Importance(SHAP)', ascending=False)"
   ]
  },
  {
   "cell_type": "code",
   "execution_count": null,
   "id": "ceec2509-98e0-449d-ba82-3158fbebe532",
   "metadata": {},
   "outputs": [],
   "source": [
    "# features with 0 importance\n",
    "df_imp[df_imp['Importance(SHAP)'] == 0]"
   ]
  },
  {
   "cell_type": "code",
   "execution_count": null,
   "id": "7ef4eff8-3973-4119-acf2-5873b8e7de14",
   "metadata": {},
   "outputs": [],
   "source": [
    "# features with low importance\n",
    "df_imp[df_imp['Importance(SHAP, %)'] < 1]"
   ]
  },
  {
   "cell_type": "code",
   "execution_count": null,
   "id": "883602a6-3a84-4d98-a41e-e28eabdf7873",
   "metadata": {},
   "outputs": [],
   "source": [
    "# features with 0 importance\n",
    "for col in COLS_TO_USE:\n",
    "    if col not in df_imp[df_imp['Importance(SHAP)'] == 0].Feature.values:\n",
    "        print(f'\"{col}\",')"
   ]
  },
  {
   "cell_type": "markdown",
   "id": "5ea7ebc8-b984-4fe2-832f-90ef653d632d",
   "metadata": {},
   "source": [
    "#### GINI, AU PRC"
   ]
  },
  {
   "cell_type": "code",
   "execution_count": null,
   "id": "00305fd4-5ae5-41ef-8f61-05d9fb02e192",
   "metadata": {},
   "outputs": [],
   "source": [
    "print(std_scaler)"
   ]
  },
  {
   "cell_type": "code",
   "execution_count": null,
   "id": "7a47be16-18d9-4aa9-b582-aaae6ffde645",
   "metadata": {},
   "outputs": [],
   "source": [
    "model_obj"
   ]
  },
  {
   "cell_type": "markdown",
   "id": "4e88320d-c49c-42ff-a6ba-115cc2619953",
   "metadata": {},
   "source": [
    "##### Test-same"
   ]
  },
  {
   "cell_type": "code",
   "execution_count": null,
   "id": "8cf96f23-5a1b-41b2-815f-9e96b7a21ead",
   "metadata": {},
   "outputs": [],
   "source": [
    "evaluate_model(\n",
    "    data=data_dict['df_test_same'], \n",
    "    cols_to_use=COLS_TO_USE,\n",
    "    std_scaler=std_scaler,\n",
    "    target_name=TARGET_BIN,\n",
    "    model_obj=model_obj\n",
    ")"
   ]
  },
  {
   "cell_type": "markdown",
   "id": "cf793a6f-5bfd-4959-9eb6-cc5c148f500a",
   "metadata": {},
   "source": [
    "##### Test-full"
   ]
  },
  {
   "cell_type": "code",
   "execution_count": null,
   "id": "637c57b2-f6ab-47f6-aee0-14e98f0d0350",
   "metadata": {},
   "outputs": [],
   "source": [
    "evaluate_model(\n",
    "    data=data_dict['df_test'], \n",
    "    cols_to_use=COLS_TO_USE,\n",
    "    std_scaler=std_scaler,\n",
    "    target_name=TARGET_BIN,\n",
    "    model_obj=model_obj\n",
    ")"
   ]
  },
  {
   "cell_type": "markdown",
   "id": "b240fd8a-7e40-49f1-a919-551edf53d616",
   "metadata": {},
   "source": [
    "#### Outcomes distributions"
   ]
  },
  {
   "cell_type": "code",
   "execution_count": null,
   "id": "e0b0a5af-f45c-4805-85be-717df824a112",
   "metadata": {},
   "outputs": [],
   "source": [
    "data_dict['df_test']['score'] = model_obj.predict_proba(\n",
    "    data_dict['df_test'][COLS_TO_USE]\n",
    ")[:, 1]"
   ]
  },
  {
   "cell_type": "markdown",
   "id": "b0bbca64-b76f-45bc-8374-b7c2eb2b0ac3",
   "metadata": {},
   "source": [
    "##### Test-same"
   ]
  },
  {
   "cell_type": "code",
   "execution_count": null,
   "id": "25e7e0fe-bc21-4b8a-bfbf-a95c9217f1a5",
   "metadata": {},
   "outputs": [],
   "source": [
    "sns.histplot(x=data_dict['df_test_same']['score'], hue=data_dict['df_test_same'][TARGET_BIN], common_norm=False, stat='density')"
   ]
  },
  {
   "cell_type": "markdown",
   "id": "cd909ff4-e280-4dc5-aa42-5f21f0f63144",
   "metadata": {},
   "source": [
    "##### Test-full"
   ]
  },
  {
   "cell_type": "code",
   "execution_count": null,
   "id": "dcd0870d-2846-4436-9f93-d600d9072b46",
   "metadata": {},
   "outputs": [],
   "source": [
    "sns.histplot(x=data_dict['df_test']['score'], hue=data_dict['df_test'][TARGET_BIN], common_norm=False, stat='density')"
   ]
  },
  {
   "cell_type": "markdown",
   "id": "54c17d0c-5109-4f77-8ab6-6dac844fb36b",
   "metadata": {},
   "source": [
    "#### Precision, Recall By Quantile"
   ]
  },
  {
   "cell_type": "markdown",
   "id": "374eae9c-3c76-4362-83c8-2925b92bd6ee",
   "metadata": {},
   "source": [
    "##### Test-same"
   ]
  },
  {
   "cell_type": "code",
   "execution_count": null,
   "id": "bd25139d-ec87-4fb5-811c-1e551f186130",
   "metadata": {},
   "outputs": [],
   "source": [
    "m = MetricsByQuantile(metrics=[\"quantiles_analytics\"])\n",
    "r = m.compute(\n",
    "    y_true=data_dict['df_test_same'][TARGET_BIN].reset_index(drop=True), \n",
    "    y_pred=data_dict['df_test_same']['score'].round(3).reset_index(drop=True), \n",
    "    list_of_metrics = [\n",
    "        \"cum_precision_by_quantile\", \"cum_recall_by_quantile\", \n",
    "        \"precision_by_quantile\", \"recall_by_quantile\",\n",
    "    ], \n",
    "    n_quantiles = 200\n",
    ")\n",
    "df_deciles = r[\"other\"][\"quantiles_analytics\"]\n",
    "df_deciles.head(50)"
   ]
  },
  {
   "cell_type": "markdown",
   "id": "6d748343-f188-4d44-81a3-947e3899df0a",
   "metadata": {},
   "source": [
    "##### Test-full"
   ]
  },
  {
   "cell_type": "code",
   "execution_count": null,
   "id": "ce347fc8-e45e-452f-97c0-2d50b7a973ac",
   "metadata": {},
   "outputs": [],
   "source": [
    "m = MetricsByQuantile(metrics=[\"quantiles_analytics\"])\n",
    "r = m.compute(\n",
    "    y_true=data_dict['df_test'][TARGET_BIN].reset_index(drop=True), \n",
    "    y_pred=data_dict['df_test']['score'].round(3).reset_index(drop=True), \n",
    "    list_of_metrics = [\n",
    "        \"cum_precision_by_quantile\", \"cum_recall_by_quantile\", \n",
    "        \"precision_by_quantile\", \"recall_by_quantile\",\n",
    "    ], \n",
    "    n_quantiles = 200\n",
    ")\n",
    "df_deciles = r[\"other\"][\"quantiles_analytics\"]\n",
    "df_deciles.head(50)"
   ]
  },
  {
   "cell_type": "markdown",
   "id": "3df7be05-5d41-4c9a-b6eb-12169ddcf06d",
   "metadata": {},
   "source": [
    "# LR"
   ]
  },
  {
   "cell_type": "code",
   "execution_count": null,
   "id": "b60babb1-3797-43e1-a788-112faa1237a2",
   "metadata": {},
   "outputs": [],
   "source": [
    "MODEL = LogisticRegression"
   ]
  },
  {
   "cell_type": "code",
   "execution_count": null,
   "id": "3485f2f4-9514-4928-a93e-69dcbd4cc30d",
   "metadata": {},
   "outputs": [],
   "source": [
    "PARAMS = dict(\n",
    "    penalty=['l2', 'l1', 'elasticnet'], \n",
    "    C=uniform(loc=0, scale=20), \n",
    "    fit_intercept=[True], \n",
    "    class_weight=['balanced'], \n",
    "    random_state=[RANDOM_SEED], \n",
    "    n_jobs=[-1]\n",
    ")"
   ]
  },
  {
   "cell_type": "code",
   "execution_count": null,
   "id": "443629ed-34b7-49dc-bacc-2a46898d61b6",
   "metadata": {},
   "outputs": [],
   "source": [
    "RUN_NAME = '05-LR-hyperparams_tunning'"
   ]
  },
  {
   "cell_type": "code",
   "execution_count": null,
   "id": "8cca7230-1c5d-4f7d-9e77-cc7307eb1459",
   "metadata": {
    "scrolled": true
   },
   "outputs": [],
   "source": [
    "with mlflow.start_run(run_name=RUN_NAME, log_system_metrics=True):\n",
    "    res = search_hyper_params_and_log(\n",
    "        run_name=RUN_NAME,\n",
    "        data_dict=data_dict,\n",
    "        cols_to_use=COLS_TO_USE,\n",
    "        target_name=TARGET_BIN,\n",
    "        distributions=PARAMS,\n",
    "        n_iter=N_ITER,\n",
    "        model=MODEL,\n",
    "        custom_params_updates=update_solver_by_penalty,\n",
    "        tags={'features': len(COLS_TO_USE)}, \n",
    "        palette=PALETTE['DataPart'],\n",
    "        test_name='df_test_same',\n",
    "        model_path=MODELS_PATH,\n",
    "        model_type='lr',\n",
    "        normalize=True\n",
    "    )"
   ]
  },
  {
   "cell_type": "code",
   "execution_count": null,
   "id": "3b0b107e-7214-4413-bc48-516c92dc91c3",
   "metadata": {},
   "outputs": [],
   "source": [
    "df_metrics, df_coeff, data_dict, model_obj, std_scaler = res"
   ]
  },
  {
   "cell_type": "markdown",
   "id": "320e26e5-490c-4abf-a5f7-05a2b2fa5711",
   "metadata": {},
   "source": [
    "### Model's quality"
   ]
  },
  {
   "cell_type": "markdown",
   "id": "2b4edbfb-ed8b-46ff-92d9-744b47b6e1d2",
   "metadata": {},
   "source": [
    "#### Feature importance, coeff"
   ]
  },
  {
   "cell_type": "code",
   "execution_count": null,
   "id": "29ffec16-9e5a-44ae-a6df-6aabaee8baec",
   "metadata": {},
   "outputs": [],
   "source": [
    "df_coeff.sort_values('Importance(%)', ascending=False)"
   ]
  },
  {
   "cell_type": "code",
   "execution_count": null,
   "id": "00604ede-294b-4a4b-87be-cae1f303d711",
   "metadata": {},
   "outputs": [],
   "source": [
    "# features with 0 importance\n",
    "df_coeff[df_coeff['Coeff'] == 0]"
   ]
  },
  {
   "cell_type": "code",
   "execution_count": null,
   "id": "63c5663e-6e37-46a0-b1df-f194106a1253",
   "metadata": {},
   "outputs": [],
   "source": [
    "# features with low importance\n",
    "df_coeff[df_coeff['p-value'] > CONFIDENCE_LEVEL]"
   ]
  },
  {
   "cell_type": "code",
   "execution_count": null,
   "id": "8f45cb6d-b49e-449d-90de-200fc3748087",
   "metadata": {},
   "outputs": [],
   "source": [
    "rf_unimp = df_imp[df_imp['Importance(SHAP, %)'] < 1].Feature.values\n",
    "print('# features with < 1% importance based on SHAP, RF: ', len(rf_unimp))"
   ]
  },
  {
   "cell_type": "code",
   "execution_count": null,
   "id": "b1209d50-654a-411c-8a46-cafd45b5aa69",
   "metadata": {},
   "outputs": [],
   "source": [
    "lr_unimp = df_coeff[df_coeff['p-value'] > CONFIDENCE_LEVEL].Feature.values\n",
    "print(f'# features with p-value > {CONFIDENCE_LEVEL}, LR: ', len(lr_unimp))"
   ]
  },
  {
   "cell_type": "code",
   "execution_count": null,
   "id": "2e361920-b461-43f6-a0c2-d6e7f71db1a2",
   "metadata": {},
   "outputs": [],
   "source": [
    "inter_unimp = set(rf_unimp).intersection(set(lr_unimp))\n",
    "print('# intersected features: ', len(inter_unimp))\n",
    "print(inter_unimp)"
   ]
  },
  {
   "cell_type": "code",
   "execution_count": null,
   "id": "30434cb1-5ae7-4740-b721-79241bb075a4",
   "metadata": {},
   "outputs": [],
   "source": [
    "for col in COLS_TO_USE:\n",
    "    if col not in inter_unimp:\n",
    "        print(f'\"{col}\",')"
   ]
  },
  {
   "cell_type": "markdown",
   "id": "82399f81-a894-4225-a031-9368828b7e39",
   "metadata": {},
   "source": [
    "#### GINI, AU PRC"
   ]
  },
  {
   "cell_type": "code",
   "execution_count": null,
   "id": "39c80b48-0654-434c-b13f-5aefc7d75220",
   "metadata": {},
   "outputs": [],
   "source": [
    "data_dict['df_test']['score'] = model_obj.predict_proba(\n",
    "    std_scaler.transform(data_dict['df_test'][COLS_TO_USE])\n",
    ")[:, 1]\n",
    "data_dict['df_test_same']['score'] = model_obj.predict_proba(\n",
    "    std_scaler.transform(data_dict['df_test_same'][COLS_TO_USE])\n",
    ")[:, 1]"
   ]
  },
  {
   "cell_type": "markdown",
   "id": "3c950094-d408-4717-ab5a-4f0375deef52",
   "metadata": {},
   "source": [
    "##### Test-same"
   ]
  },
  {
   "cell_type": "code",
   "execution_count": null,
   "id": "449adbbc-500c-4b2a-b0ae-67402208278c",
   "metadata": {},
   "outputs": [],
   "source": [
    "evaluate_model(\n",
    "    data=data_dict['df_test_same'], \n",
    "    cols_to_use=COLS_TO_USE,\n",
    "    std_scaler=std_scaler,\n",
    "    target_name=TARGET_BIN,\n",
    "    model_obj=model_obj\n",
    ")"
   ]
  },
  {
   "cell_type": "markdown",
   "id": "90f227ee-71c7-42ed-a48b-221a0095a40e",
   "metadata": {},
   "source": [
    "##### Test-full"
   ]
  },
  {
   "cell_type": "markdown",
   "id": "cd7d30a8-036f-491d-a7c3-d4e52376ffa0",
   "metadata": {},
   "source": [
    "### 'I' is 0"
   ]
  },
  {
   "cell_type": "code",
   "execution_count": null,
   "id": "41911275-b3e7-480b-a154-13068d46478e",
   "metadata": {},
   "outputs": [],
   "source": [
    "evaluate_model(\n",
    "    data=data_dict['df_test'], \n",
    "    cols_to_use=COLS_TO_USE,\n",
    "    std_scaler=std_scaler,\n",
    "    target_name=TARGET_BIN,\n",
    "    model_obj=model_obj\n",
    ")"
   ]
  },
  {
   "cell_type": "markdown",
   "id": "8f162f1f-a149-455b-bde9-0dbaff39e335",
   "metadata": {},
   "source": [
    "### 'I' is 1"
   ]
  },
  {
   "cell_type": "code",
   "execution_count": null,
   "id": "aa5b1299-3e69-45a4-b7ba-1faa1f104c0d",
   "metadata": {},
   "outputs": [],
   "source": [
    "evaluate_model(\n",
    "    data=data_dict['df_test'], \n",
    "    cols_to_use=COLS_TO_USE,\n",
    "    std_scaler=std_scaler,\n",
    "    target_name=TARGET_BIN_0isB,\n",
    "    model_obj=model_obj\n",
    ")"
   ]
  },
  {
   "cell_type": "markdown",
   "id": "4b087fa6-88b0-4f2a-9d12-8bfff381fc19",
   "metadata": {},
   "source": [
    "#### Outcomes distributions"
   ]
  },
  {
   "cell_type": "markdown",
   "id": "617acb39-10c4-4862-9662-7ba0cb35e708",
   "metadata": {},
   "source": [
    "##### Test-same"
   ]
  },
  {
   "cell_type": "code",
   "execution_count": null,
   "id": "90af65df-aed5-43fc-aed5-98d3594d143b",
   "metadata": {},
   "outputs": [],
   "source": [
    "sns.histplot(x=data_dict['df_test_same']['score'], hue=data_dict['df_test_same'][TARGET_BIN], common_norm=False, stat='density')"
   ]
  },
  {
   "cell_type": "markdown",
   "id": "38663375-cc23-4d8e-aafd-5a77b121fcdf",
   "metadata": {},
   "source": [
    "##### Test-full"
   ]
  },
  {
   "cell_type": "markdown",
   "id": "2f3c70c9-0122-4f01-b624-47c29a7c8ddd",
   "metadata": {},
   "source": [
    "### 'I' is 0"
   ]
  },
  {
   "cell_type": "code",
   "execution_count": null,
   "id": "043cb43f-64cc-4781-aa52-a2df909df44e",
   "metadata": {},
   "outputs": [],
   "source": [
    "sns.histplot(x=data_dict['df_test']['score'], hue=data_dict['df_test'][TARGET_BIN], common_norm=False, stat='density')"
   ]
  },
  {
   "cell_type": "markdown",
   "id": "e56f20de-4d4a-4b7c-b973-25ddca0898b4",
   "metadata": {},
   "source": [
    "### 'I' is 1`"
   ]
  },
  {
   "cell_type": "code",
   "execution_count": null,
   "id": "b96211d5-3efc-4c72-bbc1-5f9374538e43",
   "metadata": {},
   "outputs": [],
   "source": [
    "data_dict['df_test'].groupby([TARGET_NAME])[TARGET_BIN].value_counts()"
   ]
  },
  {
   "cell_type": "code",
   "execution_count": null,
   "id": "19113277-7351-4dc4-bcfd-9de8e8f9a3b3",
   "metadata": {},
   "outputs": [],
   "source": [
    "data_dict['df_test'].groupby([TARGET_NAME])[TARGET_BIN_0isB].value_counts()"
   ]
  },
  {
   "cell_type": "code",
   "execution_count": null,
   "id": "93a837a4-3b19-4d7a-8024-7dcdb7677ac9",
   "metadata": {},
   "outputs": [],
   "source": [
    "sns.histplot(x=data_dict['df_test']['score'], hue=data_dict['df_test'][TARGET_BIN_0isB], common_norm=False, stat='density')"
   ]
  },
  {
   "cell_type": "markdown",
   "id": "029fdbf1-c461-4d2c-872a-9382a9daaa46",
   "metadata": {},
   "source": [
    "#### Precision, Recall By Quantile"
   ]
  },
  {
   "cell_type": "markdown",
   "id": "9710fca3-6ae6-4e34-8fa0-929cd9c3f7a1",
   "metadata": {},
   "source": [
    "##### Test-same"
   ]
  },
  {
   "cell_type": "code",
   "execution_count": null,
   "id": "873d31bc-bacf-4fa9-8bfa-1c996f470f40",
   "metadata": {},
   "outputs": [],
   "source": [
    "m = MetricsByQuantile(metrics=[\"quantiles_analytics\"])\n",
    "r = m.compute(\n",
    "    y_true=data_dict['df_test_same'][TARGET_BIN].reset_index(drop=True), \n",
    "    y_pred=data_dict['df_test_same']['score'].round(3).reset_index(drop=True), \n",
    "    list_of_metrics = [\n",
    "        \"cum_precision_by_quantile\", \"cum_recall_by_quantile\", \n",
    "        \"precision_by_quantile\", \"recall_by_quantile\",\n",
    "    ], \n",
    "    n_quantiles = 200\n",
    ")\n",
    "df_deciles = r[\"other\"][\"quantiles_analytics\"]\n",
    "df_deciles.head(50)"
   ]
  },
  {
   "cell_type": "markdown",
   "id": "657802ad-70c1-4325-87c1-86dcf3781c2b",
   "metadata": {},
   "source": [
    "##### Test-full"
   ]
  },
  {
   "cell_type": "markdown",
   "id": "2c601bd9-d5a1-4e11-825e-5dfcb36a532a",
   "metadata": {},
   "source": [
    "### 'I' is 0"
   ]
  },
  {
   "cell_type": "code",
   "execution_count": null,
   "id": "0450f4c9-bb39-40f6-8edf-8fd433977955",
   "metadata": {},
   "outputs": [],
   "source": [
    "m = MetricsByQuantile(metrics=[\"quantiles_analytics\"])\n",
    "r = m.compute(\n",
    "    y_true=data_dict['df_test'][TARGET_BIN].reset_index(drop=True), \n",
    "    y_pred=data_dict['df_test']['score'].round(3).reset_index(drop=True), \n",
    "    list_of_metrics = [\n",
    "        \"cum_precision_by_quantile\", \"cum_recall_by_quantile\", \n",
    "        \"precision_by_quantile\", \"recall_by_quantile\",\n",
    "    ], \n",
    "    n_quantiles = 200\n",
    ")\n",
    "df_deciles = r[\"other\"][\"quantiles_analytics\"]\n",
    "df_deciles.head(50)"
   ]
  },
  {
   "cell_type": "markdown",
   "id": "47f3b1d0-5409-4300-a2ea-0d5a58d3f27f",
   "metadata": {},
   "source": [
    "### 'I' is 1"
   ]
  },
  {
   "cell_type": "code",
   "execution_count": null,
   "id": "137b5c15-72b4-4705-9427-3c7f181e4d33",
   "metadata": {},
   "outputs": [],
   "source": [
    "m = MetricsByQuantile(metrics=[\"quantiles_analytics\"])\n",
    "r = m.compute(\n",
    "    y_true=data_dict['df_test'][TARGET_BIN_0isB].reset_index(drop=True), \n",
    "    y_pred=data_dict['df_test']['score'].round(3).reset_index(drop=True), \n",
    "    list_of_metrics = [\n",
    "        \"cum_precision_by_quantile\", \"cum_recall_by_quantile\", \n",
    "        \"precision_by_quantile\", \"recall_by_quantile\",\n",
    "    ], \n",
    "    n_quantiles = 200\n",
    ")\n",
    "df_deciles = r[\"other\"][\"quantiles_analytics\"]\n",
    "df_deciles.head(50)"
   ]
  },
  {
   "cell_type": "code",
   "execution_count": null,
   "id": "b996a2f3-b713-4572-a1a6-90aa2e748642",
   "metadata": {},
   "outputs": [],
   "source": []
  },
  {
   "cell_type": "code",
   "execution_count": null,
   "id": "a3fa6583-2b8f-4f3a-9ddf-06fade2bc6fd",
   "metadata": {},
   "outputs": [],
   "source": []
  },
  {
   "cell_type": "code",
   "execution_count": null,
   "id": "6f304f3b-9fbd-4983-ae3a-c560c4869d36",
   "metadata": {},
   "outputs": [],
   "source": []
  },
  {
   "cell_type": "code",
   "execution_count": null,
   "id": "e1d6f5ac-8fb9-4fb9-957e-d2ed3d199463",
   "metadata": {},
   "outputs": [],
   "source": []
  },
  {
   "cell_type": "code",
   "execution_count": null,
   "id": "5d2f63e7-d490-4110-b2d3-750c17f45da9",
   "metadata": {},
   "outputs": [],
   "source": []
  },
  {
   "cell_type": "code",
   "execution_count": null,
   "id": "4f652d35-3ff1-4191-ac19-013dcbb1fc74",
   "metadata": {},
   "outputs": [],
   "source": []
  },
  {
   "cell_type": "code",
   "execution_count": null,
   "id": "6fdd95ab-a908-4aa1-ab09-f9b8d5421551",
   "metadata": {},
   "outputs": [],
   "source": []
  },
  {
   "cell_type": "code",
   "execution_count": null,
   "id": "7aeff073-6789-4a5a-966e-741a79e8a482",
   "metadata": {},
   "outputs": [],
   "source": []
  },
  {
   "cell_type": "code",
   "execution_count": null,
   "id": "c53d54fc-74ac-479a-8691-8884231ec5ca",
   "metadata": {},
   "outputs": [],
   "source": []
  },
  {
   "cell_type": "code",
   "execution_count": null,
   "id": "ccc4699d-b74e-4217-9695-655facb5b8e7",
   "metadata": {},
   "outputs": [],
   "source": []
  }
 ],
 "metadata": {
  "kernelspec": {
   "display_name": "Python 3 (ipykernel)",
   "language": "python",
   "name": "python3"
  },
  "language_info": {
   "codemirror_mode": {
    "name": "ipython",
    "version": 3
   },
   "file_extension": ".py",
   "mimetype": "text/x-python",
   "name": "python",
   "nbconvert_exporter": "python",
   "pygments_lexer": "ipython3",
   "version": "3.12.3"
  }
 },
 "nbformat": 4,
 "nbformat_minor": 5
}
